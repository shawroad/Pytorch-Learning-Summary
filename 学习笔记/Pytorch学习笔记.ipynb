{
 "cells": [
  {
   "cell_type": "markdown",
   "metadata": {},
   "source": [
    "# Tensor"
   ]
  },
  {
   "cell_type": "code",
   "execution_count": 1,
   "metadata": {},
   "outputs": [],
   "source": [
    "import torch"
   ]
  },
  {
   "cell_type": "code",
   "execution_count": 2,
   "metadata": {},
   "outputs": [
    {
     "data": {
      "text/plain": [
       "tensor([[1.3848e-14, 6.8801e+16, 1.8370e+25],\n",
       "        [1.4603e-19, 6.8794e+11, 2.7253e+20],\n",
       "        [3.0866e+29, 1.1824e+22, 7.0976e+22],\n",
       "        [1.8515e+28, 4.1988e+07, 3.0357e+32],\n",
       "        [7.7491e+26, 3.0357e+32, 6.3828e+28]])"
      ]
     },
     "execution_count": 2,
     "metadata": {},
     "output_type": "execute_result"
    }
   ],
   "source": [
    "x = torch.Tensor(5, 3)   # 构建5x3矩阵,只是分配了空间,未初始化\n",
    "x"
   ]
  },
  {
   "cell_type": "code",
   "execution_count": 3,
   "metadata": {},
   "outputs": [
    {
     "data": {
      "text/plain": [
       "tensor([[0.5355, 0.4257, 0.6816],\n",
       "        [0.3554, 0.3320, 0.5690],\n",
       "        [0.6869, 0.5243, 0.4264],\n",
       "        [0.0916, 0.1820, 0.0732],\n",
       "        [0.1311, 0.7038, 0.6287]])"
      ]
     },
     "execution_count": 3,
     "metadata": {},
     "output_type": "execute_result"
    }
   ],
   "source": [
    "x = torch.rand(5, 3)   # 使用[0, 1] 均匀分布随机初始化二维数组\n",
    "x"
   ]
  },
  {
   "cell_type": "code",
   "execution_count": 4,
   "metadata": {},
   "outputs": [
    {
     "data": {
      "text/plain": [
       "torch.Size([5, 3])"
      ]
     },
     "execution_count": 4,
     "metadata": {},
     "output_type": "execute_result"
    }
   ],
   "source": [
    "x.size()"
   ]
  },
  {
   "cell_type": "code",
   "execution_count": 5,
   "metadata": {},
   "outputs": [
    {
     "data": {
      "text/plain": [
       "5"
      ]
     },
     "execution_count": 5,
     "metadata": {},
     "output_type": "execute_result"
    }
   ],
   "source": [
    "x.size()[0]   # 获取某一维度"
   ]
  },
  {
   "cell_type": "code",
   "execution_count": 6,
   "metadata": {},
   "outputs": [
    {
     "data": {
      "text/plain": [
       "5"
      ]
     },
     "execution_count": 6,
     "metadata": {},
     "output_type": "execute_result"
    }
   ],
   "source": [
    "x.size(0)  # 等价于x.size()[0]"
   ]
  },
  {
   "cell_type": "code",
   "execution_count": 7,
   "metadata": {},
   "outputs": [
    {
     "data": {
      "text/plain": [
       "tensor([[0.1611, 0.7458, 0.6197],\n",
       "        [0.5242, 0.9105, 0.4022],\n",
       "        [0.0461, 0.0576, 0.7726],\n",
       "        [0.9084, 0.5765, 0.7548],\n",
       "        [0.2264, 0.9932, 0.4111]])"
      ]
     },
     "execution_count": 7,
     "metadata": {},
     "output_type": "execute_result"
    }
   ],
   "source": [
    "y = torch.rand(5, 3)\n",
    "y"
   ]
  },
  {
   "cell_type": "code",
   "execution_count": 8,
   "metadata": {},
   "outputs": [
    {
     "data": {
      "text/plain": [
       "tensor([[0.6966, 1.1715, 1.3013],\n",
       "        [0.8796, 1.2425, 0.9712],\n",
       "        [0.7330, 0.5819, 1.1990],\n",
       "        [1.0001, 0.7585, 0.8280],\n",
       "        [0.3575, 1.6970, 1.0398]])"
      ]
     },
     "execution_count": 8,
     "metadata": {},
     "output_type": "execute_result"
    }
   ],
   "source": [
    "# 加法的第一种写法\n",
    "x + y"
   ]
  },
  {
   "cell_type": "code",
   "execution_count": 9,
   "metadata": {},
   "outputs": [
    {
     "data": {
      "text/plain": [
       "tensor([[0.6966, 1.1715, 1.3013],\n",
       "        [0.8796, 1.2425, 0.9712],\n",
       "        [0.7330, 0.5819, 1.1990],\n",
       "        [1.0001, 0.7585, 0.8280],\n",
       "        [0.3575, 1.6970, 1.0398]])"
      ]
     },
     "execution_count": 9,
     "metadata": {},
     "output_type": "execute_result"
    }
   ],
   "source": [
    "# 加法的第二种写法\n",
    "z = torch.add(x, y)\n",
    "z"
   ]
  },
  {
   "cell_type": "code",
   "execution_count": 10,
   "metadata": {},
   "outputs": [
    {
     "data": {
      "text/plain": [
       "tensor([[0.6966, 1.1715, 1.3013],\n",
       "        [0.8796, 1.2425, 0.9712],\n",
       "        [0.7330, 0.5819, 1.1990],\n",
       "        [1.0001, 0.7585, 0.8280],\n",
       "        [0.3575, 1.6970, 1.0398]])"
      ]
     },
     "execution_count": 10,
     "metadata": {},
     "output_type": "execute_result"
    }
   ],
   "source": [
    "# 加法的第三种写法\n",
    "result = torch.Tensor(5, 3)  # 先请求一个和结果一样大小的空间　　然后将结果赋给这个变量\n",
    "torch.add(x, y, out=result)"
   ]
  },
  {
   "cell_type": "code",
   "execution_count": 11,
   "metadata": {},
   "outputs": [
    {
     "data": {
      "text/plain": [
       "tensor([[0.6966, 1.1715, 1.3013],\n",
       "        [0.8796, 1.2425, 0.9712],\n",
       "        [0.7330, 0.5819, 1.1990],\n",
       "        [1.0001, 0.7585, 0.8280],\n",
       "        [0.3575, 1.6970, 1.0398]])"
      ]
     },
     "execution_count": 11,
     "metadata": {},
     "output_type": "execute_result"
    }
   ],
   "source": [
    "result"
   ]
  },
  {
   "cell_type": "code",
   "execution_count": 12,
   "metadata": {},
   "outputs": [
    {
     "data": {
      "text/plain": [
       "torch.Tensor"
      ]
     },
     "execution_count": 12,
     "metadata": {},
     "output_type": "execute_result"
    }
   ],
   "source": [
    "# torch 与　numpy 之间的转换\n",
    "a = torch.ones(5)\n",
    "type(a)   # torch.Tensor\n",
    "b = a.numpy()\n",
    "type(b)   # numpy.ndarray\n",
    "\n",
    "# 接着将numpy类型的b转换为tensor\n",
    "c = torch.from_numpy(b)\n",
    "type(c)   # torch.Tensor"
   ]
  },
  {
   "cell_type": "code",
   "execution_count": 13,
   "metadata": {},
   "outputs": [],
   "source": [
    "# 将变量变为cuda变量   如果没有可以用的cuda则不执行\n",
    "if torch.cuda.is_available():\n",
    "    x = x.cuda()\n",
    "    y = y.cuda()\n",
    "    x + y"
   ]
  },
  {
   "cell_type": "markdown",
   "metadata": {},
   "source": [
    "# Autograd: 自动微分"
   ]
  },
  {
   "cell_type": "code",
   "execution_count": 14,
   "metadata": {},
   "outputs": [],
   "source": [
    "from torch.autograd import Variable"
   ]
  },
  {
   "cell_type": "code",
   "execution_count": 15,
   "metadata": {},
   "outputs": [
    {
     "data": {
      "text/plain": [
       "tensor([[1., 1.],\n",
       "        [1., 1.]], requires_grad=True)"
      ]
     },
     "execution_count": 15,
     "metadata": {},
     "output_type": "execute_result"
    }
   ],
   "source": [
    "x = Variable(torch.ones(2, 2), requires_grad=True)\n",
    "x"
   ]
  },
  {
   "cell_type": "code",
   "execution_count": 16,
   "metadata": {},
   "outputs": [
    {
     "data": {
      "text/plain": [
       "tensor(4., grad_fn=<SumBackward0>)"
      ]
     },
     "execution_count": 16,
     "metadata": {},
     "output_type": "execute_result"
    }
   ],
   "source": [
    "y = x.sum()   # 将x中的所有变量累加起来\n",
    "y"
   ]
  },
  {
   "cell_type": "code",
   "execution_count": 17,
   "metadata": {},
   "outputs": [
    {
     "data": {
      "text/plain": [
       "<SumBackward0 at 0x7ff50eccf668>"
      ]
     },
     "execution_count": 17,
     "metadata": {},
     "output_type": "execute_result"
    }
   ],
   "source": [
    "y.grad_fn"
   ]
  },
  {
   "cell_type": "code",
   "execution_count": 18,
   "metadata": {},
   "outputs": [],
   "source": [
    "y.backward()  # 反向传播 计算梯度"
   ]
  },
  {
   "cell_type": "code",
   "execution_count": 19,
   "metadata": {},
   "outputs": [
    {
     "data": {
      "text/plain": [
       "tensor([[1., 1.],\n",
       "        [1., 1.]])"
      ]
     },
     "execution_count": 19,
     "metadata": {},
     "output_type": "execute_result"
    }
   ],
   "source": [
    "x.grad"
   ]
  },
  {
   "cell_type": "code",
   "execution_count": 20,
   "metadata": {},
   "outputs": [
    {
     "data": {
      "text/plain": [
       "tensor([[2., 2.],\n",
       "        [2., 2.]])"
      ]
     },
     "execution_count": 20,
     "metadata": {},
     "output_type": "execute_result"
    }
   ],
   "source": [
    "# 梯度是累加的  如果当前梯度不清除的话 则累加到下一步\n",
    "y.backward()\n",
    "x.grad"
   ]
  },
  {
   "cell_type": "code",
   "execution_count": 21,
   "metadata": {},
   "outputs": [
    {
     "data": {
      "text/plain": [
       "tensor([[0., 0.],\n",
       "        [0., 0.]])"
      ]
     },
     "execution_count": 21,
     "metadata": {},
     "output_type": "execute_result"
    }
   ],
   "source": [
    "# 以下划线结束的函数是inplace操作\n",
    "x.grad.data.zero_()   # 也就是梯度归零"
   ]
  },
  {
   "cell_type": "code",
   "execution_count": 22,
   "metadata": {},
   "outputs": [],
   "source": [
    "# Variable和Tensor具有近乎一致的接口，在使用可以无缝切换\n",
    "x = Variable(torch.ones(4, 5))\n",
    "# x 和　x.data等价\n",
    "\n",
    "# y = torch.cos(x)\n",
    "# type(y)\n",
    "# x_tensor_cos = torch.cos(x.data)\n"
   ]
  },
  {
   "cell_type": "code",
   "execution_count": 23,
   "metadata": {},
   "outputs": [
    {
     "name": "stdout",
     "output_type": "stream",
     "text": [
      "Net(\n",
      "  (conv1): Conv2d(1, 6, kernel_size=(5, 5), stride=(1, 1))\n",
      "  (conv2): Conv2d(6, 16, kernel_size=(5, 5), stride=(1, 1))\n",
      "  (fc1): Linear(in_features=400, out_features=120, bias=True)\n",
      "  (fc2): Linear(in_features=120, out_features=84, bias=True)\n",
      "  (fc3): Linear(in_features=84, out_features=10, bias=True)\n",
      ")\n"
     ]
    }
   ],
   "source": [
    "# 简单写个神经网络\n",
    "import torch.nn as nn\n",
    "import torch.nn.functional as F\n",
    "class Net(nn.Module):\n",
    "    def __init__(self):\n",
    "        # nn.Module子类的函数必须在构造函数中执行父类的构造函数\n",
    "        # 下式等价于nn.Module.__init__(self)\n",
    "        super(Net, self).__init__()\n",
    "        self.conv1 = nn.Conv2d(1, 6, 5)  # 输入１通道　输出6通道　5x5的卷积核\n",
    "        self.conv2 = nn.Conv2d(6, 16, 5)\n",
    "        \n",
    "        self.fc1 = nn.Linear(16 * 5 * 5, 120)\n",
    "        self.fc2 = nn.Linear(120, 84)\n",
    "        self.fc3 = nn.Linear(84, 10)\n",
    "    \n",
    "    def forward(self, x):\n",
    "        # 卷积　－> 激活　-> 池化\n",
    "        x = F.max_pool2d(F.relu(self.conv1(x)), (2, 2))  # 卷积　激活　2x2的池化\n",
    "        \n",
    "        x = F.max_pool2d(F.relu(self.conv2(x)), 2)  # 同样的操作\n",
    "        \n",
    "        x = x.view(x.size()[0], -1)  # 相当于压平\n",
    "        x = F.relu(self.fc1(x))\n",
    "        x = F.relu(self.fc2(x))\n",
    "        x = self.fc3(x)\n",
    "        return x\n",
    "net = Net()\n",
    "print(net)"
   ]
  },
  {
   "cell_type": "code",
   "execution_count": 24,
   "metadata": {},
   "outputs": [
    {
     "name": "stdout",
     "output_type": "stream",
     "text": [
      "10\n"
     ]
    }
   ],
   "source": [
    "# 打印训练参数的个数\n",
    "params = list(net.parameters())\n",
    "print(len(params))"
   ]
  },
  {
   "cell_type": "code",
   "execution_count": 25,
   "metadata": {},
   "outputs": [
    {
     "name": "stdout",
     "output_type": "stream",
     "text": [
      "conv1.weight : torch.Size([6, 1, 5, 5])\n",
      "conv1.bias : torch.Size([6])\n",
      "conv2.weight : torch.Size([16, 6, 5, 5])\n",
      "conv2.bias : torch.Size([16])\n",
      "fc1.weight : torch.Size([120, 400])\n",
      "fc1.bias : torch.Size([120])\n",
      "fc2.weight : torch.Size([84, 120])\n",
      "fc2.bias : torch.Size([84])\n",
      "fc3.weight : torch.Size([10, 84])\n",
      "fc3.bias : torch.Size([10])\n"
     ]
    }
   ],
   "source": [
    "# 打印训练参数\n",
    "for name, parameters in net.named_parameters():\n",
    "    print(name, ':', parameters.size())"
   ]
  },
  {
   "cell_type": "code",
   "execution_count": 26,
   "metadata": {},
   "outputs": [
    {
     "data": {
      "text/plain": [
       "torch.Size([1, 10])"
      ]
     },
     "execution_count": 26,
     "metadata": {},
     "output_type": "execute_result"
    }
   ],
   "source": [
    "# 随意构造一个变量 然后输入到网络中\n",
    "input = Variable(torch.randn(1, 1, 32, 32))  # (batch_size, channel, width height)\n",
    "out = net(input)\n",
    "out.size()   # 输出维度"
   ]
  },
  {
   "cell_type": "code",
   "execution_count": 27,
   "metadata": {},
   "outputs": [],
   "source": [
    "net.zero_grad()  # 所有梯度清零\n",
    "out.backward(Variable(torch.ones(1, 10)))  # 反向传播"
   ]
  },
  {
   "cell_type": "code",
   "execution_count": 28,
   "metadata": {},
   "outputs": [
    {
     "name": "stdout",
     "output_type": "stream",
     "text": [
      "tensor(28.6284, grad_fn=<MseLossBackward>)\n"
     ]
    },
    {
     "name": "stderr",
     "output_type": "stream",
     "text": [
      "/home/shawroad/anaconda3/lib/python3.6/site-packages/torch/nn/modules/loss.py:431: UserWarning: Using a target size (torch.Size([10])) that is different to the input size (torch.Size([1, 10])). This will likely lead to incorrect results due to broadcasting. Please ensure they have the same size.\n",
      "  return F.mse_loss(input, target, reduction=self.reduction)\n"
     ]
    }
   ],
   "source": [
    "# 构造一些标签\n",
    "import numpy as np\n",
    "output = net(input)\n",
    "data = np.arange(0, 10).astype('float32')\n",
    "target = torch.from_numpy(data)\n",
    "# target = Variable(torch.arange(0, 10))\n",
    "criterion = nn.MSELoss()\n",
    "loss = criterion(output, target)\n",
    "print(loss)"
   ]
  },
  {
   "cell_type": "code",
   "execution_count": 29,
   "metadata": {},
   "outputs": [
    {
     "name": "stdout",
     "output_type": "stream",
     "text": [
      "tensor([0., 0., 0., 0., 0., 0.])\n"
     ]
    }
   ],
   "source": [
    "net.zero_grad()  # 把net中所有可以学习参数的梯度清零\n",
    "print(net.conv1.bias.grad)  # 梯度清零"
   ]
  },
  {
   "cell_type": "code",
   "execution_count": 30,
   "metadata": {},
   "outputs": [
    {
     "name": "stdout",
     "output_type": "stream",
     "text": [
      "tensor([ 0.0677, -0.0110, -0.0315,  0.1727, -0.0046, -0.1433])\n"
     ]
    }
   ],
   "source": [
    "net.zero_grad()\n",
    "loss.backward()\n",
    "print(net.conv1.bias.grad)  # 重新反向传播 得到梯度"
   ]
  },
  {
   "cell_type": "code",
   "execution_count": 31,
   "metadata": {},
   "outputs": [],
   "source": [
    "# 优化器 在计算到所有梯度以后 还要更新参数\n",
    "learning_rate = 0.001\n",
    "for f in net.parameters():\n",
    "    f.data.sub_(f.grad.data * learning_rate)   # 记住用inplace  因为这里我们需要替代之前的参数"
   ]
  },
  {
   "cell_type": "code",
   "execution_count": 32,
   "metadata": {},
   "outputs": [
    {
     "name": "stderr",
     "output_type": "stream",
     "text": [
      "/home/shawroad/anaconda3/lib/python3.6/site-packages/torch/nn/modules/loss.py:431: UserWarning: Using a target size (torch.Size([10])) that is different to the input size (torch.Size([1, 10])). This will likely lead to incorrect results due to broadcasting. Please ensure they have the same size.\n",
      "  return F.mse_loss(input, target, reduction=self.reduction)\n"
     ]
    }
   ],
   "source": [
    "# 其实上面的代码并不需要我们去实现，可以用内部的优化函数\n",
    "import torch.optim as optim\n",
    "\n",
    "# 新建一个优化器　指定要调整的参数和学习率\n",
    "optimizer = optim.SGD(net.parameters(), lr=0.001)  # 和上面的代码等价\n",
    "\n",
    "# 在训练过程中 先梯度清零(与net.zero_grad()效果一样)\n",
    "optimizer.zero_grad()\n",
    "\n",
    "# 计算损失\n",
    "output = net(input)\n",
    "loss = criterion(output, target)\n",
    "\n",
    "# 反向传播\n",
    "loss.backward()\n",
    "\n",
    "# 更新参数\n",
    "optimizer.step()"
   ]
  },
  {
   "cell_type": "markdown",
   "metadata": {},
   "source": [
    "# 自己实现一个mnist数据集的识别"
   ]
  },
  {
   "cell_type": "code",
   "execution_count": 14,
   "metadata": {},
   "outputs": [
    {
     "name": "stdout",
     "output_type": "stream",
     "text": [
      "epoch: 0, step: 0, loss: 0.683704\n",
      "epoch: 0, step: 1, loss: 0.683486\n",
      "epoch: 0, step: 2, loss: 0.683282\n",
      "epoch: 0, step: 3, loss: 0.683737\n",
      "epoch: 0, step: 4, loss: 0.683934\n",
      "epoch: 0, step: 5, loss: 0.683115\n",
      "epoch: 0, step: 6, loss: 0.683419\n",
      "epoch: 0, step: 7, loss: 0.682939\n",
      "epoch: 0, step: 8, loss: 0.682691\n",
      "epoch: 0, step: 9, loss: 0.683865\n",
      "epoch: 0, step: 10, loss: 0.682210\n",
      "epoch: 0, step: 11, loss: 0.681745\n",
      "epoch: 0, step: 12, loss: 0.681175\n",
      "epoch: 0, step: 13, loss: 0.681881\n",
      "epoch: 0, step: 14, loss: 0.680577\n",
      "epoch: 0, step: 15, loss: 0.679902\n",
      "epoch: 0, step: 16, loss: 0.681562\n",
      "epoch: 0, step: 17, loss: 0.680476\n",
      "epoch: 0, step: 18, loss: 0.679558\n",
      "epoch: 0, step: 19, loss: 0.680006\n",
      "epoch: 0, step: 20, loss: 0.679498\n",
      "epoch: 0, step: 21, loss: 0.679533\n",
      "epoch: 0, step: 22, loss: 0.679480\n",
      "epoch: 0, step: 23, loss: 0.678661\n",
      "epoch: 0, step: 24, loss: 0.679346\n",
      "epoch: 0, step: 25, loss: 0.678836\n",
      "epoch: 0, step: 26, loss: 0.678476\n",
      "epoch: 0, step: 27, loss: 0.677261\n",
      "epoch: 0, step: 28, loss: 0.678476\n",
      "epoch: 0, step: 29, loss: 0.676805\n",
      "epoch: 0, step: 30, loss: 0.677566\n",
      "epoch: 0, step: 31, loss: 0.676481\n",
      "epoch: 0, step: 32, loss: 0.676745\n",
      "epoch: 0, step: 33, loss: 0.675952\n",
      "epoch: 0, step: 34, loss: 0.676818\n",
      "epoch: 0, step: 35, loss: 0.675310\n",
      "epoch: 0, step: 36, loss: 0.675674\n",
      "epoch: 0, step: 37, loss: 0.674153\n",
      "epoch: 0, step: 38, loss: 0.674086\n",
      "epoch: 0, step: 39, loss: 0.674975\n",
      "epoch: 0, step: 40, loss: 0.674511\n",
      "epoch: 0, step: 41, loss: 0.672914\n",
      "epoch: 0, step: 42, loss: 0.672681\n",
      "epoch: 0, step: 43, loss: 0.672554\n",
      "epoch: 0, step: 44, loss: 0.673023\n",
      "epoch: 0, step: 45, loss: 0.671867\n",
      "epoch: 0, step: 46, loss: 0.672696\n",
      "epoch: 0, step: 47, loss: 0.672689\n",
      "epoch: 0, step: 48, loss: 0.672655\n",
      "epoch: 0, step: 49, loss: 0.671249\n",
      "epoch: 0, step: 50, loss: 0.671000\n",
      "epoch: 0, step: 51, loss: 0.671633\n",
      "epoch: 0, step: 52, loss: 0.671358\n",
      "epoch: 0, step: 53, loss: 0.669926\n",
      "epoch: 0, step: 54, loss: 0.669177\n",
      "epoch: 0, step: 55, loss: 0.669930\n",
      "epoch: 0, step: 56, loss: 0.668637\n",
      "epoch: 0, step: 57, loss: 0.669538\n",
      "epoch: 0, step: 58, loss: 0.669761\n",
      "epoch: 0, step: 59, loss: 0.667004\n",
      "epoch: 0, step: 60, loss: 0.665971\n",
      "epoch: 0, step: 61, loss: 0.668601\n",
      "epoch: 0, step: 62, loss: 0.668187\n",
      "epoch: 0, step: 63, loss: 0.667299\n",
      "epoch: 0, step: 64, loss: 0.666449\n",
      "epoch: 0, step: 65, loss: 0.665678\n",
      "epoch: 0, step: 66, loss: 0.666647\n",
      "epoch: 0, step: 67, loss: 0.666095\n",
      "epoch: 0, step: 68, loss: 0.666433\n",
      "epoch: 0, step: 69, loss: 0.665685\n",
      "epoch: 0, step: 70, loss: 0.664778\n",
      "epoch: 0, step: 71, loss: 0.665034\n",
      "epoch: 0, step: 72, loss: 0.664927\n",
      "epoch: 0, step: 73, loss: 0.662692\n",
      "epoch: 0, step: 74, loss: 0.664994\n",
      "epoch: 0, step: 75, loss: 0.663735\n",
      "epoch: 0, step: 76, loss: 0.664093\n",
      "epoch: 0, step: 77, loss: 0.663581\n",
      "epoch: 0, step: 78, loss: 0.661977\n",
      "epoch: 0, step: 79, loss: 0.661824\n",
      "epoch: 0, step: 80, loss: 0.661798\n",
      "epoch: 0, step: 81, loss: 0.661908\n",
      "epoch: 0, step: 82, loss: 0.662335\n",
      "epoch: 0, step: 83, loss: 0.659493\n",
      "epoch: 0, step: 84, loss: 0.658822\n",
      "epoch: 0, step: 85, loss: 0.661327\n",
      "epoch: 0, step: 86, loss: 0.659355\n",
      "epoch: 0, step: 87, loss: 0.660721\n",
      "epoch: 0, step: 88, loss: 0.658959\n",
      "epoch: 0, step: 89, loss: 0.659393\n",
      "epoch: 0, step: 90, loss: 0.658419\n",
      "epoch: 0, step: 91, loss: 0.658463\n",
      "epoch: 0, step: 92, loss: 0.657845\n",
      "epoch: 0, step: 93, loss: 0.658742\n",
      "epoch: 0, step: 94, loss: 0.656652\n",
      "epoch: 0, step: 95, loss: 0.656224\n",
      "epoch: 0, step: 96, loss: 0.657354\n",
      "epoch: 0, step: 97, loss: 0.657448\n",
      "epoch: 0, step: 98, loss: 0.656137\n",
      "epoch: 0, step: 99, loss: 0.653958\n",
      "epoch: 0, step: 100, loss: 0.655088\n",
      "epoch: 0, step: 101, loss: 0.654894\n",
      "epoch: 0, step: 102, loss: 0.655925\n",
      "epoch: 0, step: 103, loss: 0.655445\n",
      "epoch: 0, step: 104, loss: 0.654667\n",
      "epoch: 0, step: 105, loss: 0.653645\n",
      "epoch: 0, step: 106, loss: 0.653583\n",
      "epoch: 0, step: 107, loss: 0.653885\n",
      "epoch: 0, step: 108, loss: 0.654251\n",
      "epoch: 0, step: 109, loss: 0.652633\n",
      "epoch: 0, step: 110, loss: 0.652926\n",
      "epoch: 0, step: 111, loss: 0.652054\n",
      "epoch: 0, step: 112, loss: 0.650901\n",
      "epoch: 0, step: 113, loss: 0.650173\n",
      "epoch: 0, step: 114, loss: 0.650710\n",
      "epoch: 0, step: 115, loss: 0.650861\n",
      "epoch: 0, step: 116, loss: 0.649489\n",
      "epoch: 0, step: 117, loss: 0.650905\n",
      "epoch: 0, step: 118, loss: 0.649304\n",
      "epoch: 0, step: 119, loss: 0.649323\n",
      "epoch: 0, step: 120, loss: 0.648104\n",
      "epoch: 0, step: 121, loss: 0.648910\n",
      "epoch: 0, step: 122, loss: 0.647716\n",
      "epoch: 0, step: 123, loss: 0.647121\n",
      "epoch: 0, step: 124, loss: 0.647966\n",
      "epoch: 0, step: 125, loss: 0.646927\n",
      "epoch: 0, step: 126, loss: 0.645874\n",
      "epoch: 0, step: 127, loss: 0.646238\n",
      "epoch: 0, step: 128, loss: 0.645148\n",
      "epoch: 0, step: 129, loss: 0.647004\n",
      "epoch: 0, step: 130, loss: 0.646102\n",
      "epoch: 0, step: 131, loss: 0.644459\n",
      "epoch: 0, step: 132, loss: 0.644043\n",
      "epoch: 0, step: 133, loss: 0.644884\n",
      "epoch: 0, step: 134, loss: 0.642959\n",
      "epoch: 0, step: 135, loss: 0.643660\n",
      "epoch: 0, step: 136, loss: 0.643188\n",
      "epoch: 0, step: 137, loss: 0.642751\n",
      "epoch: 0, step: 138, loss: 0.641517\n",
      "epoch: 0, step: 139, loss: 0.641040\n",
      "epoch: 0, step: 140, loss: 0.641972\n",
      "epoch: 0, step: 141, loss: 0.640395\n",
      "epoch: 0, step: 142, loss: 0.640100\n",
      "epoch: 0, step: 143, loss: 0.639963\n",
      "epoch: 0, step: 144, loss: 0.638325\n",
      "epoch: 0, step: 145, loss: 0.638481\n",
      "epoch: 0, step: 146, loss: 0.637496\n",
      "epoch: 0, step: 147, loss: 0.638805\n",
      "epoch: 0, step: 148, loss: 0.637703\n",
      "epoch: 0, step: 149, loss: 0.637393\n",
      "epoch: 0, step: 150, loss: 0.636954\n",
      "epoch: 0, step: 151, loss: 0.636304\n",
      "epoch: 0, step: 152, loss: 0.635740\n",
      "epoch: 0, step: 153, loss: 0.635870\n",
      "epoch: 0, step: 154, loss: 0.636378\n",
      "epoch: 0, step: 155, loss: 0.636044\n",
      "epoch: 0, step: 156, loss: 0.633558\n",
      "epoch: 0, step: 157, loss: 0.634234\n",
      "epoch: 0, step: 158, loss: 0.633710\n",
      "epoch: 0, step: 159, loss: 0.634439\n",
      "epoch: 0, step: 160, loss: 0.631363\n",
      "epoch: 0, step: 161, loss: 0.631983\n",
      "epoch: 0, step: 162, loss: 0.632271\n",
      "epoch: 0, step: 163, loss: 0.632045\n",
      "epoch: 0, step: 164, loss: 0.630486\n",
      "epoch: 0, step: 165, loss: 0.630292\n",
      "epoch: 0, step: 166, loss: 0.630748\n",
      "epoch: 0, step: 167, loss: 0.628452\n",
      "epoch: 0, step: 168, loss: 0.629132\n",
      "epoch: 0, step: 169, loss: 0.629237\n",
      "epoch: 0, step: 170, loss: 0.628707\n",
      "epoch: 0, step: 171, loss: 0.626502\n",
      "epoch: 0, step: 172, loss: 0.627479\n",
      "epoch: 0, step: 173, loss: 0.627096\n",
      "epoch: 0, step: 174, loss: 0.626015\n",
      "epoch: 0, step: 175, loss: 0.624329\n",
      "epoch: 0, step: 176, loss: 0.624745\n",
      "epoch: 0, step: 177, loss: 0.623947\n",
      "epoch: 0, step: 178, loss: 0.623084\n",
      "epoch: 0, step: 179, loss: 0.624134\n",
      "epoch: 0, step: 180, loss: 0.624074\n",
      "epoch: 0, step: 181, loss: 0.622683\n",
      "epoch: 0, step: 182, loss: 0.622005\n",
      "epoch: 0, step: 183, loss: 0.622345\n",
      "epoch: 0, step: 184, loss: 0.620808\n",
      "epoch: 0, step: 185, loss: 0.619171\n",
      "epoch: 0, step: 186, loss: 0.620208\n",
      "epoch: 0, step: 187, loss: 0.619506\n",
      "epoch: 0, step: 188, loss: 0.618760\n",
      "epoch: 0, step: 189, loss: 0.618689\n",
      "epoch: 0, step: 190, loss: 0.618250\n",
      "epoch: 0, step: 191, loss: 0.616518\n",
      "epoch: 0, step: 192, loss: 0.616730\n",
      "epoch: 0, step: 193, loss: 0.615741\n",
      "epoch: 0, step: 194, loss: 0.612273\n",
      "epoch: 0, step: 195, loss: 0.614923\n",
      "epoch: 0, step: 196, loss: 0.613362\n",
      "epoch: 0, step: 197, loss: 0.613075\n",
      "epoch: 0, step: 198, loss: 0.611810\n",
      "epoch: 0, step: 199, loss: 0.612578\n",
      "epoch: 0, step: 200, loss: 0.609788\n",
      "epoch: 0, step: 201, loss: 0.611217\n",
      "epoch: 0, step: 202, loss: 0.611087\n",
      "epoch: 0, step: 203, loss: 0.609567\n",
      "epoch: 0, step: 204, loss: 0.606778\n",
      "epoch: 0, step: 205, loss: 0.605498\n",
      "epoch: 0, step: 206, loss: 0.607446\n",
      "epoch: 0, step: 207, loss: 0.606686\n",
      "epoch: 0, step: 208, loss: 0.603275\n",
      "epoch: 0, step: 209, loss: 0.604093\n",
      "epoch: 0, step: 210, loss: 0.602874\n",
      "epoch: 0, step: 211, loss: 0.604140\n",
      "epoch: 0, step: 212, loss: 0.603063\n",
      "epoch: 0, step: 213, loss: 0.600935\n",
      "epoch: 0, step: 214, loss: 0.601335\n",
      "epoch: 0, step: 215, loss: 0.600887\n",
      "epoch: 0, step: 216, loss: 0.597230\n",
      "epoch: 0, step: 217, loss: 0.598568\n",
      "epoch: 0, step: 218, loss: 0.597259\n",
      "epoch: 0, step: 219, loss: 0.594977\n",
      "epoch: 0, step: 220, loss: 0.595468\n",
      "epoch: 0, step: 221, loss: 0.593475\n",
      "epoch: 0, step: 222, loss: 0.594903\n",
      "epoch: 0, step: 223, loss: 0.592035\n",
      "epoch: 0, step: 224, loss: 0.591887\n",
      "epoch: 0, step: 225, loss: 0.590190\n",
      "epoch: 0, step: 226, loss: 0.590936\n",
      "epoch: 0, step: 227, loss: 0.587774\n",
      "epoch: 0, step: 228, loss: 0.590127\n",
      "epoch: 0, step: 229, loss: 0.585017\n",
      "epoch: 0, step: 230, loss: 0.583583\n",
      "epoch: 0, step: 231, loss: 0.586779\n",
      "epoch: 0, step: 232, loss: 0.580734\n",
      "epoch: 0, step: 233, loss: 0.583135\n",
      "epoch: 0, step: 234, loss: 0.582455\n",
      "epoch: 0, step: 235, loss: 0.581694\n",
      "epoch: 0, step: 236, loss: 0.579064\n",
      "epoch: 0, step: 237, loss: 0.578340\n",
      "epoch: 0, step: 238, loss: 0.578329\n"
     ]
    },
    {
     "name": "stdout",
     "output_type": "stream",
     "text": [
      "epoch: 0, step: 239, loss: 0.575082\n",
      "epoch: 0, step: 240, loss: 0.576079\n",
      "epoch: 0, step: 241, loss: 0.573254\n",
      "epoch: 0, step: 242, loss: 0.570443\n",
      "epoch: 0, step: 243, loss: 0.570480\n",
      "epoch: 0, step: 244, loss: 0.570579\n",
      "epoch: 0, step: 245, loss: 0.565059\n",
      "epoch: 0, step: 246, loss: 0.566401\n",
      "epoch: 0, step: 247, loss: 0.565913\n",
      "epoch: 0, step: 248, loss: 0.563165\n",
      "epoch: 0, step: 249, loss: 0.562759\n",
      "epoch: 0, step: 250, loss: 0.562339\n",
      "epoch: 0, step: 251, loss: 0.560796\n",
      "epoch: 0, step: 252, loss: 0.557957\n",
      "epoch: 0, step: 253, loss: 0.555712\n",
      "epoch: 0, step: 254, loss: 0.554007\n",
      "epoch: 0, step: 255, loss: 0.555883\n",
      "epoch: 0, step: 256, loss: 0.547994\n",
      "epoch: 0, step: 257, loss: 0.552487\n",
      "epoch: 0, step: 258, loss: 0.549453\n",
      "epoch: 0, step: 259, loss: 0.542942\n",
      "epoch: 0, step: 260, loss: 0.544965\n",
      "epoch: 0, step: 261, loss: 0.546644\n",
      "epoch: 0, step: 262, loss: 0.543283\n",
      "epoch: 0, step: 263, loss: 0.539840\n",
      "epoch: 0, step: 264, loss: 0.537220\n",
      "epoch: 0, step: 265, loss: 0.535415\n",
      "epoch: 0, step: 266, loss: 0.536352\n",
      "epoch: 0, step: 267, loss: 0.532063\n",
      "epoch: 0, step: 268, loss: 0.530988\n",
      "epoch: 0, step: 269, loss: 0.528727\n",
      "epoch: 0, step: 270, loss: 0.526007\n",
      "epoch: 0, step: 271, loss: 0.521771\n",
      "epoch: 0, step: 272, loss: 0.525807\n",
      "epoch: 0, step: 273, loss: 0.517661\n",
      "epoch: 0, step: 274, loss: 0.516563\n",
      "epoch: 0, step: 275, loss: 0.517039\n",
      "epoch: 0, step: 276, loss: 0.514908\n",
      "epoch: 0, step: 277, loss: 0.513664\n",
      "epoch: 0, step: 278, loss: 0.511615\n",
      "epoch: 0, step: 279, loss: 0.510100\n",
      "epoch: 0, step: 280, loss: 0.506631\n",
      "epoch: 0, step: 281, loss: 0.501948\n",
      "epoch: 0, step: 282, loss: 0.498855\n",
      "epoch: 0, step: 283, loss: 0.496644\n",
      "epoch: 0, step: 284, loss: 0.497104\n",
      "epoch: 0, step: 285, loss: 0.487779\n",
      "epoch: 0, step: 286, loss: 0.487078\n",
      "epoch: 0, step: 287, loss: 0.488685\n",
      "epoch: 0, step: 288, loss: 0.489522\n",
      "epoch: 0, step: 289, loss: 0.483521\n",
      "epoch: 0, step: 290, loss: 0.482306\n",
      "epoch: 0, step: 291, loss: 0.477369\n",
      "epoch: 0, step: 292, loss: 0.475639\n",
      "epoch: 0, step: 293, loss: 0.473795\n",
      "epoch: 0, step: 294, loss: 0.476188\n",
      "epoch: 0, step: 295, loss: 0.465391\n",
      "epoch: 0, step: 296, loss: 0.460422\n",
      "epoch: 0, step: 297, loss: 0.463945\n",
      "epoch: 0, step: 298, loss: 0.461027\n",
      "epoch: 0, step: 299, loss: 0.458728\n",
      "epoch: 0, step: 300, loss: 0.455237\n",
      "epoch: 0, step: 301, loss: 0.452362\n",
      "epoch: 0, step: 302, loss: 0.450155\n",
      "epoch: 0, step: 303, loss: 0.444908\n",
      "epoch: 0, step: 304, loss: 0.440674\n",
      "epoch: 0, step: 305, loss: 0.436542\n",
      "epoch: 0, step: 306, loss: 0.436881\n",
      "epoch: 0, step: 307, loss: 0.436856\n",
      "epoch: 0, step: 308, loss: 0.427384\n",
      "epoch: 0, step: 309, loss: 0.429940\n",
      "epoch: 0, step: 310, loss: 0.423888\n",
      "epoch: 0, step: 311, loss: 0.422668\n",
      "epoch: 0, step: 312, loss: 0.416695\n",
      "epoch: 0, step: 313, loss: 0.412609\n",
      "epoch: 0, step: 314, loss: 0.414946\n",
      "epoch: 0, step: 315, loss: 0.411089\n",
      "epoch: 0, step: 316, loss: 0.407253\n",
      "epoch: 0, step: 317, loss: 0.400348\n",
      "epoch: 0, step: 318, loss: 0.401440\n",
      "epoch: 0, step: 319, loss: 0.396502\n",
      "epoch: 0, step: 320, loss: 0.400011\n",
      "epoch: 0, step: 321, loss: 0.395972\n",
      "epoch: 0, step: 322, loss: 0.387994\n",
      "epoch: 0, step: 323, loss: 0.389169\n",
      "epoch: 0, step: 324, loss: 0.383498\n",
      "epoch: 0, step: 325, loss: 0.379246\n",
      "epoch: 0, step: 326, loss: 0.385649\n",
      "epoch: 0, step: 327, loss: 0.381493\n",
      "epoch: 0, step: 328, loss: 0.378611\n",
      "epoch: 0, step: 329, loss: 0.377023\n",
      "epoch: 0, step: 330, loss: 0.376467\n",
      "epoch: 0, step: 331, loss: 0.368920\n",
      "epoch: 0, step: 332, loss: 0.366923\n",
      "epoch: 0, step: 333, loss: 0.365749\n",
      "epoch: 0, step: 334, loss: 0.361819\n",
      "epoch: 0, step: 335, loss: 0.362284\n",
      "epoch: 0, step: 336, loss: 0.360595\n",
      "epoch: 0, step: 337, loss: 0.360908\n",
      "epoch: 0, step: 338, loss: 0.356162\n",
      "epoch: 0, step: 339, loss: 0.356879\n",
      "epoch: 0, step: 340, loss: 0.356952\n",
      "epoch: 0, step: 341, loss: 0.356097\n",
      "epoch: 0, step: 342, loss: 0.353510\n",
      "epoch: 0, step: 343, loss: 0.351525\n",
      "epoch: 0, step: 344, loss: 0.349821\n",
      "epoch: 0, step: 345, loss: 0.352099\n",
      "epoch: 0, step: 346, loss: 0.353489\n",
      "epoch: 0, step: 347, loss: 0.346255\n",
      "epoch: 0, step: 348, loss: 0.348422\n",
      "epoch: 0, step: 349, loss: 0.344472\n",
      "epoch: 0, step: 350, loss: 0.343500\n",
      "epoch: 0, step: 351, loss: 0.341843\n",
      "epoch: 0, step: 352, loss: 0.348204\n",
      "epoch: 0, step: 353, loss: 0.342244\n",
      "epoch: 0, step: 354, loss: 0.343686\n",
      "epoch: 0, step: 355, loss: 0.334622\n",
      "epoch: 0, step: 356, loss: 0.341023\n",
      "epoch: 0, step: 357, loss: 0.338179\n",
      "epoch: 0, step: 358, loss: 0.337492\n",
      "epoch: 0, step: 359, loss: 0.339548\n",
      "epoch: 0, step: 360, loss: 0.334526\n",
      "epoch: 0, step: 361, loss: 0.333318\n",
      "epoch: 0, step: 362, loss: 0.337954\n",
      "epoch: 0, step: 363, loss: 0.331855\n",
      "epoch: 0, step: 364, loss: 0.339078\n",
      "epoch: 0, step: 365, loss: 0.337830\n",
      "epoch: 0, step: 366, loss: 0.332038\n",
      "epoch: 0, step: 367, loss: 0.334502\n",
      "epoch: 0, step: 368, loss: 0.340101\n",
      "epoch: 0, step: 369, loss: 0.333768\n",
      "epoch: 0, step: 370, loss: 0.333182\n",
      "epoch: 0, step: 371, loss: 0.336634\n",
      "epoch: 0, step: 372, loss: 0.334325\n",
      "epoch: 0, step: 373, loss: 0.330912\n",
      "epoch: 0, step: 374, loss: 0.336883\n",
      "epoch: 0, step: 375, loss: 0.335114\n",
      "epoch: 0, step: 376, loss: 0.331726\n",
      "epoch: 0, step: 377, loss: 0.334942\n",
      "epoch: 0, step: 378, loss: 0.333753\n",
      "epoch: 0, step: 379, loss: 0.333208\n",
      "epoch: 0, step: 380, loss: 0.334251\n",
      "epoch: 0, step: 381, loss: 0.333708\n",
      "epoch: 0, step: 382, loss: 0.338026\n",
      "epoch: 0, step: 383, loss: 0.334599\n",
      "epoch: 0, step: 384, loss: 0.330606\n"
     ]
    },
    {
     "ename": "KeyboardInterrupt",
     "evalue": "",
     "output_type": "error",
     "traceback": [
      "\u001b[0;31m---------------------------------------------------------------------------\u001b[0m",
      "\u001b[0;31mKeyboardInterrupt\u001b[0m                         Traceback (most recent call last)",
      "\u001b[0;32m<ipython-input-14-b50a919531ee>\u001b[0m in \u001b[0;36m<module>\u001b[0;34m()\u001b[0m\n\u001b[1;32m     89\u001b[0m             \u001b[0moutputs\u001b[0m \u001b[0;34m=\u001b[0m \u001b[0mnet\u001b[0m\u001b[0;34m(\u001b[0m\u001b[0minputs\u001b[0m\u001b[0;34m)\u001b[0m\u001b[0;34m\u001b[0m\u001b[0m\n\u001b[1;32m     90\u001b[0m             \u001b[0mloss\u001b[0m \u001b[0;34m=\u001b[0m \u001b[0mcriterion\u001b[0m\u001b[0;34m(\u001b[0m\u001b[0moutputs\u001b[0m\u001b[0;34m,\u001b[0m \u001b[0mlabels\u001b[0m\u001b[0;34m)\u001b[0m\u001b[0;34m\u001b[0m\u001b[0m\n\u001b[0;32m---> 91\u001b[0;31m             \u001b[0mloss\u001b[0m\u001b[0;34m.\u001b[0m\u001b[0mbackward\u001b[0m\u001b[0;34m(\u001b[0m\u001b[0;34m)\u001b[0m\u001b[0;34m\u001b[0m\u001b[0m\n\u001b[0m\u001b[1;32m     92\u001b[0m \u001b[0;34m\u001b[0m\u001b[0m\n\u001b[1;32m     93\u001b[0m             \u001b[0;31m# 更新参数\u001b[0m\u001b[0;34m\u001b[0m\u001b[0;34m\u001b[0m\u001b[0m\n",
      "\u001b[0;32m~/anaconda3/lib/python3.6/site-packages/torch/tensor.py\u001b[0m in \u001b[0;36mbackward\u001b[0;34m(self, gradient, retain_graph, create_graph)\u001b[0m\n\u001b[1;32m    116\u001b[0m                 \u001b[0mproducts\u001b[0m\u001b[0;34m.\u001b[0m \u001b[0mDefaults\u001b[0m \u001b[0mto\u001b[0m\u001b[0;31m \u001b[0m\u001b[0;31m`\u001b[0m\u001b[0;31m`\u001b[0m\u001b[0;32mFalse\u001b[0m\u001b[0;31m`\u001b[0m\u001b[0;31m`\u001b[0m\u001b[0;34m.\u001b[0m\u001b[0;34m\u001b[0m\u001b[0m\n\u001b[1;32m    117\u001b[0m         \"\"\"\n\u001b[0;32m--> 118\u001b[0;31m         \u001b[0mtorch\u001b[0m\u001b[0;34m.\u001b[0m\u001b[0mautograd\u001b[0m\u001b[0;34m.\u001b[0m\u001b[0mbackward\u001b[0m\u001b[0;34m(\u001b[0m\u001b[0mself\u001b[0m\u001b[0;34m,\u001b[0m \u001b[0mgradient\u001b[0m\u001b[0;34m,\u001b[0m \u001b[0mretain_graph\u001b[0m\u001b[0;34m,\u001b[0m \u001b[0mcreate_graph\u001b[0m\u001b[0;34m)\u001b[0m\u001b[0;34m\u001b[0m\u001b[0m\n\u001b[0m\u001b[1;32m    119\u001b[0m \u001b[0;34m\u001b[0m\u001b[0m\n\u001b[1;32m    120\u001b[0m     \u001b[0;32mdef\u001b[0m \u001b[0mregister_hook\u001b[0m\u001b[0;34m(\u001b[0m\u001b[0mself\u001b[0m\u001b[0;34m,\u001b[0m \u001b[0mhook\u001b[0m\u001b[0;34m)\u001b[0m\u001b[0;34m:\u001b[0m\u001b[0;34m\u001b[0m\u001b[0m\n",
      "\u001b[0;32m~/anaconda3/lib/python3.6/site-packages/torch/autograd/__init__.py\u001b[0m in \u001b[0;36mbackward\u001b[0;34m(tensors, grad_tensors, retain_graph, create_graph, grad_variables)\u001b[0m\n\u001b[1;32m     91\u001b[0m     Variable._execution_engine.run_backward(\n\u001b[1;32m     92\u001b[0m         \u001b[0mtensors\u001b[0m\u001b[0;34m,\u001b[0m \u001b[0mgrad_tensors\u001b[0m\u001b[0;34m,\u001b[0m \u001b[0mretain_graph\u001b[0m\u001b[0;34m,\u001b[0m \u001b[0mcreate_graph\u001b[0m\u001b[0;34m,\u001b[0m\u001b[0;34m\u001b[0m\u001b[0m\n\u001b[0;32m---> 93\u001b[0;31m         allow_unreachable=True)  # allow_unreachable flag\n\u001b[0m\u001b[1;32m     94\u001b[0m \u001b[0;34m\u001b[0m\u001b[0m\n\u001b[1;32m     95\u001b[0m \u001b[0;34m\u001b[0m\u001b[0m\n",
      "\u001b[0;31mKeyboardInterrupt\u001b[0m: "
     ]
    }
   ],
   "source": [
    "from keras.datasets import mnist\n",
    "from keras.utils import to_categorical\n",
    "from torch.utils.data.dataset import Dataset\n",
    "import torch\n",
    "import torch.nn as nn\n",
    "import torch.nn.functional as F\n",
    "from torch import optim\n",
    "from torch.autograd import Variable\n",
    "\n",
    "\n",
    "# 模型\n",
    "class Net(nn.Module):\n",
    "    def __init__(self):\n",
    "        super(Net, self).__init__()\n",
    "        self.conv1 = nn.Conv2d(1, 6, 5)    # 28-5+1 = 24\n",
    "        self.conv2 = nn.Conv2d(6, 16, 5)   # 上一步还进行的池化 12   12-5+1=8\n",
    "        self.fc1 = nn.Linear(16*4*4, 120)  # 上一步再进行池化  4  应该是16x4x4\n",
    "        self.fc2 = nn.Linear(120, 84)\n",
    "        self.fc3 = nn.Linear(84, 10)\n",
    "\n",
    "    def forward(self, x):\n",
    "        x = F.max_pool2d(F.relu(self.conv1(x)), (2, 2))\n",
    "        x = F.max_pool2d(F.relu(self.conv2(x)), (2, 2))\n",
    "        x = x.view(x.size()[0], -1)  # 将数据压直\n",
    "        x = F.relu(self.fc1(x))\n",
    "        x = F.relu(self.fc2(x))\n",
    "        x = self.fc3(x)\n",
    "        return x\n",
    "\n",
    "\n",
    "# 写一个继承类 将数据整理成一个很好的样子  然后放进DataLoader()中去\n",
    "class DataTxt(Dataset):\n",
    "    def __init__(self):\n",
    "        self.Data = x_train\n",
    "        self.Labels = y_train\n",
    "\n",
    "    def __getitem__(self, item):\n",
    "        data = torch.from_numpy(self.Data[item])\n",
    "        label = torch.from_numpy(self.Labels[item])\n",
    "        return data, label\n",
    "\n",
    "    def __len__(self):\n",
    "        return self.Data.shape[0]\n",
    "\n",
    "import numpy as np\n",
    "if __name__ == '__main__':\n",
    "    # 我们加载keras中的内置数据集\n",
    "    (x_train, y_train), (x_test, y_test) = mnist.load_data()\n",
    "\n",
    "    x_train = x_train.reshape((-1, 1, 28, 28)) / 255.\n",
    "    x_train = x_train.astype(np.float32)\n",
    "    x_test = x_test.reshape((-1, 1, 28, 28)) / 255.\n",
    "    x_test = x_test.astype(np.float32)\n",
    "\n",
    "    y_train = to_categorical(y_train)\n",
    "    y_test = to_categorical(y_test)\n",
    "\n",
    "    dxt = DataTxt()\n",
    "    trainloader = torch.utils.data.DataLoader(\n",
    "        dxt,\n",
    "        batch_size=128,\n",
    "        shuffle=True,\n",
    "    )\n",
    "\n",
    "    dataiter = iter(trainloader)\n",
    "    # images, labels = dataiter.next()\n",
    "    # print(images)\n",
    "    # print(labels)\n",
    "\n",
    "    net = Net()\n",
    "    criterion = nn.MultiLabelSoftMarginLoss()  # 多标签损失函数\n",
    "#     criterion = nn.CrossEntropyLoss()\n",
    "    optimizer = optim.SGD(net.parameters(), lr=0.001, momentum=0.9)\n",
    "\n",
    "    for epoch in range(10):\n",
    "        running_loss = 0.0\n",
    "        for i, data in enumerate(trainloader, 0):\n",
    "            # 输入数据\n",
    "            inputs, labels = data\n",
    "            # print(inputs.size())   # torch.Size([32, 1, 28, 28])\n",
    "            # print(labels.size())   # torch.Size([32, 10])\n",
    "\n",
    "            inputs, labels = Variable(inputs), Variable(labels)\n",
    "\n",
    "            # 梯度清零\n",
    "            optimizer.zero_grad()\n",
    "\n",
    "            # forward + backward\n",
    "            outputs = net(inputs)\n",
    "            loss = criterion(outputs, labels)\n",
    "            loss.backward()\n",
    "\n",
    "            # 更新参数\n",
    "            optimizer.step()\n",
    "\n",
    "            # 打印log信息\n",
    "            # running_loss += loss.data[0]\n",
    "            print('epoch: %d, step: %d, loss: %f' % (epoch, i, loss))"
   ]
  },
  {
   "cell_type": "markdown",
   "metadata": {},
   "source": [
    "# Tensor详解"
   ]
  },
  {
   "cell_type": "code",
   "execution_count": 34,
   "metadata": {},
   "outputs": [],
   "source": [
    "import torch"
   ]
  },
  {
   "cell_type": "code",
   "execution_count": 35,
   "metadata": {},
   "outputs": [
    {
     "data": {
      "text/plain": [
       "tensor([[0.0000e+00, 0.0000e+00, 9.8091e-45],\n",
       "        [       nan, 3.0340e+21, 3.0652e-41]])"
      ]
     },
     "execution_count": 35,
     "metadata": {},
     "output_type": "execute_result"
    }
   ],
   "source": [
    "# 指定形状的tensor 也就是说明要占多大的空间\n",
    "a = torch.Tensor(2, 3)\n",
    "a"
   ]
  },
  {
   "cell_type": "code",
   "execution_count": 36,
   "metadata": {},
   "outputs": [
    {
     "data": {
      "text/plain": [
       "tensor([[1., 3., 5.],\n",
       "        [2., 4., 6.]])"
      ]
     },
     "execution_count": 36,
     "metadata": {},
     "output_type": "execute_result"
    }
   ],
   "source": [
    "# 可以将一个列表传给tensor\n",
    "data = [[1, 3, 5], [2, 4, 6]]\n",
    "data_tensor = torch.Tensor(data)\n",
    "data_tensor"
   ]
  },
  {
   "cell_type": "code",
   "execution_count": 37,
   "metadata": {},
   "outputs": [
    {
     "data": {
      "text/plain": [
       "[[1.0, 3.0, 5.0], [2.0, 4.0, 6.0]]"
      ]
     },
     "execution_count": 37,
     "metadata": {},
     "output_type": "execute_result"
    }
   ],
   "source": [
    "# 将tensor直接转为list\n",
    "data_tensor.tolist()"
   ]
  },
  {
   "cell_type": "code",
   "execution_count": 38,
   "metadata": {},
   "outputs": [
    {
     "data": {
      "text/plain": [
       "6"
      ]
     },
     "execution_count": 38,
     "metadata": {},
     "output_type": "execute_result"
    }
   ],
   "source": [
    "# 计算tensor中所有元素个数\n",
    "data_tensor.numel()"
   ]
  },
  {
   "cell_type": "code",
   "execution_count": 39,
   "metadata": {},
   "outputs": [
    {
     "data": {
      "text/plain": [
       "tensor([2., 3.])"
      ]
     },
     "execution_count": 39,
     "metadata": {},
     "output_type": "execute_result"
    }
   ],
   "source": [
    "# 创建一个和data_tensor规格一样的tensor \n",
    "copy_data = torch.Tensor(data_tensor.size())\n",
    "# 创建一个含有2, 3 元素的tensor\n",
    "include_tensor = torch.Tensor((2, 3))\n",
    "copy_data\n",
    "include_tensor"
   ]
  },
  {
   "cell_type": "code",
   "execution_count": 40,
   "metadata": {},
   "outputs": [
    {
     "data": {
      "text/plain": [
       "tensor([[1., 1., 1.],\n",
       "        [1., 1., 1.]])"
      ]
     },
     "execution_count": 40,
     "metadata": {},
     "output_type": "execute_result"
    }
   ],
   "source": [
    "# 生成一个规格为(2, 3) 全1的tensor\n",
    "d_tensor = torch.ones(2, 3)\n",
    "d_tensor"
   ]
  },
  {
   "cell_type": "code",
   "execution_count": 41,
   "metadata": {},
   "outputs": [
    {
     "data": {
      "text/plain": [
       "tensor([3, 0, 2, 1, 4])"
      ]
     },
     "execution_count": 41,
     "metadata": {},
     "output_type": "execute_result"
    }
   ],
   "source": [
    "# 长度为5的随机排列\n",
    "torch.randperm(5)"
   ]
  },
  {
   "cell_type": "code",
   "execution_count": 42,
   "metadata": {},
   "outputs": [
    {
     "data": {
      "text/plain": [
       "tensor([[1., 0., 0., 0.],\n",
       "        [0., 1., 0., 0.],\n",
       "        [0., 0., 1., 0.]])"
      ]
     },
     "execution_count": 42,
     "metadata": {},
     "output_type": "execute_result"
    }
   ],
   "source": [
    "# 生成对角线为１ 这里不要求行数和列数一致\n",
    "torch.eye(3, 4)"
   ]
  },
  {
   "cell_type": "code",
   "execution_count": 43,
   "metadata": {},
   "outputs": [
    {
     "data": {
      "text/plain": [
       "tensor([[0, 1, 2],\n",
       "        [3, 4, 5]])"
      ]
     },
     "execution_count": 43,
     "metadata": {},
     "output_type": "execute_result"
    }
   ],
   "source": [
    "# 常用tensor操作\n",
    "a = torch.arange(0, 6)\n",
    "a.view(2, 3)"
   ]
  },
  {
   "cell_type": "code",
   "execution_count": 44,
   "metadata": {},
   "outputs": [
    {
     "data": {
      "text/plain": [
       "tensor([[0, 1, 2],\n",
       "        [3, 4, 5]])"
      ]
     },
     "execution_count": 44,
     "metadata": {},
     "output_type": "execute_result"
    }
   ],
   "source": [
    "b = a.view(-1, 3)   # 和上面的a.view(2, 3) 等价\n",
    "b"
   ]
  },
  {
   "cell_type": "code",
   "execution_count": 45,
   "metadata": {},
   "outputs": [
    {
     "data": {
      "text/plain": [
       "tensor([[[0, 1, 2]],\n",
       "\n",
       "        [[3, 4, 5]]])"
      ]
     },
     "execution_count": 45,
     "metadata": {},
     "output_type": "execute_result"
    }
   ],
   "source": [
    "# 在第1维上加一维\n",
    "b.unsqueeze(1)"
   ]
  },
  {
   "cell_type": "code",
   "execution_count": 46,
   "metadata": {},
   "outputs": [
    {
     "data": {
      "text/plain": [
       "tensor([[[0, 1, 2]],\n",
       "\n",
       "        [[3, 4, 5]]])"
      ]
     },
     "execution_count": 46,
     "metadata": {},
     "output_type": "execute_result"
    }
   ],
   "source": [
    "b.unsqueeze(-2)  # 在倒数第二维 也就是正数第二维"
   ]
  },
  {
   "cell_type": "code",
   "execution_count": 47,
   "metadata": {},
   "outputs": [
    {
     "data": {
      "text/plain": [
       "tensor([[[[[0, 1, 2],\n",
       "           [3, 4, 5]]]]])"
      ]
     },
     "execution_count": 47,
     "metadata": {},
     "output_type": "execute_result"
    }
   ],
   "source": [
    "c = b.view(1, 1, 1, 2, 3)\n",
    "c"
   ]
  },
  {
   "cell_type": "code",
   "execution_count": 48,
   "metadata": {},
   "outputs": [
    {
     "data": {
      "text/plain": [
       "torch.Size([1, 1, 2, 3])"
      ]
     },
     "execution_count": 48,
     "metadata": {},
     "output_type": "execute_result"
    }
   ],
   "source": [
    "# 压缩第0维的1\n",
    "c = c.squeeze(0)\n",
    "c.size()"
   ]
  },
  {
   "cell_type": "code",
   "execution_count": 49,
   "metadata": {},
   "outputs": [
    {
     "data": {
      "text/plain": [
       "torch.Size([2, 3])"
      ]
     },
     "execution_count": 49,
     "metadata": {},
     "output_type": "execute_result"
    }
   ],
   "source": [
    "c.squeeze().size()  # 把所有维度为1的维度压没"
   ]
  },
  {
   "cell_type": "code",
   "execution_count": 50,
   "metadata": {},
   "outputs": [
    {
     "data": {
      "text/plain": [
       "tensor([[ 0,  1,  2,  3],\n",
       "        [ 4,  5,  6,  7],\n",
       "        [ 8,  9, 10, 11]])"
      ]
     },
     "execution_count": 50,
     "metadata": {},
     "output_type": "execute_result"
    }
   ],
   "source": [
    "# resize是一种可以调整size的方法，但与view()不同，他是可以修改tensor的尺寸\n",
    "a = torch.arange(12).view(3, 4)\n",
    "a"
   ]
  },
  {
   "cell_type": "code",
   "execution_count": 51,
   "metadata": {},
   "outputs": [
    {
     "data": {
      "text/plain": [
       "tensor([[             0,              1,              2,              3,\n",
       "                      4],\n",
       "        [             5,              6,              7,              8,\n",
       "                      9],\n",
       "        [            10,             11, 93949820250032, 93949820250072,\n",
       "                      1]])"
      ]
     },
     "execution_count": 51,
     "metadata": {},
     "output_type": "execute_result"
    }
   ],
   "source": [
    "a.resize_(3, 5)  #　会根据数据调整尺寸　　不够的补充，多余的扔掉"
   ]
  },
  {
   "cell_type": "code",
   "execution_count": 52,
   "metadata": {},
   "outputs": [
    {
     "data": {
      "text/plain": [
       "tensor([[0, 1],\n",
       "        [2, 3],\n",
       "        [4, 5]])"
      ]
     },
     "execution_count": 52,
     "metadata": {},
     "output_type": "execute_result"
    }
   ],
   "source": [
    "a.resize_(3, 2)"
   ]
  },
  {
   "cell_type": "code",
   "execution_count": 53,
   "metadata": {},
   "outputs": [
    {
     "data": {
      "text/plain": [
       "tensor([[ 1.5544,  0.2353,  0.2304, -1.2781,  0.1297],\n",
       "        [-0.3615,  0.2311, -0.8747, -0.4002, -0.5390],\n",
       "        [-0.9080, -0.2163,  2.2745,  0.6223, -0.7878]])"
      ]
     },
     "execution_count": 53,
     "metadata": {},
     "output_type": "execute_result"
    }
   ],
   "source": [
    "# 索引操作\n",
    "a = torch.randn(3, 5)\n",
    "a"
   ]
  },
  {
   "cell_type": "code",
   "execution_count": 54,
   "metadata": {},
   "outputs": [
    {
     "data": {
      "text/plain": [
       "tensor([ 1.5544,  0.2353,  0.2304, -1.2781,  0.1297])"
      ]
     },
     "execution_count": 54,
     "metadata": {},
     "output_type": "execute_result"
    }
   ],
   "source": [
    "a[0]"
   ]
  },
  {
   "cell_type": "code",
   "execution_count": 55,
   "metadata": {},
   "outputs": [
    {
     "data": {
      "text/plain": [
       "tensor([[ 0.2353,  0.2304],\n",
       "        [ 0.2311, -0.8747]])"
      ]
     },
     "execution_count": 55,
     "metadata": {},
     "output_type": "execute_result"
    }
   ],
   "source": [
    "a[0:2, 1:3]"
   ]
  },
  {
   "cell_type": "code",
   "execution_count": 56,
   "metadata": {},
   "outputs": [
    {
     "data": {
      "text/plain": [
       "tensor([[ True, False, False, False, False],\n",
       "        [False, False, False, False, False],\n",
       "        [False, False,  True, False, False]])"
      ]
     },
     "execution_count": 56,
     "metadata": {},
     "output_type": "execute_result"
    }
   ],
   "source": [
    "a > 1  # 大于１置为True, 下于1置为False"
   ]
  },
  {
   "cell_type": "code",
   "execution_count": 57,
   "metadata": {},
   "outputs": [
    {
     "data": {
      "text/plain": [
       "tensor([[ 0,  1,  2,  3],\n",
       "        [ 4,  5,  6,  7],\n",
       "        [ 8,  9, 10, 11],\n",
       "        [12, 13, 14, 15]])"
      ]
     },
     "execution_count": 57,
     "metadata": {},
     "output_type": "execute_result"
    }
   ],
   "source": [
    "# gather()的用法\n",
    "a = torch.arange(0, 16).view(4, 4)\n",
    "a"
   ]
  },
  {
   "cell_type": "code",
   "execution_count": 58,
   "metadata": {},
   "outputs": [
    {
     "data": {
      "text/plain": [
       "tensor([[ 0,  5, 10, 15]])"
      ]
     },
     "execution_count": 58,
     "metadata": {},
     "output_type": "execute_result"
    }
   ],
   "source": [
    "index = torch.LongTensor([[0, 1, 2, 3]])\n",
    "a.gather(0, index)"
   ]
  },
  {
   "cell_type": "code",
   "execution_count": 59,
   "metadata": {},
   "outputs": [
    {
     "data": {
      "text/plain": [
       "tensor([[ 3],\n",
       "        [ 6],\n",
       "        [ 9],\n",
       "        [12]])"
      ]
     },
     "execution_count": 59,
     "metadata": {},
     "output_type": "execute_result"
    }
   ],
   "source": [
    "# 选取反对角线的元素\n",
    "index = torch.LongTensor([[3, 2, 1, 0]]).t()\n",
    "a.gather(1, index)"
   ]
  },
  {
   "cell_type": "code",
   "execution_count": 60,
   "metadata": {},
   "outputs": [],
   "source": [
    "# 设置全局tensor的类型\n",
    "torch.set_default_tensor_type('torch.FloatTensor')   # 仅仅能全局指定FloatTensor"
   ]
  },
  {
   "cell_type": "code",
   "execution_count": 61,
   "metadata": {},
   "outputs": [],
   "source": [
    "a = torch.Tensor(3, 3)  # 默认为FloatTensor\n",
    "# 将FloatTensor转为IntTensor\n",
    "b = a.int() "
   ]
  },
  {
   "cell_type": "code",
   "execution_count": 64,
   "metadata": {},
   "outputs": [
    {
     "data": {
      "text/plain": [
       "tensor([[ 1.0000,  0.5403, -0.4161],\n",
       "        [-0.9900, -0.6536,  0.2837]])"
      ]
     },
     "execution_count": 64,
     "metadata": {},
     "output_type": "execute_result"
    }
   ],
   "source": [
    "# 将逐元素进行操作\n",
    "a = np.arange(0, 6).reshape((2, 3)).astype(np.float32)\n",
    "a = torch.from_numpy(a)\n",
    "# a = torch.arange(0, 6).view(2, 3)\n",
    "torch.cos(a)"
   ]
  },
  {
   "cell_type": "code",
   "execution_count": 65,
   "metadata": {},
   "outputs": [
    {
     "data": {
      "text/plain": [
       "array([[0, 1, 2],\n",
       "       [3, 4, 5]])"
      ]
     },
     "execution_count": 65,
     "metadata": {},
     "output_type": "execute_result"
    }
   ],
   "source": [
    "# clamp函数的使用\n",
    "a = np.arange(0, 6).reshape((2, 3))\n",
    "a"
   ]
  },
  {
   "cell_type": "code",
   "execution_count": 66,
   "metadata": {},
   "outputs": [
    {
     "data": {
      "text/plain": [
       "tensor([[3, 3, 3],\n",
       "        [3, 4, 5]])"
      ]
     },
     "execution_count": 66,
     "metadata": {},
     "output_type": "execute_result"
    }
   ],
   "source": [
    "a = torch.from_numpy(a)\n",
    "b = torch.clamp(a, min=3)\n",
    "b"
   ]
  },
  {
   "cell_type": "code",
   "execution_count": 67,
   "metadata": {},
   "outputs": [
    {
     "data": {
      "text/plain": [
       "tensor([[2., 2., 2.]])"
      ]
     },
     "execution_count": 67,
     "metadata": {},
     "output_type": "execute_result"
    }
   ],
   "source": [
    "# 归并操作\n",
    "b = torch.ones(2, 3)\n",
    "b.sum(dim=0, keepdim=True)"
   ]
  },
  {
   "cell_type": "code",
   "execution_count": 68,
   "metadata": {},
   "outputs": [
    {
     "data": {
      "text/plain": [
       "tensor([[3.],\n",
       "        [3.]])"
      ]
     },
     "execution_count": 68,
     "metadata": {},
     "output_type": "execute_result"
    }
   ],
   "source": [
    "# 归并操作\n",
    "b = torch.ones(2, 3)\n",
    "b.sum(dim=1, keepdim=True)"
   ]
  },
  {
   "cell_type": "code",
   "execution_count": 70,
   "metadata": {},
   "outputs": [
    {
     "data": {
      "text/plain": [
       "tensor([[0, 1, 2],\n",
       "        [3, 4, 5]])"
      ]
     },
     "execution_count": 70,
     "metadata": {},
     "output_type": "execute_result"
    }
   ],
   "source": [
    "# 沿着行累加\n",
    "a = torch.arange(0, 6).view(2, 3)\n",
    "a"
   ]
  },
  {
   "cell_type": "code",
   "execution_count": 71,
   "metadata": {},
   "outputs": [
    {
     "data": {
      "text/plain": [
       "tensor([[ 0,  1,  3],\n",
       "        [ 3,  7, 12]])"
      ]
     },
     "execution_count": 71,
     "metadata": {},
     "output_type": "execute_result"
    }
   ],
   "source": [
    "a.cumsum(dim=1)"
   ]
  },
  {
   "cell_type": "code",
   "execution_count": 72,
   "metadata": {},
   "outputs": [
    {
     "data": {
      "text/plain": [
       "tensor([[ 0.0000,  3.2000,  6.4000],\n",
       "        [ 9.6000, 12.8000, 16.0000]])"
      ]
     },
     "execution_count": 72,
     "metadata": {},
     "output_type": "execute_result"
    }
   ],
   "source": [
    "a = torch.linspace(0, 16, 6).view(2, 3)  # 0到16 产生6个数\n",
    "a"
   ]
  },
  {
   "cell_type": "code",
   "execution_count": 73,
   "metadata": {},
   "outputs": [
    {
     "data": {
      "text/plain": [
       "tensor(16.)"
      ]
     },
     "execution_count": 73,
     "metadata": {},
     "output_type": "execute_result"
    }
   ],
   "source": [
    "a.max()"
   ]
  },
  {
   "cell_type": "code",
   "execution_count": 74,
   "metadata": {},
   "outputs": [
    {
     "data": {
      "text/plain": [
       "tensor([[ 0.0000,  9.6000],\n",
       "        [ 3.2000, 12.8000],\n",
       "        [ 6.4000, 16.0000]])"
      ]
     },
     "execution_count": 74,
     "metadata": {},
     "output_type": "execute_result"
    }
   ],
   "source": [
    "# 线性代数中的一些函数\n",
    "b = a.t()  # a的转置\n",
    "b"
   ]
  },
  {
   "cell_type": "code",
   "execution_count": 75,
   "metadata": {},
   "outputs": [
    {
     "data": {
      "text/plain": [
       " 0\n",
       " 1\n",
       " 2\n",
       " 3\n",
       " 4\n",
       " 5\n",
       "[torch.LongStorage of size 6]"
      ]
     },
     "execution_count": 75,
     "metadata": {},
     "output_type": "execute_result"
    }
   ],
   "source": [
    "# tensor分为头信息区(Tensor)和存储区(storage)  信息区存的就是数据的形状，步长等等，　存储区存的就是数据\n",
    "a = torch.arange(0, 6)\n",
    "a.storage()"
   ]
  },
  {
   "cell_type": "code",
   "execution_count": 76,
   "metadata": {},
   "outputs": [
    {
     "data": {
      "text/plain": [
       " 0\n",
       " 1\n",
       " 2\n",
       " 3\n",
       " 4\n",
       " 5\n",
       "[torch.LongStorage of size 6]"
      ]
     },
     "execution_count": 76,
     "metadata": {},
     "output_type": "execute_result"
    }
   ],
   "source": [
    "b = a.view(2, 3)\n",
    "b.storage()"
   ]
  },
  {
   "cell_type": "code",
   "execution_count": 78,
   "metadata": {},
   "outputs": [
    {
     "data": {
      "text/plain": [
       "True"
      ]
     },
     "execution_count": 78,
     "metadata": {},
     "output_type": "execute_result"
    }
   ],
   "source": [
    "id(b.storage()) == id(a.storage())   # 说明a　和　b指的是同一批数据　只是信息区不太一样"
   ]
  },
  {
   "cell_type": "code",
   "execution_count": 79,
   "metadata": {},
   "outputs": [
    {
     "data": {
      "text/plain": [
       "tensor([[100,   1,   2],\n",
       "        [  3,   4,   5]])"
      ]
     },
     "execution_count": 79,
     "metadata": {},
     "output_type": "execute_result"
    }
   ],
   "source": [
    "b[0, 0] = 100\n",
    "b"
   ]
  },
  {
   "cell_type": "code",
   "execution_count": 81,
   "metadata": {},
   "outputs": [
    {
     "data": {
      "text/plain": [
       "tensor([100,   1,   2,   3,   4,   5])"
      ]
     },
     "execution_count": 81,
     "metadata": {},
     "output_type": "execute_result"
    }
   ],
   "source": [
    "a  # 可以发现b中的数据更改　　a中的数据也进行更改"
   ]
  },
  {
   "cell_type": "code",
   "execution_count": 82,
   "metadata": {},
   "outputs": [
    {
     "data": {
      "text/plain": [
       "True"
      ]
     },
     "execution_count": 82,
     "metadata": {},
     "output_type": "execute_result"
    }
   ],
   "source": [
    "a.is_contiguous()"
   ]
  },
  {
   "cell_type": "code",
   "execution_count": 83,
   "metadata": {},
   "outputs": [
    {
     "data": {
      "text/plain": [
       "True"
      ]
     },
     "execution_count": 83,
     "metadata": {},
     "output_type": "execute_result"
    }
   ],
   "source": [
    "b.is_contiguous()"
   ]
  },
  {
   "cell_type": "code",
   "execution_count": 85,
   "metadata": {},
   "outputs": [],
   "source": [
    "b = b.contiguous()"
   ]
  },
  {
   "cell_type": "code",
   "execution_count": 87,
   "metadata": {},
   "outputs": [
    {
     "data": {
      "text/plain": [
       "tensor([[100, 200,   2],\n",
       "        [  3,   4,   5]])"
      ]
     },
     "execution_count": 87,
     "metadata": {},
     "output_type": "execute_result"
    }
   ],
   "source": [
    "b[0, 1] = 200\n",
    "b"
   ]
  },
  {
   "cell_type": "code",
   "execution_count": 88,
   "metadata": {},
   "outputs": [
    {
     "data": {
      "text/plain": [
       "tensor([100, 200,   2,   3,   4,   5])"
      ]
     },
     "execution_count": 88,
     "metadata": {},
     "output_type": "execute_result"
    }
   ],
   "source": [
    "a"
   ]
  },
  {
   "cell_type": "code",
   "execution_count": 90,
   "metadata": {},
   "outputs": [],
   "source": [
    "# 保存tensor到某个文件中\n",
    "if torch.cuda.is_available():\n",
    "    a = a.cuda(1)  # 把tensor放到cuda1上去\n",
    "    torch.save(a, 'a.pth')\n",
    "    \n",
    "    # 加载a 存储在GPU1上去\n",
    "    b = torch.load('a.pth')\n",
    "    \n",
    "    # 加载a 存在cpu\n",
    "    c = torch.load('a.pth', map_location=lambda storage, loc: storage)\n",
    "    \n",
    "    # 加载a 存储在gpu0上\n",
    "    d = torch.load('a.pth', map_location={'cuda:1': 'cuda:0'})"
   ]
  },
  {
   "cell_type": "code",
   "execution_count": 97,
   "metadata": {},
   "outputs": [
    {
     "name": "stdout",
     "output_type": "stream",
     "text": [
      "xsize: torch.Size([3, 1])\n",
      "x: tensor([[1],\n",
      "        [2],\n",
      "        [3]])\n",
      "x_expand: tensor([[1, 1, 1, 1],\n",
      "        [2, 2, 2, 2],\n",
      "        [3, 3, 3, 3]])\n",
      "x_expand: tensor([[1, 1, 1, 1],\n",
      "        [2, 2, 2, 2],\n",
      "        [3, 3, 3, 3]])\n",
      "x_expand_as: tensor([[1, 1, 1, 1],\n",
      "        [2, 2, 2, 2],\n",
      "        [3, 3, 3, 3]])\n"
     ]
    }
   ],
   "source": [
    "# expand()和expand_as()的用法  一个传入的是size  一个传入的是tensor   两个函数都是通过一个tensor扩充成另外一个tensor\n",
    "x = torch.tensor([[1], [2], [3]])\n",
    "print('xsize:',x.size())  #  (3, 1)\n",
    "print('x:',x)\n",
    " \n",
    "x_expand=x.expand(3,4)   # (3, 4)\n",
    "print('x_expand:',x_expand)\n",
    " \n",
    "x_expand=x.expand(-1,4)  # -1 means not changing the size of that dimension\n",
    "print('x_expand:',x_expand)   # 跟上面的作用是一样的\n",
    " \n",
    "x_expand_as=x.expand_as(x_expand)   # expand_as()传进来一个tensor　生成跟他一摸一样的tensor\n",
    "print('x_expand_as:',x_expand_as)"
   ]
  },
  {
   "cell_type": "markdown",
   "metadata": {},
   "source": [
    "# 线性回归的小实践"
   ]
  },
  {
   "cell_type": "code",
   "execution_count": 92,
   "metadata": {},
   "outputs": [
    {
     "data": {
      "text/plain": [
       "<matplotlib.collections.PathCollection at 0x7ff4c90bd2b0>"
      ]
     },
     "execution_count": 92,
     "metadata": {},
     "output_type": "execute_result"
    },
    {
     "data": {
      "image/png": "[encoded data removed]",
      "text/plain": [
       "<matplotlib.figure.Figure at 0x7ff4c9129160>"
      ]
     },
     "metadata": {},
     "output_type": "display_data"
    }
   ],
   "source": [
    "import torch\n",
    "%matplotlib inline\n",
    "import matplotlib.pyplot as plt\n",
    "from IPython import display\n",
    "\n",
    "torch.manual_seed(1000)  # 设置随机种子　保证在不同计算机上运行时的输出是一致的\n",
    "\n",
    "def get_fake_data(batch_size=8):\n",
    "    '''\n",
    "    产生随机数据: y = x*2 + 3, 加上了一些噪声\n",
    "    '''\n",
    "    x = torch.rand(batch_size, 1) * 20\n",
    "    y = x * 2 + (1 + torch.randn(batch_size, 1)) * 3  # x*2 加噪声\n",
    "    return x, y\n",
    "\n",
    "x, y = get_fake_data()\n",
    "plt.scatter(x.squeeze().numpy(), y.squeeze().numpy())"
   ]
  },
  {
   "cell_type": "code",
   "execution_count": 104,
   "metadata": {},
   "outputs": [
    {
     "data": {
      "image/png": "[encoded data removed]",
      "text/plain": [
       "<matplotlib.figure.Figure at 0x7ff4c8b6b518>"
      ]
     },
     "metadata": {},
     "output_type": "display_data"
    },
    {
     "name": "stdout",
     "output_type": "stream",
     "text": [
      "tensor(2.1222) tensor(2.9956)\n"
     ]
    }
   ],
   "source": [
    "# 随机化参数\n",
    "w = torch.rand(1, 1)\n",
    "b = torch.zeros(1, 1)\n",
    "lr = 0.001  # 学习率\n",
    "for ii in range(20000):\n",
    "    x, y = get_fake_data()\n",
    "    \n",
    "    # forward: 计算loss\n",
    "    y_pred = x.mm(w) + b.expand_as(y)  # 用ｂ的数据扩充成和ｙ规格一样的tensor\n",
    "    loss = 0.5 * (y_pred - y) ** 2  # 均方误差\n",
    "    loss = loss.sum()\n",
    "    \n",
    "    # backward: 手动计算梯度\n",
    "    dloss = 1\n",
    "    dy_pred = dloss * (y_pred - y)\n",
    "    \n",
    "    dw = x.t().mm(dy_pred)\n",
    "    db = dy_pred.sum()\n",
    "    \n",
    "    # 更新参数\n",
    "    w.sub_(lr * dw)\n",
    "    b.sub_(lr * db)\n",
    "    \n",
    "    if ii % 1000 == 0:\n",
    "        # 画图\n",
    "        display.clear_output(wait=True)\n",
    "        x = np.arange(0, 20).reshape((-1, 1))\n",
    "        x = torch.Tensor(x)\n",
    "        # x = torch.arange(0, 20).view(-1, 1)\n",
    "        y = x.mm(w) + b.expand_as(x)\n",
    "        plt.plot(x.numpy(), y.numpy())\n",
    "        \n",
    "        x2, y2 = get_fake_data()\n",
    "        plt.scatter(x2.numpy(), y2.numpy())\n",
    "        \n",
    "        plt.xlim(0, 20)\n",
    "        plt.ylim(0, 41)\n",
    "        plt.show()\n",
    "        plt.pause(0.5)\n",
    "        print(w.squeeze(), b.squeeze())"
   ]
  },
  {
   "cell_type": "markdown",
   "metadata": {},
   "source": [
    "# autograd详解"
   ]
  },
  {
   "cell_type": "code",
   "execution_count": 105,
   "metadata": {},
   "outputs": [],
   "source": [
    "import torch\n",
    "from torch.autograd import Variable"
   ]
  },
  {
   "cell_type": "code",
   "execution_count": 106,
   "metadata": {},
   "outputs": [
    {
     "data": {
      "text/plain": [
       "tensor([[1., 1., 1., 1.],\n",
       "        [1., 1., 1., 1.],\n",
       "        [1., 1., 1., 1.]], requires_grad=True)"
      ]
     },
     "execution_count": 106,
     "metadata": {},
     "output_type": "execute_result"
    }
   ],
   "source": [
    "# 从tensor中创建variable, 指定需要求导\n",
    "a = Variable(torch.ones(3, 4), requires_grad=True)\n",
    "a"
   ]
  },
  {
   "cell_type": "code",
   "execution_count": 107,
   "metadata": {},
   "outputs": [
    {
     "data": {
      "text/plain": [
       "tensor([[0., 0., 0., 0.],\n",
       "        [0., 0., 0., 0.],\n",
       "        [0., 0., 0., 0.]])"
      ]
     },
     "execution_count": 107,
     "metadata": {},
     "output_type": "execute_result"
    }
   ],
   "source": [
    "b = Variable(torch.zeros(3, 4))\n",
    "b"
   ]
  },
  {
   "cell_type": "code",
   "execution_count": 109,
   "metadata": {},
   "outputs": [
    {
     "data": {
      "text/plain": [
       "tensor([[1., 1., 1., 1.],\n",
       "        [1., 1., 1., 1.],\n",
       "        [1., 1., 1., 1.]], grad_fn=<AddBackward0>)"
      ]
     },
     "execution_count": 109,
     "metadata": {},
     "output_type": "execute_result"
    }
   ],
   "source": [
    "c = a + b\n",
    "c"
   ]
  },
  {
   "cell_type": "code",
   "execution_count": 110,
   "metadata": {},
   "outputs": [],
   "source": [
    "d = c.sum()\n",
    "d.backward() # 反向传播"
   ]
  },
  {
   "cell_type": "code",
   "execution_count": 115,
   "metadata": {},
   "outputs": [
    {
     "name": "stdout",
     "output_type": "stream",
     "text": [
      "tensor(12.)\n",
      "tensor(12., grad_fn=<SumBackward0>)\n"
     ]
    }
   ],
   "source": [
    "# 注意以下两者的区别\n",
    "print(c.data.sum())  # 去data后变为tensor,从tensor计算sum得到float值\n",
    "print(c.sum())  #　直接计算sum后 仍然为Variable"
   ]
  },
  {
   "cell_type": "code",
   "execution_count": 116,
   "metadata": {},
   "outputs": [
    {
     "data": {
      "text/plain": [
       "tensor([[1., 1., 1., 1.],\n",
       "        [1., 1., 1., 1.],\n",
       "        [1., 1., 1., 1.]])"
      ]
     },
     "execution_count": 116,
     "metadata": {},
     "output_type": "execute_result"
    }
   ],
   "source": [
    "a.grad"
   ]
  },
  {
   "cell_type": "code",
   "execution_count": 118,
   "metadata": {},
   "outputs": [
    {
     "data": {
      "text/plain": [
       "(True, False, True)"
      ]
     },
     "execution_count": 118,
     "metadata": {},
     "output_type": "execute_result"
    }
   ],
   "source": [
    "# 此处虽然没有指定c需要求导，但是c依赖与a　而a需求导\n",
    "# 因此c的requires_grad属性默认自动设置为True\n",
    "a.requires_grad, b.requires_grad, c.requires_grad   # 可以发现定义b变量时，没有指定requires_grad为True 所以他不进行求导"
   ]
  },
  {
   "cell_type": "code",
   "execution_count": 119,
   "metadata": {},
   "outputs": [
    {
     "data": {
      "text/plain": [
       "(True, True, False)"
      ]
     },
     "execution_count": 119,
     "metadata": {},
     "output_type": "execute_result"
    }
   ],
   "source": [
    "# 由用户创建的Variable属于叶子节点, 对应的grad_fn是None\n",
    "a.is_leaf, b.is_leaf, c.is_leaf"
   ]
  },
  {
   "cell_type": "code",
   "execution_count": 120,
   "metadata": {},
   "outputs": [
    {
     "data": {
      "text/plain": [
       "True"
      ]
     },
     "execution_count": 120,
     "metadata": {},
     "output_type": "execute_result"
    }
   ],
   "source": [
    "# c.grad是None , c不是叶子节点，他的梯度是用来计算a的梯度的。虽然c.requires_grad是True，　但是梯度计算完成后就会被释放掉\n",
    "c.grad is None"
   ]
  },
  {
   "cell_type": "markdown",
   "metadata": {},
   "source": [
    "# 真正体验反向传播"
   ]
  },
  {
   "cell_type": "code",
   "execution_count": 126,
   "metadata": {},
   "outputs": [],
   "source": [
    "# 真正体验反向传播\n",
    "def f(x):\n",
    "    '''\n",
    "    计算y\n",
    "    '''\n",
    "    y = x ** 2 * torch.exp(x)\n",
    "    return y\n",
    "\n",
    "def gradf(x):\n",
    "    '''\n",
    "    上面函数的导数 为了反向传播\n",
    "    '''\n",
    "    dx = 2 * x * torch.exp(x) + x ** 2 * torch.exp(x)\n",
    "    return dx"
   ]
  },
  {
   "cell_type": "code",
   "execution_count": 127,
   "metadata": {},
   "outputs": [
    {
     "data": {
      "text/plain": [
       "tensor([[3.0533e-01, 3.5055e-03, 2.0568e-01, 9.3676e+00],\n",
       "        [2.9764e-01, 1.6310e+00, 2.2287e+00, 4.9269e-01],\n",
       "        [8.4501e+01, 5.6158e-02, 1.4492e-01, 9.3108e-01]],\n",
       "       grad_fn=<MulBackward0>)"
      ]
     },
     "execution_count": 127,
     "metadata": {},
     "output_type": "execute_result"
    }
   ],
   "source": [
    "x = Variable(torch.randn(3, 4), requires_grad=True)\n",
    "y = f(x)\n",
    "y"
   ]
  },
  {
   "cell_type": "code",
   "execution_count": 128,
   "metadata": {},
   "outputs": [
    {
     "data": {
      "text/plain": [
       "tensor([[-4.2018e-01, -1.1135e-01,  1.3002e+00,  2.2125e+01],\n",
       "        [-4.2522e-01,  5.5172e+00,  6.9947e+00, -1.8813e-01],\n",
       "        [ 1.5056e+02,  5.8338e-01, -4.5244e-01,  3.6493e+00]])"
      ]
     },
     "execution_count": 128,
     "metadata": {},
     "output_type": "execute_result"
    }
   ],
   "source": [
    "y.backward(torch.ones(y.size()))\n",
    "x.grad"
   ]
  },
  {
   "cell_type": "code",
   "execution_count": 129,
   "metadata": {},
   "outputs": [
    {
     "data": {
      "text/plain": [
       "tensor([[-4.2018e-01, -1.1135e-01,  1.3002e+00,  2.2125e+01],\n",
       "        [-4.2522e-01,  5.5172e+00,  6.9947e+00, -1.8813e-01],\n",
       "        [ 1.5056e+02,  5.8338e-01, -4.5244e-01,  3.6493e+00]],\n",
       "       grad_fn=<AddBackward0>)"
      ]
     },
     "execution_count": 129,
     "metadata": {},
     "output_type": "execute_result"
    }
   ],
   "source": [
    "gradf(x)"
   ]
  },
  {
   "cell_type": "code",
   "execution_count": 130,
   "metadata": {},
   "outputs": [
    {
     "data": {
      "text/plain": [
       "tensor([1.])"
      ]
     },
     "execution_count": 130,
     "metadata": {},
     "output_type": "execute_result"
    }
   ],
   "source": [
    "def abs(x):\n",
    "    if x.data[0] > 0:\n",
    "        return x\n",
    "    else:\n",
    "        return -x\n",
    "x = Variable(torch.ones(1), requires_grad=True)\n",
    "y = abs(x)\n",
    "y.backward()\n",
    "x.grad"
   ]
  },
  {
   "cell_type": "code",
   "execution_count": 131,
   "metadata": {},
   "outputs": [
    {
     "data": {
      "text/plain": [
       "tensor([-1.])"
      ]
     },
     "execution_count": 131,
     "metadata": {},
     "output_type": "execute_result"
    }
   ],
   "source": [
    "x = Variable(-1 * torch.ones(1), requires_grad=True)\n",
    "y = abs(x)\n",
    "y.backward()\n",
    "x.grad"
   ]
  },
  {
   "cell_type": "code",
   "execution_count": 133,
   "metadata": {},
   "outputs": [
    {
     "data": {
      "text/plain": [
       "(tensor([1., 1., 1.]),)"
      ]
     },
     "execution_count": 133,
     "metadata": {},
     "output_type": "execute_result"
    }
   ],
   "source": [
    "# 第一种方法：使用grad获取中间变量的梯度\n",
    "x = Variable(torch.ones(3), requires_grad=True)\n",
    "w = Variable(torch.rand(3), requires_grad=True)\n",
    "y = x * w\n",
    "z = y.sum()\n",
    "torch.autograd.grad(z, y)   # z对y的导数"
   ]
  },
  {
   "cell_type": "code",
   "execution_count": 134,
   "metadata": {},
   "outputs": [],
   "source": [
    "# 扩展的autograd\n",
    "# 绝大多数函数都可以使用autograd实现反向求导，但如果需要自己写一个复杂函数，不支持自动反向求导 我们让其方向求导\n",
    "from torch.autograd import Function\n",
    "class Mul(Function):\n",
    "    \n",
    "    @staticmethod\n",
    "    def forward(ctx, w, x, b, x_requires_grad=True):\n",
    "        ctx.x_requires_grad = x_requires_grad\n",
    "        ctx.save_for_backward(w, x)\n",
    "        output = w * x + b\n",
    "        return output\n",
    "    \n",
    "    @staticmethod\n",
    "    def backward(ctx, grad_output):\n",
    "        w, x = ctx.saved_variables\n",
    "        grad_w = grad_output * x\n",
    "        if ctx.x_requires_grad:\n",
    "            grad_x = grad_output * w\n",
    "        else:\n",
    "            grad_x = None\n",
    "        grad_b = grad_output * 1\n",
    "        return grad_w, grad_x, grad_b, None"
   ]
  },
  {
   "cell_type": "code",
   "execution_count": 136,
   "metadata": {},
   "outputs": [],
   "source": [
    "# 下面才是一个真正的例子\n",
    "from torch.autograd import Function\n",
    "class MultiplyAdd(Function):\n",
    "    \n",
    "    @staticmethod\n",
    "    def forward(ctx, w, x, b):\n",
    "        print('type in forward', type(x))\n",
    "        ctx.save_for_backward(w, x)\n",
    "        output = w * x + b\n",
    "        return output\n",
    "    \n",
    "    @staticmethod\n",
    "    def backward(ctx, grad_output):\n",
    "        w, x = ctx.saved_variables\n",
    "        print(\"type in backward\", type(x))\n",
    "        grad_w = grad_output * x\n",
    "        grad_x = grad_output * w\n",
    "        grad_b = grad_output * 1\n",
    "        return grad_w, grad_x, grad_b"
   ]
  },
  {
   "cell_type": "code",
   "execution_count": 138,
   "metadata": {},
   "outputs": [
    {
     "name": "stdout",
     "output_type": "stream",
     "text": [
      "开始前向传播\n",
      "type in forward <class 'torch.Tensor'>\n",
      "开始反向传播\n",
      "type in backward <class 'torch.Tensor'>\n"
     ]
    },
    {
     "name": "stderr",
     "output_type": "stream",
     "text": [
      "/home/shawroad/anaconda3/lib/python3.6/site-packages/ipykernel_launcher.py:14: DeprecationWarning: 'saved_variables' is deprecated; use 'saved_tensors'\n",
      "  \n"
     ]
    },
    {
     "data": {
      "text/plain": [
       "(None, tensor([1.]), tensor([1.]))"
      ]
     },
     "execution_count": 138,
     "metadata": {},
     "output_type": "execute_result"
    }
   ],
   "source": [
    "x = Variable(torch.ones(1))\n",
    "w = Variable(torch.rand(1), requires_grad=True)\n",
    "b = Variable(torch.rand(1), requires_grad=True)\n",
    "print(\"开始前向传播\")\n",
    "z = MultiplyAdd.apply(w, x, b)\n",
    "print(\"开始反向传播\")\n",
    "z.backward()\n",
    "\n",
    "x.grad, w.grad, b.grad"
   ]
  },
  {
   "cell_type": "markdown",
   "metadata": {},
   "source": [
    "# 用Variable实现一个线性回归"
   ]
  },
  {
   "cell_type": "code",
   "execution_count": 139,
   "metadata": {},
   "outputs": [
    {
     "data": {
      "text/plain": [
       "<matplotlib.collections.PathCollection at 0x7ff4c8dc8198>"
      ]
     },
     "execution_count": 139,
     "metadata": {},
     "output_type": "execute_result"
    },
    {
     "data": {
      "image/png": "[encoded data removed]",
      "text/plain": [
       "<matplotlib.figure.Figure at 0x7ff4c913e8d0>"
      ]
     },
     "metadata": {},
     "output_type": "display_data"
    }
   ],
   "source": [
    "import torch\n",
    "from torch.autograd import Variable\n",
    "%matplotlib inline\n",
    "import matplotlib.pyplot as plt\n",
    "from IPython import display\n",
    "\n",
    "torch.manual_seed(1000)  # 设置随机种子　保证在不同计算机上运行时的输出是一致的\n",
    "\n",
    "def get_fake_data(batch_size=8):\n",
    "    '''\n",
    "    产生随机数据: y = x*2 + 3, 加上了一些噪声\n",
    "    '''\n",
    "    x = torch.rand(batch_size, 1) * 20\n",
    "    y = x * 2 + (1 + torch.randn(batch_size, 1)) * 3  # x*2 加噪声\n",
    "    return x, y\n",
    "\n",
    "x, y = get_fake_data()\n",
    "plt.scatter(x.squeeze().numpy(), y.squeeze().numpy())"
   ]
  },
  {
   "cell_type": "code",
   "execution_count": 146,
   "metadata": {},
   "outputs": [
    {
     "data": {
      "image/png": "[encoded data removed]",
      "text/plain": [
       "<matplotlib.figure.Figure at 0x7ff4c8f530f0>"
      ]
     },
     "metadata": {},
     "output_type": "display_data"
    },
    {
     "name": "stdout",
     "output_type": "stream",
     "text": [
      "tensor(1.9537, grad_fn=<SqueezeBackward0>) tensor(2.8243, grad_fn=<SqueezeBackward0>)\n"
     ]
    }
   ],
   "source": [
    "w = Variable(torch.rand(1, 1), requires_grad=True)\n",
    "b = Variable(torch.zeros(1, 1), requires_grad=True)\n",
    "\n",
    "lr = 0.001  # 学习率\n",
    "for ii in range(8000):\n",
    "    x, y = get_fake_data()\n",
    "    x, y = Variable(x), Variable(y)\n",
    "    \n",
    "    # 前向传播 计算loss\n",
    "    y_pred = x.mm(w) + b.expand_as(y)\n",
    "    loss = 0.5 * (y_pred - y) ** 2\n",
    "    loss = loss.sum()\n",
    "    \n",
    "    # 反向传播 自动计算梯度\n",
    "    loss.backward()\n",
    "    \n",
    "    # 更新参数\n",
    "    w.data.sub_(lr * w.grad.data)\n",
    "    b.data.sub_(lr * b.grad.data)\n",
    "    \n",
    "    # 梯度清零\n",
    "    w.grad.data.zero_()\n",
    "    b.grad.data.zero_()\n",
    "    \n",
    "    if ii % 1000 == 0:\n",
    "        # 画图\n",
    "        display.clear_output(wait=True)\n",
    "        x = np.arange(0, 20).reshape((-1, 1))\n",
    "        x = torch.Tensor(x)\n",
    "        # x = torch.arange(0, 20).view(-1, 1)\n",
    "        y = x.mm(w) + b.expand_as(x)\n",
    "        plt.plot(x.data.numpy(), y.data.numpy())\n",
    "        \n",
    "        x2, y2 = get_fake_data()\n",
    "        plt.scatter(x2.numpy(), y2.numpy())\n",
    "        \n",
    "        plt.xlim(0, 20)\n",
    "        plt.ylim(0, 41)\n",
    "        plt.show()\n",
    "        plt.pause(0.5)\n",
    "        print(w.squeeze(), b.squeeze())\n",
    "    "
   ]
  },
  {
   "cell_type": "markdown",
   "metadata": {},
   "source": [
    "# 神经网络工具箱nn"
   ]
  },
  {
   "cell_type": "code",
   "execution_count": 160,
   "metadata": {},
   "outputs": [],
   "source": [
    "import torch\n",
    "from torch import nn\n",
    "from torch.autograd import Variable\n",
    "\n",
    "class Linear(nn.Module):\n",
    "    def __init__(self, in_features, out_features):\n",
    "        super(Linear, self).__init__()\n",
    "        self.w = nn.Parameter(torch.randn(in_features, out_features))\n",
    "        self.b = nn.Parameter(torch.randn(out_features))\n",
    "    \n",
    "    def forward(self, x):\n",
    "        x = x.mm(self.w)\n",
    "        return x + self.b.expand_as(x)"
   ]
  },
  {
   "cell_type": "code",
   "execution_count": 162,
   "metadata": {},
   "outputs": [
    {
     "data": {
      "text/plain": [
       "tensor([[-1.2005,  1.3777, -0.1111],\n",
       "        [ 0.2759, -0.3181,  1.5468]], grad_fn=<AddBackward0>)"
      ]
     },
     "execution_count": 162,
     "metadata": {},
     "output_type": "execute_result"
    }
   ],
   "source": [
    "layer = Linear(4, 3)\n",
    "input = Variable(torch.randn(2, 4))\n",
    "output = layer(input)\n",
    "output"
   ]
  },
  {
   "cell_type": "code",
   "execution_count": 163,
   "metadata": {},
   "outputs": [
    {
     "name": "stdout",
     "output_type": "stream",
     "text": [
      "w Parameter containing:\n",
      "tensor([[ 0.6306, -0.7847,  0.1394],\n",
      "        [-0.5169, -0.4820, -1.1159],\n",
      "        [-0.9626,  0.3941, -0.3238],\n",
      "        [ 0.3742, -0.2633, -1.2027]], requires_grad=True)\n",
      "b Parameter containing:\n",
      "tensor([-0.9069,  0.3675, -0.0105], requires_grad=True)\n"
     ]
    }
   ],
   "source": [
    "for name, parameter in layer.named_parameters():\n",
    "    print(name, parameter)"
   ]
  },
  {
   "cell_type": "code",
   "execution_count": 164,
   "metadata": {},
   "outputs": [],
   "source": [
    "# 用我们上面定义的线性网络结构 构建一个感知机\n",
    "class Perception(nn.Module):\n",
    "    def __init__(self, in_features, hidden_features, out_features):\n",
    "        super(Perception, self).__init__()\n",
    "        # 用的是我们前面定义的网络结构\n",
    "        self.layer1 = Linear(in_features, hidden_features)\n",
    "        self.layer2 = Linear(hidden_features, out_features)\n",
    "    \n",
    "    def forward(self, x):\n",
    "        x = self.layer1(x)\n",
    "        x = torch.sigmoid(x)  # 加个激活函数\n",
    "        x = self.layer2(x)\n",
    "        return x"
   ]
  },
  {
   "cell_type": "code",
   "execution_count": 165,
   "metadata": {},
   "outputs": [
    {
     "name": "stdout",
     "output_type": "stream",
     "text": [
      "layer1.w Parameter containing:\n",
      "tensor([[ 0.5330,  0.7061, -0.8835, -1.1789],\n",
      "        [ 1.6206,  0.7999,  0.5350,  1.3513],\n",
      "        [-0.4136, -1.5796,  0.3841, -0.4208]], requires_grad=True)\n",
      "layer1.b Parameter containing:\n",
      "tensor([ 0.7125, -0.5406, -0.3815, -0.3339], requires_grad=True)\n",
      "layer2.w Parameter containing:\n",
      "tensor([[ 1.7196],\n",
      "        [-2.1501],\n",
      "        [ 1.6182],\n",
      "        [-2.8841]], requires_grad=True)\n",
      "layer2.b Parameter containing:\n",
      "tensor([0.4356], requires_grad=True)\n"
     ]
    }
   ],
   "source": [
    "perception = Perception(3, 4, 1)\n",
    "for name, param in perception.named_parameters():\n",
    "    print(name, param)"
   ]
  },
  {
   "cell_type": "markdown",
   "metadata": {},
   "source": [
    "# 图像方面的使用 ---卷积神经网络"
   ]
  },
  {
   "cell_type": "code",
   "execution_count": 169,
   "metadata": {},
   "outputs": [
    {
     "data": {
      "image/png": "[encoded data removed]",
      "text/plain": [
       "<PIL.JpegImagePlugin.JpegImageFile image mode=L size=512x512 at 0x7FF4C8BD0048>"
      ]
     },
     "execution_count": 169,
     "metadata": {},
     "output_type": "execute_result"
    }
   ],
   "source": [
    "from PIL import Image\n",
    "from torchvision.transforms import ToTensor, ToPILImage\n",
    "to_tensor = ToTensor()  # image -> tensor\n",
    "to_pil = ToPILImage()  # tensor -> image\n",
    "lena = Image.open('./lena.png')\n",
    "lena"
   ]
  },
  {
   "cell_type": "code",
   "execution_count": 170,
   "metadata": {},
   "outputs": [
    {
     "data": {
      "text/plain": [
       "tensor([[[[0.5569, 0.5569, 0.5529,  ..., 0.5882, 0.5294, 0.4235],\n",
       "          [0.5569, 0.5569, 0.5529,  ..., 0.5922, 0.5255, 0.4235],\n",
       "          [0.5569, 0.5569, 0.5569,  ..., 0.5843, 0.5333, 0.4235],\n",
       "          ...,\n",
       "          [0.1255, 0.1255, 0.1412,  ..., 0.3294, 0.3216, 0.3216],\n",
       "          [0.1255, 0.1255, 0.1569,  ..., 0.3333, 0.3412, 0.3490],\n",
       "          [0.1255, 0.1255, 0.1529,  ..., 0.3294, 0.3373, 0.3529]]]])"
      ]
     },
     "execution_count": 170,
     "metadata": {},
     "output_type": "execute_result"
    }
   ],
   "source": [
    "input = to_tensor(lena).unsqueeze(0)\n",
    "input"
   ]
  },
  {
   "cell_type": "code",
   "execution_count": 172,
   "metadata": {},
   "outputs": [
    {
     "data": {
      "image/png": "[encoded data removed]",
      "text/plain": [
       "<PIL.Image.Image image mode=L size=510x510 at 0x7FF4C8A06A20>"
      ]
     },
     "execution_count": 172,
     "metadata": {},
     "output_type": "execute_result"
    }
   ],
   "source": [
    "# 锐化卷积核\n",
    "kernel = torch.ones(3, 3) / -9.\n",
    "kernel[1][1] = 1\n",
    "conv = nn.Conv2d(1, 1, (3, 3), 1, bias=False)\n",
    "conv.weight.data = kernel.view(1, 1, 3, 3)\n",
    "\n",
    "out = conv(Variable(input))\n",
    "to_pil(out.data.squeeze(0))  # 把0维度压没"
   ]
  },
  {
   "cell_type": "code",
   "execution_count": 173,
   "metadata": {},
   "outputs": [
    {
     "data": {
      "text/plain": [
       "[]"
      ]
     },
     "execution_count": 173,
     "metadata": {},
     "output_type": "execute_result"
    }
   ],
   "source": [
    "# 在进行池化看看\n",
    "pool = nn.AvgPool2d(2, 2)   # 图片会缩小一半\n",
    "list(pool.parameters())"
   ]
  },
  {
   "cell_type": "code",
   "execution_count": 174,
   "metadata": {},
   "outputs": [
    {
     "data": {
      "image/png": "[encoded data removed]",
      "text/plain": [
       "<PIL.Image.Image image mode=L size=256x256 at 0x7FF4C8A06208>"
      ]
     },
     "execution_count": 174,
     "metadata": {},
     "output_type": "execute_result"
    }
   ],
   "source": [
    "out = pool(Variable(input))\n",
    "to_pil(out.data.squeeze(0))"
   ]
  },
  {
   "cell_type": "code",
   "execution_count": 175,
   "metadata": {},
   "outputs": [
    {
     "data": {
      "text/plain": [
       "tensor([[ 0.0310, -0.6539, -0.8167, -0.3016],\n",
       "        [ 0.2826, -1.0260, -0.2211, -0.2134]], grad_fn=<AddmmBackward>)"
      ]
     },
     "execution_count": 175,
     "metadata": {},
     "output_type": "execute_result"
    }
   ],
   "source": [
    "# 全连接层\n",
    "input = Variable(torch.randn(2, 3))\n",
    "linear = nn.Linear(3, 4)\n",
    "h = linear(input)\n",
    "h"
   ]
  },
  {
   "cell_type": "code",
   "execution_count": 178,
   "metadata": {},
   "outputs": [],
   "source": [
    "# 批归一化  初始化标准差为4  均值为0\n",
    "bn = nn.BatchNorm1d(4)\n",
    "bn.weight.data = torch.ones(4) * 4 \n",
    "bn.bias.data = torch.zeros(4)  "
   ]
  },
  {
   "cell_type": "code",
   "execution_count": 179,
   "metadata": {},
   "outputs": [
    {
     "data": {
      "text/plain": [
       "(tensor([0.0000e+00, 7.1526e-07, 0.0000e+00, 0.0000e+00],\n",
       "        grad_fn=<MeanBackward1>),\n",
       " tensor([15.9899, 15.9954, 15.9982, 15.9181], grad_fn=<VarBackward1>))"
      ]
     },
     "execution_count": 179,
     "metadata": {},
     "output_type": "execute_result"
    }
   ],
   "source": [
    "bn_out = bn(h)\n",
    "bn_out.mean(0), bn_out.var(0, unbiased=False)"
   ]
  },
  {
   "cell_type": "code",
   "execution_count": 180,
   "metadata": {},
   "outputs": [
    {
     "data": {
      "text/plain": [
       "tensor([[-7.9975,  7.9988, -7.9995, -7.9795],\n",
       "        [ 7.9975, -7.9988,  7.9995,  7.9795]], grad_fn=<MulBackward0>)"
      ]
     },
     "execution_count": 180,
     "metadata": {},
     "output_type": "execute_result"
    }
   ],
   "source": [
    "# dropout\n",
    "dropout = nn.Dropout(0.5)\n",
    "do = dropout(bn_out)\n",
    "do"
   ]
  },
  {
   "cell_type": "code",
   "execution_count": 187,
   "metadata": {
    "scrolled": false
   },
   "outputs": [
    {
     "name": "stdout",
     "output_type": "stream",
     "text": [
      "net1 Sequential(\n",
      "  (conv): Conv2d(3, 3, kernel_size=(3, 3), stride=(1, 1))\n",
      "  (batchnorm): BatchNorm2d(3, eps=1e-05, momentum=0.1, affine=True, track_running_stats=True)\n",
      "  (activation_layer): ReLU()\n",
      ")\n",
      "net2 Sequential(\n",
      "  (0): Conv2d(3, 3, kernel_size=(3, 3), stride=(1, 1))\n",
      "  (1): BatchNorm2d(3, eps=1e-05, momentum=0.1, affine=True, track_running_stats=True)\n",
      "  (2): ReLU()\n",
      ")\n",
      "net3 Sequential(\n",
      "  (conv1): Conv2d(3, 3, kernel_size=(3, 3), stride=(1, 1))\n",
      "  (bn1): BatchNorm2d(3, eps=1e-05, momentum=0.1, affine=True, track_running_stats=True)\n",
      "  (relu1): ReLU()\n",
      ")\n"
     ]
    }
   ],
   "source": [
    "# Sequential的三种写法\n",
    "# 第一种\n",
    "net1 = nn.Sequential()\n",
    "net1.add_module('conv', nn.Conv2d(3, 3, 3))\n",
    "net1.add_module('batchnorm', nn.BatchNorm2d(3))\n",
    "net1.add_module('activation_layer', nn.ReLU())\n",
    "\n",
    "# 第二种\n",
    "net2 = nn.Sequential(\n",
    "    nn.Conv2d(3, 3, 3),\n",
    "    nn.BatchNorm2d(3),\n",
    "    nn.ReLU()\n",
    ")\n",
    "\n",
    "# 第三种\n",
    "from collections import OrderedDict\n",
    "net3  = nn.Sequential(OrderedDict([\n",
    "    ('conv1', nn.Conv2d(3, 3, 3)),\n",
    "    ('bn1', nn.BatchNorm2d(3)),\n",
    "    ('relu1', nn.ReLU())\n",
    "    ]\n",
    "))\n",
    "print('net1', net1)\n",
    "print('net2', net2)\n",
    "print('net3', net3)"
   ]
  },
  {
   "cell_type": "code",
   "execution_count": 189,
   "metadata": {},
   "outputs": [
    {
     "data": {
      "text/plain": [
       "(Conv2d(3, 3, kernel_size=(3, 3), stride=(1, 1)),\n",
       " Conv2d(3, 3, kernel_size=(3, 3), stride=(1, 1)),\n",
       " Conv2d(3, 3, kernel_size=(3, 3), stride=(1, 1)))"
      ]
     },
     "execution_count": 189,
     "metadata": {},
     "output_type": "execute_result"
    }
   ],
   "source": [
    "# 可根据名字或序号取出子Module\n",
    "net1.conv, net2[0], net3.conv1"
   ]
  },
  {
   "cell_type": "code",
   "execution_count": 197,
   "metadata": {},
   "outputs": [
    {
     "name": "stdout",
     "output_type": "stream",
     "text": [
      "tensor([[[[0.0000, 0.0000],\n",
      "          [1.7208, 0.0000]],\n",
      "\n",
      "         [[0.0000, 1.4821],\n",
      "          [0.0000, 0.1790]],\n",
      "\n",
      "         [[1.3802, 0.4238],\n",
      "          [0.0000, 0.0000]]]], grad_fn=<ReluBackward0>) tensor([[[[1.4119, 0.0000],\n",
      "          [0.0000, 0.3640]],\n",
      "\n",
      "         [[0.8770, 0.0000],\n",
      "          [0.1507, 0.6436]],\n",
      "\n",
      "         [[0.0000, 0.7717],\n",
      "          [1.1781, 0.0000]]]], grad_fn=<ReluBackward0>) tensor([[[[0.0000, 0.0000],\n",
      "          [1.4361, 0.0817]],\n",
      "\n",
      "         [[1.4003, 0.0000],\n",
      "          [0.0000, 0.2563]],\n",
      "\n",
      "         [[1.0843, 0.0000],\n",
      "          [0.8777, 0.0000]]]], grad_fn=<ReluBackward0>) tensor([[[[0.0000, 0.0000],\n",
      "          [1.7208, 0.0000]],\n",
      "\n",
      "         [[0.0000, 1.4821],\n",
      "          [0.0000, 0.1790]],\n",
      "\n",
      "         [[1.3802, 0.4238],\n",
      "          [0.0000, 0.0000]]]], grad_fn=<ReluBackward0>)\n"
     ]
    }
   ],
   "source": [
    "# 一堆胡乱的输出\n",
    "input = Variable(torch.rand(1, 3, 4, 4))\n",
    "output1 = net1(input)\n",
    "output2 = net2(input)\n",
    "output3 = net3(input)\n",
    "output4 = net3.relu1(net1.batchnorm(net1.conv(input)))\n",
    "print(output1, output2, output3, output4)"
   ]
  },
  {
   "cell_type": "code",
   "execution_count": 193,
   "metadata": {},
   "outputs": [],
   "source": [
    "# 注意ModuleList已经被抛弃\n",
    "# modellist = nn.ModuleList([nn.Linear(3, 4), nn.ReLU(), nn.Linear(4, 2)])\n",
    "# input = Variable(torch.randn(1, 3))\n",
    "# for model in Modellist:\n",
    "#     input = model(input)\n",
    "# print(input)"
   ]
  },
  {
   "cell_type": "markdown",
   "metadata": {},
   "source": [
    "# 文本方面的应用----循环神经网络"
   ]
  },
  {
   "cell_type": "code",
   "execution_count": 1,
   "metadata": {},
   "outputs": [
    {
     "data": {
      "text/plain": [
       "<torch._C.Generator at 0x7f176cdcf3f0>"
      ]
     },
     "execution_count": 1,
     "metadata": {},
     "output_type": "execute_result"
    }
   ],
   "source": [
    "import torch\n",
    "from torch import nn\n",
    "from torch.autograd import Variable\n",
    "torch.manual_seed(1000)"
   ]
  },
  {
   "cell_type": "code",
   "execution_count": 2,
   "metadata": {},
   "outputs": [
    {
     "data": {
      "text/plain": [
       "tensor([[[-0.3610, -0.1643,  0.1631],\n",
       "         [-0.0613, -0.4937, -0.1642],\n",
       "         [ 0.5080, -0.4175,  0.2502]],\n",
       "\n",
       "        [[-0.0703, -0.0393, -0.0429],\n",
       "         [ 0.2085, -0.3005, -0.2686],\n",
       "         [ 0.1482, -0.4728,  0.1425]]], grad_fn=<StackBackward>)"
      ]
     },
     "execution_count": 2,
     "metadata": {},
     "output_type": "execute_result"
    }
   ],
   "source": [
    "# 输入: batch_size=3 序列长度为2， 序列中每个元素的维度为4\n",
    "input = Variable(torch.randn(2, 3, 4))\n",
    "\n",
    "# lstm输入向量为4维 3个隐藏单元 1层\n",
    "lstm = nn.LSTM(4, 3, 1)  \n",
    "\n",
    "# 初始状态: 1层 batch_size=3  3个隐层单元\n",
    "h0 = Variable(torch.randn(1, 3, 3))  # 初始化刚开始的隐状态\n",
    "c0 = Variable(torch.randn(1, 3, 3))  # 相当于那个记忆细胞\n",
    "out, hn = lstm(input, (h0, c0))   \n",
    "out"
   ]
  },
  {
   "cell_type": "code",
   "execution_count": 5,
   "metadata": {},
   "outputs": [
    {
     "data": {
      "text/plain": [
       "tensor([[[-0.3610, -0.1643,  0.1631],\n",
       "         [-0.0613, -0.4937, -0.1642],\n",
       "         [ 0.5080, -0.4175,  0.2502]],\n",
       "\n",
       "        [[-0.0703, -0.0393, -0.0429],\n",
       "         [ 0.2085, -0.3005, -0.2686],\n",
       "         [ 0.1482, -0.4728,  0.1425]]], grad_fn=<StackBackward>)"
      ]
     },
     "execution_count": 5,
     "metadata": {},
     "output_type": "execute_result"
    }
   ],
   "source": [
    "# 直接调用LSTMCell\n",
    "torch.manual_seed(1000)\n",
    "input = Variable(torch.randn(2, 3, 4))\n",
    "# 一个LSTMCell对应层数只能是一层\n",
    "lstm = nn.LSTMCell(4, 3)  # 输入4维  每一步的输出为3维 可能只对应我所谓的一步吧\n",
    "hx = Variable(torch.randn(3, 3))\n",
    "cx = Variable(torch.randn(3, 3))\n",
    "out = []\n",
    "for i_ in input:\n",
    "    hx, cx = lstm(i_, (hx, cx))\n",
    "    out.append(hx)\n",
    "torch.stack(out)"
   ]
  },
  {
   "cell_type": "code",
   "execution_count": 7,
   "metadata": {},
   "outputs": [
    {
     "data": {
      "text/plain": [
       "tensor([[ 1.1740, -0.0648,  0.1255, -1.2623, -0.6786],\n",
       "        [ 0.6393,  1.4930, -0.2436, -0.0592, -0.1816],\n",
       "        [-1.2177,  2.1849, -0.6962,  0.8162,  0.3831],\n",
       "        [ 0.4780,  0.0822, -0.0416,  1.3979, -0.0186]],\n",
       "       grad_fn=<EmbeddingBackward>)"
      ]
     },
     "execution_count": 7,
     "metadata": {},
     "output_type": "execute_result"
    }
   ],
   "source": [
    "# Embedding的使用\n",
    "import numpy as np\n",
    "data = np.arange(0, 4)\n",
    "data = torch.from_numpy(data)\n",
    "embedding = nn.Embedding(4, 5)   # 用4个词， 每个词用5维的向量表示\n",
    "embedding(data)"
   ]
  },
  {
   "cell_type": "code",
   "execution_count": 8,
   "metadata": {},
   "outputs": [
    {
     "data": {
      "text/plain": [
       "tensor([[15, 16, 17, 18, 19],\n",
       "        [10, 11, 12, 13, 14],\n",
       "        [ 5,  6,  7,  8,  9]], grad_fn=<EmbeddingBackward>)"
      ]
     },
     "execution_count": 8,
     "metadata": {},
     "output_type": "execute_result"
    }
   ],
   "source": [
    "# 可以用与训练好的词向量初始化embedding\n",
    "embedding = nn.Embedding(4, 5)\n",
    "embedding.weight.data = torch.arange(0, 20).view(4, 5)\n",
    "input = Variable(torch.arange(3, 0, -1)).long()\n",
    "output = embedding(input)\n",
    "output"
   ]
  },
  {
   "cell_type": "markdown",
   "metadata": {},
   "source": [
    "# 损失函数和优化器"
   ]
  },
  {
   "cell_type": "code",
   "execution_count": 16,
   "metadata": {},
   "outputs": [
    {
     "data": {
      "text/plain": [
       "tensor(0.7579)"
      ]
     },
     "execution_count": 16,
     "metadata": {},
     "output_type": "execute_result"
    }
   ],
   "source": [
    "# batch_size = 3  # 计算每个类别的分数　　(只有两个类别)\n",
    "score = Variable(torch.randn(3, 2))\n",
    "\n",
    "# 三个样本分别属于１, 0, 1类别　label必须是LongTensor\n",
    "label = Variable(torch.Tensor([1, 0, 1])).long()  # 将标签转为LongTensor类型\n",
    "\n",
    "# loss与普通的layer无差异\n",
    "criterion = nn.CrossEntropyLoss()\n",
    "loss = criterion(score, label)\n",
    "loss\n",
    "\n",
    "# 总结这不代码 我们使用CrossEntropyLoss时, 真实标签不用转为one_hot  但输出标签输出的维度还是标签的个数"
   ]
  },
  {
   "cell_type": "code",
   "execution_count": 24,
   "metadata": {},
   "outputs": [
    {
     "name": "stdout",
     "output_type": "stream",
     "text": [
      "LeNet(\n",
      "  (features): Sequential(\n",
      "    (0): Conv2d(3, 6, kernel_size=(5, 5), stride=(1, 1))\n",
      "    (1): ReLU()\n",
      "    (2): MaxPool2d(kernel_size=2, stride=2, padding=0, dilation=1, ceil_mode=False)\n",
      "    (3): Conv2d(6, 16, kernel_size=(5, 5), stride=(1, 1))\n",
      "    (4): ReLU()\n",
      "    (5): MaxPool2d(kernel_size=2, stride=2, padding=0, dilation=1, ceil_mode=False)\n",
      "  )\n",
      "  (classifier): Sequential(\n",
      "    (0): Linear(in_features=400, out_features=120, bias=True)\n",
      "    (1): ReLU()\n",
      "    (2): Linear(in_features=120, out_features=84, bias=True)\n",
      "    (3): ReLU()\n",
      "    (4): Linear(in_features=84, out_features=10, bias=True)\n",
      "  )\n",
      ")\n"
     ]
    }
   ],
   "source": [
    "# 优化器\n",
    "# pytorch将深度学习中常用的优化器全部封装在torch.optim中\n",
    "# 建立LeNet　并指定不同层的学习率\n",
    "class LeNet(nn.Module):\n",
    "    def __init__(self):\n",
    "        super(LeNet, self).__init__()\n",
    "        self.features = nn.Sequential(\n",
    "            nn.Conv2d(3, 6, 5),\n",
    "            nn.ReLU(),\n",
    "            nn.MaxPool2d(2, 2),\n",
    "            \n",
    "            nn.Conv2d(6, 16, 5),\n",
    "            nn.ReLU(),\n",
    "            nn.MaxPool2d(2, 2)\n",
    "        )\n",
    "        \n",
    "        self.classifier = nn.Sequential(\n",
    "            nn.Linear(16 * 5 * 5, 120),\n",
    "            nn.ReLU(),\n",
    "            nn.Linear(120, 84),\n",
    "            nn.ReLU(),\n",
    "            nn.Linear(84, 10)\n",
    "        )\n",
    "        \n",
    "    def forward(self, x):\n",
    "        x = self.features(x)\n",
    "        x = x.view(-1, 16 * 5 * 5)\n",
    "        X = self.classifier(x)\n",
    "        return x\n",
    "net = LeNet()\n",
    "print(net)"
   ]
  },
  {
   "cell_type": "code",
   "execution_count": 22,
   "metadata": {},
   "outputs": [],
   "source": [
    "from torch import optim\n",
    "optimizer = optim.SGD(params=net.parameters(), lr=1)  # 送进去待优化的参数和学习率\n",
    "optimizer.zero_grad()  # 梯度清零\n",
    "\n",
    "input = Variable(torch.randn(1, 3, 32, 32))\n",
    "output = net(input)\n",
    "\n",
    "# 一般这里还要加个损失函数把  不加就是扯淡\n",
    "\n",
    "output.backward(output)\n",
    "\n",
    "optimizer.step()   # 执行优化"
   ]
  },
  {
   "cell_type": "code",
   "execution_count": 23,
   "metadata": {},
   "outputs": [],
   "source": [
    "# 为不同的子网络设置不同的学习率，　在finetune中经常用到\n",
    "# 如果对某个参数不指定学习率,就是用的是默认的学习率\n",
    "optimizer = optim.SGD([\n",
    "    {'params': net.features.parameters()},   # 使用的是全局的学习率(默认)  1e-5   \n",
    "    {'params': net.classifier.parameters(), 'lr': 1e-2}    # 使用指定的学习率 1e-2\n",
    "], lr=1e-5)"
   ]
  },
  {
   "cell_type": "code",
   "execution_count": 26,
   "metadata": {},
   "outputs": [],
   "source": [
    "# 只为两个全连接层设置较大的学习率  其他层学习率较小\n",
    "special_layers = nn.ModuleList([net.classifier[0], net.classifier[2]])  # 取出那两个全连接层\n",
    "special_layers_params = list(map(id, special_layers.parameters()))\n",
    "base_params = filter(lambda p: id(p) not in special_layers_params, net.parameters())\n",
    "\n",
    "optimizer = optim.SGD([\n",
    "    {'params': base_params},\n",
    "    {'params': special_layers.parameters(), 'lr': 0.01}\n",
    "], lr=0.001)"
   ]
  },
  {
   "cell_type": "markdown",
   "metadata": {},
   "source": [
    "nn中还有一个模块 functional。  nn中的大多数layer在functional中都有对应一个与之相对应的函数。 nn.functional中的函数和nn.Module的主要区别在于，用nn.Module实现的layers是一个特殊的类,都是有class Layer(nn.Module)定义, 会自动提取可学习的参数, 而nn.functional中的函数更像是纯函数，有def function(input)定义。。"
   ]
  },
  {
   "cell_type": "code",
   "execution_count": 36,
   "metadata": {},
   "outputs": [
    {
     "name": "stdout",
     "output_type": "stream",
     "text": [
      "tensor([[ 0.3978,  0.4246,  0.7730, -0.0808],\n",
      "        [ 0.1345,  0.2062,  0.4431, -0.1556]], grad_fn=<AddmmBackward>)\n",
      "tensor([[ 0.3978,  0.4246,  0.7730, -0.0808],\n",
      "        [ 0.1345,  0.2062,  0.4431, -0.1556]], grad_fn=<AddmmBackward>)\n"
     ]
    }
   ],
   "source": [
    "# 自己对functional的理解: 其实functional也可以实现卷积 全连接　只是要自动手动创建可学习的参数　使用autograd.Variable()去创建\n",
    "from torch.autograd import Variable\n",
    "input = Variable(torch.randn(2, 3))\n",
    "model = nn.Linear(3, 4)\n",
    "output1 = model(input)\n",
    "output2 = nn.functional.linear(input, model.weight, model.bias)  # 这里的weight, bias 可以用nn.Parameter去定义　可以用Variable定义 requires_grad=True即可\n",
    "print(output1)\n",
    "print(output2)"
   ]
  },
  {
   "cell_type": "code",
   "execution_count": 37,
   "metadata": {},
   "outputs": [
    {
     "name": "stdout",
     "output_type": "stream",
     "text": [
      "tensor([[0.4330, 0.7519, 0.2971],\n",
      "        [0.0000, 1.0769, 0.3052]])\n",
      "tensor([[0.4330, 0.7519, 0.2971],\n",
      "        [0.0000, 1.0769, 0.3052]])\n"
     ]
    }
   ],
   "source": [
    "b1 = nn.ReLU()(input)\n",
    "b2 = nn.functional.relu(input)\n",
    "print(b1)\n",
    "print(b2)"
   ]
  },
  {
   "cell_type": "code",
   "execution_count": 38,
   "metadata": {},
   "outputs": [],
   "source": [
    "# 使用nn.Module和nn.functional建立一个网络\n",
    "# 不具备可学习参数的层(激活， 池化等) 将他们用函数代替,这样可以不用放置在构造函数__init__()中\n",
    "from torch.nn import functional as F\n",
    "class Net(nn.Module):\n",
    "    def __init__(self):\n",
    "        super(Net, self).__init__()\n",
    "        self.conv1 = nn.Conv2d(3, 6, 5)\n",
    "        self.conv2 = nn.Conv2d(6, 16, 5)\n",
    "        \n",
    "        self.fc1 = nn.Linear(16 * 5 * 5, 120)\n",
    "        self.fc2 = nn.Linear(120, 84)\n",
    "        self.fc3 = nn.Linear(84, 10)\n",
    "    \n",
    "    def forward(self, x):\n",
    "        x = F.pool(F.relu(self.conv1(x)), 2)\n",
    "        x = F.pool(F.relu(self.conv2(x)), 2)\n",
    "        x = x.view(-1, 16 * 5 * 5)\n",
    "        x = F.relu(self.fc1(x))\n",
    "        x = F.relu(self.fc2(x))\n",
    "        x = self.f3(x)\n",
    "        return x"
   ]
  },
  {
   "cell_type": "code",
   "execution_count": 39,
   "metadata": {},
   "outputs": [],
   "source": [
    "#　我们也可以纯用functional去构建网络\n",
    "class MyLinear(nn.Module):\n",
    "    def __init__(self):\n",
    "        super(MyLinear, self).__init__()\n",
    "        self.weight = nn.Parameter(torch.randn(3, 4))\n",
    "        self.bias = nn.Parameter(torch.zeros(3))\n",
    "    def forward(self):\n",
    "        return F.linear(input, weight, bias)"
   ]
  },
  {
   "cell_type": "markdown",
   "metadata": {},
   "source": [
    "初始化策略"
   ]
  },
  {
   "cell_type": "code",
   "execution_count": 44,
   "metadata": {},
   "outputs": [
    {
     "name": "stderr",
     "output_type": "stream",
     "text": [
      "/home/shawroad/anaconda3/lib/python3.6/site-packages/ipykernel_launcher.py:7: UserWarning: nn.init.xavier_normal is now deprecated in favor of nn.init.xavier_normal_.\n",
      "  import sys\n"
     ]
    },
    {
     "data": {
      "text/plain": [
       "Parameter containing:\n",
       "tensor([[ 0.3535,  0.1427,  0.0330],\n",
       "        [ 0.3321, -0.2416, -0.0888],\n",
       "        [-0.8140,  0.2040, -0.5493],\n",
       "        [-0.3010, -0.4769, -0.0311]], requires_grad=True)"
      ]
     },
     "execution_count": 44,
     "metadata": {},
     "output_type": "execute_result"
    }
   ],
   "source": [
    "# 利用nn.init初始化\n",
    "from torch.nn import init\n",
    "linear = nn.Linear(3, 4)\n",
    "\n",
    "torch.manual_seed(1)\n",
    "# 等价于linear.weight.data.normal_(0, std)\n",
    "init.xavier_normal(linear.weight)  # 初始化全连接的权重"
   ]
  },
  {
   "cell_type": "code",
   "execution_count": 45,
   "metadata": {},
   "outputs": [
    {
     "data": {
      "text/plain": [
       "tensor([[ 0.3535,  0.1427,  0.0330],\n",
       "        [ 0.3321, -0.2416, -0.0888],\n",
       "        [-0.8140,  0.2040, -0.5493],\n",
       "        [-0.3010, -0.4769, -0.0311]])"
      ]
     },
     "execution_count": 45,
     "metadata": {},
     "output_type": "execute_result"
    }
   ],
   "source": [
    "# 我们直接初始化\n",
    "import math\n",
    "torch.manual_seed(1)\n",
    "\n",
    "#linear = nn.Linear(3, 4)\n",
    "# xavier_normal初始化的公式\n",
    "std = math.sqrt(2) / math.sqrt(7.)\n",
    "linear.weight.data.normal_(0, std)"
   ]
  },
  {
   "cell_type": "code",
   "execution_count": 46,
   "metadata": {},
   "outputs": [],
   "source": [
    "# 对模型的所有参数进行初始化\n",
    "for name, params in net.named_parameters():\n",
    "    if name.find('linear') != -1:\n",
    "        # init linear\n",
    "        params[0]   # weight\n",
    "        params[1]   # bias\n",
    "    elif name.find('conv') != -1:\n",
    "        pass\n",
    "    elif name.find('norm') != -1:\n",
    "        pass"
   ]
  },
  {
   "cell_type": "code",
   "execution_count": 49,
   "metadata": {
    "collapsed": true
   },
   "outputs": [
    {
     "ename": "RuntimeError",
     "evalue": "Error(s) in loading state_dict for Net:\n\tMissing key(s) in state_dict: \"conv1.weight\", \"conv1.bias\", \"conv2.weight\", \"conv2.bias\", \"fc1.weight\", \"fc1.bias\", \"fc2.weight\", \"fc2.bias\", \"fc3.weight\", \"fc3.bias\". \n\tUnexpected key(s) in state_dict: \"features.0.weight\", \"features.0.bias\", \"features.3.weight\", \"features.3.bias\", \"classifier.0.weight\", \"classifier.0.bias\", \"classifier.2.weight\", \"classifier.2.bias\", \"classifier.4.weight\", \"classifier.4.bias\". ",
     "output_type": "error",
     "traceback": [
      "\u001b[0;31m---------------------------------------------------------------------------\u001b[0m",
      "\u001b[0;31mRuntimeError\u001b[0m                              Traceback (most recent call last)",
      "\u001b[0;32m<ipython-input-49-26e20c110d21>\u001b[0m in \u001b[0;36m<module>\u001b[0;34m()\u001b[0m\n\u001b[1;32m      4\u001b[0m \u001b[0;31m# 加载模型\u001b[0m\u001b[0;34m\u001b[0m\u001b[0;34m\u001b[0m\u001b[0m\n\u001b[1;32m      5\u001b[0m \u001b[0mnet2\u001b[0m \u001b[0;34m=\u001b[0m \u001b[0mNet\u001b[0m\u001b[0;34m(\u001b[0m\u001b[0;34m)\u001b[0m\u001b[0;34m\u001b[0m\u001b[0m\n\u001b[0;32m----> 6\u001b[0;31m \u001b[0mnet2\u001b[0m\u001b[0;34m.\u001b[0m\u001b[0mload_state_dict\u001b[0m\u001b[0;34m(\u001b[0m\u001b[0mtorch\u001b[0m\u001b[0;34m.\u001b[0m\u001b[0mload\u001b[0m\u001b[0;34m(\u001b[0m\u001b[0;34m\"net.pth\"\u001b[0m\u001b[0;34m)\u001b[0m\u001b[0;34m)\u001b[0m\u001b[0;34m\u001b[0m\u001b[0m\n\u001b[0m",
      "\u001b[0;32m~/anaconda3/lib/python3.6/site-packages/torch/nn/modules/module.py\u001b[0m in \u001b[0;36mload_state_dict\u001b[0;34m(self, state_dict, strict)\u001b[0m\n\u001b[1;32m    843\u001b[0m         \u001b[0;32mif\u001b[0m \u001b[0mlen\u001b[0m\u001b[0;34m(\u001b[0m\u001b[0merror_msgs\u001b[0m\u001b[0;34m)\u001b[0m \u001b[0;34m>\u001b[0m \u001b[0;36m0\u001b[0m\u001b[0;34m:\u001b[0m\u001b[0;34m\u001b[0m\u001b[0m\n\u001b[1;32m    844\u001b[0m             raise RuntimeError('Error(s) in loading state_dict for {}:\\n\\t{}'.format(\n\u001b[0;32m--> 845\u001b[0;31m                                self.__class__.__name__, \"\\n\\t\".join(error_msgs)))\n\u001b[0m\u001b[1;32m    846\u001b[0m         \u001b[0;32mreturn\u001b[0m \u001b[0m_IncompatibleKeys\u001b[0m\u001b[0;34m(\u001b[0m\u001b[0mmissing_keys\u001b[0m\u001b[0;34m,\u001b[0m \u001b[0munexpected_keys\u001b[0m\u001b[0;34m)\u001b[0m\u001b[0;34m\u001b[0m\u001b[0m\n\u001b[1;32m    847\u001b[0m \u001b[0;34m\u001b[0m\u001b[0m\n",
      "\u001b[0;31mRuntimeError\u001b[0m: Error(s) in loading state_dict for Net:\n\tMissing key(s) in state_dict: \"conv1.weight\", \"conv1.bias\", \"conv2.weight\", \"conv2.bias\", \"fc1.weight\", \"fc1.bias\", \"fc2.weight\", \"fc2.bias\", \"fc3.weight\", \"fc3.bias\". \n\tUnexpected key(s) in state_dict: \"features.0.weight\", \"features.0.bias\", \"features.3.weight\", \"features.3.bias\", \"classifier.0.weight\", \"classifier.0.bias\", \"classifier.2.weight\", \"classifier.2.bias\", \"classifier.4.weight\", \"classifier.4.bias\". "
     ]
    }
   ],
   "source": [
    "# 保存模型\n",
    "torch.save(net.state_dict(), 'net.pth')\n",
    "\n",
    "# 加载模型\n",
    "net2 = Net()\n",
    "net2.load_state_dict(torch.load(\"net.pth\"))"
   ]
  },
  {
   "cell_type": "code",
   "execution_count": 48,
   "metadata": {},
   "outputs": [
    {
     "name": "stderr",
     "output_type": "stream",
     "text": [
      "/home/shawroad/anaconda3/lib/python3.6/site-packages/torch/serialization.py:256: UserWarning: Couldn't retrieve source code for container of type LeNet. It won't be checked for correctness upon loading.\n",
      "  \"type \" + obj.__name__ + \". It won't be checked \"\n"
     ]
    },
    {
     "data": {
      "text/plain": [
       "LeNet(\n",
       "  (features): Sequential(\n",
       "    (0): Conv2d(3, 6, kernel_size=(5, 5), stride=(1, 1))\n",
       "    (1): ReLU()\n",
       "    (2): MaxPool2d(kernel_size=2, stride=2, padding=0, dilation=1, ceil_mode=False)\n",
       "    (3): Conv2d(6, 16, kernel_size=(5, 5), stride=(1, 1))\n",
       "    (4): ReLU()\n",
       "    (5): MaxPool2d(kernel_size=2, stride=2, padding=0, dilation=1, ceil_mode=False)\n",
       "  )\n",
       "  (classifier): Sequential(\n",
       "    (0): Linear(in_features=400, out_features=120, bias=True)\n",
       "    (1): ReLU()\n",
       "    (2): Linear(in_features=120, out_features=84, bias=True)\n",
       "    (3): ReLU()\n",
       "    (4): Linear(in_features=84, out_features=10, bias=True)\n",
       "  )\n",
       ")"
      ]
     },
     "execution_count": 48,
     "metadata": {},
     "output_type": "execute_result"
    }
   ],
   "source": [
    "# 另外一种保存模型\n",
    "# 保存模型\n",
    "torch.save(net, 'net_all.pth')\n",
    "\n",
    "# 加载模型\n",
    "net2 = torch.load('net_all.pth')\n",
    "net2"
   ]
  },
  {
   "cell_type": "code",
   "execution_count": 50,
   "metadata": {
    "collapsed": true
   },
   "outputs": [
    {
     "ename": "RuntimeError",
     "evalue": "Expected 4-dimensional input for 4-dimensional weight 6 3, but got 2-dimensional input of size [2, 3] instead",
     "output_type": "error",
     "traceback": [
      "\u001b[0;31m---------------------------------------------------------------------------\u001b[0m",
      "\u001b[0;31mRuntimeError\u001b[0m                              Traceback (most recent call last)",
      "\u001b[0;32m<ipython-input-50-22d3285452bf>\u001b[0m in \u001b[0;36m<module>\u001b[0;34m()\u001b[0m\n\u001b[1;32m      2\u001b[0m \u001b[0;31m# method1\u001b[0m\u001b[0;34m\u001b[0m\u001b[0;34m\u001b[0m\u001b[0m\n\u001b[1;32m      3\u001b[0m \u001b[0mnew_net\u001b[0m \u001b[0;34m=\u001b[0m \u001b[0mnn\u001b[0m\u001b[0;34m.\u001b[0m\u001b[0mDataParallel\u001b[0m\u001b[0;34m(\u001b[0m\u001b[0mnet\u001b[0m\u001b[0;34m,\u001b[0m \u001b[0mdevice_ids\u001b[0m\u001b[0;34m=\u001b[0m\u001b[0;34m[\u001b[0m\u001b[0;36m0\u001b[0m\u001b[0;34m,\u001b[0m \u001b[0;36m1\u001b[0m\u001b[0;34m]\u001b[0m\u001b[0;34m)\u001b[0m  \u001b[0;31m# 使用0号和1号GPU\u001b[0m\u001b[0;34m\u001b[0m\u001b[0m\n\u001b[0;32m----> 4\u001b[0;31m \u001b[0moutput\u001b[0m \u001b[0;34m=\u001b[0m \u001b[0mnew_net\u001b[0m\u001b[0;34m(\u001b[0m\u001b[0minput\u001b[0m\u001b[0;34m)\u001b[0m\u001b[0;34m\u001b[0m\u001b[0m\n\u001b[0m\u001b[1;32m      5\u001b[0m \u001b[0;34m\u001b[0m\u001b[0m\n\u001b[1;32m      6\u001b[0m \u001b[0;31m# method2\u001b[0m\u001b[0;34m\u001b[0m\u001b[0;34m\u001b[0m\u001b[0m\n",
      "\u001b[0;32m~/anaconda3/lib/python3.6/site-packages/torch/nn/modules/module.py\u001b[0m in \u001b[0;36m__call__\u001b[0;34m(self, *input, **kwargs)\u001b[0m\n\u001b[1;32m    545\u001b[0m             \u001b[0mresult\u001b[0m \u001b[0;34m=\u001b[0m \u001b[0mself\u001b[0m\u001b[0;34m.\u001b[0m\u001b[0m_slow_forward\u001b[0m\u001b[0;34m(\u001b[0m\u001b[0;34m*\u001b[0m\u001b[0minput\u001b[0m\u001b[0;34m,\u001b[0m \u001b[0;34m**\u001b[0m\u001b[0mkwargs\u001b[0m\u001b[0;34m)\u001b[0m\u001b[0;34m\u001b[0m\u001b[0m\n\u001b[1;32m    546\u001b[0m         \u001b[0;32melse\u001b[0m\u001b[0;34m:\u001b[0m\u001b[0;34m\u001b[0m\u001b[0m\n\u001b[0;32m--> 547\u001b[0;31m             \u001b[0mresult\u001b[0m \u001b[0;34m=\u001b[0m \u001b[0mself\u001b[0m\u001b[0;34m.\u001b[0m\u001b[0mforward\u001b[0m\u001b[0;34m(\u001b[0m\u001b[0;34m*\u001b[0m\u001b[0minput\u001b[0m\u001b[0;34m,\u001b[0m \u001b[0;34m**\u001b[0m\u001b[0mkwargs\u001b[0m\u001b[0;34m)\u001b[0m\u001b[0;34m\u001b[0m\u001b[0m\n\u001b[0m\u001b[1;32m    548\u001b[0m         \u001b[0;32mfor\u001b[0m \u001b[0mhook\u001b[0m \u001b[0;32min\u001b[0m \u001b[0mself\u001b[0m\u001b[0;34m.\u001b[0m\u001b[0m_forward_hooks\u001b[0m\u001b[0;34m.\u001b[0m\u001b[0mvalues\u001b[0m\u001b[0;34m(\u001b[0m\u001b[0;34m)\u001b[0m\u001b[0;34m:\u001b[0m\u001b[0;34m\u001b[0m\u001b[0m\n\u001b[1;32m    549\u001b[0m             \u001b[0mhook_result\u001b[0m \u001b[0;34m=\u001b[0m \u001b[0mhook\u001b[0m\u001b[0;34m(\u001b[0m\u001b[0mself\u001b[0m\u001b[0;34m,\u001b[0m \u001b[0minput\u001b[0m\u001b[0;34m,\u001b[0m \u001b[0mresult\u001b[0m\u001b[0;34m)\u001b[0m\u001b[0;34m\u001b[0m\u001b[0m\n",
      "\u001b[0;32m~/anaconda3/lib/python3.6/site-packages/torch/nn/parallel/data_parallel.py\u001b[0m in \u001b[0;36mforward\u001b[0;34m(self, *inputs, **kwargs)\u001b[0m\n\u001b[1;32m    138\u001b[0m     \u001b[0;32mdef\u001b[0m \u001b[0mforward\u001b[0m\u001b[0;34m(\u001b[0m\u001b[0mself\u001b[0m\u001b[0;34m,\u001b[0m \u001b[0;34m*\u001b[0m\u001b[0minputs\u001b[0m\u001b[0;34m,\u001b[0m \u001b[0;34m**\u001b[0m\u001b[0mkwargs\u001b[0m\u001b[0;34m)\u001b[0m\u001b[0;34m:\u001b[0m\u001b[0;34m\u001b[0m\u001b[0m\n\u001b[1;32m    139\u001b[0m         \u001b[0;32mif\u001b[0m \u001b[0;32mnot\u001b[0m \u001b[0mself\u001b[0m\u001b[0;34m.\u001b[0m\u001b[0mdevice_ids\u001b[0m\u001b[0;34m:\u001b[0m\u001b[0;34m\u001b[0m\u001b[0m\n\u001b[0;32m--> 140\u001b[0;31m             \u001b[0;32mreturn\u001b[0m \u001b[0mself\u001b[0m\u001b[0;34m.\u001b[0m\u001b[0mmodule\u001b[0m\u001b[0;34m(\u001b[0m\u001b[0;34m*\u001b[0m\u001b[0minputs\u001b[0m\u001b[0;34m,\u001b[0m \u001b[0;34m**\u001b[0m\u001b[0mkwargs\u001b[0m\u001b[0;34m)\u001b[0m\u001b[0;34m\u001b[0m\u001b[0m\n\u001b[0m\u001b[1;32m    141\u001b[0m \u001b[0;34m\u001b[0m\u001b[0m\n\u001b[1;32m    142\u001b[0m         \u001b[0;32mfor\u001b[0m \u001b[0mt\u001b[0m \u001b[0;32min\u001b[0m \u001b[0mchain\u001b[0m\u001b[0;34m(\u001b[0m\u001b[0mself\u001b[0m\u001b[0;34m.\u001b[0m\u001b[0mmodule\u001b[0m\u001b[0;34m.\u001b[0m\u001b[0mparameters\u001b[0m\u001b[0;34m(\u001b[0m\u001b[0;34m)\u001b[0m\u001b[0;34m,\u001b[0m \u001b[0mself\u001b[0m\u001b[0;34m.\u001b[0m\u001b[0mmodule\u001b[0m\u001b[0;34m.\u001b[0m\u001b[0mbuffers\u001b[0m\u001b[0;34m(\u001b[0m\u001b[0;34m)\u001b[0m\u001b[0;34m)\u001b[0m\u001b[0;34m:\u001b[0m\u001b[0;34m\u001b[0m\u001b[0m\n",
      "\u001b[0;32m~/anaconda3/lib/python3.6/site-packages/torch/nn/modules/module.py\u001b[0m in \u001b[0;36m__call__\u001b[0;34m(self, *input, **kwargs)\u001b[0m\n\u001b[1;32m    545\u001b[0m             \u001b[0mresult\u001b[0m \u001b[0;34m=\u001b[0m \u001b[0mself\u001b[0m\u001b[0;34m.\u001b[0m\u001b[0m_slow_forward\u001b[0m\u001b[0;34m(\u001b[0m\u001b[0;34m*\u001b[0m\u001b[0minput\u001b[0m\u001b[0;34m,\u001b[0m \u001b[0;34m**\u001b[0m\u001b[0mkwargs\u001b[0m\u001b[0;34m)\u001b[0m\u001b[0;34m\u001b[0m\u001b[0m\n\u001b[1;32m    546\u001b[0m         \u001b[0;32melse\u001b[0m\u001b[0;34m:\u001b[0m\u001b[0;34m\u001b[0m\u001b[0m\n\u001b[0;32m--> 547\u001b[0;31m             \u001b[0mresult\u001b[0m \u001b[0;34m=\u001b[0m \u001b[0mself\u001b[0m\u001b[0;34m.\u001b[0m\u001b[0mforward\u001b[0m\u001b[0;34m(\u001b[0m\u001b[0;34m*\u001b[0m\u001b[0minput\u001b[0m\u001b[0;34m,\u001b[0m \u001b[0;34m**\u001b[0m\u001b[0mkwargs\u001b[0m\u001b[0;34m)\u001b[0m\u001b[0;34m\u001b[0m\u001b[0m\n\u001b[0m\u001b[1;32m    548\u001b[0m         \u001b[0;32mfor\u001b[0m \u001b[0mhook\u001b[0m \u001b[0;32min\u001b[0m \u001b[0mself\u001b[0m\u001b[0;34m.\u001b[0m\u001b[0m_forward_hooks\u001b[0m\u001b[0;34m.\u001b[0m\u001b[0mvalues\u001b[0m\u001b[0;34m(\u001b[0m\u001b[0;34m)\u001b[0m\u001b[0;34m:\u001b[0m\u001b[0;34m\u001b[0m\u001b[0m\n\u001b[1;32m    549\u001b[0m             \u001b[0mhook_result\u001b[0m \u001b[0;34m=\u001b[0m \u001b[0mhook\u001b[0m\u001b[0;34m(\u001b[0m\u001b[0mself\u001b[0m\u001b[0;34m,\u001b[0m \u001b[0minput\u001b[0m\u001b[0;34m,\u001b[0m \u001b[0mresult\u001b[0m\u001b[0;34m)\u001b[0m\u001b[0;34m\u001b[0m\u001b[0m\n",
      "\u001b[0;32m<ipython-input-24-9dc93562497c>\u001b[0m in \u001b[0;36mforward\u001b[0;34m(self, x)\u001b[0m\n\u001b[1;32m     24\u001b[0m \u001b[0;34m\u001b[0m\u001b[0m\n\u001b[1;32m     25\u001b[0m     \u001b[0;32mdef\u001b[0m \u001b[0mforward\u001b[0m\u001b[0;34m(\u001b[0m\u001b[0mself\u001b[0m\u001b[0;34m,\u001b[0m \u001b[0mx\u001b[0m\u001b[0;34m)\u001b[0m\u001b[0;34m:\u001b[0m\u001b[0;34m\u001b[0m\u001b[0m\n\u001b[0;32m---> 26\u001b[0;31m         \u001b[0mx\u001b[0m \u001b[0;34m=\u001b[0m \u001b[0mself\u001b[0m\u001b[0;34m.\u001b[0m\u001b[0mfeatures\u001b[0m\u001b[0;34m(\u001b[0m\u001b[0mx\u001b[0m\u001b[0;34m)\u001b[0m\u001b[0;34m\u001b[0m\u001b[0m\n\u001b[0m\u001b[1;32m     27\u001b[0m         \u001b[0mx\u001b[0m \u001b[0;34m=\u001b[0m \u001b[0mx\u001b[0m\u001b[0;34m.\u001b[0m\u001b[0mview\u001b[0m\u001b[0;34m(\u001b[0m\u001b[0;34m-\u001b[0m\u001b[0;36m1\u001b[0m\u001b[0;34m,\u001b[0m \u001b[0;36m16\u001b[0m \u001b[0;34m*\u001b[0m \u001b[0;36m5\u001b[0m \u001b[0;34m*\u001b[0m \u001b[0;36m5\u001b[0m\u001b[0;34m)\u001b[0m\u001b[0;34m\u001b[0m\u001b[0m\n\u001b[1;32m     28\u001b[0m         \u001b[0mX\u001b[0m \u001b[0;34m=\u001b[0m \u001b[0mself\u001b[0m\u001b[0;34m.\u001b[0m\u001b[0mclassifier\u001b[0m\u001b[0;34m(\u001b[0m\u001b[0mx\u001b[0m\u001b[0;34m)\u001b[0m\u001b[0;34m\u001b[0m\u001b[0m\n",
      "\u001b[0;32m~/anaconda3/lib/python3.6/site-packages/torch/nn/modules/module.py\u001b[0m in \u001b[0;36m__call__\u001b[0;34m(self, *input, **kwargs)\u001b[0m\n\u001b[1;32m    545\u001b[0m             \u001b[0mresult\u001b[0m \u001b[0;34m=\u001b[0m \u001b[0mself\u001b[0m\u001b[0;34m.\u001b[0m\u001b[0m_slow_forward\u001b[0m\u001b[0;34m(\u001b[0m\u001b[0;34m*\u001b[0m\u001b[0minput\u001b[0m\u001b[0;34m,\u001b[0m \u001b[0;34m**\u001b[0m\u001b[0mkwargs\u001b[0m\u001b[0;34m)\u001b[0m\u001b[0;34m\u001b[0m\u001b[0m\n\u001b[1;32m    546\u001b[0m         \u001b[0;32melse\u001b[0m\u001b[0;34m:\u001b[0m\u001b[0;34m\u001b[0m\u001b[0m\n\u001b[0;32m--> 547\u001b[0;31m             \u001b[0mresult\u001b[0m \u001b[0;34m=\u001b[0m \u001b[0mself\u001b[0m\u001b[0;34m.\u001b[0m\u001b[0mforward\u001b[0m\u001b[0;34m(\u001b[0m\u001b[0;34m*\u001b[0m\u001b[0minput\u001b[0m\u001b[0;34m,\u001b[0m \u001b[0;34m**\u001b[0m\u001b[0mkwargs\u001b[0m\u001b[0;34m)\u001b[0m\u001b[0;34m\u001b[0m\u001b[0m\n\u001b[0m\u001b[1;32m    548\u001b[0m         \u001b[0;32mfor\u001b[0m \u001b[0mhook\u001b[0m \u001b[0;32min\u001b[0m \u001b[0mself\u001b[0m\u001b[0;34m.\u001b[0m\u001b[0m_forward_hooks\u001b[0m\u001b[0;34m.\u001b[0m\u001b[0mvalues\u001b[0m\u001b[0;34m(\u001b[0m\u001b[0;34m)\u001b[0m\u001b[0;34m:\u001b[0m\u001b[0;34m\u001b[0m\u001b[0m\n\u001b[1;32m    549\u001b[0m             \u001b[0mhook_result\u001b[0m \u001b[0;34m=\u001b[0m \u001b[0mhook\u001b[0m\u001b[0;34m(\u001b[0m\u001b[0mself\u001b[0m\u001b[0;34m,\u001b[0m \u001b[0minput\u001b[0m\u001b[0;34m,\u001b[0m \u001b[0mresult\u001b[0m\u001b[0;34m)\u001b[0m\u001b[0;34m\u001b[0m\u001b[0m\n",
      "\u001b[0;32m~/anaconda3/lib/python3.6/site-packages/torch/nn/modules/container.py\u001b[0m in \u001b[0;36mforward\u001b[0;34m(self, input)\u001b[0m\n\u001b[1;32m     90\u001b[0m     \u001b[0;32mdef\u001b[0m \u001b[0mforward\u001b[0m\u001b[0;34m(\u001b[0m\u001b[0mself\u001b[0m\u001b[0;34m,\u001b[0m \u001b[0minput\u001b[0m\u001b[0;34m)\u001b[0m\u001b[0;34m:\u001b[0m\u001b[0;34m\u001b[0m\u001b[0m\n\u001b[1;32m     91\u001b[0m         \u001b[0;32mfor\u001b[0m \u001b[0mmodule\u001b[0m \u001b[0;32min\u001b[0m \u001b[0mself\u001b[0m\u001b[0;34m.\u001b[0m\u001b[0m_modules\u001b[0m\u001b[0;34m.\u001b[0m\u001b[0mvalues\u001b[0m\u001b[0;34m(\u001b[0m\u001b[0;34m)\u001b[0m\u001b[0;34m:\u001b[0m\u001b[0;34m\u001b[0m\u001b[0m\n\u001b[0;32m---> 92\u001b[0;31m             \u001b[0minput\u001b[0m \u001b[0;34m=\u001b[0m \u001b[0mmodule\u001b[0m\u001b[0;34m(\u001b[0m\u001b[0minput\u001b[0m\u001b[0;34m)\u001b[0m\u001b[0;34m\u001b[0m\u001b[0m\n\u001b[0m\u001b[1;32m     93\u001b[0m         \u001b[0;32mreturn\u001b[0m \u001b[0minput\u001b[0m\u001b[0;34m\u001b[0m\u001b[0m\n\u001b[1;32m     94\u001b[0m \u001b[0;34m\u001b[0m\u001b[0m\n",
      "\u001b[0;32m~/anaconda3/lib/python3.6/site-packages/torch/nn/modules/module.py\u001b[0m in \u001b[0;36m__call__\u001b[0;34m(self, *input, **kwargs)\u001b[0m\n\u001b[1;32m    545\u001b[0m             \u001b[0mresult\u001b[0m \u001b[0;34m=\u001b[0m \u001b[0mself\u001b[0m\u001b[0;34m.\u001b[0m\u001b[0m_slow_forward\u001b[0m\u001b[0;34m(\u001b[0m\u001b[0;34m*\u001b[0m\u001b[0minput\u001b[0m\u001b[0;34m,\u001b[0m \u001b[0;34m**\u001b[0m\u001b[0mkwargs\u001b[0m\u001b[0;34m)\u001b[0m\u001b[0;34m\u001b[0m\u001b[0m\n\u001b[1;32m    546\u001b[0m         \u001b[0;32melse\u001b[0m\u001b[0;34m:\u001b[0m\u001b[0;34m\u001b[0m\u001b[0m\n\u001b[0;32m--> 547\u001b[0;31m             \u001b[0mresult\u001b[0m \u001b[0;34m=\u001b[0m \u001b[0mself\u001b[0m\u001b[0;34m.\u001b[0m\u001b[0mforward\u001b[0m\u001b[0;34m(\u001b[0m\u001b[0;34m*\u001b[0m\u001b[0minput\u001b[0m\u001b[0;34m,\u001b[0m \u001b[0;34m**\u001b[0m\u001b[0mkwargs\u001b[0m\u001b[0;34m)\u001b[0m\u001b[0;34m\u001b[0m\u001b[0m\n\u001b[0m\u001b[1;32m    548\u001b[0m         \u001b[0;32mfor\u001b[0m \u001b[0mhook\u001b[0m \u001b[0;32min\u001b[0m \u001b[0mself\u001b[0m\u001b[0;34m.\u001b[0m\u001b[0m_forward_hooks\u001b[0m\u001b[0;34m.\u001b[0m\u001b[0mvalues\u001b[0m\u001b[0;34m(\u001b[0m\u001b[0;34m)\u001b[0m\u001b[0;34m:\u001b[0m\u001b[0;34m\u001b[0m\u001b[0m\n\u001b[1;32m    549\u001b[0m             \u001b[0mhook_result\u001b[0m \u001b[0;34m=\u001b[0m \u001b[0mhook\u001b[0m\u001b[0;34m(\u001b[0m\u001b[0mself\u001b[0m\u001b[0;34m,\u001b[0m \u001b[0minput\u001b[0m\u001b[0;34m,\u001b[0m \u001b[0mresult\u001b[0m\u001b[0;34m)\u001b[0m\u001b[0;34m\u001b[0m\u001b[0m\n",
      "\u001b[0;32m~/anaconda3/lib/python3.6/site-packages/torch/nn/modules/conv.py\u001b[0m in \u001b[0;36mforward\u001b[0;34m(self, input)\u001b[0m\n\u001b[1;32m    341\u001b[0m \u001b[0;34m\u001b[0m\u001b[0m\n\u001b[1;32m    342\u001b[0m     \u001b[0;32mdef\u001b[0m \u001b[0mforward\u001b[0m\u001b[0;34m(\u001b[0m\u001b[0mself\u001b[0m\u001b[0;34m,\u001b[0m \u001b[0minput\u001b[0m\u001b[0;34m)\u001b[0m\u001b[0;34m:\u001b[0m\u001b[0;34m\u001b[0m\u001b[0m\n\u001b[0;32m--> 343\u001b[0;31m         \u001b[0;32mreturn\u001b[0m \u001b[0mself\u001b[0m\u001b[0;34m.\u001b[0m\u001b[0mconv2d_forward\u001b[0m\u001b[0;34m(\u001b[0m\u001b[0minput\u001b[0m\u001b[0;34m,\u001b[0m \u001b[0mself\u001b[0m\u001b[0;34m.\u001b[0m\u001b[0mweight\u001b[0m\u001b[0;34m)\u001b[0m\u001b[0;34m\u001b[0m\u001b[0m\n\u001b[0m\u001b[1;32m    344\u001b[0m \u001b[0;34m\u001b[0m\u001b[0m\n\u001b[1;32m    345\u001b[0m \u001b[0;32mclass\u001b[0m \u001b[0mConv3d\u001b[0m\u001b[0;34m(\u001b[0m\u001b[0m_ConvNd\u001b[0m\u001b[0;34m)\u001b[0m\u001b[0;34m:\u001b[0m\u001b[0;34m\u001b[0m\u001b[0m\n",
      "\u001b[0;32m~/anaconda3/lib/python3.6/site-packages/torch/nn/modules/conv.py\u001b[0m in \u001b[0;36mconv2d_forward\u001b[0;34m(self, input, weight)\u001b[0m\n\u001b[1;32m    338\u001b[0m                             _pair(0), self.dilation, self.groups)\n\u001b[1;32m    339\u001b[0m         return F.conv2d(input, weight, self.bias, self.stride,\n\u001b[0;32m--> 340\u001b[0;31m                         self.padding, self.dilation, self.groups)\n\u001b[0m\u001b[1;32m    341\u001b[0m \u001b[0;34m\u001b[0m\u001b[0m\n\u001b[1;32m    342\u001b[0m     \u001b[0;32mdef\u001b[0m \u001b[0mforward\u001b[0m\u001b[0;34m(\u001b[0m\u001b[0mself\u001b[0m\u001b[0;34m,\u001b[0m \u001b[0minput\u001b[0m\u001b[0;34m)\u001b[0m\u001b[0;34m:\u001b[0m\u001b[0;34m\u001b[0m\u001b[0m\n",
      "\u001b[0;31mRuntimeError\u001b[0m: Expected 4-dimensional input for 4-dimensional weight 6 3, but got 2-dimensional input of size [2, 3] instead"
     ]
    }
   ],
   "source": [
    "# 将模型放在多个gpu上运行\n",
    "# method1\n",
    "new_net = nn.DataParallel(net, device_ids=[0, 1])  # 使用0号和1号GPU\n",
    "output = new_net(input)\n",
    "\n",
    "# method2\n",
    "output = nn.parallel.data_parallel(net, input, device_ids=[0, 1])"
   ]
  },
  {
   "cell_type": "markdown",
   "metadata": {},
   "source": [
    "搭建一个ResNet模型"
   ]
  },
  {
   "cell_type": "code",
   "execution_count": 52,
   "metadata": {
    "collapsed": true
   },
   "outputs": [
    {
     "data": {
      "text/plain": [
       "tensor([[-4.2053e-02, -5.0987e-01,  2.5529e-01,  5.1079e-01, -2.6077e-01,\n",
       "          3.0255e-01, -1.9588e-01, -8.0095e-01, -2.1432e-01,  1.4117e-01,\n",
       "          5.6126e-01, -3.1544e-01,  1.1596e+00, -2.8061e-01,  7.6366e-01,\n",
       "         -4.0273e-01, -1.6975e+00,  1.4132e+00,  4.2093e-01, -2.5360e-02,\n",
       "         -5.6369e-03, -7.1084e-01, -9.4854e-02, -1.6016e-01, -2.2100e-01,\n",
       "          4.8377e-01, -1.9836e-01, -1.1123e+00, -5.3333e-01,  4.1856e-01,\n",
       "          8.1778e-01,  5.3168e-02, -1.1851e+00,  1.5951e-01,  1.3307e+00,\n",
       "         -3.9091e-01,  8.7763e-01, -1.3813e-01,  1.3024e-01, -4.4768e-01,\n",
       "          1.1989e+00,  4.1722e-01,  4.7856e-01,  6.9124e-01,  7.0902e-01,\n",
       "          2.8223e-01,  5.8489e-01, -5.8263e-02, -3.1299e-01,  6.7148e-03,\n",
       "          5.1767e-01, -2.8635e-01, -2.0475e-01,  1.3852e+00, -6.1716e-01,\n",
       "         -1.2411e-02, -1.9132e-01, -3.4047e-01, -2.0614e-01, -8.8464e-01,\n",
       "         -2.3042e-01, -9.7026e-01, -3.6864e-01,  5.4064e-01, -4.0154e-01,\n",
       "          4.5531e-01,  2.8706e-01,  2.5028e-01,  7.1932e-01,  5.3658e-01,\n",
       "          1.4185e-03,  7.5588e-01,  1.1139e-01,  2.8760e-01, -3.9975e-01,\n",
       "         -4.6041e-01, -4.1828e-01,  3.2017e-02,  6.3394e-02, -7.0491e-02,\n",
       "         -4.6725e-01,  9.4306e-02,  1.0158e-01,  7.0427e-02, -4.9785e-01,\n",
       "         -1.0994e+00, -2.7402e-01, -2.7463e-01,  1.5259e-01, -9.8153e-02,\n",
       "         -5.0362e-01,  3.7420e-01,  4.7599e-01,  1.4377e-01,  1.1199e+00,\n",
       "         -1.0132e+00, -6.2838e-01,  2.6196e-01,  7.8550e-01,  6.5781e-01,\n",
       "         -1.9049e-01, -9.6503e-02, -5.6921e-01,  1.3783e-01, -7.9778e-02,\n",
       "          4.8764e-01, -3.3156e-01,  1.9572e-01,  1.0320e-01, -3.6161e-02,\n",
       "          8.5539e-01,  8.5707e-01,  3.9007e-01, -4.6705e-01, -4.4926e-01,\n",
       "         -7.9536e-02,  9.2948e-01, -6.5385e-02, -8.1666e-01,  2.0634e-01,\n",
       "         -4.2278e-02, -6.5733e-01,  2.5239e-01,  7.1545e-01,  9.7085e-01,\n",
       "         -1.1715e-01,  1.0482e-01, -1.1827e+00,  4.5324e-01, -5.6750e-01,\n",
       "          4.9290e-01, -8.3624e-01,  9.1776e-01, -4.9650e-01,  7.4671e-02,\n",
       "          5.3330e-01, -5.1662e-01, -5.9633e-01,  5.7618e-01,  8.0598e-02,\n",
       "          2.0360e-01, -3.0004e-01, -3.8755e-01, -6.3592e-01,  4.4366e-01,\n",
       "         -1.1216e+00,  4.8255e-01,  5.2333e-01,  4.5996e-01,  2.9708e-01,\n",
       "          6.4750e-01,  1.1292e+00,  8.8248e-01, -2.4274e-01,  1.1243e+00,\n",
       "         -8.4493e-01, -3.0391e-01,  4.0814e-01,  3.8698e-01, -5.1293e-01,\n",
       "          5.5592e-02, -4.5700e-01,  1.2287e+00, -7.7381e-01,  5.5977e-01,\n",
       "         -7.4746e-01, -4.8507e-01,  5.4620e-01,  1.1485e+00,  5.6014e-01,\n",
       "         -7.8228e-02, -9.7799e-01, -3.7046e-01,  3.5623e-01, -3.1509e-01,\n",
       "         -3.5440e-01,  5.1971e-01, -2.6429e-01, -1.5560e-01, -1.5905e-01,\n",
       "          5.8471e-01,  3.5216e-01,  7.5233e-02,  3.4769e-01, -3.2302e-01,\n",
       "          3.8179e-01, -9.1968e-01, -1.6232e-01, -2.8196e-01, -3.2757e-01,\n",
       "          1.2313e-01, -6.4115e-01, -2.4992e-01, -4.0606e-01,  2.6633e-01,\n",
       "          6.2203e-01, -3.9669e-01,  2.1005e-01, -3.2642e-01, -8.4037e-01,\n",
       "          4.9707e-01,  8.6159e-02,  1.3775e+00, -7.9244e-02,  5.3423e-01,\n",
       "         -1.3214e-01,  4.8418e-01, -6.1085e-01, -5.9636e-01,  7.7244e-01,\n",
       "         -6.5358e-01, -3.0145e-01,  5.6640e-01,  6.7329e-01, -9.9922e-01,\n",
       "          1.6738e-01, -8.9117e-01,  2.1637e-01,  3.7732e-01,  1.8916e-01,\n",
       "          9.5139e-03,  1.2677e-01, -2.6712e-01,  5.2757e-01, -4.1450e-01,\n",
       "         -6.1283e-01,  3.5640e-01, -1.1789e+00,  4.3785e-01, -7.6909e-01,\n",
       "          1.0660e-01, -5.0173e-01,  2.5485e-02, -1.6218e+00, -1.3875e-01,\n",
       "         -1.5500e-01,  1.2527e-01, -1.0660e+00, -1.6739e-01, -1.3370e-01,\n",
       "          9.9641e-01, -2.1481e-02,  3.3566e-01, -4.1554e-01, -7.1833e-01,\n",
       "          1.3856e-01,  2.4143e-01, -7.5013e-01,  7.2527e-01,  3.8276e-01,\n",
       "         -2.9348e-01, -3.9106e-02, -3.6285e-01, -1.9638e-01,  6.7093e-01,\n",
       "         -1.1557e+00, -4.5656e-01, -1.2434e+00,  9.0178e-03,  1.3289e+00,\n",
       "         -4.3040e-01,  1.2434e-01,  3.4835e-01,  3.2950e-01, -1.7280e-01,\n",
       "          4.8918e-02,  4.1922e-01,  5.1747e-01,  4.1102e-01, -1.0479e+00,\n",
       "         -5.4451e-02, -8.3749e-01,  1.8077e-02, -5.9808e-01,  3.3505e-01,\n",
       "          8.7275e-02, -3.9351e-01,  3.3628e-01, -8.0819e-02, -9.9356e-02,\n",
       "          9.5628e-01,  9.3365e-02,  1.1677e+00, -1.1404e+00, -7.9523e-01,\n",
       "         -9.0273e-02,  4.1745e-01, -5.0340e-01,  6.8629e-01,  1.3852e-01,\n",
       "          9.0009e-01, -2.7909e-01, -3.0445e-01,  6.5580e-01, -3.1746e-01,\n",
       "          3.5596e-01,  1.7608e-01, -1.1690e+00,  1.1888e+00, -7.8110e-01,\n",
       "          4.4322e-01, -4.1562e-02,  6.7501e-01, -4.4675e-01,  1.6212e-01,\n",
       "         -3.8932e-01,  5.6728e-02, -1.0179e-01,  3.5035e-01,  1.0104e-01,\n",
       "         -5.2678e-01, -3.6183e-02, -7.9142e-01, -4.4530e-01, -2.3974e-01,\n",
       "          9.4831e-01,  1.7445e-01, -1.1109e-01,  1.2799e+00, -1.6015e-01,\n",
       "          6.7280e-02, -1.4322e-02,  4.4377e-02,  1.1849e-01, -6.6184e-01,\n",
       "          4.9697e-01, -9.2620e-01, -3.4535e-01, -3.2440e-01, -5.0142e-01,\n",
       "          1.1209e-01,  9.0038e-01,  6.2637e-01,  2.5402e-01, -8.2976e-01,\n",
       "          4.9966e-01,  5.1257e-01,  5.4676e-01,  8.5334e-01,  5.9691e-01,\n",
       "          1.3351e-01, -5.1025e-01, -7.6917e-01,  6.8538e-01,  1.1548e-01,\n",
       "         -2.2263e-01,  1.4048e+00, -6.0749e-01, -1.4484e+00, -1.9486e-01,\n",
       "         -3.9009e-01,  1.8907e-01, -3.3979e-01,  3.3367e-01, -5.8122e-01,\n",
       "         -2.7991e-01, -2.5005e-01, -1.0646e-03,  6.4881e-01, -3.7584e-01,\n",
       "          1.4835e-01,  5.8707e-01, -7.6960e-02, -3.0151e-01, -1.0640e-01,\n",
       "          6.2637e-01, -1.1370e+00, -3.2476e-01,  4.0210e-01, -8.0631e-01,\n",
       "          1.2876e+00, -4.0366e-01,  8.8452e-01, -5.9015e-01,  6.7092e-01,\n",
       "         -3.3432e-01, -3.1414e-01, -1.6650e+00, -2.4590e-01, -5.7143e-02,\n",
       "          1.5203e-01, -6.1261e-01,  6.6075e-01,  2.9919e-01,  2.4001e-01,\n",
       "         -5.2186e-02, -5.9280e-01, -3.1256e-01, -1.3909e+00, -5.4378e-01,\n",
       "          8.6629e-02,  1.6049e-01,  4.5794e-01, -1.1045e+00, -4.2056e-01,\n",
       "          4.3152e-01,  2.4609e-01, -2.5580e-01,  8.5529e-02, -7.2489e-01,\n",
       "         -2.4756e-02, -5.2309e-01,  1.4068e+00,  1.9392e-01, -1.6807e-02,\n",
       "          6.3302e-01, -1.0854e+00, -4.4529e-01,  2.3133e-01, -1.2723e-02,\n",
       "          3.0445e-01, -2.1401e-01, -4.1508e-01,  6.7102e-01,  1.2941e+00,\n",
       "          8.5477e-01,  3.2770e-02, -1.4697e+00, -3.7468e-01, -8.1732e-01,\n",
       "          2.9072e-02,  6.1335e-01, -2.6359e-01,  5.1581e-01,  9.9526e-02,\n",
       "          7.8251e-01,  6.4325e-02,  8.2703e-01, -7.6942e-01, -8.1191e-01,\n",
       "         -1.5365e-01,  7.8340e-01, -9.8891e-01,  6.8548e-01,  3.2302e-01,\n",
       "          6.2254e-01, -4.3957e-01, -6.4639e-02, -2.9600e-01, -1.5894e+00,\n",
       "         -3.5619e-02,  3.5713e-01, -1.2632e-01, -6.6779e-02, -7.3349e-01,\n",
       "         -2.1819e-02, -8.5768e-01,  1.0567e+00,  6.6651e-01,  9.5902e-01,\n",
       "          4.7961e-01, -3.5861e-01, -3.0394e-01,  1.2998e-01,  3.2849e-01,\n",
       "         -6.0104e-01,  1.8102e-01,  8.5589e-01, -2.2198e-01, -6.3029e-01,\n",
       "          4.7183e-01, -5.4788e-02, -9.5294e-02,  1.3480e-01, -1.9603e-01,\n",
       "          1.8403e-01,  2.0499e-01,  4.3767e-01,  1.8392e-01, -2.0466e-01,\n",
       "          4.1216e-01, -4.3838e-01, -4.4180e-01, -8.0499e-01, -2.8336e-01,\n",
       "         -5.0929e-01,  4.8610e-01, -9.0319e-01, -1.1701e-01,  7.2341e-01,\n",
       "          8.8658e-02,  1.0913e-01, -7.7801e-01,  1.2877e+00, -1.4278e+00,\n",
       "         -2.0033e-01,  4.5709e-01, -6.6262e-01, -3.7784e-01, -1.4141e+00,\n",
       "          9.3045e-02,  6.1368e-02,  9.8407e-01,  8.2991e-02, -8.7410e-01,\n",
       "          4.8580e-01,  7.1048e-02, -6.7320e-02, -1.5554e+00, -4.5736e-01,\n",
       "          8.0201e-01,  8.0581e-01,  6.9831e-01, -2.7968e-01, -3.1070e-01,\n",
       "          6.4245e-01,  2.7530e-01,  4.5377e-01, -4.1374e-01, -1.3794e-01,\n",
       "          4.7487e-02,  5.2769e-01, -3.5862e-01, -1.2029e+00, -1.1067e-01,\n",
       "          2.4383e-01,  4.6757e-01,  4.7272e-01, -7.3884e-01,  1.3287e-01,\n",
       "          1.1504e+00, -2.3893e-01,  1.0075e+00,  9.8626e-01,  8.4186e-02,\n",
       "         -9.6098e-01, -4.1061e-01,  4.1336e-01, -1.0582e+00,  7.8413e-02,\n",
       "          1.2040e+00,  9.3791e-01, -5.4119e-02, -1.3767e-01,  3.3942e-01,\n",
       "          1.4405e-01,  6.1096e-01, -6.9984e-01, -1.3756e+00,  9.3736e-01,\n",
       "          8.2826e-01,  2.8352e-01, -3.7721e-01, -2.9850e-01,  2.7925e-01,\n",
       "          1.6138e-01,  8.8353e-01,  3.1654e-01, -5.6876e-01,  5.4848e-01,\n",
       "         -2.9467e-01,  1.9958e-01, -1.4751e-01, -2.5329e-02, -5.4081e-01,\n",
       "          5.0044e-01, -1.7803e-01, -1.4880e-01, -2.2352e-01,  2.4953e-01,\n",
       "          1.6714e-01, -1.6125e-01, -2.8907e-01, -8.5867e-01,  5.6899e-01,\n",
       "          3.4059e-01, -9.9451e-01, -1.1378e+00,  7.3083e-01,  8.7732e-01,\n",
       "          1.0438e-01,  1.0784e+00, -4.6761e-01,  7.0802e-01,  4.0227e-01,\n",
       "          8.2921e-02,  4.7494e-01, -7.3197e-01, -9.9993e-01, -7.0993e-02,\n",
       "         -1.7433e-01,  5.9746e-01,  3.6664e-02,  3.0092e-01, -2.8585e-01,\n",
       "          6.3100e-01, -1.8288e-01,  1.6286e-01,  4.8841e-01,  5.2731e-01,\n",
       "          1.0388e+00,  1.6614e-01,  6.9657e-03,  4.3919e-01, -3.8034e-01,\n",
       "         -6.9572e-02, -1.0676e+00, -3.8892e-01, -5.3518e-01, -2.2490e-01,\n",
       "          6.5679e-01,  7.8947e-01, -9.8252e-01,  3.0682e-01,  3.3657e-01,\n",
       "          8.6129e-04,  5.0856e-01,  4.3712e-02, -3.5467e-01,  5.9776e-01,\n",
       "          1.2037e+00,  4.2456e-02, -8.7665e-01,  2.6230e-01,  1.3105e+00,\n",
       "          1.1365e+00, -2.2127e-01,  6.0179e-01, -2.3959e-01,  6.7294e-01,\n",
       "          3.6634e-01,  1.4902e-01,  7.9840e-02, -6.8940e-01,  6.7187e-01,\n",
       "         -7.0876e-01, -9.1228e-01, -4.6739e-02, -4.3722e-01, -9.3217e-01,\n",
       "          9.1806e-01, -1.0007e-01,  7.3702e-01,  1.7078e-02, -4.9392e-01,\n",
       "          9.4948e-01,  1.2063e+00,  7.5893e-01, -6.2349e-01, -5.3426e-01,\n",
       "          1.0190e-01,  5.2152e-01, -5.9847e-01, -3.7718e-01, -4.9245e-01,\n",
       "         -1.4486e+00,  4.5684e-01,  2.4378e-01,  1.1471e+00,  6.7662e-01,\n",
       "         -7.3710e-01, -1.2962e-01,  3.7999e-01, -6.6752e-01, -1.8281e-02,\n",
       "          1.4485e+00,  3.6852e-01,  7.3316e-02,  6.9703e-01, -1.0331e+00,\n",
       "          2.3782e-01,  2.5138e-02,  4.1825e-01, -5.2778e-02,  3.2772e-01,\n",
       "          3.2941e-01,  1.2817e-01,  2.6188e-01, -2.0243e-01,  4.3194e-01,\n",
       "          1.9687e-01, -1.7696e-01, -1.7187e-01,  7.7786e-01, -7.2395e-01,\n",
       "          1.0442e+00, -1.7668e-01, -1.7950e-01, -1.1556e+00, -3.1735e-01,\n",
       "          2.1979e-01,  7.9406e-01, -2.5307e-01,  6.6848e-01,  3.5008e-01,\n",
       "         -8.0295e-01, -1.1492e-02, -4.0690e-01,  1.1168e+00,  5.2530e-01,\n",
       "         -1.3591e+00, -7.1714e-01, -1.9794e-02,  8.8806e-01,  7.8273e-02,\n",
       "          6.0393e-01,  2.0132e-01,  8.9112e-01, -9.2989e-01,  7.2504e-01,\n",
       "         -4.5863e-01,  7.0684e-01,  9.3418e-01, -8.7069e-02, -9.3687e-02,\n",
       "          3.0388e-01, -5.7072e-01,  6.0760e-02, -3.0893e-01, -5.4695e-01,\n",
       "         -5.5881e-01,  1.1903e-01, -6.8601e-01,  1.6660e-01, -7.5817e-01,\n",
       "          6.7432e-02,  4.9519e-01,  8.8470e-01,  7.3712e-02, -1.0590e+00,\n",
       "          6.9023e-01, -1.5460e+00,  1.7501e-01, -1.5535e+00,  3.9885e-01,\n",
       "         -9.6455e-01,  3.4146e-01,  7.3218e-01,  3.8628e-01,  4.0904e-01,\n",
       "         -1.1836e-02, -1.1870e+00,  1.5110e-01, -6.3950e-01,  9.6555e-01,\n",
       "          1.2592e+00, -4.9866e-01, -7.7614e-01,  2.3119e-01, -2.8933e-01,\n",
       "          7.2272e-01, -4.2212e-01, -1.8950e-01, -3.2400e-01, -7.0965e-01,\n",
       "          9.0997e-01, -9.0749e-01,  2.7654e-02,  2.6418e-01,  1.0583e-01,\n",
       "         -1.2117e+00, -2.9243e-01, -6.3862e-01,  5.2583e-01,  1.3748e-02,\n",
       "          2.8663e-01,  5.6360e-01, -5.7209e-01,  8.3050e-01, -6.9461e-02,\n",
       "         -1.1111e+00, -7.1360e-01,  1.3319e-01, -1.9427e-01,  6.7062e-02,\n",
       "         -5.4405e-02, -1.1043e-01,  8.3083e-01,  8.6488e-01, -2.4101e-01,\n",
       "         -3.5786e-01,  1.0333e-01, -3.0553e-01, -2.4674e-01,  3.9954e-01,\n",
       "          4.2046e-01,  3.1019e-01,  2.3059e-01,  3.1305e-01,  3.7022e-01,\n",
       "          3.4187e-01, -5.5686e-01,  1.8559e+00, -1.1127e+00,  1.1696e-01,\n",
       "          3.7964e-01, -8.2573e-01,  1.6778e+00, -4.4409e-01,  1.0802e+00,\n",
       "         -5.6155e-01, -2.7099e-01,  2.1529e-03,  4.7216e-01, -6.6880e-01,\n",
       "          7.6946e-01,  2.7127e-01, -3.1277e-01, -1.2832e-02, -4.8773e-01,\n",
       "          2.5211e-01, -7.7277e-01, -5.7239e-01, -6.8171e-02,  6.8224e-01,\n",
       "         -4.6985e-03,  6.5335e-01,  2.7020e-01,  1.2765e+00, -1.0016e-01,\n",
       "         -1.3873e-01, -1.2035e+00, -1.2251e+00, -2.0757e-01, -6.3008e-01,\n",
       "          2.6279e-01,  9.5681e-01, -1.1799e+00, -2.3044e-01,  6.0943e-01,\n",
       "          1.0069e+00, -4.2126e-01,  5.0083e-01,  3.9770e-01,  4.6495e-01,\n",
       "         -2.5057e-01, -4.8764e-01, -4.4870e-01, -4.7927e-01, -3.0641e-01,\n",
       "          8.0839e-01,  1.7315e+00,  6.0235e-01,  3.5286e-01, -6.3280e-02,\n",
       "         -8.8538e-01,  2.4554e-01, -2.2111e-01,  6.6497e-01, -1.3423e+00,\n",
       "          4.9164e-01,  2.5381e-01,  1.0434e-01, -3.1758e-02,  5.4094e-01,\n",
       "          1.7342e-01,  5.0776e-01, -1.9797e-01,  1.9973e-01,  1.3355e-01,\n",
       "          1.1149e+00,  1.2783e+00, -1.0225e+00,  2.8991e-01,  4.3580e-01,\n",
       "         -8.7001e-01, -2.0426e-01,  1.5529e+00, -3.1919e-01,  8.5961e-02,\n",
       "          3.4467e-01,  2.9818e-01,  1.3946e-01, -2.4634e-01, -3.7565e-01,\n",
       "          4.2176e-02, -1.7852e-01, -8.4825e-01,  8.1227e-01,  2.4514e-01,\n",
       "          4.2662e-01, -3.1068e-02,  4.4956e-01,  5.7923e-01,  6.3828e-01,\n",
       "         -4.1210e-01, -7.6284e-01,  1.2967e+00, -1.2766e-01, -7.8608e-01,\n",
       "          9.9065e-01, -9.1274e-01, -1.5137e-01,  6.1804e-01, -1.5029e-01,\n",
       "          2.5482e-01,  2.9794e-01,  6.1636e-01,  4.8370e-01,  1.3811e-01,\n",
       "          2.7767e-01,  2.8828e-01, -1.1279e+00,  1.3695e-01,  7.3151e-01,\n",
       "          1.2411e-01,  3.0053e-01,  1.2502e-01, -3.2168e-04,  2.4565e-01,\n",
       "         -3.9675e-01,  4.9898e-01,  1.4132e-01, -9.3379e-01,  8.0462e-01,\n",
       "          4.3712e-01, -1.7852e-01,  1.9936e-01,  3.1904e-01, -1.6841e-01,\n",
       "          7.8761e-01,  6.7152e-02, -8.5818e-01,  6.2133e-01,  1.8051e-01,\n",
       "         -2.7300e-01,  4.8110e-01, -8.7279e-01, -6.0147e-01,  1.2948e+00,\n",
       "         -9.7630e-01,  8.8674e-01,  5.2832e-01, -1.2276e-01,  6.2653e-01,\n",
       "         -1.5296e-02,  1.2367e+00,  9.8858e-01, -7.8254e-01,  1.2514e+00,\n",
       "         -5.0070e-01, -4.3169e-01, -5.1672e-02, -6.9189e-01,  3.4933e-01,\n",
       "         -7.8883e-01,  9.5979e-01, -7.5196e-01,  5.4286e-01, -3.0461e-01,\n",
       "          9.8811e-02,  3.0993e-01, -1.7932e+00,  2.9302e-02,  1.6654e-01,\n",
       "          5.2076e-01,  1.0753e+00, -1.2985e-01,  4.6587e-01,  5.4907e-01,\n",
       "         -3.9838e-01,  1.6745e-01, -3.1334e-01, -2.0510e-01,  3.5966e-02,\n",
       "          3.2671e-01, -4.7254e-01,  4.5633e-01, -2.9459e-01,  2.0206e-01,\n",
       "          1.0507e+00, -5.0281e-02,  2.9872e-01,  4.8669e-01,  4.0617e-01,\n",
       "          3.9668e-02, -2.8262e-01,  4.5733e-01,  9.0061e-03,  4.5888e-02,\n",
       "          6.4380e-01,  4.9032e-01, -1.8325e-01, -2.5013e-01, -5.9651e-01,\n",
       "         -1.0846e+00,  5.7535e-01, -7.4136e-01,  8.7612e-03, -1.0923e+00,\n",
       "         -2.7671e-02, -9.9033e-03,  4.2562e-01,  4.9211e-01,  6.0942e-01,\n",
       "         -3.3424e-01, -4.8472e-01, -2.5356e-01,  9.3129e-01,  1.6517e-01,\n",
       "          6.9379e-01, -5.6146e-02, -3.7785e-01,  1.8404e-02,  2.7730e-02,\n",
       "         -1.1998e-01, -3.2854e-01, -2.5698e-01,  1.7286e-01,  1.0802e-02]],\n",
       "       grad_fn=<AddmmBackward>)"
      ]
     },
     "execution_count": 52,
     "metadata": {},
     "output_type": "execute_result"
    }
   ],
   "source": [
    "from torch import nn\n",
    "import torch\n",
    "from torch.nn import functional as F\n",
    "\n",
    "# 残差块\n",
    "class ResidualBlock(nn.Module):\n",
    "    '''\n",
    "    实现子Module: Residual Block\n",
    "    '''\n",
    "    def __init__(self, inchannel, outchannel, stride=1, shortcut=None):\n",
    "        super(ResidualBlock, self).__init__()\n",
    "        self.left = nn.Sequential(\n",
    "            nn.Conv2d(inchannel, outchannel, 3, stride, 1, bias=False),\n",
    "            nn.BatchNorm2d(outchannel),\n",
    "            nn.ReLU(inplace=True),\n",
    "            nn.Conv2d(outchannel, outchannel, 3, 1, 1, bias=False),\n",
    "            nn.BatchNorm2d(outchannel)\n",
    "        )\n",
    "        self.right = shortcut\n",
    "        \n",
    "    def forward(self, x):\n",
    "        out = self.left(x)\n",
    "        residual = x if self.right is None else self.right(x)\n",
    "        out += residual\n",
    "        return F.relu(out)\n",
    "\n",
    "class ResNet(nn.Module):\n",
    "    '''\n",
    "    ResNet34包括多个layer, 每个layer又包括多个residual block 用子module实现residual block 用_make_layer函数实现layer\n",
    "    '''\n",
    "    def __init__(self, num_classes=1000):\n",
    "        super(ResNet, self).__init__()\n",
    "        self.pre = nn.Sequential(\n",
    "            nn.Conv2d(3, 64, 7, 2, 3, bias=False),\n",
    "            nn.BatchNorm2d(64),\n",
    "            nn.ReLU(inplace=True),\n",
    "            nn.MaxPool2d(3, 2, 1)\n",
    "        )\n",
    "        \n",
    "        # 重复的layer, 分别有3, 4, 6, 3个residual_block\n",
    "        self.layer1 = self._make_layer(64, 128, 3)\n",
    "        self.layer2 = self._make_layer(128, 256, 4, stride=2)\n",
    "        self.layer3 = self._make_layer(256, 512, 6, stride=2)\n",
    "        self.layer4 = self._make_layer(512, 512, 3, stride=2)\n",
    "        \n",
    "        # 分类用的全连接\n",
    "        self.fc = nn.Linear(512, num_classes)\n",
    "    \n",
    "    \n",
    "    def _make_layer(self, inchannel, outchannel, block_num, stride=1):\n",
    "        '''\n",
    "        构建layer, 包含多个residual block\n",
    "        '''\n",
    "        shortcut = nn.Sequential(\n",
    "            nn.Conv2d(inchannel, outchannel, 1, stride, bias=False),\n",
    "            nn.BatchNorm2d(outchannel)\n",
    "        )\n",
    "        \n",
    "        layers = []\n",
    "        layers.append(ResidualBlock(inchannel, outchannel, stride, shortcut))\n",
    "        \n",
    "        for i in range(1, block_num):\n",
    "            layers.append(ResidualBlock(outchannel, outchannel))\n",
    "        \n",
    "        return nn.Sequential(*layers)\n",
    "    \n",
    "    def forward(self, x):\n",
    "        x = self.pre(x)\n",
    "        \n",
    "        x = self.layer1(x)\n",
    "        x = self.layer2(x)\n",
    "        x = self.layer3(x)\n",
    "        x = self.layer4(x)\n",
    "        \n",
    "        x = F.avg_pool2d(x, 7)\n",
    "        x = x.view(x.size(0), -1)\n",
    "        return self.fc(x)\n",
    "model = ResNet()\n",
    "input = torch.autograd.Variable(torch.randn(1, 3, 224, 224))\n",
    "output = model(input)\n",
    "output"
   ]
  },
  {
   "cell_type": "code",
   "execution_count": 53,
   "metadata": {},
   "outputs": [],
   "source": [
    "# 上面一大堆等价于\n",
    "from torchvision import models\n",
    "model = models.resnet34()"
   ]
  },
  {
   "cell_type": "code",
   "execution_count": 54,
   "metadata": {
    "collapsed": true
   },
   "outputs": [
    {
     "data": {
      "text/plain": [
       "tensor([[-6.3579e-02, -2.8812e-01,  4.4740e-01, -1.1517e+00,  8.3477e-03,\n",
       "          3.4944e-01, -6.1188e-01, -1.0111e+00,  3.0742e-01,  8.6436e-01,\n",
       "         -8.5692e-01, -7.0663e-01, -1.1911e+00,  9.6824e-01, -2.8311e-01,\n",
       "          1.2209e+00, -5.7892e-02,  1.5812e-01, -3.1663e-02,  3.9640e-01,\n",
       "         -1.1760e+00,  6.3175e-01,  7.8099e-01, -4.7852e-01, -3.5184e-01,\n",
       "          3.9511e-01, -1.1395e-01, -3.0143e-01, -7.6672e-02, -7.2175e-01,\n",
       "         -1.4953e-01,  5.4767e-01,  7.3109e-01, -9.5884e-01, -2.3459e-01,\n",
       "         -3.5979e-01, -9.3012e-03,  1.9132e-01, -2.0462e-01,  1.5341e-01,\n",
       "          7.3073e-01, -8.0079e-02, -4.5488e-01,  8.2682e-01, -7.1721e-02,\n",
       "          1.1728e+00,  3.0199e-01,  9.8280e-01, -2.6636e-01,  8.1326e-02,\n",
       "          1.9187e-01,  5.4447e-02, -5.6783e-01, -3.6193e-01, -4.0045e-01,\n",
       "          2.0966e-01, -4.1279e-01, -1.4058e-01,  5.4652e-01, -4.4286e-01,\n",
       "         -1.6871e-01, -1.8257e-01,  8.0557e-01,  9.8675e-01,  1.2000e+00,\n",
       "          6.8716e-01,  4.9429e-02, -4.4657e-01,  9.5612e-01, -2.7617e-01,\n",
       "          3.7530e-01,  4.8648e-01, -2.4401e-01, -1.0213e+00,  6.2344e-01,\n",
       "          6.9620e-03, -8.3200e-01, -2.3033e-01, -6.3224e-01,  7.7899e-01,\n",
       "         -2.3344e-01,  7.6323e-01,  7.6889e-02,  1.0597e+00,  6.2939e-01,\n",
       "         -1.6223e-01, -4.8051e-01, -1.7420e-02,  4.3997e-01,  3.1824e-01,\n",
       "         -2.0471e-02, -6.8740e-01,  6.6359e-02,  3.3032e-02,  1.1354e+00,\n",
       "          2.0419e-01, -1.2856e+00,  7.0979e-01, -5.7177e-02, -4.5882e-01,\n",
       "          3.8232e-01,  3.0896e-01, -2.6287e-01,  6.9675e-01,  1.8439e-02,\n",
       "         -1.6364e-01,  1.2589e-01, -6.6575e-01,  2.7649e-01, -9.3517e-02,\n",
       "         -2.2351e-01, -3.7472e-01,  1.2980e+00,  2.1671e+00,  1.1894e+00,\n",
       "         -1.2236e+00, -1.0765e+00, -2.0901e-01, -1.5770e-01,  1.0079e+00,\n",
       "          3.2225e-01,  1.2488e+00, -1.8817e-01, -9.1170e-01, -3.0031e-01,\n",
       "         -1.9303e-01, -1.1404e+00,  1.3819e-01,  1.4690e+00,  6.3498e-01,\n",
       "          5.4109e-01,  8.5977e-01, -7.5349e-01, -3.6431e-01, -1.3683e+00,\n",
       "         -1.2388e-01,  4.4548e-01, -3.4920e-01, -1.5731e-01,  9.4667e-01,\n",
       "          1.2861e+00,  2.4438e-01,  1.5859e-01, -5.3606e-01, -4.8329e-01,\n",
       "         -5.3514e-01, -2.3163e-01,  4.3878e-01, -3.5409e-01, -8.4803e-01,\n",
       "         -3.0137e-02, -5.9492e-01, -5.0873e-01,  5.3107e-01,  6.6846e-01,\n",
       "         -4.6947e-01, -3.5817e-02, -5.6694e-01,  8.0959e-01, -1.0879e+00,\n",
       "         -6.0550e-01, -4.3743e-01, -6.1943e-01, -1.4565e-01, -1.1099e-01,\n",
       "          9.6163e-01, -7.2137e-01,  2.8552e-02,  6.8168e-01,  9.4885e-01,\n",
       "         -6.8343e-01, -6.2518e-01,  1.8727e-01, -1.0374e+00,  2.7155e-01,\n",
       "         -5.5621e-01,  7.1240e-01,  7.3252e-01, -3.8689e-02, -1.0683e+00,\n",
       "         -8.3987e-02,  7.5010e-01,  7.2659e-01,  1.7241e-01,  1.0366e+00,\n",
       "         -5.0239e-01,  5.0211e-02, -5.8617e-01,  4.7224e-01,  2.1311e-01,\n",
       "         -1.4163e+00,  3.3191e-01,  9.0611e-01, -8.5389e-01, -6.6638e-02,\n",
       "          3.4876e-01, -1.0127e+00,  1.0387e-01,  9.7225e-01, -1.9322e-01,\n",
       "          2.5812e-01,  1.2932e+00, -1.0581e+00, -5.6266e-01,  3.1531e-01,\n",
       "         -2.1852e-01, -3.3877e-01, -6.3856e-01,  5.0053e-01, -4.8210e-01,\n",
       "         -4.8057e-01,  3.3356e-01,  4.6949e-01,  8.6235e-01, -1.6048e-01,\n",
       "          6.1223e-03, -1.5037e-01, -3.3878e-01,  6.9910e-01, -8.6264e-02,\n",
       "         -2.3285e-01,  1.7230e+00,  5.7134e-01, -8.6408e-04, -1.2108e+00,\n",
       "         -6.5382e-01, -2.7837e-01,  1.1729e-01,  5.4789e-01, -2.6737e-01,\n",
       "         -8.9638e-01,  1.2797e+00, -1.1273e-01,  5.0094e-01,  2.3693e-01,\n",
       "          4.3312e-01,  7.3589e-01,  1.6169e-01, -2.0815e-01,  1.4037e+00,\n",
       "         -7.1012e-01, -1.7947e-02, -1.5633e-01,  5.8173e-01,  6.5621e-01,\n",
       "         -8.8672e-01, -9.7948e-01, -7.2173e-01, -6.3316e-01, -1.2517e-01,\n",
       "          8.4943e-01, -8.1112e-01,  5.3308e-01,  6.2121e-01, -6.4410e-01,\n",
       "          2.2319e-01, -1.6062e-01, -2.3792e-01, -1.7917e-01,  8.9814e-02,\n",
       "          5.1812e-01,  4.4550e-01, -1.6446e-01,  3.8740e-01, -1.5232e+00,\n",
       "         -8.7802e-01, -9.4675e-01, -1.0864e+00,  4.2148e-01,  3.7705e-01,\n",
       "          2.1663e-01,  8.9121e-01, -8.5251e-01,  3.6291e-02,  7.9773e-01,\n",
       "          2.1982e-01,  3.1299e-01, -2.3704e-01, -4.8534e-01,  4.5175e-01,\n",
       "         -4.0826e-02,  4.7848e-01,  4.4281e-01, -7.5502e-01, -1.1173e-01,\n",
       "          6.2385e-02,  1.1269e+00,  1.1983e+00,  4.1338e-02, -3.0379e-01,\n",
       "         -3.3949e-01,  2.2188e-01,  3.3933e-01,  5.0834e-02,  3.2501e-01,\n",
       "          5.0250e-01, -9.0429e-01, -4.6142e-01, -8.3173e-01,  8.1801e-01,\n",
       "         -1.6896e-01, -5.0663e-01,  1.0095e-01,  1.7404e-01,  4.7006e-01,\n",
       "         -6.3088e-01,  4.6423e-01, -6.7357e-01,  2.3699e-01,  1.2976e-01,\n",
       "         -2.2905e-01, -4.3722e-02, -7.1651e-01,  5.4134e-01, -7.2994e-01,\n",
       "         -5.8530e-01,  3.2849e-01,  4.7017e-01, -5.6961e-02,  4.0306e-01,\n",
       "         -1.4322e-01, -5.9395e-01,  3.4540e-02,  3.3954e-02,  6.7266e-01,\n",
       "         -6.7929e-01, -9.2574e-02,  8.3979e-01,  2.3896e-02,  7.7074e-02,\n",
       "          5.4246e-01, -8.9879e-01,  3.3047e-01, -2.8669e-01, -4.8680e-02,\n",
       "          3.6813e-01,  9.3542e-01,  2.0297e-01,  4.9372e-01,  4.1626e-01,\n",
       "         -1.1530e+00, -3.0228e-01, -2.5190e-01,  6.0068e-01, -1.2685e+00,\n",
       "         -1.9361e-02,  9.1644e-02,  7.7327e-01, -1.1127e+00, -5.1031e-01,\n",
       "         -4.6804e-01, -3.0441e-01,  2.6863e-01, -2.6754e-01, -8.4976e-01,\n",
       "          1.0625e-01, -6.7065e-01,  1.5826e-01,  1.1673e-01,  1.2080e-01,\n",
       "         -2.8476e-01, -1.3790e+00, -7.4139e-01, -1.3630e+00, -1.3604e-01,\n",
       "          2.4274e-01,  9.4840e-01, -5.3772e-01, -7.6105e-01, -1.8055e-01,\n",
       "          3.1627e-01,  7.3133e-02,  8.4418e-01,  5.0514e-01, -6.8015e-01,\n",
       "         -9.1185e-01,  4.9064e-01,  1.0690e+00,  2.7285e-01,  1.6049e+00,\n",
       "         -9.6298e-01,  1.0153e+00,  1.1205e+00, -7.6004e-02,  4.8632e-02,\n",
       "          2.2876e-02, -7.5442e-01,  1.3104e-01, -1.4532e+00, -2.3393e-01,\n",
       "          1.6778e-02, -9.4040e-01, -4.8182e-01,  6.7418e-01,  3.4440e-01,\n",
       "          7.7593e-01, -5.0348e-01, -9.3307e-01,  7.4867e-01, -2.1385e-01,\n",
       "         -7.8317e-01,  1.2969e+00, -5.1482e-01,  1.0521e+00,  2.5971e-01,\n",
       "          8.6443e-01,  3.5056e-01,  3.3446e-01,  5.7145e-01, -2.0740e-01,\n",
       "          1.1317e-01, -1.9183e-02,  8.1945e-01,  1.0638e+00,  2.2398e-01,\n",
       "          3.2220e-01, -3.4842e-01,  2.4660e-01,  3.8200e-01, -5.9781e-01,\n",
       "          6.3068e-01,  4.6841e-01, -1.5951e-01,  1.8658e-01,  3.7867e-01,\n",
       "          8.0611e-01,  7.5787e-01,  9.3007e-01, -3.2935e-01,  2.0630e-01,\n",
       "          8.7233e-01, -5.9351e-01, -3.3793e-01,  1.6348e-01,  6.8293e-02,\n",
       "          5.7228e-01,  2.6827e-01,  5.3296e-01,  7.3544e-02, -6.5810e-01,\n",
       "         -1.2653e-01, -2.3311e-01, -1.1166e-01,  8.0260e-01, -4.6950e-01,\n",
       "         -6.6170e-02,  5.1894e-01,  5.1177e-01, -9.4807e-01,  3.6293e-01,\n",
       "          1.1958e+00, -1.4564e-01, -3.0160e-01, -1.7878e-01, -1.9227e-02,\n",
       "          3.3891e-04, -3.7192e-01,  1.2329e-01,  1.0754e-01, -1.5808e-01,\n",
       "          7.8135e-01,  8.2271e-01,  6.5814e-02, -1.5071e-01,  2.6556e-01,\n",
       "          1.2884e+00, -9.1942e-01, -7.7572e-01,  3.9803e-01, -8.6354e-02,\n",
       "          1.1646e+00,  3.3792e-01,  3.8193e-01,  3.0103e-01, -4.7591e-01,\n",
       "         -1.8186e-02,  7.9443e-01, -5.3504e-01,  4.4530e-01, -3.8811e-01,\n",
       "          3.8782e-01,  2.4578e-01, -6.2071e-01, -5.1927e-01, -1.7873e-01,\n",
       "          8.9154e-01, -6.4663e-01,  7.6035e-01,  1.0161e+00, -2.9731e-01,\n",
       "         -1.0484e+00, -4.3488e-01,  3.7257e-01,  7.9151e-01, -1.2192e+00,\n",
       "         -7.4496e-02,  1.0057e-01, -2.1322e-01, -8.1283e-01, -1.7944e-01,\n",
       "          7.9133e-01, -1.0573e+00,  5.4244e-01, -1.0005e+00, -2.9808e-01,\n",
       "          1.0151e-01,  4.0261e-01, -8.2689e-01,  7.6987e-01,  3.2494e-01,\n",
       "         -8.5569e-02, -8.7593e-01, -4.5178e-01,  1.2008e-01,  3.3056e-01,\n",
       "         -3.9534e-01, -6.5784e-01, -1.2688e+00, -2.4517e-01,  8.7330e-01,\n",
       "          2.7773e-01, -4.6504e-03, -1.1305e+00, -5.6553e-01,  1.0582e-01,\n",
       "         -2.3289e-01,  1.8475e-01, -8.5946e-01,  2.7094e-01, -5.0922e-01,\n",
       "         -2.4879e-01,  9.2005e-02,  5.4576e-01,  4.3630e-01,  9.5638e-01,\n",
       "         -5.2652e-01,  4.4876e-01, -5.6958e-01, -1.5070e+00, -6.3952e-01,\n",
       "          6.9048e-01, -1.6578e-01, -4.0081e-01, -1.5188e-01, -6.9622e-01,\n",
       "         -1.1941e+00,  5.5940e-01, -3.1722e-01, -1.5878e-01,  4.2855e-01,\n",
       "         -6.7201e-01, -1.1796e+00, -9.9595e-01, -3.0132e-01, -2.5214e-01,\n",
       "         -1.5815e-01,  6.0780e-01,  6.1537e-01, -2.5874e-01, -8.3138e-02,\n",
       "         -2.9198e-01,  8.3234e-01,  9.4240e-01,  3.6665e-02, -3.3894e-01,\n",
       "         -4.1520e-01, -2.3167e-01, -1.3254e-01,  6.8783e-02,  4.2122e-01,\n",
       "          7.8960e-01, -1.7675e-01,  2.9921e-02, -4.9417e-01, -7.3574e-01,\n",
       "          6.9678e-01, -5.1689e-01, -1.2234e+00,  4.9482e-01, -6.2896e-01,\n",
       "         -8.7168e-01,  9.4210e-02, -5.9174e-01, -4.8643e-02,  7.6649e-01,\n",
       "         -1.6259e-02,  9.6554e-01,  8.4456e-01,  4.5641e-01, -1.5808e+00,\n",
       "         -1.6344e-01, -1.7179e-01,  5.8585e-01, -5.4768e-01, -1.1759e+00,\n",
       "         -2.8102e-01,  1.3346e-01, -4.4023e-01,  1.0103e+00,  2.0268e-01,\n",
       "          4.2585e-01, -4.1067e-01, -8.0554e-02, -5.4067e-01,  3.5000e-01,\n",
       "         -3.4631e-01,  1.8828e-02, -9.1102e-01,  6.1314e-01,  9.2540e-01,\n",
       "         -3.5155e-01,  6.8082e-01, -6.8307e-01,  7.0704e-01,  1.8866e-01,\n",
       "          3.7949e-02, -5.2620e-01, -7.5347e-02,  2.9417e-01, -4.2460e-01,\n",
       "          5.5191e-01, -3.0170e-01, -4.2688e-02,  1.0405e+00,  4.9846e-01,\n",
       "          9.1683e-01, -5.2969e-01,  1.2561e-01,  9.5619e-01,  8.9545e-01,\n",
       "          2.1436e-01, -4.1402e-01, -2.7336e-01,  2.9368e-02,  6.3892e-01,\n",
       "         -6.7011e-01, -1.3002e+00, -5.0286e-01,  5.4258e-01,  6.7135e-01,\n",
       "          1.3486e+00, -1.0056e+00, -6.0216e-01,  1.2513e+00, -7.1403e-01,\n",
       "          4.6143e-01, -6.5386e-01,  8.4294e-01,  1.3686e+00,  8.3991e-01,\n",
       "          7.1299e-01,  1.5071e-01,  1.0454e+00,  2.7998e-02,  6.5329e-01,\n",
       "         -1.2460e-01, -3.8671e-01,  7.9213e-01,  3.6831e-01, -3.3332e-01,\n",
       "          1.5031e-01,  5.7604e-01, -6.4214e-01, -6.2760e-02, -2.2747e-01,\n",
       "          1.5384e-01, -1.4667e-01, -2.2172e-01,  1.4354e-02,  6.1619e-01,\n",
       "         -1.0571e+00,  3.2795e-01,  5.4888e-01, -3.2292e-01, -1.1720e-01,\n",
       "         -3.0875e-01,  4.8810e-01, -1.3973e+00, -3.8423e-02,  2.0930e-01,\n",
       "          8.2753e-01, -3.2190e-01,  2.6090e-01, -4.7094e-01, -3.4706e-01,\n",
       "          4.4624e-02, -3.2975e-01, -1.1243e+00, -4.0569e-01,  7.7665e-01,\n",
       "          3.4361e-01,  1.9567e-01,  1.4406e+00,  1.3786e-01, -6.1792e-01,\n",
       "          1.5567e-01, -6.7843e-01, -1.4753e-01, -4.2328e-01, -1.4792e-01,\n",
       "          4.0496e-01, -1.0689e-01, -3.8633e-01,  1.8621e-01,  8.8616e-01,\n",
       "         -3.0175e-01, -6.0171e-01,  2.7636e-01, -6.7672e-01, -1.2417e-01,\n",
       "          3.9941e-01, -1.3500e+00,  3.0875e-01, -1.4614e-01, -5.3684e-01,\n",
       "          5.5910e-01,  7.6446e-01, -3.0411e-01,  2.0996e-01, -1.5672e-01,\n",
       "          4.8645e-01, -4.2861e-01, -1.0266e+00,  9.6466e-01,  5.9697e-01,\n",
       "          4.3874e-01, -6.9379e-01,  1.4350e-01, -5.3945e-01,  8.0650e-02,\n",
       "         -1.1775e-01,  6.0578e-01, -1.4674e-01,  7.2016e-01,  4.5434e-01,\n",
       "         -1.4929e-01,  8.3154e-01, -4.2531e-01, -1.0219e-01, -7.7163e-01,\n",
       "         -9.8828e-01, -1.1818e+00,  8.4552e-01, -1.7037e-03,  2.5785e-01,\n",
       "         -6.2943e-03, -1.7415e-01,  9.7733e-01, -2.7547e-01, -3.7601e-01,\n",
       "         -5.9919e-01, -5.7048e-01,  6.5791e-01, -2.1516e-01, -9.6806e-01,\n",
       "         -2.6026e-01, -3.7012e-02, -4.5569e-01,  1.5674e+00,  3.8536e-01,\n",
       "         -5.0455e-02,  1.2751e+00, -3.2812e-01,  3.1258e-01, -4.8454e-02,\n",
       "          9.4390e-01, -1.0055e-01,  1.0740e+00, -2.9581e-01, -8.3053e-02,\n",
       "         -1.1341e-01,  8.7086e-02, -5.4530e-02,  4.2364e-01,  1.0114e+00,\n",
       "          3.8809e-01,  2.6826e-01,  1.1589e-01, -1.7934e-01,  5.3003e-01,\n",
       "         -2.5512e-01, -2.3288e-01, -1.1062e+00,  1.3605e+00,  5.8245e-01,\n",
       "          4.1540e-01,  5.9028e-01,  4.9113e-01, -3.6024e-01, -6.5771e-02,\n",
       "         -5.3775e-01,  1.2463e+00,  1.5371e+00,  3.4773e-01, -1.7104e+00,\n",
       "         -4.7608e-01,  9.3187e-01,  2.4303e-01,  5.6865e-01,  1.2664e-01,\n",
       "         -6.7732e-01, -2.4117e-01, -1.1074e+00, -1.1134e+00,  7.6305e-01,\n",
       "          3.5468e-01, -3.4014e-01, -4.7787e-02, -2.5942e-01, -1.1440e-01,\n",
       "          2.5949e-01,  3.0705e-01, -5.7238e-01, -3.1166e-02,  3.4954e-02,\n",
       "         -3.6724e-01,  2.2915e-01,  9.1261e-02,  3.2986e-01, -2.6660e-01,\n",
       "          1.3714e-02,  1.0866e+00,  2.6016e-01,  9.6897e-01, -9.1805e-01,\n",
       "          1.1761e+00, -4.2811e-01, -3.1223e-01,  6.3621e-01, -3.0649e-01,\n",
       "          7.1417e-01,  4.2235e-01, -1.3594e-01, -6.3632e-01, -8.1329e-01,\n",
       "         -4.7038e-02, -4.5833e-01,  1.1008e-01,  2.8677e-01, -3.1738e-01,\n",
       "          6.7276e-01,  8.1384e-01, -1.0236e+00,  5.3187e-01,  2.9021e-01,\n",
       "          4.5070e-02,  6.7075e-02,  4.8263e-01, -4.8053e-01, -1.1941e+00,\n",
       "          3.8670e-01,  1.9821e-01,  2.3965e-01,  1.1537e+00,  4.8878e-01,\n",
       "          4.9228e-02, -1.1335e+00, -2.2803e-01,  3.8797e-01, -1.2263e+00,\n",
       "          9.6913e-01,  6.7122e-01,  6.0653e-01, -3.6907e-01,  3.8622e-02,\n",
       "          1.7015e-01,  3.0051e-01,  3.5151e-01,  2.2838e-01,  4.6292e-01,\n",
       "         -8.0399e-01,  6.0202e-01,  1.1504e-01, -6.8553e-02, -9.1215e-01,\n",
       "         -6.0111e-01, -2.6165e-01,  2.1640e-01, -1.1221e+00, -5.2118e-01,\n",
       "          1.7595e-01, -6.1854e-01,  8.1592e-02,  7.2805e-01, -2.4813e-02,\n",
       "          9.4394e-01,  2.0641e-01, -1.7085e-01, -4.4820e-01, -3.7453e-02,\n",
       "         -4.9225e-02,  3.6116e-01, -3.6291e-01, -6.2748e-01,  1.4162e+00,\n",
       "          2.5831e-01, -9.6697e-01,  1.0398e+00, -5.8040e-01, -4.1117e-01,\n",
       "          6.5514e-01,  4.3987e-01, -3.9972e-01, -6.4399e-02,  8.7404e-01,\n",
       "          1.3897e-01, -2.9066e-01,  2.1041e-01,  3.3355e-01, -4.3410e-01,\n",
       "          1.3107e+00,  3.0603e-01, -6.7910e-01, -2.2154e-01, -4.8631e-01,\n",
       "          6.6306e-01,  7.8995e-02, -1.4517e-01,  2.1764e-01,  9.1346e-01,\n",
       "          7.3533e-01, -4.6689e-01, -8.8471e-01, -3.5910e-01,  4.7872e-01,\n",
       "         -3.4573e-01,  9.3636e-02,  8.9048e-01, -1.0841e-01,  4.9874e-02,\n",
       "         -9.7862e-01, -4.4780e-01, -2.0485e-02, -4.4996e-01, -3.4820e-01,\n",
       "         -1.5948e-01, -2.3770e-01,  3.4718e-01,  3.6459e-01,  3.8764e-01,\n",
       "         -5.3898e-01, -4.7887e-01, -4.7066e-01, -2.0740e-01, -3.6407e-01,\n",
       "         -3.6694e-01, -1.1675e+00,  4.1784e-02, -4.8864e-01, -1.9647e-02,\n",
       "         -2.7751e-01, -5.8107e-01, -6.0819e-01,  2.2268e-01,  1.1123e+00,\n",
       "         -5.4638e-02, -1.0293e+00, -1.0556e-01,  9.4251e-01, -1.8798e-02,\n",
       "          2.7629e-01,  2.1358e-02, -5.3677e-02, -1.0495e-01,  9.5790e-02,\n",
       "         -1.4594e+00, -3.9284e-01,  1.0623e+00, -9.7959e-01,  8.6897e-01,\n",
       "          2.1825e-01, -4.4567e-01, -6.3722e-01, -2.7230e-01, -6.9674e-02,\n",
       "         -8.0025e-01, -1.3294e-01, -1.5257e-01,  1.1125e+00,  4.3938e-01,\n",
       "         -2.5190e-01,  4.5669e-02,  4.3107e-01,  6.7758e-01, -4.6091e-01,\n",
       "          7.0864e-01, -1.5264e-01, -7.1302e-01, -1.6400e-01,  7.1968e-02,\n",
       "          3.7235e-01, -1.3039e+00,  2.1132e-01, -9.3240e-02,  8.8196e-01,\n",
       "         -1.4679e-01, -6.8612e-01, -1.7043e+00,  7.9313e-01, -1.0750e-01]],\n",
       "       grad_fn=<AddmmBackward>)"
      ]
     },
     "execution_count": 54,
     "metadata": {},
     "output_type": "execute_result"
    }
   ],
   "source": [
    "output = model(input)\n",
    "output"
   ]
  },
  {
   "cell_type": "markdown",
   "metadata": {},
   "source": [
    "# pytorch中常用的工具"
   ]
  },
  {
   "cell_type": "code",
   "execution_count": 2,
   "metadata": {},
   "outputs": [],
   "source": [
    "import torch\n",
    "from torch.utils import data\n",
    "import os\n",
    "from PIL import Image\n",
    "import numpy as np"
   ]
  },
  {
   "cell_type": "code",
   "execution_count": 15,
   "metadata": {},
   "outputs": [
    {
     "name": "stdout",
     "output_type": "stream",
     "text": [
      "torch.Size([387, 500, 3]) tensor(136.0439) 1\n",
      "torch.Size([268, 440, 3]) tensor(133.8431) 1\n",
      "torch.Size([377, 500, 3]) tensor(107.1304) 1\n",
      "torch.Size([478, 500, 3]) tensor(84.7892) 1\n",
      "torch.Size([500, 404, 3]) tensor(66.6966) 1\n",
      "torch.Size([245, 394, 3]) tensor(133.4435) 1\n",
      "torch.Size([380, 500, 3]) tensor(140.0933) 1\n",
      "torch.Size([300, 199, 3]) tensor(102.7688) 1\n",
      "torch.Size([392, 500, 3]) tensor(129.7983) 1\n",
      "torch.Size([320, 426, 3]) tensor(104.3059) 1\n",
      "torch.Size([398, 500, 3]) tensor(82.3475) 1\n",
      "torch.Size([336, 448, 3]) tensor(88.6239) 1\n",
      "torch.Size([343, 500, 3]) tensor(82.2225) 1\n",
      "torch.Size([339, 300, 3]) tensor(112.5466) 1\n",
      "torch.Size([500, 291, 3]) tensor(84.4499) 1\n",
      "torch.Size([500, 441, 3]) tensor(129.1512) 1\n",
      "torch.Size([269, 293, 3]) tensor(113.9906) 1\n",
      "torch.Size([448, 294, 3]) tensor(133.5311) 1\n",
      "torch.Size([450, 338, 3]) tensor(147.0930) 1\n",
      "torch.Size([375, 500, 3]) tensor(136.1005) 1\n",
      "torch.Size([375, 500, 3]) tensor(98.2125) 1\n",
      "torch.Size([401, 500, 3]) tensor(119.0253) 1\n",
      "torch.Size([466, 500, 3]) tensor(102.7296) 1\n",
      "torch.Size([200, 155, 3]) tensor(40.2627) 1\n",
      "torch.Size([336, 272, 3]) tensor(136.5728) 1\n",
      "torch.Size([375, 500, 3]) tensor(84.6881) 1\n",
      "torch.Size([375, 500, 3]) tensor(123.9980) 1\n",
      "torch.Size([403, 500, 3]) tensor(194.4162) 1\n",
      "torch.Size([423, 469, 3]) tensor(117.7912) 1\n",
      "torch.Size([480, 393, 3]) tensor(121.5351) 1\n",
      "torch.Size([360, 480, 3]) tensor(83.9685) 1\n",
      "torch.Size([270, 320, 3]) tensor(86.1080) 1\n",
      "torch.Size([375, 500, 3]) tensor(91.7311) 1\n",
      "torch.Size([240, 320, 3]) tensor(82.8645) 1\n",
      "torch.Size([267, 201, 3]) tensor(145.9013) 1\n",
      "torch.Size([375, 500, 3]) tensor(135.1587) 1\n",
      "torch.Size([400, 500, 3]) tensor(132.1352) 1\n",
      "torch.Size([263, 350, 3]) tensor(94.5995) 1\n",
      "torch.Size([421, 500, 3]) tensor(109.2837) 1\n",
      "torch.Size([402, 423, 3]) tensor(131.2491) 1\n",
      "torch.Size([500, 327, 3]) tensor(133.6445) 1\n",
      "torch.Size([175, 141, 3]) tensor(116.9898) 1\n",
      "torch.Size([428, 443, 3]) tensor(116.1937) 1\n",
      "torch.Size([500, 488, 3]) tensor(161.5748) 1\n",
      "torch.Size([481, 500, 3]) tensor(108.5129) 1\n",
      "torch.Size([360, 239, 3]) tensor(133.4072) 1\n",
      "torch.Size([375, 500, 3]) tensor(113.4666) 1\n",
      "torch.Size([300, 375, 3]) tensor(139.9280) 1\n",
      "torch.Size([500, 315, 3]) tensor(107.7005) 1\n",
      "torch.Size([332, 500, 3]) tensor(100.3402) 1\n",
      "torch.Size([500, 474, 3]) tensor(123.5939) 1\n",
      "torch.Size([216, 286, 3]) tensor(122.7222) 1\n",
      "torch.Size([120, 160, 3]) tensor(107.9679) 1\n",
      "torch.Size([200, 161, 3]) tensor(68.4532) 1\n",
      "torch.Size([305, 448, 3]) tensor(79.8326) 1\n",
      "torch.Size([375, 500, 3]) tensor(127.0289) 1\n",
      "torch.Size([292, 350, 3]) tensor(62.0675) 1\n",
      "torch.Size([500, 375, 3]) tensor(167.8605) 1\n",
      "torch.Size([361, 480, 3]) tensor(114.2563) 1\n",
      "torch.Size([303, 257, 3]) tensor(141.7879) 1\n",
      "torch.Size([375, 500, 3]) tensor(130.1681) 1\n",
      "torch.Size([500, 375, 3]) tensor(125.9456) 1\n",
      "torch.Size([500, 273, 3]) tensor(147.6969) 1\n",
      "torch.Size([500, 460, 3]) tensor(124.3208) 1\n",
      "torch.Size([363, 500, 3]) tensor(140.7731) 1\n",
      "torch.Size([225, 300, 3]) tensor(113.2680) 1\n",
      "torch.Size([195, 300, 3]) tensor(120.4708) 1\n",
      "torch.Size([461, 346, 3]) tensor(112.8882) 1\n",
      "torch.Size([428, 363, 3]) tensor(109.7370) 1\n",
      "torch.Size([344, 500, 3]) tensor(90.6457) 1\n",
      "torch.Size([500, 407, 3]) tensor(86.7497) 1\n",
      "torch.Size([334, 500, 3]) tensor(86.6803) 1\n",
      "torch.Size([366, 336, 3]) tensor(114.6288) 1\n",
      "torch.Size([440, 440, 3]) tensor(105.8890) 1\n",
      "torch.Size([360, 480, 3]) tensor(92.8003) 1\n",
      "torch.Size([500, 394, 3]) tensor(106.2630) 1\n",
      "torch.Size([450, 300, 3]) tensor(177.9972) 1\n",
      "torch.Size([431, 459, 3]) tensor(116.7170) 1\n",
      "torch.Size([500, 470, 3]) tensor(111.0790) 1\n",
      "torch.Size([500, 375, 3]) tensor(91.7726) 1\n",
      "torch.Size([360, 336, 3]) tensor(111.9045) 1\n",
      "torch.Size([132, 250, 3]) tensor(126.4519) 1\n",
      "torch.Size([137, 140, 3]) tensor(96.1579) 1\n",
      "torch.Size([377, 500, 3]) tensor(103.2616) 1\n",
      "torch.Size([234, 313, 3]) tensor(83.2964) 1\n",
      "torch.Size([477, 400, 3]) tensor(118.6281) 1\n",
      "torch.Size([373, 500, 3]) tensor(97.5239) 1\n",
      "torch.Size([260, 340, 3]) tensor(56.2607) 1\n",
      "torch.Size([222, 170, 3]) tensor(163.4975) 1\n",
      "torch.Size([380, 500, 3]) tensor(67.0290) 1\n",
      "torch.Size([375, 500, 3]) tensor(125.5572) 1\n",
      "torch.Size([500, 390, 3]) tensor(110.1137) 1\n",
      "torch.Size([375, 500, 3]) tensor(128.1758) 1\n",
      "torch.Size([329, 500, 3]) tensor(90.3089) 1\n",
      "torch.Size([500, 500, 3]) tensor(84.4345) 1\n",
      "torch.Size([382, 350, 3]) tensor(135.1419) 1\n",
      "torch.Size([190, 156, 3]) tensor(105.1295) 1\n",
      "torch.Size([457, 480, 3]) tensor(104.9716) 1\n",
      "torch.Size([247, 310, 3]) tensor(61.7943) 1\n",
      "torch.Size([102, 135, 3]) tensor(105.0179) 1\n",
      "torch.Size([271, 275, 3]) tensor(108.0371) 1\n",
      "torch.Size([376, 500, 3]) tensor(100.7301) 1\n",
      "torch.Size([375, 500, 3]) tensor(96.8150) 1\n",
      "torch.Size([244, 224, 3]) tensor(90.7073) 1\n",
      "torch.Size([432, 500, 3]) tensor(173.7885) 1\n",
      "torch.Size([240, 320, 3]) tensor(144.5427) 1\n",
      "torch.Size([264, 396, 3]) tensor(127.3426) 1\n",
      "torch.Size([336, 448, 3]) tensor(128.5644) 1\n",
      "torch.Size([375, 500, 3]) tensor(78.2253) 1\n",
      "torch.Size([240, 320, 3]) tensor(99.7811) 1\n",
      "torch.Size([375, 500, 3]) tensor(58.3719) 1\n",
      "torch.Size([402, 500, 3]) tensor(122.1873) 1\n",
      "torch.Size([250, 375, 3]) tensor(108.0014) 1\n",
      "torch.Size([393, 400, 3]) tensor(154.8794) 1\n",
      "torch.Size([428, 500, 3]) tensor(93.5841) 1\n",
      "torch.Size([375, 500, 3]) tensor(111.7171) 1\n",
      "torch.Size([255, 251, 3]) tensor(117.9684) 1\n",
      "torch.Size([453, 397, 3]) tensor(99.7911) 1\n",
      "torch.Size([300, 243, 3]) tensor(89.8381) 1\n",
      "torch.Size([500, 500, 3]) tensor(130.3104) 1\n",
      "torch.Size([315, 350, 3]) tensor(147.5647) 1\n",
      "torch.Size([378, 500, 3]) tensor(113.5972) 1\n",
      "torch.Size([500, 369, 3]) tensor(133.4546) 1\n",
      "torch.Size([375, 500, 3]) tensor(107.0696) 1\n",
      "torch.Size([375, 500, 3]) tensor(180.3747) 1\n",
      "torch.Size([500, 444, 3]) tensor(130.1751) 1\n",
      "torch.Size([199, 188, 3]) tensor(143.1080) 1\n",
      "torch.Size([233, 350, 3]) tensor(95.0923) 1\n",
      "torch.Size([375, 500, 3]) tensor(74.6581) 1\n",
      "torch.Size([375, 500, 3]) tensor(93.8964) 1\n",
      "torch.Size([500, 410, 3]) tensor(110.4542) 1\n",
      "torch.Size([304, 400, 3]) tensor(74.0056) 1\n",
      "torch.Size([500, 389, 3]) tensor(75.6894) 1\n",
      "torch.Size([172, 200, 3]) tensor(161.3102) 1\n",
      "torch.Size([335, 500, 3]) tensor(116.5768) 1\n",
      "torch.Size([247, 300, 3]) tensor(124.9102) 1\n",
      "torch.Size([382, 314, 3]) tensor(125.6960) 1\n",
      "torch.Size([500, 464, 3]) tensor(100.5653) 1\n",
      "torch.Size([230, 266, 3]) tensor(63.7884) 1\n",
      "torch.Size([500, 333, 3]) tensor(154.1275) 1\n",
      "torch.Size([356, 479, 3]) tensor(108.9453) 1\n",
      "torch.Size([358, 462, 3]) tensor(118.1075) 1\n",
      "torch.Size([377, 500, 3]) tensor(102.8312) 1\n",
      "torch.Size([375, 500, 3]) tensor(111.8911) 1\n",
      "torch.Size([348, 216, 3]) tensor(64.6836) 1\n",
      "torch.Size([200, 157, 3]) tensor(108.0042) 1\n",
      "torch.Size([375, 500, 3]) tensor(100.6759) 1\n",
      "torch.Size([500, 361, 3]) tensor(134.7220) 1\n",
      "torch.Size([375, 500, 3]) tensor(133.6190) 1\n",
      "torch.Size([375, 500, 3]) tensor(84.4026) 1\n",
      "torch.Size([292, 419, 3]) tensor(157.0952) 1\n",
      "torch.Size([184, 200, 3]) tensor(127.5122) 1\n",
      "torch.Size([300, 400, 3]) tensor(115.3712) 1\n",
      "torch.Size([458, 500, 3]) tensor(91.0972) 1\n",
      "torch.Size([400, 379, 3]) tensor(90.1692) 1\n",
      "torch.Size([375, 500, 3]) tensor(62.2688) 1\n",
      "torch.Size([375, 500, 3]) tensor(112.7676) 1\n",
      "torch.Size([332, 500, 3]) tensor(155.8170) 1\n",
      "torch.Size([500, 393, 3]) tensor(196.8967) 1\n",
      "torch.Size([375, 500, 3]) tensor(88.6510) 1\n",
      "torch.Size([500, 472, 3]) tensor(143.1181) 1\n",
      "torch.Size([300, 400, 3]) tensor(147.4875) 1\n",
      "torch.Size([500, 419, 3]) tensor(128.1499) 1\n",
      "torch.Size([375, 500, 3]) tensor(136.7698) 1\n",
      "torch.Size([150, 200, 3]) tensor(117.5806) 1\n",
      "torch.Size([500, 477, 3]) tensor(102.2773) 1\n",
      "torch.Size([375, 500, 3]) tensor(130.3784) 1\n",
      "torch.Size([240, 320, 3]) tensor(138.7102) 1\n",
      "torch.Size([428, 432, 3]) tensor(128.4899) 1\n",
      "torch.Size([375, 500, 3]) tensor(82.8549) 1\n",
      "torch.Size([375, 500, 3]) tensor(129.8601) 1\n",
      "torch.Size([435, 500, 3]) tensor(131.4830) 1\n",
      "torch.Size([481, 401, 3]) tensor(159.5480) 1\n",
      "torch.Size([262, 350, 3]) tensor(154.6258) 1\n",
      "torch.Size([471, 383, 3]) tensor(135.5279) 1\n",
      "torch.Size([369, 457, 3]) tensor(99.8590) 1\n",
      "torch.Size([375, 500, 3]) tensor(112.2499) 1\n",
      "torch.Size([353, 500, 3]) tensor(155.9970) 1\n",
      "torch.Size([500, 434, 3]) tensor(74.5446) 1\n",
      "torch.Size([245, 250, 3]) tensor(125.5259) 1\n",
      "torch.Size([500, 356, 3]) tensor(98.5525) 1\n",
      "torch.Size([375, 500, 3]) tensor(115.8001) 1\n",
      "torch.Size([383, 421, 3]) tensor(134.6467) 1\n",
      "torch.Size([500, 333, 3]) tensor(131.2704) 1\n",
      "torch.Size([392, 500, 3]) tensor(128.4353) 1\n",
      "torch.Size([371, 300, 3]) tensor(74.8237) 1\n",
      "torch.Size([375, 500, 3]) tensor(84.8922) 1\n",
      "torch.Size([301, 315, 3]) tensor(170.1781) 1\n",
      "torch.Size([233, 350, 3]) tensor(96.6207) 1\n",
      "torch.Size([500, 372, 3]) tensor(94.6615) 1\n",
      "torch.Size([270, 247, 3]) tensor(87.8647) 1\n",
      "torch.Size([457, 350, 3]) tensor(118.1255) 1\n",
      "torch.Size([450, 382, 3]) tensor(107.8014) 1\n",
      "torch.Size([372, 400, 3]) tensor(125.8890) 1\n",
      "torch.Size([375, 500, 3]) tensor(104.7581) 1\n",
      "torch.Size([334, 500, 3]) tensor(138.5098) 1\n",
      "torch.Size([500, 420, 3]) tensor(145.1686) 1\n",
      "torch.Size([375, 500, 3]) tensor(65.1030) 1\n"
     ]
    },
    {
     "name": "stdout",
     "output_type": "stream",
     "text": [
      "torch.Size([375, 500, 3]) tensor(139.1809) 1\n",
      "torch.Size([266, 500, 3]) tensor(160.3210) 1\n",
      "torch.Size([393, 390, 3]) tensor(118.9530) 1\n",
      "torch.Size([480, 463, 3]) tensor(115.9846) 1\n",
      "torch.Size([375, 500, 3]) tensor(109.5763) 1\n",
      "torch.Size([359, 331, 3]) tensor(105.5628) 1\n",
      "torch.Size([288, 360, 3]) tensor(133.4425) 1\n",
      "torch.Size([371, 500, 3]) tensor(91.0011) 1\n",
      "torch.Size([375, 500, 3]) tensor(137.1940) 1\n",
      "torch.Size([500, 490, 3]) tensor(112.1781) 1\n",
      "torch.Size([500, 500, 3]) tensor(106.4506) 1\n",
      "torch.Size([408, 366, 3]) tensor(142.8180) 1\n",
      "torch.Size([180, 240, 3]) tensor(120.0156) 1\n",
      "torch.Size([344, 208, 3]) tensor(162.6634) 1\n",
      "torch.Size([375, 500, 3]) tensor(136.8256) 1\n",
      "torch.Size([336, 448, 3]) tensor(133.7228) 1\n",
      "torch.Size([358, 370, 3]) tensor(135.5838) 1\n",
      "torch.Size([375, 500, 3]) tensor(187.4101) 1\n",
      "torch.Size([375, 500, 3]) tensor(129.1914) 1\n",
      "torch.Size([375, 500, 3]) tensor(98.0520) 1\n",
      "torch.Size([388, 500, 3]) tensor(141.2049) 1\n",
      "torch.Size([500, 373, 3]) tensor(118.2953) 1\n",
      "torch.Size([379, 500, 3]) tensor(90.9218) 1\n",
      "torch.Size([425, 312, 3]) tensor(129.1561) 1\n",
      "torch.Size([400, 500, 3]) tensor(77.2812) 1\n",
      "torch.Size([400, 327, 3]) tensor(78.1408) 1\n",
      "torch.Size([353, 500, 3]) tensor(102.9584) 1\n",
      "torch.Size([375, 500, 3]) tensor(128.9811) 1\n",
      "torch.Size([500, 324, 3]) tensor(136.2921) 1\n",
      "torch.Size([375, 500, 3]) tensor(93.9459) 1\n",
      "torch.Size([480, 359, 3]) tensor(113.1730) 1\n",
      "torch.Size([375, 500, 3]) tensor(124.8798) 1\n",
      "torch.Size([233, 350, 3]) tensor(114.4603) 1\n",
      "torch.Size([329, 448, 3]) tensor(154.0841) 1\n",
      "torch.Size([375, 500, 3]) tensor(164.7984) 1\n",
      "torch.Size([241, 162, 3]) tensor(87.9982) 1\n",
      "torch.Size([310, 480, 3]) tensor(100.4123) 1\n",
      "torch.Size([457, 500, 3]) tensor(121.5420) 1\n",
      "torch.Size([335, 404, 3]) tensor(115.8133) 1\n",
      "torch.Size([433, 500, 3]) tensor(111.9624) 1\n",
      "torch.Size([247, 171, 3]) tensor(118.6389) 1\n",
      "torch.Size([362, 280, 3]) tensor(119.8317) 1\n",
      "torch.Size([368, 500, 3]) tensor(156.7651) 1\n",
      "torch.Size([500, 337, 3]) tensor(129.3797) 1\n",
      "torch.Size([375, 500, 3]) tensor(145.5786) 1\n",
      "torch.Size([500, 449, 3]) tensor(87.9686) 1\n",
      "torch.Size([300, 400, 3]) tensor(132.9476) 1\n",
      "torch.Size([164, 180, 3]) tensor(107.9739) 1\n",
      "torch.Size([375, 500, 3]) tensor(123.9920) 1\n",
      "torch.Size([196, 250, 3]) tensor(124.8451) 1\n",
      "torch.Size([375, 500, 3]) tensor(118.9837) 1\n",
      "torch.Size([375, 500, 3]) tensor(101.3093) 1\n",
      "torch.Size([375, 500, 3]) tensor(95.2914) 1\n",
      "torch.Size([400, 400, 3]) tensor(107.5946) 1\n",
      "torch.Size([500, 329, 3]) tensor(88.1841) 1\n",
      "torch.Size([346, 500, 3]) tensor(144.6509) 1\n",
      "torch.Size([375, 500, 3]) tensor(113.0644) 1\n",
      "torch.Size([500, 375, 3]) tensor(112.5017) 1\n",
      "torch.Size([500, 350, 3]) tensor(134.7072) 1\n",
      "torch.Size([500, 283, 3]) tensor(115.1682) 1\n",
      "torch.Size([500, 495, 3]) tensor(83.2929) 1\n",
      "torch.Size([375, 500, 3]) tensor(95.3927) 1\n",
      "torch.Size([300, 400, 3]) tensor(96.2476) 1\n",
      "torch.Size([400, 320, 3]) tensor(134.7119) 1\n",
      "torch.Size([275, 200, 3]) tensor(94.8141) 1\n",
      "torch.Size([397, 500, 3]) tensor(107.7881) 1\n",
      "torch.Size([389, 274, 3]) tensor(116.0742) 1\n",
      "torch.Size([500, 377, 3]) tensor(79.9245) 1\n",
      "torch.Size([375, 500, 3]) tensor(111.7503) 1\n",
      "torch.Size([308, 500, 3]) tensor(105.3027) 1\n",
      "torch.Size([360, 288, 3]) tensor(200.5184) 1\n",
      "torch.Size([500, 285, 3]) tensor(97.3863) 1\n",
      "torch.Size([300, 400, 3]) tensor(162.5494) 1\n",
      "torch.Size([334, 500, 3]) tensor(78.4229) 1\n",
      "torch.Size([186, 288, 3]) tensor(107.9261) 1\n",
      "torch.Size([269, 400, 3]) tensor(161.5600) 1\n",
      "torch.Size([393, 300, 3]) tensor(125.9669) 1\n",
      "torch.Size([397, 400, 3]) tensor(112.9942) 1\n",
      "torch.Size([327, 431, 3]) tensor(124.6995) 1\n",
      "torch.Size([500, 364, 3]) tensor(110.8503) 1\n",
      "torch.Size([375, 500, 3]) tensor(97.4060) 1\n",
      "torch.Size([459, 400, 3]) tensor(109.4972) 1\n",
      "torch.Size([320, 350, 3]) tensor(138.8839) 1\n",
      "torch.Size([347, 336, 3]) tensor(117.3780) 1\n",
      "torch.Size([375, 500, 3]) tensor(120.8921) 1\n",
      "torch.Size([90, 120, 3]) tensor(104.6263) 1\n",
      "torch.Size([488, 500, 3]) tensor(118.2515) 1\n",
      "torch.Size([269, 358, 3]) tensor(120.1172) 1\n",
      "torch.Size([375, 500, 3]) tensor(98.1395) 1\n",
      "torch.Size([398, 500, 3]) tensor(113.3390) 1\n",
      "torch.Size([247, 430, 3]) tensor(82.5480) 1\n",
      "torch.Size([375, 500, 3]) tensor(106.4929) 1\n",
      "torch.Size([277, 347, 3]) tensor(154.2660) 1\n",
      "torch.Size([374, 500, 3]) tensor(163.1469) 1\n",
      "torch.Size([288, 300, 3]) tensor(117.9984) 1\n",
      "torch.Size([371, 500, 3]) tensor(121.4642) 1\n",
      "torch.Size([384, 500, 3]) tensor(132.0796) 1\n",
      "torch.Size([334, 500, 3]) tensor(151.4902) 1\n",
      "torch.Size([354, 355, 3]) tensor(123.8527) 1\n",
      "torch.Size([432, 288, 3]) tensor(88.9761) 1\n",
      "torch.Size([262, 350, 3]) tensor(74.0986) 1\n",
      "torch.Size([332, 500, 3]) tensor(74.6487) 1\n",
      "torch.Size([227, 300, 3]) tensor(125.0650) 1\n",
      "torch.Size([339, 300, 3]) tensor(137.5823) 1\n",
      "torch.Size([500, 372, 3]) tensor(93.6867) 1\n",
      "torch.Size([162, 98, 3]) tensor(119.6945) 1\n",
      "torch.Size([466, 500, 3]) tensor(139.9719) 1\n",
      "torch.Size([334, 500, 3]) tensor(124.8871) 1\n",
      "torch.Size([264, 300, 3]) tensor(118.2095) 1\n",
      "torch.Size([180, 155, 3]) tensor(101.4514) 1\n",
      "torch.Size([307, 337, 3]) tensor(138.4839) 1\n",
      "torch.Size([232, 298, 3]) tensor(104.5335) 1\n",
      "torch.Size([500, 381, 3]) tensor(104.0767) 1\n",
      "torch.Size([393, 367, 3]) tensor(111.7935) 1\n",
      "torch.Size([367, 226, 3]) tensor(111.2413) 1\n",
      "torch.Size([300, 400, 3]) tensor(98.4684) 1\n",
      "torch.Size([385, 500, 3]) tensor(129.6952) 1\n",
      "torch.Size([375, 500, 3]) tensor(133.9541) 1\n",
      "torch.Size([375, 500, 3]) tensor(101.9531) 1\n",
      "torch.Size([294, 300, 3]) tensor(121.5726) 1\n",
      "torch.Size([500, 422, 3]) tensor(95.2378) 1\n",
      "torch.Size([500, 357, 3]) tensor(110.1177) 1\n",
      "torch.Size([500, 317, 3]) tensor(123.7936) 1\n",
      "torch.Size([480, 260, 3]) tensor(123.5093) 1\n",
      "torch.Size([342, 500, 3]) tensor(99.2176) 1\n",
      "torch.Size([360, 257, 3]) tensor(162.0410) 1\n",
      "torch.Size([381, 500, 3]) tensor(104.2591) 1\n",
      "torch.Size([500, 432, 3]) tensor(135.1832) 1\n",
      "torch.Size([400, 281, 3]) tensor(127.5447) 1\n",
      "torch.Size([353, 473, 3]) tensor(96.8776) 1\n",
      "torch.Size([375, 500, 3]) tensor(116.7317) 1\n",
      "torch.Size([400, 303, 3]) tensor(102.9533) 1\n",
      "torch.Size([376, 500, 3]) tensor(71.9535) 1\n",
      "torch.Size([375, 500, 3]) tensor(102.7039) 1\n",
      "torch.Size([375, 500, 3]) tensor(162.1450) 1\n",
      "torch.Size([223, 320, 3]) tensor(146.1019) 1\n",
      "torch.Size([375, 500, 3]) tensor(133.3617) 1\n",
      "torch.Size([500, 434, 3]) tensor(88.5999) 1\n",
      "torch.Size([500, 443, 3]) tensor(121.7345) 1\n",
      "torch.Size([375, 500, 3]) tensor(179.2444) 1\n",
      "torch.Size([335, 500, 3]) tensor(96.4910) 1\n",
      "torch.Size([500, 420, 3]) tensor(96.7383) 1\n",
      "torch.Size([500, 427, 3]) tensor(59.2368) 1\n",
      "torch.Size([375, 500, 3]) tensor(188.9117) 1\n",
      "torch.Size([375, 500, 3]) tensor(73.0134) 1\n",
      "torch.Size([333, 500, 3]) tensor(99.3134) 1\n",
      "torch.Size([386, 250, 3]) tensor(121.0784) 1\n",
      "torch.Size([500, 275, 3]) tensor(106.2270) 1\n",
      "torch.Size([375, 500, 3]) tensor(111.9671) 1\n",
      "torch.Size([499, 500, 3]) tensor(110.4322) 1\n",
      "torch.Size([285, 400, 3]) tensor(127.8461) 1\n",
      "torch.Size([374, 500, 3]) tensor(111.9204) 1\n",
      "torch.Size([248, 400, 3]) tensor(78.0949) 1\n",
      "torch.Size([464, 320, 3]) tensor(165.4620) 1\n",
      "torch.Size([375, 500, 3]) tensor(55.7983) 1\n",
      "torch.Size([240, 320, 3]) tensor(117.2570) 1\n",
      "torch.Size([251, 350, 3]) tensor(138.1262) 1\n",
      "torch.Size([188, 258, 3]) tensor(131.0321) 1\n",
      "torch.Size([375, 500, 3]) tensor(134.0201) 1\n",
      "torch.Size([500, 424, 3]) tensor(121.5433) 1\n",
      "torch.Size([218, 200, 3]) tensor(112.5710) 1\n",
      "torch.Size([357, 251, 3]) tensor(107.5391) 1\n",
      "torch.Size([332, 500, 3]) tensor(107.9684) 1\n",
      "torch.Size([375, 500, 3]) tensor(132.8425) 1\n",
      "torch.Size([375, 500, 3]) tensor(112.5454) 1\n",
      "torch.Size([500, 358, 3]) tensor(199.6134) 1\n",
      "torch.Size([255, 500, 3]) tensor(72.1632) 1\n",
      "torch.Size([401, 500, 3]) tensor(118.6684) 1\n",
      "torch.Size([500, 496, 3]) tensor(133.0418) 1\n",
      "torch.Size([500, 404, 3]) tensor(115.3735) 1\n",
      "torch.Size([375, 500, 3]) tensor(183.1316) 1\n",
      "torch.Size([268, 396, 3]) tensor(115.1410) 1\n",
      "torch.Size([375, 500, 3]) tensor(77.6273) 1\n",
      "torch.Size([360, 480, 3]) tensor(116.1811) 1\n",
      "torch.Size([375, 500, 3]) tensor(120.4197) 1\n",
      "torch.Size([375, 500, 3]) tensor(83.5515) 1\n",
      "torch.Size([500, 375, 3]) tensor(122.3285) 1\n",
      "torch.Size([500, 364, 3]) tensor(104.4426) 1\n",
      "torch.Size([216, 286, 3]) tensor(117.7991) 1\n",
      "torch.Size([90, 120, 3]) tensor(151.6726) 1\n",
      "torch.Size([307, 315, 3]) tensor(161.9569) 1\n",
      "torch.Size([225, 300, 3]) tensor(151.3007) 1\n",
      "torch.Size([472, 490, 3]) tensor(130.3145) 1\n",
      "torch.Size([295, 233, 3]) tensor(99.5228) 1\n",
      "torch.Size([232, 404, 3]) tensor(142.3051) 1\n",
      "torch.Size([375, 500, 3]) tensor(125.9989) 1\n",
      "torch.Size([375, 500, 3]) tensor(104.1333) 1\n",
      "torch.Size([111, 105, 3]) tensor(122.6952) 1\n",
      "torch.Size([332, 500, 3]) tensor(92.4115) 1\n",
      "torch.Size([500, 318, 3]) tensor(122.7662) 1\n",
      "torch.Size([500, 333, 3]) tensor(115.1231) 1\n",
      "torch.Size([375, 500, 3]) tensor(129.7926) 1\n",
      "torch.Size([375, 500, 3]) tensor(129.5309) 1\n",
      "torch.Size([400, 348, 3]) tensor(150.7098) 1\n",
      "torch.Size([191, 200, 3]) tensor(128.7627) 1\n",
      "torch.Size([281, 500, 3]) tensor(102.7285) 1\n",
      "torch.Size([356, 325, 3]) tensor(90.9079) 1\n",
      "torch.Size([375, 500, 3]) tensor(128.3227) 1\n",
      "torch.Size([457, 467, 3]) tensor(118.0438) 1\n",
      "torch.Size([500, 415, 3]) tensor(103.4167) 1\n",
      "torch.Size([375, 500, 3]) tensor(104.5810) 1\n"
     ]
    },
    {
     "name": "stdout",
     "output_type": "stream",
     "text": [
      "torch.Size([375, 300, 3]) tensor(108.1323) 1\n",
      "torch.Size([200, 178, 3]) tensor(69.4807) 1\n",
      "torch.Size([375, 500, 3]) tensor(155.0237) 1\n",
      "torch.Size([375, 500, 3]) tensor(93.8002) 1\n",
      "torch.Size([375, 500, 3]) tensor(86.2835) 1\n",
      "torch.Size([500, 333, 3]) tensor(130.6380) 1\n",
      "torch.Size([186, 171, 3]) tensor(67.9218) 1\n",
      "torch.Size([240, 320, 3]) tensor(53.7610) 1\n",
      "torch.Size([115, 115, 3]) tensor(105.7008) 1\n",
      "torch.Size([375, 500, 3]) tensor(77.5997) 1\n",
      "torch.Size([252, 211, 3]) tensor(116.2103) 1\n",
      "torch.Size([450, 337, 3]) tensor(82.3285) 1\n",
      "torch.Size([422, 500, 3]) tensor(122.3786) 1\n",
      "torch.Size([243, 324, 3]) tensor(111.2011) 1\n",
      "torch.Size([332, 500, 3]) tensor(136.1851) 1\n",
      "torch.Size([200, 160, 3]) tensor(90.3990) 1\n",
      "torch.Size([240, 227, 3]) tensor(166.3084) 1\n",
      "torch.Size([377, 500, 3]) tensor(130.5284) 1\n",
      "torch.Size([125, 125, 3]) tensor(123.6417) 1\n",
      "torch.Size([500, 375, 3]) tensor(130.6243) 1\n",
      "torch.Size([240, 320, 3]) tensor(141.5016) 1\n",
      "torch.Size([262, 350, 3]) tensor(27.8610) 1\n",
      "torch.Size([368, 500, 3]) tensor(120.5115) 1\n",
      "torch.Size([240, 320, 3]) tensor(91.3831) 1\n",
      "torch.Size([225, 300, 3]) tensor(59.6573) 1\n",
      "torch.Size([266, 400, 3]) tensor(141.7681) 1\n",
      "torch.Size([332, 500, 3]) tensor(145.1758) 1\n",
      "torch.Size([375, 500, 3]) tensor(141.1629) 1\n",
      "torch.Size([235, 226, 3]) tensor(134.9068) 1\n",
      "torch.Size([135, 160, 3]) tensor(144.2523) 1\n",
      "torch.Size([375, 500, 3]) tensor(153.9813) 1\n",
      "torch.Size([191, 200, 3]) tensor(91.9574) 1\n",
      "torch.Size([81, 100, 3]) tensor(158.5377) 1\n",
      "torch.Size([222, 155, 3]) tensor(125.5081) 1\n",
      "torch.Size([240, 320, 3]) tensor(138.4809) 1\n",
      "torch.Size([400, 400, 3]) tensor(103.6111) 1\n",
      "torch.Size([392, 500, 3]) tensor(116.4991) 1\n",
      "torch.Size([500, 340, 3]) tensor(141.1484) 1\n",
      "torch.Size([365, 450, 3]) tensor(112.5067) 1\n",
      "torch.Size([394, 275, 3]) tensor(94.2494) 1\n",
      "torch.Size([500, 401, 3]) tensor(93.3754) 1\n",
      "torch.Size([254, 300, 3]) tensor(152.6490) 1\n",
      "torch.Size([223, 300, 3]) tensor(137.1939) 1\n",
      "torch.Size([262, 489, 3]) tensor(144.3338) 1\n",
      "torch.Size([375, 500, 3]) tensor(134.6163) 1\n",
      "torch.Size([464, 500, 3]) tensor(77.1754) 1\n",
      "torch.Size([240, 320, 3]) tensor(34.4372) 1\n",
      "torch.Size([375, 500, 3]) tensor(98.8212) 1\n",
      "torch.Size([405, 400, 3]) tensor(127.0563) 1\n",
      "torch.Size([375, 500, 3]) tensor(85.4327) 1\n",
      "torch.Size([328, 200, 3]) tensor(119.0311) 1\n",
      "torch.Size([500, 329, 3]) tensor(99.9442) 1\n",
      "torch.Size([254, 200, 3]) tensor(127.6059) 1\n",
      "torch.Size([332, 500, 3]) tensor(118.5965) 1\n",
      "torch.Size([375, 500, 3]) tensor(146.4210) 1\n",
      "torch.Size([500, 427, 3]) tensor(97.7171) 1\n",
      "torch.Size([500, 378, 3]) tensor(132.9662) 1\n",
      "torch.Size([500, 397, 3]) tensor(132.9935) 1\n",
      "torch.Size([500, 298, 3]) tensor(102.6721) 1\n",
      "torch.Size([252, 125, 3]) tensor(122.2429) 1\n",
      "torch.Size([375, 500, 3]) tensor(104.6904) 1\n",
      "torch.Size([453, 500, 3]) tensor(104.9951) 1\n",
      "torch.Size([383, 500, 3]) tensor(135.6937) 1\n",
      "torch.Size([375, 500, 3]) tensor(76.2254) 1\n",
      "torch.Size([380, 444, 3]) tensor(137.3786) 1\n",
      "torch.Size([500, 492, 3]) tensor(122.6530) 1\n",
      "torch.Size([419, 500, 3]) tensor(107.0500) 1\n",
      "torch.Size([377, 500, 3]) tensor(66.9487) 1\n",
      "torch.Size([240, 175, 3]) tensor(130.6709) 1\n",
      "torch.Size([398, 298, 3]) tensor(106.6152) 1\n",
      "torch.Size([368, 500, 3]) tensor(156.7651) 1\n",
      "torch.Size([360, 500, 3]) tensor(104.3176) 1\n",
      "torch.Size([197, 150, 3]) tensor(110.7065) 1\n",
      "torch.Size([500, 240, 3]) tensor(75.7853) 1\n",
      "torch.Size([500, 433, 3]) tensor(133.0368) 1\n",
      "torch.Size([432, 362, 3]) tensor(95.4122) 1\n",
      "torch.Size([96, 128, 3]) tensor(101.9309) 1\n",
      "torch.Size([375, 500, 3]) tensor(129.6421) 1\n",
      "torch.Size([427, 497, 3]) tensor(108.9682) 1\n",
      "torch.Size([378, 500, 3]) tensor(116.4967) 1\n",
      "torch.Size([377, 500, 3]) tensor(102.5815) 1\n",
      "torch.Size([261, 350, 3]) tensor(135.3022) 1\n",
      "torch.Size([375, 500, 3]) tensor(77.7087) 1\n",
      "torch.Size([226, 337, 3]) tensor(86.7079) 1\n",
      "torch.Size([333, 500, 3]) tensor(154.7842) 1\n",
      "torch.Size([500, 486, 3]) tensor(131.1421) 1\n",
      "torch.Size([400, 267, 3]) tensor(163.5620) 1\n",
      "torch.Size([500, 375, 3]) tensor(93.3956) 1\n",
      "torch.Size([375, 500, 3]) tensor(100.2981) 1\n",
      "torch.Size([293, 269, 3]) tensor(157.4146) 1\n",
      "torch.Size([375, 500, 3]) tensor(86.0572) 1\n",
      "torch.Size([300, 336, 3]) tensor(114.9005) 1\n",
      "torch.Size([367, 500, 3]) tensor(134.2520) 1\n",
      "torch.Size([500, 354, 3]) tensor(105.5417) 1\n",
      "torch.Size([346, 288, 3]) tensor(91.0333) 1\n",
      "torch.Size([375, 500, 3]) tensor(118.6581) 1\n",
      "torch.Size([426, 500, 3]) tensor(97.7784) 1\n",
      "torch.Size([375, 500, 3]) tensor(66.1340) 1\n",
      "torch.Size([500, 487, 3]) tensor(81.1206) 1\n",
      "torch.Size([336, 344, 3]) tensor(106.9201) 1\n",
      "torch.Size([375, 500, 3]) tensor(125.1548) 1\n",
      "torch.Size([268, 320, 3]) tensor(89.0021) 0\n",
      "torch.Size([375, 500, 3]) tensor(127.5147) 0\n",
      "torch.Size([335, 276, 3]) tensor(137.0953) 0\n",
      "torch.Size([214, 259, 3]) tensor(143.4106) 0\n",
      "torch.Size([500, 345, 3]) tensor(94.1764) 0\n",
      "torch.Size([375, 500, 3]) tensor(112.9313) 0\n",
      "torch.Size([500, 450, 3]) tensor(98.7791) 0\n",
      "torch.Size([252, 250, 3]) tensor(119.5398) 0\n",
      "torch.Size([440, 500, 3]) tensor(113.6879) 0\n",
      "torch.Size([371, 500, 3]) tensor(94.0045) 0\n",
      "torch.Size([500, 403, 3]) tensor(165.0227) 0\n",
      "torch.Size([134, 200, 3]) tensor(92.1072) 0\n",
      "torch.Size([448, 205, 3]) tensor(97.5340) 0\n",
      "torch.Size([259, 500, 3]) tensor(88.3253) 0\n",
      "torch.Size([287, 432, 3]) tensor(124.5637) 0\n",
      "torch.Size([200, 297, 3]) tensor(152.5079) 0\n",
      "torch.Size([240, 265, 3]) tensor(165.8359) 0\n",
      "torch.Size([375, 500, 3]) tensor(88.4824) 0\n",
      "torch.Size([375, 500, 3]) tensor(165.3101) 0\n",
      "torch.Size([333, 480, 3]) tensor(84.5263) 0\n",
      "torch.Size([336, 500, 3]) tensor(131.7214) 0\n",
      "torch.Size([250, 250, 3]) tensor(97.8354) 0\n",
      "torch.Size([375, 500, 3]) tensor(57.4314) 0\n",
      "torch.Size([457, 500, 3]) tensor(103.4939) 0\n",
      "torch.Size([375, 500, 3]) tensor(114.4937) 0\n",
      "torch.Size([500, 459, 3]) tensor(105.2466) 0\n",
      "torch.Size([375, 500, 3]) tensor(95.0129) 0\n",
      "torch.Size([257, 334, 3]) tensor(133.1905) 0\n",
      "torch.Size([375, 500, 3]) tensor(70.4755) 0\n",
      "torch.Size([447, 500, 3]) tensor(138.9948) 0\n",
      "torch.Size([375, 500, 3]) tensor(70.1145) 0\n",
      "torch.Size([375, 500, 3]) tensor(100.8510) 0\n",
      "torch.Size([375, 500, 3]) tensor(77.1399) 0\n",
      "torch.Size([300, 200, 3]) tensor(145.6126) 0\n",
      "torch.Size([337, 500, 3]) tensor(84.3343) 0\n",
      "torch.Size([500, 375, 3]) tensor(109.1061) 0\n",
      "torch.Size([344, 432, 3]) tensor(81.2628) 0\n",
      "torch.Size([500, 372, 3]) tensor(105.6335) 0\n",
      "torch.Size([500, 345, 3]) tensor(81.1181) 0\n",
      "torch.Size([500, 406, 3]) tensor(147.0644) 0\n",
      "torch.Size([281, 300, 3]) tensor(71.7462) 0\n",
      "torch.Size([364, 320, 3]) tensor(145.1673) 0\n",
      "torch.Size([375, 500, 3]) tensor(142.3620) 0\n",
      "torch.Size([270, 360, 3]) tensor(119.8887) 0\n",
      "torch.Size([378, 473, 3]) tensor(82.8086) 0\n",
      "torch.Size([500, 432, 3]) tensor(86.2989) 0\n",
      "torch.Size([375, 500, 3]) tensor(98.1464) 0\n",
      "torch.Size([201, 300, 3]) tensor(80.7419) 0\n",
      "torch.Size([199, 300, 3]) tensor(156.6538) 0\n",
      "torch.Size([215, 425, 3]) tensor(112.2676) 0\n",
      "torch.Size([375, 500, 3]) tensor(129.8099) 0\n",
      "torch.Size([500, 367, 3]) tensor(169.2761) 0\n",
      "torch.Size([375, 500, 3]) tensor(103.1965) 0\n",
      "torch.Size([382, 500, 3]) tensor(98.5508) 0\n",
      "torch.Size([177, 180, 3]) tensor(122.5645) 0\n",
      "torch.Size([500, 488, 3]) tensor(78.8769) 0\n",
      "torch.Size([375, 500, 3]) tensor(95.1688) 0\n",
      "torch.Size([227, 300, 3]) tensor(129.0842) 0\n",
      "torch.Size([93, 140, 3]) tensor(95.2752) 0\n",
      "torch.Size([417, 480, 3]) tensor(118.7423) 0\n",
      "torch.Size([428, 402, 3]) tensor(130.5351) 0\n",
      "torch.Size([375, 500, 3]) tensor(78.2294) 0\n",
      "torch.Size([375, 500, 3]) tensor(126.2379) 0\n",
      "torch.Size([500, 322, 3]) tensor(154.0797) 0\n",
      "torch.Size([500, 335, 3]) tensor(121.9921) 0\n",
      "torch.Size([315, 448, 3]) tensor(99.5923) 0\n",
      "torch.Size([246, 500, 3]) tensor(90.2476) 0\n",
      "torch.Size([333, 500, 3]) tensor(86.9470) 0\n",
      "torch.Size([315, 500, 3]) tensor(153.6785) 0\n",
      "torch.Size([375, 500, 3]) tensor(58.9646) 0\n",
      "torch.Size([108, 200, 3]) tensor(146.3591) 0\n",
      "torch.Size([500, 494, 3]) tensor(135.6402) 0\n",
      "torch.Size([480, 500, 3]) tensor(62.8991) 0\n",
      "torch.Size([240, 360, 3]) tensor(136.3010) 0\n",
      "torch.Size([417, 500, 3]) tensor(125.7358) 0\n",
      "torch.Size([240, 240, 3]) tensor(137.1714) 0\n",
      "torch.Size([419, 500, 3]) tensor(110.1037) 0\n",
      "torch.Size([299, 500, 3]) tensor(65.0161) 0\n",
      "torch.Size([346, 461, 3]) tensor(109.4800) 0\n",
      "torch.Size([500, 500, 3]) tensor(110.8934) 0\n",
      "torch.Size([240, 320, 3]) tensor(165.3090) 0\n",
      "torch.Size([500, 376, 3]) tensor(101.3553) 0\n",
      "torch.Size([494, 499, 3]) tensor(67.9806) 0\n",
      "torch.Size([300, 400, 3]) tensor(91.3686) 0\n",
      "torch.Size([375, 500, 3]) tensor(95.0632) 0\n",
      "torch.Size([269, 300, 3]) tensor(134.6108) 0\n",
      "torch.Size([343, 350, 3]) tensor(118.8417) 0\n",
      "torch.Size([291, 154, 3]) tensor(182.0583) 0\n",
      "torch.Size([175, 215, 3]) tensor(142.3731) 0\n",
      "torch.Size([400, 345, 3]) tensor(99.2649) 0\n",
      "torch.Size([500, 499, 3]) tensor(117.3412) 0\n",
      "torch.Size([500, 379, 3]) tensor(78.4916) 0\n"
     ]
    },
    {
     "name": "stdout",
     "output_type": "stream",
     "text": [
      "torch.Size([375, 500, 3]) tensor(90.6155) 0\n",
      "torch.Size([267, 400, 3]) tensor(115.0063) 0\n",
      "torch.Size([500, 381, 3]) tensor(150.4749) 0\n",
      "torch.Size([236, 280, 3]) tensor(93.6644) 0\n",
      "torch.Size([375, 500, 3]) tensor(115.7360) 0\n",
      "torch.Size([300, 206, 3]) tensor(82.9427) 0\n",
      "torch.Size([375, 500, 3]) tensor(88.0857) 0\n",
      "torch.Size([410, 432, 3]) tensor(110.0343) 0\n",
      "torch.Size([352, 500, 3]) tensor(140.2233) 0\n",
      "torch.Size([144, 176, 3]) tensor(166.2932) 0\n",
      "torch.Size([375, 500, 3]) tensor(127.9706) 0\n",
      "torch.Size([336, 448, 3]) tensor(133.8039) 0\n",
      "torch.Size([240, 239, 3]) tensor(135.9956) 0\n",
      "torch.Size([306, 407, 3]) tensor(106.7062) 0\n",
      "torch.Size([259, 500, 3]) tensor(127.7007) 0\n",
      "torch.Size([286, 298, 3]) tensor(86.0765) 0\n",
      "torch.Size([375, 500, 3]) tensor(94.7707) 0\n",
      "torch.Size([500, 333, 3]) tensor(124.6222) 0\n",
      "torch.Size([479, 320, 3]) tensor(79.3332) 0\n",
      "torch.Size([336, 345, 3]) tensor(118.6801) 0\n",
      "torch.Size([500, 357, 3]) tensor(138.6496) 0\n",
      "torch.Size([375, 500, 3]) tensor(165.6523) 0\n",
      "torch.Size([357, 391, 3]) tensor(82.7212) 0\n",
      "torch.Size([182, 200, 3]) tensor(113.4309) 0\n",
      "torch.Size([346, 500, 3]) tensor(100.8733) 0\n",
      "torch.Size([496, 500, 3]) tensor(109.8912) 0\n",
      "torch.Size([434, 400, 3]) tensor(77.2564) 0\n",
      "torch.Size([500, 427, 3]) tensor(133.9038) 0\n",
      "torch.Size([375, 500, 3]) tensor(85.4753) 0\n",
      "torch.Size([450, 458, 3]) tensor(137.0290) 0\n",
      "torch.Size([426, 320, 3]) tensor(158.7709) 0\n",
      "torch.Size([357, 500, 3]) tensor(60.1606) 0\n",
      "torch.Size([500, 333, 3]) tensor(116.5351) 0\n",
      "torch.Size([336, 448, 3]) tensor(137.5872) 0\n",
      "torch.Size([397, 312, 3]) tensor(131.6864) 0\n",
      "torch.Size([500, 471, 3]) tensor(130.5587) 0\n",
      "torch.Size([321, 500, 3]) tensor(106.6852) 0\n",
      "torch.Size([175, 226, 3]) tensor(96.9008) 0\n",
      "torch.Size([240, 156, 3]) tensor(108.7872) 0\n",
      "torch.Size([480, 500, 3]) tensor(119.5602) 0\n",
      "torch.Size([270, 232, 3]) tensor(84.1288) 0\n",
      "torch.Size([375, 500, 3]) tensor(113.4574) 0\n",
      "torch.Size([410, 267, 3]) tensor(127.5762) 0\n",
      "torch.Size([400, 500, 3]) tensor(64.9403) 0\n",
      "torch.Size([199, 300, 3]) tensor(101.6355) 0\n",
      "torch.Size([375, 500, 3]) tensor(84.6416) 0\n",
      "torch.Size([262, 300, 3]) tensor(128.2566) 0\n",
      "torch.Size([480, 320, 3]) tensor(112.3717) 0\n",
      "torch.Size([333, 339, 3]) tensor(102.7024) 0\n",
      "torch.Size([375, 500, 3]) tensor(97.9205) 0\n",
      "torch.Size([375, 500, 3]) tensor(169.1693) 0\n",
      "torch.Size([417, 500, 3]) tensor(65.0041) 0\n",
      "torch.Size([375, 500, 3]) tensor(100.4566) 0\n",
      "torch.Size([196, 300, 3]) tensor(130.1887) 0\n",
      "torch.Size([375, 500, 3]) tensor(220.5729) 0\n",
      "torch.Size([500, 384, 3]) tensor(132.6256) 0\n",
      "torch.Size([500, 422, 3]) tensor(91.2485) 0\n",
      "torch.Size([368, 500, 3]) tensor(123.9322) 0\n",
      "torch.Size([500, 490, 3]) tensor(116.8286) 0\n",
      "torch.Size([375, 500, 3]) tensor(102.6698) 0\n",
      "torch.Size([500, 376, 3]) tensor(127.6007) 0\n",
      "torch.Size([350, 500, 3]) tensor(101.0101) 0\n",
      "torch.Size([375, 500, 3]) tensor(110.2432) 0\n",
      "torch.Size([333, 500, 3]) tensor(75.6786) 0\n",
      "torch.Size([224, 320, 3]) tensor(175.8950) 0\n",
      "torch.Size([331, 465, 3]) tensor(137.9930) 0\n",
      "torch.Size([300, 400, 3]) tensor(127.5443) 0\n",
      "torch.Size([480, 500, 3]) tensor(89.5784) 0\n",
      "torch.Size([375, 500, 3]) tensor(105.4812) 0\n",
      "torch.Size([236, 344, 3]) tensor(120.0848) 0\n",
      "torch.Size([500, 375, 3]) tensor(104.8326) 0\n",
      "torch.Size([375, 500, 3]) tensor(136.0201) 0\n",
      "torch.Size([305, 407, 3]) tensor(177.3021) 0\n",
      "torch.Size([500, 316, 3]) tensor(113.2789) 0\n",
      "torch.Size([229, 320, 3]) tensor(123.8722) 0\n",
      "torch.Size([291, 500, 3]) tensor(63.7646) 0\n",
      "torch.Size([325, 500, 3]) tensor(115.4087) 0\n",
      "torch.Size([480, 370, 3]) tensor(115.6160) 0\n",
      "torch.Size([240, 320, 3]) tensor(64.6089) 0\n",
      "torch.Size([375, 500, 3]) tensor(90.1933) 0\n",
      "torch.Size([250, 220, 3]) tensor(168.1784) 0\n",
      "torch.Size([213, 320, 3]) tensor(108.9604) 0\n",
      "torch.Size([361, 500, 3]) tensor(142.5340) 0\n",
      "torch.Size([234, 320, 3]) tensor(127.2633) 0\n",
      "torch.Size([422, 472, 3]) tensor(87.1305) 0\n",
      "torch.Size([375, 500, 3]) tensor(111.1292) 0\n",
      "torch.Size([333, 500, 3]) tensor(139.5113) 0\n",
      "torch.Size([150, 200, 3]) tensor(102.5852) 0\n",
      "torch.Size([338, 450, 3]) tensor(146.8594) 0\n",
      "torch.Size([231, 300, 3]) tensor(76.3784) 0\n",
      "torch.Size([375, 500, 3]) tensor(174.2638) 0\n",
      "torch.Size([375, 500, 3]) tensor(122.9126) 0\n",
      "torch.Size([375, 500, 3]) tensor(121.0653) 0\n",
      "torch.Size([375, 500, 3]) tensor(126.5510) 0\n",
      "torch.Size([375, 500, 3]) tensor(73.9156) 0\n",
      "torch.Size([375, 500, 3]) tensor(122.5643) 0\n",
      "torch.Size([240, 320, 3]) tensor(80.9033) 0\n",
      "torch.Size([397, 495, 3]) tensor(138.9617) 0\n",
      "torch.Size([330, 338, 3]) tensor(132.8147) 0\n",
      "torch.Size([500, 375, 3]) tensor(133.3721) 0\n",
      "torch.Size([500, 353, 3]) tensor(62.5212) 0\n",
      "torch.Size([337, 500, 3]) tensor(67.1607) 0\n",
      "torch.Size([375, 500, 3]) tensor(103.0927) 0\n",
      "torch.Size([500, 375, 3]) tensor(117.6320) 0\n",
      "torch.Size([240, 320, 3]) tensor(137.7309) 0\n",
      "torch.Size([445, 500, 3]) tensor(180.7209) 0\n",
      "torch.Size([113, 150, 3]) tensor(135.7963) 0\n",
      "torch.Size([265, 253]) tensor(103.7759) 0\n",
      "torch.Size([210, 280, 3]) tensor(113.1136) 0\n",
      "torch.Size([375, 500, 3]) tensor(99.2500) 0\n",
      "torch.Size([153, 160, 3]) tensor(109.0635) 0\n",
      "torch.Size([94, 100, 3]) tensor(147.8425) 0\n",
      "torch.Size([362, 400, 3]) tensor(113.9256) 0\n",
      "torch.Size([375, 500, 3]) tensor(112.7516) 0\n",
      "torch.Size([167, 300, 3]) tensor(160.3279) 0\n",
      "torch.Size([500, 482, 3]) tensor(83.5181) 0\n",
      "torch.Size([352, 500, 3]) tensor(135.0621) 0\n",
      "torch.Size([384, 500, 3]) tensor(67.9785) 0\n",
      "torch.Size([249, 350, 3]) tensor(127.3196) 0\n",
      "torch.Size([498, 500, 3]) tensor(132.0070) 0\n",
      "torch.Size([375, 500, 3]) tensor(116.5929) 0\n",
      "torch.Size([288, 217, 3]) tensor(112.1270) 0\n",
      "torch.Size([473, 500, 3]) tensor(137.8415) 0\n",
      "torch.Size([310, 350, 3]) tensor(69.3419) 0\n",
      "torch.Size([374, 499, 3]) tensor(88.6927) 0\n",
      "torch.Size([130, 180, 3]) tensor(152.8505) 0\n",
      "torch.Size([240, 320, 3]) tensor(183.2003) 0\n",
      "torch.Size([462, 500, 3]) tensor(93.2135) 0\n",
      "torch.Size([252, 500, 3]) tensor(130.3218) 0\n",
      "torch.Size([375, 500, 3]) tensor(81.6927) 0\n",
      "torch.Size([359, 300, 3]) tensor(133.2099) 0\n",
      "torch.Size([485, 398, 3]) tensor(123.3120) 0\n",
      "torch.Size([225, 300, 3]) tensor(120.2583) 0\n",
      "torch.Size([430, 398, 3]) tensor(82.6286) 0\n",
      "torch.Size([376, 500, 3]) tensor(63.5107) 0\n",
      "torch.Size([500, 302, 3]) tensor(87.5904) 0\n",
      "torch.Size([258, 360, 3]) tensor(119.4888) 0\n",
      "torch.Size([262, 350, 3]) tensor(68.5879) 0\n",
      "torch.Size([379, 450, 3]) tensor(111.0636) 0\n",
      "torch.Size([375, 500, 3]) tensor(79.3117) 0\n",
      "torch.Size([375, 500, 3]) tensor(154.2446) 0\n",
      "torch.Size([375, 500, 3]) tensor(93.2549) 0\n",
      "torch.Size([320, 270, 3]) tensor(144.0649) 0\n",
      "torch.Size([427, 385, 3]) tensor(112.9231) 0\n",
      "torch.Size([208, 295, 3]) tensor(162.3715) 0\n",
      "torch.Size([387, 500, 3]) tensor(124.6803) 0\n",
      "torch.Size([375, 500, 3]) tensor(127.5440) 0\n",
      "torch.Size([454, 396, 3]) tensor(104.0237) 0\n",
      "torch.Size([500, 349, 3]) tensor(118.2194) 0\n",
      "torch.Size([295, 244, 3]) tensor(132.4988) 0\n",
      "torch.Size([357, 500, 3]) tensor(123.4241) 0\n",
      "torch.Size([375, 500, 3]) tensor(96.3290) 0\n",
      "torch.Size([350, 500, 3]) tensor(128.3816) 0\n",
      "torch.Size([332, 500, 3]) tensor(105.9272) 0\n",
      "torch.Size([500, 380, 3]) tensor(80.5839) 0\n",
      "torch.Size([499, 369, 3]) tensor(96.7563) 0\n",
      "torch.Size([353, 406, 3]) tensor(76.4511) 0\n",
      "torch.Size([434, 469, 3]) tensor(95.5996) 0\n",
      "torch.Size([356, 300, 3]) tensor(105.8289) 0\n",
      "torch.Size([375, 500, 3]) tensor(165.4644) 0\n",
      "torch.Size([375, 500, 3]) tensor(69.5479) 0\n",
      "torch.Size([443, 440, 3]) tensor(100.3878) 0\n",
      "torch.Size([346, 346, 3]) tensor(141.2377) 0\n",
      "torch.Size([375, 500, 3]) tensor(166.8845) 0\n",
      "torch.Size([325, 400, 3]) tensor(108.5382) 0\n",
      "torch.Size([412, 480, 3]) tensor(131.0980) 0\n",
      "torch.Size([375, 500, 3]) tensor(108.6436) 0\n",
      "torch.Size([375, 500, 3]) tensor(108.2774) 0\n",
      "torch.Size([375, 500, 3]) tensor(124.6917) 0\n",
      "torch.Size([192, 256, 3]) tensor(131.1025) 0\n",
      "torch.Size([300, 300, 3]) tensor(92.0397) 0\n",
      "torch.Size([382, 500, 3]) tensor(143.5988) 0\n",
      "torch.Size([375, 500, 3]) tensor(112.6046) 0\n",
      "torch.Size([375, 500, 3]) tensor(133.9642) 0\n",
      "torch.Size([404, 500, 3]) tensor(101.4513) 0\n",
      "torch.Size([323, 299, 3]) tensor(118.3589) 0\n",
      "torch.Size([200, 180, 3]) tensor(90.8325) 0\n",
      "torch.Size([336, 448, 3]) tensor(95.4130) 0\n",
      "torch.Size([375, 500, 3]) tensor(111.0162) 0\n",
      "torch.Size([375, 500, 3]) tensor(52.5486) 0\n",
      "torch.Size([375, 500, 3]) tensor(92.8182) 0\n",
      "torch.Size([375, 500, 3]) tensor(118.3949) 0\n",
      "torch.Size([347, 400, 3]) tensor(152.3392) 0\n",
      "torch.Size([500, 256, 3]) tensor(133.2758) 0\n",
      "torch.Size([470, 500, 3]) tensor(150.2154) 0\n",
      "torch.Size([197, 190, 3]) tensor(155.7979) 0\n",
      "torch.Size([477, 489, 3]) tensor(71.8504) 0\n",
      "torch.Size([500, 286, 3]) tensor(108.8927) 0\n",
      "torch.Size([375, 500, 3]) tensor(133.8976) 0\n",
      "torch.Size([400, 324, 3]) tensor(101.4541) 0\n",
      "torch.Size([260, 340, 3]) tensor(115.5862) 0\n",
      "torch.Size([283, 500, 3]) tensor(128.5783) 0\n",
      "torch.Size([304, 400, 3]) tensor(129.4801) 0\n",
      "torch.Size([328, 500, 3]) tensor(97.8530) 0\n",
      "torch.Size([375, 500, 3]) tensor(94.6595) 0\n",
      "torch.Size([250, 250, 3]) tensor(108.8922) 0\n",
      "torch.Size([323, 216, 3]) tensor(61.4387) 0\n",
      "torch.Size([500, 391, 3]) tensor(140.9955) 0\n",
      "torch.Size([336, 500, 3]) tensor(64.3065) 0\n",
      "torch.Size([338, 350, 3]) tensor(120.3431) 0\n",
      "torch.Size([375, 500, 3]) tensor(96.9158) 0\n",
      "torch.Size([346, 500, 3]) tensor(80.0710) 0\n",
      "torch.Size([375, 500, 3]) tensor(105.4066) 0\n",
      "torch.Size([375, 500, 3]) tensor(104.6380) 0\n",
      "torch.Size([280, 313, 3]) tensor(109.0670) 0\n",
      "torch.Size([270, 287, 3]) tensor(112.4721) 0\n",
      "torch.Size([375, 500, 3]) tensor(90.8140) 0\n",
      "torch.Size([279, 350, 3]) tensor(128.6499) 0\n",
      "torch.Size([375, 500, 3]) tensor(76.3183) 0\n",
      "torch.Size([223, 500, 3]) tensor(91.5149) 0\n",
      "torch.Size([117, 180, 3]) tensor(122.6730) 0\n",
      "torch.Size([225, 300, 3]) tensor(101.2053) 0\n"
     ]
    },
    {
     "name": "stdout",
     "output_type": "stream",
     "text": [
      "torch.Size([373, 500, 3]) tensor(145.1047) 0\n",
      "torch.Size([260, 340, 3]) tensor(101.2517) 0\n",
      "torch.Size([500, 495, 3]) tensor(89.9973) 0\n",
      "torch.Size([300, 170, 3]) tensor(128.0620) 0\n",
      "torch.Size([233, 350, 3]) tensor(124.3584) 0\n",
      "torch.Size([458, 480, 3]) tensor(100.8338) 0\n",
      "torch.Size([375, 500, 3]) tensor(103.0858) 0\n",
      "torch.Size([500, 282, 3]) tensor(124.7595) 0\n",
      "torch.Size([375, 500, 3]) tensor(131.4075) 0\n",
      "torch.Size([375, 500, 3]) tensor(139.8580) 0\n",
      "torch.Size([439, 235, 3]) tensor(124.3102) 0\n",
      "torch.Size([405, 450, 3]) tensor(155.6468) 0\n",
      "torch.Size([103, 107, 3]) tensor(92.6408) 0\n",
      "torch.Size([375, 500, 3]) tensor(117.8945) 0\n",
      "torch.Size([475, 500, 3]) tensor(137.5767) 0\n",
      "torch.Size([287, 426, 3]) tensor(109.4654) 0\n",
      "torch.Size([317, 230, 3]) tensor(52.6295) 0\n",
      "torch.Size([332, 500, 3]) tensor(94.8029) 0\n",
      "torch.Size([226, 329, 3]) tensor(78.6315) 0\n",
      "torch.Size([375, 500, 3]) tensor(101.1450) 0\n",
      "torch.Size([259, 448, 3]) tensor(114.4865) 0\n",
      "torch.Size([240, 320, 3]) tensor(112.6168) 0\n",
      "torch.Size([308, 410, 3]) tensor(127.1258) 0\n",
      "torch.Size([303, 500, 3]) tensor(109.1976) 0\n",
      "torch.Size([375, 500, 3]) tensor(119.8834) 0\n",
      "torch.Size([291, 336, 3]) tensor(102.5917) 0\n",
      "torch.Size([232, 350, 3]) tensor(99.3620) 0\n",
      "torch.Size([375, 400, 3]) tensor(149.1639) 0\n",
      "torch.Size([357, 494, 3]) tensor(129.4854) 0\n",
      "torch.Size([375, 500, 3]) tensor(120.4558) 0\n",
      "torch.Size([493, 500, 3]) tensor(90.9996) 0\n",
      "torch.Size([473, 257, 3]) tensor(88.3748) 0\n",
      "torch.Size([500, 375, 3]) tensor(122.6698) 0\n",
      "torch.Size([280, 200, 3]) tensor(151.2547) 0\n",
      "torch.Size([375, 500, 3]) tensor(106.0564) 0\n",
      "torch.Size([375, 500, 3]) tensor(117.2012) 0\n",
      "torch.Size([382, 500, 3]) tensor(160.5465) 0\n",
      "torch.Size([151, 274, 3]) tensor(116.4405) 0\n",
      "torch.Size([300, 400, 3]) tensor(151.7942) 0\n",
      "torch.Size([500, 301, 3]) tensor(143.2999) 0\n",
      "torch.Size([249, 350, 3]) tensor(128.2288) 0\n",
      "torch.Size([375, 500, 3]) tensor(102.6150) 0\n",
      "torch.Size([270, 259, 3]) tensor(98.6310) 0\n",
      "torch.Size([180, 181, 3]) tensor(180.5029) 0\n",
      "torch.Size([500, 500, 3]) tensor(101.4081) 0\n",
      "torch.Size([347, 460, 3]) tensor(119.5021) 0\n",
      "torch.Size([480, 360, 3]) tensor(100.4483) 0\n",
      "torch.Size([375, 500, 3]) tensor(93.3475) 0\n",
      "torch.Size([144, 216, 3]) tensor(119.1104) 0\n",
      "torch.Size([312, 500, 3]) tensor(170.8127) 0\n",
      "torch.Size([375, 500, 3]) tensor(79.2238) 0\n",
      "torch.Size([430, 500, 3]) tensor(110.4646) 0\n",
      "torch.Size([342, 400, 3]) tensor(108.6895) 0\n",
      "torch.Size([255, 292, 3]) tensor(103.1645) 0\n",
      "torch.Size([375, 500, 3]) tensor(124.4581) 0\n",
      "torch.Size([450, 500, 3]) tensor(109.4788) 0\n",
      "torch.Size([242, 500, 3]) tensor(94.3751) 0\n",
      "torch.Size([375, 500, 3]) tensor(70.0832) 0\n",
      "torch.Size([389, 288, 3]) tensor(106.6365) 0\n",
      "torch.Size([400, 266, 3]) tensor(143.8169) 0\n",
      "torch.Size([500, 272, 3]) tensor(105.0636) 0\n",
      "torch.Size([375, 500, 3]) tensor(103.4818) 0\n",
      "torch.Size([500, 478, 3]) tensor(119.1727) 0\n",
      "torch.Size([500, 325, 3]) tensor(125.2706) 0\n",
      "torch.Size([396, 500, 3]) tensor(134.3790) 0\n",
      "torch.Size([458, 492, 3]) tensor(86.1371) 0\n",
      "torch.Size([375, 500, 3]) tensor(166.2214) 0\n",
      "torch.Size([365, 500, 3]) tensor(75.4442) 0\n",
      "torch.Size([375, 500, 3]) tensor(100.6478) 0\n",
      "torch.Size([375, 500, 3]) tensor(135.7716) 0\n",
      "torch.Size([375, 500, 3]) tensor(133.4479) 0\n",
      "torch.Size([500, 462, 3]) tensor(101.7934) 0\n",
      "torch.Size([291, 347, 3]) tensor(179.1393) 0\n",
      "torch.Size([149, 192, 3]) tensor(132.3756) 0\n",
      "torch.Size([411, 500, 3]) tensor(128.1134) 0\n",
      "torch.Size([375, 500, 3]) tensor(111.6805) 0\n",
      "torch.Size([500, 333, 3]) tensor(127.5184) 0\n",
      "torch.Size([375, 500, 3]) tensor(113.9046) 0\n",
      "torch.Size([375, 500, 3]) tensor(118.7933) 0\n",
      "torch.Size([500, 369, 3]) tensor(115.4566) 0\n",
      "torch.Size([120, 80, 3]) tensor(96.8668) 0\n",
      "torch.Size([375, 500, 3]) tensor(69.7053) 0\n",
      "torch.Size([239, 320, 3]) tensor(74.0302) 0\n",
      "torch.Size([157, 240, 3]) tensor(100.2322) 0\n",
      "torch.Size([375, 500, 3]) tensor(142.8429) 0\n",
      "torch.Size([500, 375, 3]) tensor(103.9883) 0\n",
      "torch.Size([415, 500, 3]) tensor(156.6863) 0\n",
      "torch.Size([320, 278, 3]) tensor(106.1040) 0\n",
      "torch.Size([90, 105, 3]) tensor(64.8462) 0\n",
      "torch.Size([375, 500, 3]) tensor(139.7183) 0\n",
      "torch.Size([500, 375, 3]) tensor(74.3258) 0\n",
      "torch.Size([226, 276, 3]) tensor(95.8285) 0\n",
      "torch.Size([262, 350, 3]) tensor(158.5033) 0\n",
      "torch.Size([500, 431, 3]) tensor(115.3802) 0\n",
      "torch.Size([240, 320, 3]) tensor(112.1218) 0\n",
      "torch.Size([246, 350, 3]) tensor(122.6385) 0\n",
      "torch.Size([240, 320, 3]) tensor(78.6794) 0\n",
      "torch.Size([273, 345, 3]) tensor(64.2171) 0\n",
      "torch.Size([289, 500, 3]) tensor(142.6564) 0\n",
      "torch.Size([351, 500, 3]) tensor(116.6238) 0\n",
      "torch.Size([406, 463, 3]) tensor(115.9896) 0\n",
      "torch.Size([258, 500, 3]) tensor(106.8193) 0\n",
      "torch.Size([336, 382, 3]) tensor(112.6391) 0\n",
      "torch.Size([374, 500, 3]) tensor(72.5061) 0\n",
      "torch.Size([222, 350, 3]) tensor(137.1749) 0\n",
      "torch.Size([375, 500, 3]) tensor(88.3140) 0\n",
      "torch.Size([378, 500, 3]) tensor(92.2092) 0\n",
      "torch.Size([500, 281, 3]) tensor(105.1386) 0\n",
      "torch.Size([426, 500, 3]) tensor(86.9313) 0\n",
      "torch.Size([300, 400, 3]) tensor(164.6925) 0\n",
      "torch.Size([333, 500, 3]) tensor(147.4723) 0\n",
      "torch.Size([500, 478, 3]) tensor(110.8399) 0\n",
      "torch.Size([375, 500, 3]) tensor(148.3430) 0\n",
      "torch.Size([289, 288, 3]) tensor(117.3082) 0\n",
      "torch.Size([240, 320, 3]) tensor(116.0737) 0\n",
      "torch.Size([375, 500, 3]) tensor(130.4241) 0\n",
      "torch.Size([375, 500, 3]) tensor(70.3446) 0\n",
      "torch.Size([363, 396, 3]) tensor(116.1183) 0\n",
      "torch.Size([500, 461, 3]) tensor(114.9045) 0\n",
      "torch.Size([224, 320, 3]) tensor(100.1386) 0\n",
      "torch.Size([500, 471, 3]) tensor(124.3848) 0\n",
      "torch.Size([240, 320, 3]) tensor(107.4620) 0\n",
      "torch.Size([163, 150, 3]) tensor(59.4126) 0\n",
      "torch.Size([500, 470, 3]) tensor(175.2602) 0\n",
      "torch.Size([375, 500, 3]) tensor(96.8668) 0\n",
      "torch.Size([309, 400, 3]) tensor(70.5078) 0\n",
      "torch.Size([375, 500, 3]) tensor(98.2803) 0\n",
      "torch.Size([300, 400, 3]) tensor(129.7499) 0\n",
      "torch.Size([191, 500, 3]) tensor(123.1897) 0\n",
      "torch.Size([500, 427, 3]) tensor(68.2308) 0\n",
      "torch.Size([249, 320, 3]) tensor(99.1750) 0\n",
      "torch.Size([375, 500, 3]) tensor(97.8759) 0\n",
      "torch.Size([308, 410, 3]) tensor(145.9661) 0\n",
      "torch.Size([357, 500, 3]) tensor(103.3469) 0\n",
      "torch.Size([196, 306, 3]) tensor(88.6176) 0\n",
      "torch.Size([375, 500, 3]) tensor(109.0619) 0\n",
      "torch.Size([181, 250, 3]) tensor(190.5916) 0\n",
      "torch.Size([405, 254, 3]) tensor(80.8197) 0\n",
      "torch.Size([345, 350, 3]) tensor(136.8130) 0\n",
      "torch.Size([374, 500, 3]) tensor(136.1146) 0\n",
      "torch.Size([333, 500, 3]) tensor(118.5566) 0\n",
      "torch.Size([374, 500, 3]) tensor(134.6462) 0\n",
      "torch.Size([375, 500, 3]) tensor(107.1566) 0\n",
      "torch.Size([375, 500, 3]) tensor(130.5125) 0\n",
      "torch.Size([252, 288, 3]) tensor(82.9113) 0\n",
      "torch.Size([200, 180, 3]) tensor(69.9333) 0\n",
      "torch.Size([377, 400, 3]) tensor(113.5470) 0\n",
      "torch.Size([489, 500, 3]) tensor(99.0077) 0\n",
      "torch.Size([372, 500, 3]) tensor(100.3349) 0\n",
      "torch.Size([418, 500, 3]) tensor(141.7934) 0\n",
      "torch.Size([373, 381, 3]) tensor(133.0212) 0\n",
      "torch.Size([477, 366, 3]) tensor(91.0306) 0\n",
      "torch.Size([500, 383, 3]) tensor(91.1874) 0\n",
      "torch.Size([375, 500, 3]) tensor(156.2550) 0\n",
      "torch.Size([500, 423, 3]) tensor(133.5013) 0\n",
      "torch.Size([375, 500, 3]) tensor(64.8444) 0\n",
      "torch.Size([292, 350, 3]) tensor(117.7298) 0\n",
      "torch.Size([500, 333, 3]) tensor(166.2119) 0\n",
      "torch.Size([375, 500, 3]) tensor(100.6744) 0\n",
      "torch.Size([500, 489, 3]) tensor(182.3667) 0\n",
      "torch.Size([332, 500, 3]) tensor(135.4726) 0\n",
      "torch.Size([129, 154, 3]) tensor(171.7076) 0\n",
      "torch.Size([398, 489, 3]) tensor(70.4109) 0\n",
      "torch.Size([300, 346, 3]) tensor(75.9748) 0\n",
      "torch.Size([375, 500, 3]) tensor(77.6046) 0\n",
      "torch.Size([187, 200, 3]) tensor(110.0492) 0\n",
      "torch.Size([158, 169, 3]) tensor(114.0750) 0\n",
      "torch.Size([383, 500, 3]) tensor(101.3192) 0\n",
      "torch.Size([500, 401, 3]) tensor(110.3028) 0\n",
      "torch.Size([438, 500, 3]) tensor(134.6759) 0\n",
      "torch.Size([370, 488, 3]) tensor(116.2471) 0\n",
      "torch.Size([375, 500, 3]) tensor(121.1762) 0\n",
      "torch.Size([333, 500, 3]) tensor(94.2005) 0\n",
      "torch.Size([375, 500, 3]) tensor(104.9066) 0\n",
      "torch.Size([375, 500, 3]) tensor(129.5917) 0\n",
      "torch.Size([500, 436, 3]) tensor(123.0539) 0\n",
      "torch.Size([431, 500, 3]) tensor(103.1027) 0\n",
      "torch.Size([500, 346, 3]) tensor(105.8951) 0\n",
      "torch.Size([270, 360, 3]) tensor(110.6112) 0\n",
      "torch.Size([375, 500, 3]) tensor(147.6184) 0\n",
      "torch.Size([391, 440, 3]) tensor(103.1407) 0\n",
      "torch.Size([303, 470, 3]) tensor(137.5998) 0\n",
      "torch.Size([320, 332, 3]) tensor(80.6279) 0\n",
      "torch.Size([375, 500, 3]) tensor(97.4665) 0\n",
      "torch.Size([500, 489, 3]) tensor(108.7976) 0\n",
      "torch.Size([346, 500, 3]) tensor(104.2116) 0\n",
      "torch.Size([401, 500, 3]) tensor(141.9231) 0\n",
      "torch.Size([375, 500, 3]) tensor(72.2020) 0\n",
      "torch.Size([308, 500, 3]) tensor(88.5496) 0\n",
      "torch.Size([375, 500, 3]) tensor(107.8781) 0\n",
      "torch.Size([173, 238, 3]) tensor(164.0155) 0\n",
      "torch.Size([375, 500, 3]) tensor(119.8141) 0\n",
      "torch.Size([400, 253, 3]) tensor(106.3185) 0\n",
      "torch.Size([375, 500, 3]) tensor(94.1491) 0\n",
      "torch.Size([425, 500, 3]) tensor(126.3924) 0\n",
      "torch.Size([500, 499, 3]) tensor(112.8874) 0\n"
     ]
    }
   ],
   "source": [
    "# 继承Dataset 必须实现两个方法　__getitem__() 返回一条数据一个标签　　　__len__()返回数据集的大小\n",
    "class DogCat(data.Dataset):\n",
    "    def __init__(self, root):\n",
    "        imgs_cls = os.listdir(root)\n",
    "        # print(imgs_cls)\n",
    "        self.path = [os.path.join(root, _) for _ in imgs_cls] \n",
    "        # 这里只是指定路径　　并不加载图片\n",
    "        cat_path = os.listdir(self.path[0])\n",
    "        dog_path = os.listdir(self.path[1])\n",
    "        \n",
    "        cat_path = [os.path.join(self.path[0], _) for _ in cat_path]\n",
    "        dog_path = [os.path.join(self.path[1], _) for _ in dog_path]\n",
    "        \n",
    "        self.imgs = []\n",
    "        self.imgs.extend(cat_path)\n",
    "        self.imgs.extend(dog_path)\n",
    "        \n",
    "    def __getitem__(self, index):\n",
    "        img_path = self.imgs[index]\n",
    "        \n",
    "        label = 1 if 'dog' in img_path.split('/')[-2] else 0\n",
    "        pil_img = Image.open(img_path)\n",
    "        array = np.asarray(pil_img)\n",
    "        data = torch.from_numpy(array)\n",
    "        return data, label\n",
    "    \n",
    "    def __len__(self):\n",
    "        return len(self.imgs)\n",
    "\n",
    "dataset = DogCat('./DogVSCat/')\n",
    "img, label = dataset[0]\n",
    "\n",
    "for img, label in dataset:\n",
    "    print(img.size(), img.float().mean(), label)\n"
   ]
  },
  {
   "cell_type": "code",
   "execution_count": 19,
   "metadata": {},
   "outputs": [],
   "source": [
    "# 借助torchvision预处理图片\n",
    "import os\n",
    "from PIL import Image\n",
    "import numpy as np\n",
    "from torchvision import transforms\n",
    "\n",
    "# transforms中的Compose是将一些列预处理操作连在一块进行处理\n",
    "transform = transforms.Compose([\n",
    "    transforms.Resize(224),    # 缩放图片，保持长宽不变　最短边为224像素\n",
    "    transforms.CenterCrop(224),  # 从图片中间切出224*224 的图片\n",
    "    transforms.ToTensor(),  # 将图片(image)转为Tensor, 归一化至[0, 1]\n",
    "    transforms.Normalize(mean=[.5, .5, .5], std=[.5, .5, .5])  # 标准化到[-1, 1]\n",
    "])"
   ]
  },
  {
   "cell_type": "code",
   "execution_count": 20,
   "metadata": {},
   "outputs": [
    {
     "name": "stdout",
     "output_type": "stream",
     "text": [
      "torch.Size([3, 224, 224]) 1\n",
      "torch.Size([3, 224, 224]) 1\n",
      "torch.Size([3, 224, 224]) 1\n",
      "torch.Size([3, 224, 224]) 1\n",
      "torch.Size([3, 224, 224]) 1\n",
      "torch.Size([3, 224, 224]) 1\n",
      "torch.Size([3, 224, 224]) 1\n",
      "torch.Size([3, 224, 224]) 1\n",
      "torch.Size([3, 224, 224]) 1\n",
      "torch.Size([3, 224, 224]) 1\n",
      "torch.Size([3, 224, 224]) 1\n",
      "torch.Size([3, 224, 224]) 1\n",
      "torch.Size([3, 224, 224]) 1\n",
      "torch.Size([3, 224, 224]) 1\n",
      "torch.Size([3, 224, 224]) 1\n",
      "torch.Size([3, 224, 224]) 1\n",
      "torch.Size([3, 224, 224]) 1\n",
      "torch.Size([3, 224, 224]) 1\n",
      "torch.Size([3, 224, 224]) 1\n",
      "torch.Size([3, 224, 224]) 1\n",
      "torch.Size([3, 224, 224]) 1\n",
      "torch.Size([3, 224, 224]) 1\n",
      "torch.Size([3, 224, 224]) 1\n",
      "torch.Size([3, 224, 224]) 1\n",
      "torch.Size([3, 224, 224]) 1\n",
      "torch.Size([3, 224, 224]) 1\n",
      "torch.Size([3, 224, 224]) 1\n",
      "torch.Size([3, 224, 224]) 1\n",
      "torch.Size([3, 224, 224]) 1\n",
      "torch.Size([3, 224, 224]) 1\n",
      "torch.Size([3, 224, 224]) 1\n",
      "torch.Size([3, 224, 224]) 1\n",
      "torch.Size([3, 224, 224]) 1\n",
      "torch.Size([3, 224, 224]) 1\n",
      "torch.Size([3, 224, 224]) 1\n",
      "torch.Size([3, 224, 224]) 1\n",
      "torch.Size([3, 224, 224]) 1\n",
      "torch.Size([3, 224, 224]) 1\n",
      "torch.Size([3, 224, 224]) 1\n",
      "torch.Size([3, 224, 224]) 1\n",
      "torch.Size([3, 224, 224]) 1\n",
      "torch.Size([3, 224, 224]) 1\n",
      "torch.Size([3, 224, 224]) 1\n",
      "torch.Size([3, 224, 224]) 1\n",
      "torch.Size([3, 224, 224]) 1\n",
      "torch.Size([3, 224, 224]) 1\n",
      "torch.Size([3, 224, 224]) 1\n",
      "torch.Size([3, 224, 224]) 1\n",
      "torch.Size([3, 224, 224]) 1\n",
      "torch.Size([3, 224, 224]) 1\n",
      "torch.Size([3, 224, 224]) 1\n",
      "torch.Size([3, 224, 224]) 1\n",
      "torch.Size([3, 224, 224]) 1\n",
      "torch.Size([3, 224, 224]) 1\n",
      "torch.Size([3, 224, 224]) 1\n",
      "torch.Size([3, 224, 224]) 1\n",
      "torch.Size([3, 224, 224]) 1\n",
      "torch.Size([3, 224, 224]) 1\n",
      "torch.Size([3, 224, 224]) 1\n",
      "torch.Size([3, 224, 224]) 1\n",
      "torch.Size([3, 224, 224]) 1\n",
      "torch.Size([3, 224, 224]) 1\n",
      "torch.Size([3, 224, 224]) 1\n",
      "torch.Size([3, 224, 224]) 1\n",
      "torch.Size([3, 224, 224]) 1\n",
      "torch.Size([3, 224, 224]) 1\n",
      "torch.Size([3, 224, 224]) 1\n",
      "torch.Size([3, 224, 224]) 1\n",
      "torch.Size([3, 224, 224]) 1\n",
      "torch.Size([3, 224, 224]) 1\n",
      "torch.Size([3, 224, 224]) 1\n",
      "torch.Size([3, 224, 224]) 1\n",
      "torch.Size([3, 224, 224]) 1\n",
      "torch.Size([3, 224, 224]) 1\n",
      "torch.Size([3, 224, 224]) 1\n",
      "torch.Size([3, 224, 224]) 1\n",
      "torch.Size([3, 224, 224]) 1\n",
      "torch.Size([3, 224, 224]) 1\n",
      "torch.Size([3, 224, 224]) 1\n",
      "torch.Size([3, 224, 224]) 1\n",
      "torch.Size([3, 224, 224]) 1\n",
      "torch.Size([3, 224, 224]) 1\n",
      "torch.Size([3, 224, 224]) 1\n",
      "torch.Size([3, 224, 224]) 1\n",
      "torch.Size([3, 224, 224]) 1\n",
      "torch.Size([3, 224, 224]) 1\n",
      "torch.Size([3, 224, 224]) 1\n",
      "torch.Size([3, 224, 224]) 1\n",
      "torch.Size([3, 224, 224]) 1\n",
      "torch.Size([3, 224, 224]) 1\n",
      "torch.Size([3, 224, 224]) 1\n",
      "torch.Size([3, 224, 224]) 1\n",
      "torch.Size([3, 224, 224]) 1\n",
      "torch.Size([3, 224, 224]) 1\n",
      "torch.Size([3, 224, 224]) 1\n",
      "torch.Size([3, 224, 224]) 1\n",
      "torch.Size([3, 224, 224]) 1\n",
      "torch.Size([3, 224, 224]) 1\n",
      "torch.Size([3, 224, 224]) 1\n",
      "torch.Size([3, 224, 224]) 1\n",
      "torch.Size([3, 224, 224]) 1\n",
      "torch.Size([3, 224, 224]) 1\n",
      "torch.Size([3, 224, 224]) 1\n",
      "torch.Size([3, 224, 224]) 1\n",
      "torch.Size([3, 224, 224]) 1\n",
      "torch.Size([3, 224, 224]) 1\n",
      "torch.Size([3, 224, 224]) 1\n",
      "torch.Size([3, 224, 224]) 1\n",
      "torch.Size([3, 224, 224]) 1\n",
      "torch.Size([3, 224, 224]) 1\n",
      "torch.Size([3, 224, 224]) 1\n",
      "torch.Size([3, 224, 224]) 1\n",
      "torch.Size([3, 224, 224]) 1\n",
      "torch.Size([3, 224, 224]) 1\n",
      "torch.Size([3, 224, 224]) 1\n",
      "torch.Size([3, 224, 224]) 1\n",
      "torch.Size([3, 224, 224]) 1\n",
      "torch.Size([3, 224, 224]) 1\n",
      "torch.Size([3, 224, 224]) 1\n",
      "torch.Size([3, 224, 224]) 1\n",
      "torch.Size([3, 224, 224]) 1\n",
      "torch.Size([3, 224, 224]) 1\n",
      "torch.Size([3, 224, 224]) 1\n",
      "torch.Size([3, 224, 224]) 1\n",
      "torch.Size([3, 224, 224]) 1\n",
      "torch.Size([3, 224, 224]) 1\n",
      "torch.Size([3, 224, 224]) 1\n",
      "torch.Size([3, 224, 224]) 1\n",
      "torch.Size([3, 224, 224]) 1\n",
      "torch.Size([3, 224, 224]) 1\n",
      "torch.Size([3, 224, 224]) 1\n",
      "torch.Size([3, 224, 224]) 1\n",
      "torch.Size([3, 224, 224]) 1\n",
      "torch.Size([3, 224, 224]) 1\n",
      "torch.Size([3, 224, 224]) 1\n",
      "torch.Size([3, 224, 224]) 1\n",
      "torch.Size([3, 224, 224]) 1\n",
      "torch.Size([3, 224, 224]) 1\n",
      "torch.Size([3, 224, 224]) 1\n",
      "torch.Size([3, 224, 224]) 1\n",
      "torch.Size([3, 224, 224]) 1\n",
      "torch.Size([3, 224, 224]) 1\n",
      "torch.Size([3, 224, 224]) 1\n",
      "torch.Size([3, 224, 224]) 1\n",
      "torch.Size([3, 224, 224]) 1\n",
      "torch.Size([3, 224, 224]) 1\n",
      "torch.Size([3, 224, 224]) 1\n",
      "torch.Size([3, 224, 224]) 1\n",
      "torch.Size([3, 224, 224]) 1\n",
      "torch.Size([3, 224, 224]) 1\n",
      "torch.Size([3, 224, 224]) 1\n",
      "torch.Size([3, 224, 224]) 1\n",
      "torch.Size([3, 224, 224]) 1\n",
      "torch.Size([3, 224, 224]) 1\n",
      "torch.Size([3, 224, 224]) 1\n",
      "torch.Size([3, 224, 224]) 1\n",
      "torch.Size([3, 224, 224]) 1\n",
      "torch.Size([3, 224, 224]) 1\n",
      "torch.Size([3, 224, 224]) 1\n",
      "torch.Size([3, 224, 224]) 1\n",
      "torch.Size([3, 224, 224]) 1\n",
      "torch.Size([3, 224, 224]) 1\n",
      "torch.Size([3, 224, 224]) 1\n",
      "torch.Size([3, 224, 224]) 1\n",
      "torch.Size([3, 224, 224]) 1\n",
      "torch.Size([3, 224, 224]) 1\n",
      "torch.Size([3, 224, 224]) 1\n",
      "torch.Size([3, 224, 224]) 1\n",
      "torch.Size([3, 224, 224]) 1\n",
      "torch.Size([3, 224, 224]) 1\n",
      "torch.Size([3, 224, 224]) 1\n",
      "torch.Size([3, 224, 224]) 1\n",
      "torch.Size([3, 224, 224]) 1\n",
      "torch.Size([3, 224, 224]) 1\n",
      "torch.Size([3, 224, 224]) 1\n",
      "torch.Size([3, 224, 224]) 1\n",
      "torch.Size([3, 224, 224]) 1\n",
      "torch.Size([3, 224, 224]) 1\n",
      "torch.Size([3, 224, 224]) 1\n",
      "torch.Size([3, 224, 224]) 1\n",
      "torch.Size([3, 224, 224]) 1\n",
      "torch.Size([3, 224, 224]) 1\n",
      "torch.Size([3, 224, 224]) 1\n",
      "torch.Size([3, 224, 224]) 1\n",
      "torch.Size([3, 224, 224]) 1\n",
      "torch.Size([3, 224, 224]) 1\n",
      "torch.Size([3, 224, 224]) 1\n",
      "torch.Size([3, 224, 224]) 1\n",
      "torch.Size([3, 224, 224]) 1\n",
      "torch.Size([3, 224, 224]) 1\n",
      "torch.Size([3, 224, 224]) 1\n",
      "torch.Size([3, 224, 224]) 1\n",
      "torch.Size([3, 224, 224]) 1\n",
      "torch.Size([3, 224, 224]) 1\n",
      "torch.Size([3, 224, 224]) 1\n",
      "torch.Size([3, 224, 224]) 1\n",
      "torch.Size([3, 224, 224]) 1\n",
      "torch.Size([3, 224, 224]) 1\n",
      "torch.Size([3, 224, 224]) 1\n",
      "torch.Size([3, 224, 224]) 1\n",
      "torch.Size([3, 224, 224]) 1\n",
      "torch.Size([3, 224, 224]) 1\n",
      "torch.Size([3, 224, 224]) 1\n",
      "torch.Size([3, 224, 224]) 1\n",
      "torch.Size([3, 224, 224]) 1\n",
      "torch.Size([3, 224, 224]) 1\n",
      "torch.Size([3, 224, 224]) 1\n",
      "torch.Size([3, 224, 224]) 1\n",
      "torch.Size([3, 224, 224]) 1\n",
      "torch.Size([3, 224, 224]) 1\n",
      "torch.Size([3, 224, 224]) 1\n",
      "torch.Size([3, 224, 224]) 1\n",
      "torch.Size([3, 224, 224]) 1\n",
      "torch.Size([3, 224, 224]) 1\n",
      "torch.Size([3, 224, 224]) 1\n",
      "torch.Size([3, 224, 224]) 1\n",
      "torch.Size([3, 224, 224]) 1\n",
      "torch.Size([3, 224, 224]) 1\n",
      "torch.Size([3, 224, 224]) 1\n",
      "torch.Size([3, 224, 224]) 1\n",
      "torch.Size([3, 224, 224]) 1\n",
      "torch.Size([3, 224, 224]) 1\n",
      "torch.Size([3, 224, 224]) 1\n",
      "torch.Size([3, 224, 224]) 1\n",
      "torch.Size([3, 224, 224]) 1\n",
      "torch.Size([3, 224, 224]) 1\n",
      "torch.Size([3, 224, 224]) 1\n",
      "torch.Size([3, 224, 224]) 1\n",
      "torch.Size([3, 224, 224]) 1\n",
      "torch.Size([3, 224, 224]) 1\n",
      "torch.Size([3, 224, 224]) 1\n",
      "torch.Size([3, 224, 224]) 1\n",
      "torch.Size([3, 224, 224]) 1\n",
      "torch.Size([3, 224, 224]) 1\n",
      "torch.Size([3, 224, 224]) 1\n",
      "torch.Size([3, 224, 224]) 1\n",
      "torch.Size([3, 224, 224]) 1\n",
      "torch.Size([3, 224, 224]) 1\n",
      "torch.Size([3, 224, 224]) 1\n",
      "torch.Size([3, 224, 224]) 1\n",
      "torch.Size([3, 224, 224]) 1\n",
      "torch.Size([3, 224, 224]) 1\n",
      "torch.Size([3, 224, 224]) 1\n",
      "torch.Size([3, 224, 224]) 1\n",
      "torch.Size([3, 224, 224]) 1\n",
      "torch.Size([3, 224, 224]) 1\n",
      "torch.Size([3, 224, 224]) 1\n",
      "torch.Size([3, 224, 224]) 1\n",
      "torch.Size([3, 224, 224]) 1\n",
      "torch.Size([3, 224, 224]) 1\n",
      "torch.Size([3, 224, 224]) 1\n",
      "torch.Size([3, 224, 224]) 1\n",
      "torch.Size([3, 224, 224]) 1\n",
      "torch.Size([3, 224, 224]) 1\n",
      "torch.Size([3, 224, 224]) 1\n",
      "torch.Size([3, 224, 224]) 1\n",
      "torch.Size([3, 224, 224]) 1\n",
      "torch.Size([3, 224, 224]) 1\n",
      "torch.Size([3, 224, 224]) 1\n",
      "torch.Size([3, 224, 224]) 1\n",
      "torch.Size([3, 224, 224]) 1\n",
      "torch.Size([3, 224, 224]) 1\n",
      "torch.Size([3, 224, 224]) 1\n",
      "torch.Size([3, 224, 224]) 1\n",
      "torch.Size([3, 224, 224]) 1\n",
      "torch.Size([3, 224, 224]) 1\n",
      "torch.Size([3, 224, 224]) 1\n",
      "torch.Size([3, 224, 224]) 1\n",
      "torch.Size([3, 224, 224]) 1\n",
      "torch.Size([3, 224, 224]) 1\n",
      "torch.Size([3, 224, 224]) 1\n",
      "torch.Size([3, 224, 224]) 1\n",
      "torch.Size([3, 224, 224]) 1\n",
      "torch.Size([3, 224, 224]) 1\n",
      "torch.Size([3, 224, 224]) 1\n",
      "torch.Size([3, 224, 224]) 1\n",
      "torch.Size([3, 224, 224]) 1\n",
      "torch.Size([3, 224, 224]) 1\n",
      "torch.Size([3, 224, 224]) 1\n",
      "torch.Size([3, 224, 224]) 1\n",
      "torch.Size([3, 224, 224]) 1\n",
      "torch.Size([3, 224, 224]) 1\n",
      "torch.Size([3, 224, 224]) 1\n",
      "torch.Size([3, 224, 224]) 1\n",
      "torch.Size([3, 224, 224]) 1\n",
      "torch.Size([3, 224, 224]) 1\n",
      "torch.Size([3, 224, 224]) 1\n",
      "torch.Size([3, 224, 224]) 1\n",
      "torch.Size([3, 224, 224]) 1\n",
      "torch.Size([3, 224, 224]) 1\n",
      "torch.Size([3, 224, 224]) 1\n",
      "torch.Size([3, 224, 224]) 1\n",
      "torch.Size([3, 224, 224]) 1\n",
      "torch.Size([3, 224, 224]) 1\n",
      "torch.Size([3, 224, 224]) 1\n",
      "torch.Size([3, 224, 224]) 1\n",
      "torch.Size([3, 224, 224]) 1\n",
      "torch.Size([3, 224, 224]) 1\n",
      "torch.Size([3, 224, 224]) 1\n",
      "torch.Size([3, 224, 224]) 1\n",
      "torch.Size([3, 224, 224]) 1\n",
      "torch.Size([3, 224, 224]) 1\n",
      "torch.Size([3, 224, 224]) 1\n",
      "torch.Size([3, 224, 224]) 1\n",
      "torch.Size([3, 224, 224]) 1\n",
      "torch.Size([3, 224, 224]) 1\n",
      "torch.Size([3, 224, 224]) 1\n",
      "torch.Size([3, 224, 224]) 1\n",
      "torch.Size([3, 224, 224]) 1\n",
      "torch.Size([3, 224, 224]) 1\n",
      "torch.Size([3, 224, 224]) 1\n",
      "torch.Size([3, 224, 224]) 1\n",
      "torch.Size([3, 224, 224]) 1\n",
      "torch.Size([3, 224, 224]) 1\n"
     ]
    },
    {
     "name": "stdout",
     "output_type": "stream",
     "text": [
      "torch.Size([3, 224, 224]) 1\n",
      "torch.Size([3, 224, 224]) 1\n",
      "torch.Size([3, 224, 224]) 1\n",
      "torch.Size([3, 224, 224]) 1\n",
      "torch.Size([3, 224, 224]) 1\n",
      "torch.Size([3, 224, 224]) 1\n",
      "torch.Size([3, 224, 224]) 1\n",
      "torch.Size([3, 224, 224]) 1\n",
      "torch.Size([3, 224, 224]) 1\n",
      "torch.Size([3, 224, 224]) 1\n",
      "torch.Size([3, 224, 224]) 1\n",
      "torch.Size([3, 224, 224]) 1\n",
      "torch.Size([3, 224, 224]) 1\n",
      "torch.Size([3, 224, 224]) 1\n",
      "torch.Size([3, 224, 224]) 1\n",
      "torch.Size([3, 224, 224]) 1\n",
      "torch.Size([3, 224, 224]) 1\n",
      "torch.Size([3, 224, 224]) 1\n",
      "torch.Size([3, 224, 224]) 1\n",
      "torch.Size([3, 224, 224]) 1\n",
      "torch.Size([3, 224, 224]) 1\n",
      "torch.Size([3, 224, 224]) 1\n",
      "torch.Size([3, 224, 224]) 1\n",
      "torch.Size([3, 224, 224]) 1\n",
      "torch.Size([3, 224, 224]) 1\n",
      "torch.Size([3, 224, 224]) 1\n",
      "torch.Size([3, 224, 224]) 1\n",
      "torch.Size([3, 224, 224]) 1\n",
      "torch.Size([3, 224, 224]) 1\n",
      "torch.Size([3, 224, 224]) 1\n",
      "torch.Size([3, 224, 224]) 1\n",
      "torch.Size([3, 224, 224]) 1\n",
      "torch.Size([3, 224, 224]) 1\n",
      "torch.Size([3, 224, 224]) 1\n",
      "torch.Size([3, 224, 224]) 1\n",
      "torch.Size([3, 224, 224]) 1\n",
      "torch.Size([3, 224, 224]) 1\n",
      "torch.Size([3, 224, 224]) 1\n",
      "torch.Size([3, 224, 224]) 1\n",
      "torch.Size([3, 224, 224]) 1\n",
      "torch.Size([3, 224, 224]) 1\n",
      "torch.Size([3, 224, 224]) 1\n",
      "torch.Size([3, 224, 224]) 1\n",
      "torch.Size([3, 224, 224]) 1\n",
      "torch.Size([3, 224, 224]) 1\n",
      "torch.Size([3, 224, 224]) 1\n",
      "torch.Size([3, 224, 224]) 1\n",
      "torch.Size([3, 224, 224]) 1\n",
      "torch.Size([3, 224, 224]) 1\n",
      "torch.Size([3, 224, 224]) 1\n",
      "torch.Size([3, 224, 224]) 1\n",
      "torch.Size([3, 224, 224]) 1\n",
      "torch.Size([3, 224, 224]) 1\n",
      "torch.Size([3, 224, 224]) 1\n",
      "torch.Size([3, 224, 224]) 1\n",
      "torch.Size([3, 224, 224]) 1\n",
      "torch.Size([3, 224, 224]) 1\n",
      "torch.Size([3, 224, 224]) 1\n",
      "torch.Size([3, 224, 224]) 1\n",
      "torch.Size([3, 224, 224]) 1\n",
      "torch.Size([3, 224, 224]) 1\n",
      "torch.Size([3, 224, 224]) 1\n",
      "torch.Size([3, 224, 224]) 1\n",
      "torch.Size([3, 224, 224]) 1\n",
      "torch.Size([3, 224, 224]) 1\n",
      "torch.Size([3, 224, 224]) 1\n",
      "torch.Size([3, 224, 224]) 1\n",
      "torch.Size([3, 224, 224]) 1\n",
      "torch.Size([3, 224, 224]) 1\n",
      "torch.Size([3, 224, 224]) 1\n",
      "torch.Size([3, 224, 224]) 1\n",
      "torch.Size([3, 224, 224]) 1\n",
      "torch.Size([3, 224, 224]) 1\n",
      "torch.Size([3, 224, 224]) 1\n",
      "torch.Size([3, 224, 224]) 1\n",
      "torch.Size([3, 224, 224]) 1\n",
      "torch.Size([3, 224, 224]) 1\n",
      "torch.Size([3, 224, 224]) 1\n",
      "torch.Size([3, 224, 224]) 1\n",
      "torch.Size([3, 224, 224]) 1\n",
      "torch.Size([3, 224, 224]) 1\n",
      "torch.Size([3, 224, 224]) 1\n",
      "torch.Size([3, 224, 224]) 1\n",
      "torch.Size([3, 224, 224]) 1\n",
      "torch.Size([3, 224, 224]) 1\n",
      "torch.Size([3, 224, 224]) 1\n",
      "torch.Size([3, 224, 224]) 1\n",
      "torch.Size([3, 224, 224]) 1\n",
      "torch.Size([3, 224, 224]) 1\n",
      "torch.Size([3, 224, 224]) 1\n",
      "torch.Size([3, 224, 224]) 1\n",
      "torch.Size([3, 224, 224]) 1\n",
      "torch.Size([3, 224, 224]) 1\n",
      "torch.Size([3, 224, 224]) 1\n",
      "torch.Size([3, 224, 224]) 1\n",
      "torch.Size([3, 224, 224]) 1\n",
      "torch.Size([3, 224, 224]) 1\n",
      "torch.Size([3, 224, 224]) 1\n",
      "torch.Size([3, 224, 224]) 1\n",
      "torch.Size([3, 224, 224]) 1\n",
      "torch.Size([3, 224, 224]) 1\n",
      "torch.Size([3, 224, 224]) 1\n",
      "torch.Size([3, 224, 224]) 1\n",
      "torch.Size([3, 224, 224]) 1\n",
      "torch.Size([3, 224, 224]) 1\n",
      "torch.Size([3, 224, 224]) 1\n",
      "torch.Size([3, 224, 224]) 1\n",
      "torch.Size([3, 224, 224]) 1\n",
      "torch.Size([3, 224, 224]) 1\n",
      "torch.Size([3, 224, 224]) 1\n",
      "torch.Size([3, 224, 224]) 1\n",
      "torch.Size([3, 224, 224]) 1\n",
      "torch.Size([3, 224, 224]) 1\n",
      "torch.Size([3, 224, 224]) 1\n",
      "torch.Size([3, 224, 224]) 1\n",
      "torch.Size([3, 224, 224]) 1\n",
      "torch.Size([3, 224, 224]) 1\n",
      "torch.Size([3, 224, 224]) 1\n",
      "torch.Size([3, 224, 224]) 1\n",
      "torch.Size([3, 224, 224]) 1\n",
      "torch.Size([3, 224, 224]) 1\n",
      "torch.Size([3, 224, 224]) 1\n",
      "torch.Size([3, 224, 224]) 1\n",
      "torch.Size([3, 224, 224]) 1\n",
      "torch.Size([3, 224, 224]) 1\n",
      "torch.Size([3, 224, 224]) 1\n",
      "torch.Size([3, 224, 224]) 1\n",
      "torch.Size([3, 224, 224]) 1\n",
      "torch.Size([3, 224, 224]) 1\n",
      "torch.Size([3, 224, 224]) 1\n",
      "torch.Size([3, 224, 224]) 1\n",
      "torch.Size([3, 224, 224]) 1\n",
      "torch.Size([3, 224, 224]) 1\n",
      "torch.Size([3, 224, 224]) 1\n",
      "torch.Size([3, 224, 224]) 1\n",
      "torch.Size([3, 224, 224]) 1\n",
      "torch.Size([3, 224, 224]) 1\n",
      "torch.Size([3, 224, 224]) 1\n",
      "torch.Size([3, 224, 224]) 1\n",
      "torch.Size([3, 224, 224]) 1\n",
      "torch.Size([3, 224, 224]) 1\n",
      "torch.Size([3, 224, 224]) 1\n",
      "torch.Size([3, 224, 224]) 1\n",
      "torch.Size([3, 224, 224]) 1\n",
      "torch.Size([3, 224, 224]) 1\n",
      "torch.Size([3, 224, 224]) 1\n",
      "torch.Size([3, 224, 224]) 1\n",
      "torch.Size([3, 224, 224]) 1\n",
      "torch.Size([3, 224, 224]) 1\n",
      "torch.Size([3, 224, 224]) 1\n",
      "torch.Size([3, 224, 224]) 1\n",
      "torch.Size([3, 224, 224]) 1\n",
      "torch.Size([3, 224, 224]) 1\n",
      "torch.Size([3, 224, 224]) 1\n",
      "torch.Size([3, 224, 224]) 1\n",
      "torch.Size([3, 224, 224]) 1\n",
      "torch.Size([3, 224, 224]) 1\n",
      "torch.Size([3, 224, 224]) 1\n",
      "torch.Size([3, 224, 224]) 1\n",
      "torch.Size([3, 224, 224]) 1\n",
      "torch.Size([3, 224, 224]) 1\n",
      "torch.Size([3, 224, 224]) 1\n",
      "torch.Size([3, 224, 224]) 1\n",
      "torch.Size([3, 224, 224]) 1\n",
      "torch.Size([3, 224, 224]) 1\n",
      "torch.Size([3, 224, 224]) 1\n",
      "torch.Size([3, 224, 224]) 1\n",
      "torch.Size([3, 224, 224]) 1\n",
      "torch.Size([3, 224, 224]) 1\n",
      "torch.Size([3, 224, 224]) 1\n",
      "torch.Size([3, 224, 224]) 1\n",
      "torch.Size([3, 224, 224]) 1\n",
      "torch.Size([3, 224, 224]) 1\n",
      "torch.Size([3, 224, 224]) 1\n",
      "torch.Size([3, 224, 224]) 1\n",
      "torch.Size([3, 224, 224]) 1\n",
      "torch.Size([3, 224, 224]) 1\n",
      "torch.Size([3, 224, 224]) 1\n",
      "torch.Size([3, 224, 224]) 1\n",
      "torch.Size([3, 224, 224]) 1\n",
      "torch.Size([3, 224, 224]) 1\n",
      "torch.Size([3, 224, 224]) 1\n",
      "torch.Size([3, 224, 224]) 1\n",
      "torch.Size([3, 224, 224]) 1\n",
      "torch.Size([3, 224, 224]) 1\n",
      "torch.Size([3, 224, 224]) 1\n",
      "torch.Size([3, 224, 224]) 0\n",
      "torch.Size([3, 224, 224]) 0\n",
      "torch.Size([3, 224, 224]) 0\n",
      "torch.Size([3, 224, 224]) 0\n",
      "torch.Size([3, 224, 224]) 0\n",
      "torch.Size([3, 224, 224]) 0\n",
      "torch.Size([3, 224, 224]) 0\n",
      "torch.Size([3, 224, 224]) 0\n",
      "torch.Size([3, 224, 224]) 0\n",
      "torch.Size([3, 224, 224]) 0\n",
      "torch.Size([3, 224, 224]) 0\n",
      "torch.Size([3, 224, 224]) 0\n",
      "torch.Size([3, 224, 224]) 0\n",
      "torch.Size([3, 224, 224]) 0\n",
      "torch.Size([3, 224, 224]) 0\n",
      "torch.Size([3, 224, 224]) 0\n",
      "torch.Size([3, 224, 224]) 0\n",
      "torch.Size([3, 224, 224]) 0\n",
      "torch.Size([3, 224, 224]) 0\n",
      "torch.Size([3, 224, 224]) 0\n",
      "torch.Size([3, 224, 224]) 0\n",
      "torch.Size([3, 224, 224]) 0\n",
      "torch.Size([3, 224, 224]) 0\n",
      "torch.Size([3, 224, 224]) 0\n",
      "torch.Size([3, 224, 224]) 0\n",
      "torch.Size([3, 224, 224]) 0\n",
      "torch.Size([3, 224, 224]) 0\n",
      "torch.Size([3, 224, 224]) 0\n",
      "torch.Size([3, 224, 224]) 0\n",
      "torch.Size([3, 224, 224]) 0\n",
      "torch.Size([3, 224, 224]) 0\n",
      "torch.Size([3, 224, 224]) 0\n",
      "torch.Size([3, 224, 224]) 0\n",
      "torch.Size([3, 224, 224]) 0\n",
      "torch.Size([3, 224, 224]) 0\n",
      "torch.Size([3, 224, 224]) 0\n",
      "torch.Size([3, 224, 224]) 0\n",
      "torch.Size([3, 224, 224]) 0\n",
      "torch.Size([3, 224, 224]) 0\n",
      "torch.Size([3, 224, 224]) 0\n",
      "torch.Size([3, 224, 224]) 0\n",
      "torch.Size([3, 224, 224]) 0\n",
      "torch.Size([3, 224, 224]) 0\n",
      "torch.Size([3, 224, 224]) 0\n",
      "torch.Size([3, 224, 224]) 0\n",
      "torch.Size([3, 224, 224]) 0\n",
      "torch.Size([3, 224, 224]) 0\n",
      "torch.Size([3, 224, 224]) 0\n",
      "torch.Size([3, 224, 224]) 0\n",
      "torch.Size([3, 224, 224]) 0\n",
      "torch.Size([3, 224, 224]) 0\n",
      "torch.Size([3, 224, 224]) 0\n",
      "torch.Size([3, 224, 224]) 0\n",
      "torch.Size([3, 224, 224]) 0\n",
      "torch.Size([3, 224, 224]) 0\n",
      "torch.Size([3, 224, 224]) 0\n",
      "torch.Size([3, 224, 224]) 0\n",
      "torch.Size([3, 224, 224]) 0\n",
      "torch.Size([3, 224, 224]) 0\n",
      "torch.Size([3, 224, 224]) 0\n",
      "torch.Size([3, 224, 224]) 0\n",
      "torch.Size([3, 224, 224]) 0\n",
      "torch.Size([3, 224, 224]) 0\n",
      "torch.Size([3, 224, 224]) 0\n",
      "torch.Size([3, 224, 224]) 0\n",
      "torch.Size([3, 224, 224]) 0\n",
      "torch.Size([3, 224, 224]) 0\n",
      "torch.Size([3, 224, 224]) 0\n",
      "torch.Size([3, 224, 224]) 0\n",
      "torch.Size([3, 224, 224]) 0\n",
      "torch.Size([3, 224, 224]) 0\n",
      "torch.Size([3, 224, 224]) 0\n",
      "torch.Size([3, 224, 224]) 0\n",
      "torch.Size([3, 224, 224]) 0\n",
      "torch.Size([3, 224, 224]) 0\n",
      "torch.Size([3, 224, 224]) 0\n",
      "torch.Size([3, 224, 224]) 0\n",
      "torch.Size([3, 224, 224]) 0\n",
      "torch.Size([3, 224, 224]) 0\n",
      "torch.Size([3, 224, 224]) 0\n",
      "torch.Size([3, 224, 224]) 0\n",
      "torch.Size([3, 224, 224]) 0\n",
      "torch.Size([3, 224, 224]) 0\n",
      "torch.Size([3, 224, 224]) 0\n",
      "torch.Size([3, 224, 224]) 0\n",
      "torch.Size([3, 224, 224]) 0\n",
      "torch.Size([3, 224, 224]) 0\n",
      "torch.Size([3, 224, 224]) 0\n",
      "torch.Size([3, 224, 224]) 0\n",
      "torch.Size([3, 224, 224]) 0\n",
      "torch.Size([3, 224, 224]) 0\n",
      "torch.Size([3, 224, 224]) 0\n",
      "torch.Size([3, 224, 224]) 0\n",
      "torch.Size([3, 224, 224]) 0\n",
      "torch.Size([3, 224, 224]) 0\n",
      "torch.Size([3, 224, 224]) 0\n",
      "torch.Size([3, 224, 224]) 0\n",
      "torch.Size([3, 224, 224]) 0\n",
      "torch.Size([3, 224, 224]) 0\n",
      "torch.Size([3, 224, 224]) 0\n",
      "torch.Size([3, 224, 224]) 0\n",
      "torch.Size([3, 224, 224]) 0\n",
      "torch.Size([3, 224, 224]) 0\n",
      "torch.Size([3, 224, 224]) 0\n",
      "torch.Size([3, 224, 224]) 0\n",
      "torch.Size([3, 224, 224]) 0\n",
      "torch.Size([3, 224, 224]) 0\n",
      "torch.Size([3, 224, 224]) 0\n",
      "torch.Size([3, 224, 224]) 0\n",
      "torch.Size([3, 224, 224]) 0\n",
      "torch.Size([3, 224, 224]) 0\n",
      "torch.Size([3, 224, 224]) 0\n",
      "torch.Size([3, 224, 224]) 0\n",
      "torch.Size([3, 224, 224]) 0\n",
      "torch.Size([3, 224, 224]) 0\n",
      "torch.Size([3, 224, 224]) 0\n",
      "torch.Size([3, 224, 224]) 0\n",
      "torch.Size([3, 224, 224]) 0\n",
      "torch.Size([3, 224, 224]) 0\n",
      "torch.Size([3, 224, 224]) 0\n",
      "torch.Size([3, 224, 224]) 0\n",
      "torch.Size([3, 224, 224]) 0\n",
      "torch.Size([3, 224, 224]) 0\n",
      "torch.Size([3, 224, 224]) 0\n",
      "torch.Size([3, 224, 224]) 0\n",
      "torch.Size([3, 224, 224]) 0\n",
      "torch.Size([3, 224, 224]) 0\n"
     ]
    },
    {
     "name": "stdout",
     "output_type": "stream",
     "text": [
      "torch.Size([3, 224, 224]) 0\n",
      "torch.Size([3, 224, 224]) 0\n",
      "torch.Size([3, 224, 224]) 0\n",
      "torch.Size([3, 224, 224]) 0\n",
      "torch.Size([3, 224, 224]) 0\n",
      "torch.Size([3, 224, 224]) 0\n",
      "torch.Size([3, 224, 224]) 0\n",
      "torch.Size([3, 224, 224]) 0\n",
      "torch.Size([3, 224, 224]) 0\n",
      "torch.Size([3, 224, 224]) 0\n",
      "torch.Size([3, 224, 224]) 0\n",
      "torch.Size([3, 224, 224]) 0\n",
      "torch.Size([3, 224, 224]) 0\n",
      "torch.Size([3, 224, 224]) 0\n",
      "torch.Size([3, 224, 224]) 0\n",
      "torch.Size([3, 224, 224]) 0\n",
      "torch.Size([3, 224, 224]) 0\n",
      "torch.Size([3, 224, 224]) 0\n",
      "torch.Size([3, 224, 224]) 0\n",
      "torch.Size([3, 224, 224]) 0\n",
      "torch.Size([3, 224, 224]) 0\n",
      "torch.Size([3, 224, 224]) 0\n",
      "torch.Size([3, 224, 224]) 0\n",
      "torch.Size([3, 224, 224]) 0\n",
      "torch.Size([3, 224, 224]) 0\n",
      "torch.Size([3, 224, 224]) 0\n",
      "torch.Size([3, 224, 224]) 0\n",
      "torch.Size([3, 224, 224]) 0\n",
      "torch.Size([3, 224, 224]) 0\n",
      "torch.Size([3, 224, 224]) 0\n",
      "torch.Size([3, 224, 224]) 0\n",
      "torch.Size([3, 224, 224]) 0\n",
      "torch.Size([3, 224, 224]) 0\n",
      "torch.Size([3, 224, 224]) 0\n",
      "torch.Size([3, 224, 224]) 0\n",
      "torch.Size([3, 224, 224]) 0\n",
      "torch.Size([3, 224, 224]) 0\n",
      "torch.Size([3, 224, 224]) 0\n",
      "torch.Size([3, 224, 224]) 0\n",
      "torch.Size([3, 224, 224]) 0\n",
      "torch.Size([3, 224, 224]) 0\n",
      "torch.Size([3, 224, 224]) 0\n",
      "torch.Size([3, 224, 224]) 0\n",
      "torch.Size([3, 224, 224]) 0\n",
      "torch.Size([3, 224, 224]) 0\n",
      "torch.Size([3, 224, 224]) 0\n",
      "torch.Size([3, 224, 224]) 0\n",
      "torch.Size([3, 224, 224]) 0\n",
      "torch.Size([3, 224, 224]) 0\n",
      "torch.Size([3, 224, 224]) 0\n",
      "torch.Size([3, 224, 224]) 0\n",
      "torch.Size([3, 224, 224]) 0\n",
      "torch.Size([3, 224, 224]) 0\n",
      "torch.Size([3, 224, 224]) 0\n",
      "torch.Size([3, 224, 224]) 0\n",
      "torch.Size([3, 224, 224]) 0\n",
      "torch.Size([3, 224, 224]) 0\n",
      "torch.Size([3, 224, 224]) 0\n",
      "torch.Size([3, 224, 224]) 0\n",
      "torch.Size([3, 224, 224]) 0\n",
      "torch.Size([3, 224, 224]) 0\n",
      "torch.Size([3, 224, 224]) 0\n",
      "torch.Size([3, 224, 224]) 0\n",
      "torch.Size([3, 224, 224]) 0\n",
      "torch.Size([3, 224, 224]) 0\n",
      "torch.Size([3, 224, 224]) 0\n",
      "torch.Size([3, 224, 224]) 0\n",
      "torch.Size([3, 224, 224]) 0\n",
      "torch.Size([3, 224, 224]) 0\n",
      "torch.Size([3, 224, 224]) 0\n",
      "torch.Size([3, 224, 224]) 0\n",
      "torch.Size([3, 224, 224]) 0\n"
     ]
    },
    {
     "ename": "RuntimeError",
     "evalue": "output with shape [1, 224, 224] doesn't match the broadcast shape [3, 224, 224]",
     "output_type": "error",
     "traceback": [
      "\u001b[0;31m---------------------------------------------------------------------------\u001b[0m",
      "\u001b[0;31mRuntimeError\u001b[0m                              Traceback (most recent call last)",
      "\u001b[0;32m<ipython-input-20-e85014327551>\u001b[0m in \u001b[0;36m<module>\u001b[0;34m\u001b[0m\n\u001b[1;32m     33\u001b[0m \u001b[0mimg\u001b[0m\u001b[0;34m,\u001b[0m \u001b[0mlabel\u001b[0m \u001b[0;34m=\u001b[0m \u001b[0mdataset\u001b[0m\u001b[0;34m[\u001b[0m\u001b[0;36m0\u001b[0m\u001b[0;34m]\u001b[0m\u001b[0;34m\u001b[0m\u001b[0;34m\u001b[0m\u001b[0m\n\u001b[1;32m     34\u001b[0m \u001b[0;34m\u001b[0m\u001b[0m\n\u001b[0;32m---> 35\u001b[0;31m \u001b[0;32mfor\u001b[0m \u001b[0mimg\u001b[0m\u001b[0;34m,\u001b[0m \u001b[0mlabel\u001b[0m \u001b[0;32min\u001b[0m \u001b[0mdataset\u001b[0m\u001b[0;34m:\u001b[0m\u001b[0;34m\u001b[0m\u001b[0;34m\u001b[0m\u001b[0m\n\u001b[0m\u001b[1;32m     36\u001b[0m     \u001b[0mprint\u001b[0m\u001b[0;34m(\u001b[0m\u001b[0mimg\u001b[0m\u001b[0;34m.\u001b[0m\u001b[0msize\u001b[0m\u001b[0;34m(\u001b[0m\u001b[0;34m)\u001b[0m\u001b[0;34m,\u001b[0m \u001b[0mlabel\u001b[0m\u001b[0;34m)\u001b[0m\u001b[0;34m\u001b[0m\u001b[0;34m\u001b[0m\u001b[0m\n",
      "\u001b[0;32m<ipython-input-20-e85014327551>\u001b[0m in \u001b[0;36m__getitem__\u001b[0;34m(self, index)\u001b[0m\n\u001b[1;32m     24\u001b[0m         \u001b[0mdata\u001b[0m \u001b[0;34m=\u001b[0m \u001b[0mImage\u001b[0m\u001b[0;34m.\u001b[0m\u001b[0mopen\u001b[0m\u001b[0;34m(\u001b[0m\u001b[0mimg_path\u001b[0m\u001b[0;34m)\u001b[0m\u001b[0;34m\u001b[0m\u001b[0;34m\u001b[0m\u001b[0m\n\u001b[1;32m     25\u001b[0m         \u001b[0;32mif\u001b[0m \u001b[0mself\u001b[0m\u001b[0;34m.\u001b[0m\u001b[0mtransforms\u001b[0m\u001b[0;34m:\u001b[0m\u001b[0;34m\u001b[0m\u001b[0;34m\u001b[0m\u001b[0m\n\u001b[0;32m---> 26\u001b[0;31m             \u001b[0mdata\u001b[0m \u001b[0;34m=\u001b[0m \u001b[0mself\u001b[0m\u001b[0;34m.\u001b[0m\u001b[0mtransforms\u001b[0m\u001b[0;34m(\u001b[0m\u001b[0mdata\u001b[0m\u001b[0;34m)\u001b[0m\u001b[0;34m\u001b[0m\u001b[0;34m\u001b[0m\u001b[0m\n\u001b[0m\u001b[1;32m     27\u001b[0m         \u001b[0;32mreturn\u001b[0m \u001b[0mdata\u001b[0m\u001b[0;34m,\u001b[0m \u001b[0mlabel\u001b[0m\u001b[0;34m\u001b[0m\u001b[0;34m\u001b[0m\u001b[0m\n\u001b[1;32m     28\u001b[0m \u001b[0;34m\u001b[0m\u001b[0m\n",
      "\u001b[0;32m~/anaconda3/envs/torch_env/lib/python3.6/site-packages/torchvision/transforms/transforms.py\u001b[0m in \u001b[0;36m__call__\u001b[0;34m(self, img)\u001b[0m\n\u001b[1;32m     59\u001b[0m     \u001b[0;32mdef\u001b[0m \u001b[0m__call__\u001b[0m\u001b[0;34m(\u001b[0m\u001b[0mself\u001b[0m\u001b[0;34m,\u001b[0m \u001b[0mimg\u001b[0m\u001b[0;34m)\u001b[0m\u001b[0;34m:\u001b[0m\u001b[0;34m\u001b[0m\u001b[0;34m\u001b[0m\u001b[0m\n\u001b[1;32m     60\u001b[0m         \u001b[0;32mfor\u001b[0m \u001b[0mt\u001b[0m \u001b[0;32min\u001b[0m \u001b[0mself\u001b[0m\u001b[0;34m.\u001b[0m\u001b[0mtransforms\u001b[0m\u001b[0;34m:\u001b[0m\u001b[0;34m\u001b[0m\u001b[0;34m\u001b[0m\u001b[0m\n\u001b[0;32m---> 61\u001b[0;31m             \u001b[0mimg\u001b[0m \u001b[0;34m=\u001b[0m \u001b[0mt\u001b[0m\u001b[0;34m(\u001b[0m\u001b[0mimg\u001b[0m\u001b[0;34m)\u001b[0m\u001b[0;34m\u001b[0m\u001b[0;34m\u001b[0m\u001b[0m\n\u001b[0m\u001b[1;32m     62\u001b[0m         \u001b[0;32mreturn\u001b[0m \u001b[0mimg\u001b[0m\u001b[0;34m\u001b[0m\u001b[0;34m\u001b[0m\u001b[0m\n\u001b[1;32m     63\u001b[0m \u001b[0;34m\u001b[0m\u001b[0m\n",
      "\u001b[0;32m~/anaconda3/envs/torch_env/lib/python3.6/site-packages/torchvision/transforms/transforms.py\u001b[0m in \u001b[0;36m__call__\u001b[0;34m(self, tensor)\u001b[0m\n\u001b[1;32m    164\u001b[0m             \u001b[0mTensor\u001b[0m\u001b[0;34m:\u001b[0m \u001b[0mNormalized\u001b[0m \u001b[0mTensor\u001b[0m \u001b[0mimage\u001b[0m\u001b[0;34m.\u001b[0m\u001b[0;34m\u001b[0m\u001b[0;34m\u001b[0m\u001b[0m\n\u001b[1;32m    165\u001b[0m         \"\"\"\n\u001b[0;32m--> 166\u001b[0;31m         \u001b[0;32mreturn\u001b[0m \u001b[0mF\u001b[0m\u001b[0;34m.\u001b[0m\u001b[0mnormalize\u001b[0m\u001b[0;34m(\u001b[0m\u001b[0mtensor\u001b[0m\u001b[0;34m,\u001b[0m \u001b[0mself\u001b[0m\u001b[0;34m.\u001b[0m\u001b[0mmean\u001b[0m\u001b[0;34m,\u001b[0m \u001b[0mself\u001b[0m\u001b[0;34m.\u001b[0m\u001b[0mstd\u001b[0m\u001b[0;34m,\u001b[0m \u001b[0mself\u001b[0m\u001b[0;34m.\u001b[0m\u001b[0minplace\u001b[0m\u001b[0;34m)\u001b[0m\u001b[0;34m\u001b[0m\u001b[0;34m\u001b[0m\u001b[0m\n\u001b[0m\u001b[1;32m    167\u001b[0m \u001b[0;34m\u001b[0m\u001b[0m\n\u001b[1;32m    168\u001b[0m     \u001b[0;32mdef\u001b[0m \u001b[0m__repr__\u001b[0m\u001b[0;34m(\u001b[0m\u001b[0mself\u001b[0m\u001b[0;34m)\u001b[0m\u001b[0;34m:\u001b[0m\u001b[0;34m\u001b[0m\u001b[0;34m\u001b[0m\u001b[0m\n",
      "\u001b[0;32m~/anaconda3/envs/torch_env/lib/python3.6/site-packages/torchvision/transforms/functional.py\u001b[0m in \u001b[0;36mnormalize\u001b[0;34m(tensor, mean, std, inplace)\u001b[0m\n\u001b[1;32m    215\u001b[0m     \u001b[0mmean\u001b[0m \u001b[0;34m=\u001b[0m \u001b[0mtorch\u001b[0m\u001b[0;34m.\u001b[0m\u001b[0mas_tensor\u001b[0m\u001b[0;34m(\u001b[0m\u001b[0mmean\u001b[0m\u001b[0;34m,\u001b[0m \u001b[0mdtype\u001b[0m\u001b[0;34m=\u001b[0m\u001b[0mdtype\u001b[0m\u001b[0;34m,\u001b[0m \u001b[0mdevice\u001b[0m\u001b[0;34m=\u001b[0m\u001b[0mtensor\u001b[0m\u001b[0;34m.\u001b[0m\u001b[0mdevice\u001b[0m\u001b[0;34m)\u001b[0m\u001b[0;34m\u001b[0m\u001b[0;34m\u001b[0m\u001b[0m\n\u001b[1;32m    216\u001b[0m     \u001b[0mstd\u001b[0m \u001b[0;34m=\u001b[0m \u001b[0mtorch\u001b[0m\u001b[0;34m.\u001b[0m\u001b[0mas_tensor\u001b[0m\u001b[0;34m(\u001b[0m\u001b[0mstd\u001b[0m\u001b[0;34m,\u001b[0m \u001b[0mdtype\u001b[0m\u001b[0;34m=\u001b[0m\u001b[0mdtype\u001b[0m\u001b[0;34m,\u001b[0m \u001b[0mdevice\u001b[0m\u001b[0;34m=\u001b[0m\u001b[0mtensor\u001b[0m\u001b[0;34m.\u001b[0m\u001b[0mdevice\u001b[0m\u001b[0;34m)\u001b[0m\u001b[0;34m\u001b[0m\u001b[0;34m\u001b[0m\u001b[0m\n\u001b[0;32m--> 217\u001b[0;31m     \u001b[0mtensor\u001b[0m\u001b[0;34m.\u001b[0m\u001b[0msub_\u001b[0m\u001b[0;34m(\u001b[0m\u001b[0mmean\u001b[0m\u001b[0;34m[\u001b[0m\u001b[0;34m:\u001b[0m\u001b[0;34m,\u001b[0m \u001b[0;32mNone\u001b[0m\u001b[0;34m,\u001b[0m \u001b[0;32mNone\u001b[0m\u001b[0;34m]\u001b[0m\u001b[0;34m)\u001b[0m\u001b[0;34m.\u001b[0m\u001b[0mdiv_\u001b[0m\u001b[0;34m(\u001b[0m\u001b[0mstd\u001b[0m\u001b[0;34m[\u001b[0m\u001b[0;34m:\u001b[0m\u001b[0;34m,\u001b[0m \u001b[0;32mNone\u001b[0m\u001b[0;34m,\u001b[0m \u001b[0;32mNone\u001b[0m\u001b[0;34m]\u001b[0m\u001b[0;34m)\u001b[0m\u001b[0;34m\u001b[0m\u001b[0;34m\u001b[0m\u001b[0m\n\u001b[0m\u001b[1;32m    218\u001b[0m     \u001b[0;32mreturn\u001b[0m \u001b[0mtensor\u001b[0m\u001b[0;34m\u001b[0m\u001b[0;34m\u001b[0m\u001b[0m\n\u001b[1;32m    219\u001b[0m \u001b[0;34m\u001b[0m\u001b[0m\n",
      "\u001b[0;31mRuntimeError\u001b[0m: output with shape [1, 224, 224] doesn't match the broadcast shape [3, 224, 224]"
     ]
    }
   ],
   "source": [
    "# 继承Dataset 必须实现两个方法　__getitem__() 返回一条数据一个标签　　　__len__()返回数据集的大小\n",
    "class DogCat(data.Dataset):\n",
    "    def __init__(self, root, transforms=None):\n",
    "        imgs_cls = os.listdir(root)\n",
    "        # print(imgs_cls)\n",
    "        self.path = [os.path.join(root, _) for _ in imgs_cls] \n",
    "        # 这里只是指定路径　　并不加载图片\n",
    "        cat_path = os.listdir(self.path[0])\n",
    "        dog_path = os.listdir(self.path[1])\n",
    "        \n",
    "        cat_path = [os.path.join(self.path[0], _) for _ in cat_path]\n",
    "        dog_path = [os.path.join(self.path[1], _) for _ in dog_path]\n",
    "        \n",
    "        self.imgs = []\n",
    "        self.imgs.extend(cat_path)\n",
    "        self.imgs.extend(dog_path)\n",
    "        \n",
    "        self.transforms = transforms\n",
    "        \n",
    "    def __getitem__(self, index):\n",
    "        img_path = self.imgs[index]\n",
    "        \n",
    "        label = 1 if 'dog' in img_path.split('/')[-2] else 0\n",
    "        data = Image.open(img_path)\n",
    "        if self.transforms:\n",
    "            data = self.transforms(data)\n",
    "        return data, label\n",
    "    \n",
    "    def __len__(self):\n",
    "        return len(self.imgs)\n",
    "\n",
    "dataset = DogCat('./DogVSCat/', transform)\n",
    "img, label = dataset[0]\n",
    "\n",
    "for img, label in dataset:\n",
    "    print(img.size(), label)\n"
   ]
  },
  {
   "cell_type": "code",
   "execution_count": 22,
   "metadata": {},
   "outputs": [
    {
     "data": {
      "text/plain": [
       "torch.Size([16, 3, 224, 224])"
      ]
     },
     "execution_count": 22,
     "metadata": {},
     "output_type": "execute_result"
    }
   ],
   "source": [
    "from torch.utils.data import DataLoader\n",
    "\n",
    "dataloader = DataLoader(dataset,\n",
    "                       batch_size=16,\n",
    "                       shuffle=True,\n",
    "                       num_workers=0, # 使用多进程加载数据，0表示不用多进程\n",
    "                       drop_last=False  # dataset中的数据个数可能不是batch_size的倍数,drop_last为True表明扔掉这些数据\n",
    "                       )\n",
    "dataiter = iter(dataloader)\n",
    "imgs, labels = next(dataiter)\n",
    "imgs.size()"
   ]
  },
  {
   "cell_type": "markdown",
   "metadata": {},
   "source": [
    "# 计算机视觉工具包"
   ]
  },
  {
   "cell_type": "code",
   "execution_count": 2,
   "metadata": {},
   "outputs": [
    {
     "name": "stderr",
     "output_type": "stream",
     "text": [
      "Downloading: \"https://download.pytorch.org/models/resnet34-333f7ec4.pth\" to /home/shawroad/.cache/torch/checkpoints/resnet34-333f7ec4.pth\n",
      "100%|██████████| 83.3M/83.3M [17:02<00:00, 85.4kB/s]  \n"
     ]
    }
   ],
   "source": [
    "from torchvision import models\n",
    "from torch import nn\n",
    "\n",
    "# 加载与训练好的\n",
    "resnet34 = models.resnet34(pretrained=True, num_classes=1000)  # pretrained=True 加载预训练模型\n",
    "# print(resnet34)\n",
    "\n",
    "# 修改后面的全连接为十分类问题\n",
    "resnet34.fc = nn.Linear(512, 10)"
   ]
  },
  {
   "cell_type": "code",
   "execution_count": 9,
   "metadata": {},
   "outputs": [
    {
     "data": {
      "image/png": "[encoded data removed]",
      "text/plain": [
       "<PIL.Image.Image image mode=RGB size=64x64 at 0x7FEE8D7946A0>"
      ]
     },
     "execution_count": 9,
     "metadata": {},
     "output_type": "execute_result"
    }
   ],
   "source": [
    "# 将随机的一段数字转为图片显示出来\n",
    "from torchvision import transforms\n",
    "from torchvision.utils import save_image\n",
    "from PIL import Image\n",
    "import torch\n",
    "to_pil = transforms.ToPILImage()\n",
    "img = to_pil(torch.randn(3, 64, 64))\n",
    "img\n"
   ]
  },
  {
   "cell_type": "code",
   "execution_count": 13,
   "metadata": {},
   "outputs": [
    {
     "data": {
      "text/plain": [
       "(64, 64, 3)"
      ]
     },
     "execution_count": 13,
     "metadata": {},
     "output_type": "execute_result"
    }
   ],
   "source": [
    "import numpy as np\n",
    "img_array = np.array(img)\n",
    "img_array.shape\n",
    "\n",
    "# save_image(img, 'a.png')\n",
    "# Image.open('a.png')"
   ]
  },
  {
   "cell_type": "markdown",
   "metadata": {},
   "source": [
    "# TensorBoard的使用"
   ]
  },
  {
   "cell_type": "code",
   "execution_count": 14,
   "metadata": {
    "collapsed": true
   },
   "outputs": [
    {
     "name": "stderr",
     "output_type": "stream",
     "text": [
      "/home/shawroad/anaconda3/envs/torch_env/lib/python3.6/site-packages/tensorflow/python/framework/dtypes.py:516: FutureWarning: Passing (type, 1) or '1type' as a synonym of type is deprecated; in a future version of numpy, it will be understood as (type, (1,)) / '(1,)type'.\n",
      "  _np_qint8 = np.dtype([(\"qint8\", np.int8, 1)])\n",
      "/home/shawroad/anaconda3/envs/torch_env/lib/python3.6/site-packages/tensorflow/python/framework/dtypes.py:517: FutureWarning: Passing (type, 1) or '1type' as a synonym of type is deprecated; in a future version of numpy, it will be understood as (type, (1,)) / '(1,)type'.\n",
      "  _np_quint8 = np.dtype([(\"quint8\", np.uint8, 1)])\n",
      "/home/shawroad/anaconda3/envs/torch_env/lib/python3.6/site-packages/tensorflow/python/framework/dtypes.py:518: FutureWarning: Passing (type, 1) or '1type' as a synonym of type is deprecated; in a future version of numpy, it will be understood as (type, (1,)) / '(1,)type'.\n",
      "  _np_qint16 = np.dtype([(\"qint16\", np.int16, 1)])\n",
      "/home/shawroad/anaconda3/envs/torch_env/lib/python3.6/site-packages/tensorflow/python/framework/dtypes.py:519: FutureWarning: Passing (type, 1) or '1type' as a synonym of type is deprecated; in a future version of numpy, it will be understood as (type, (1,)) / '(1,)type'.\n",
      "  _np_quint16 = np.dtype([(\"quint16\", np.uint16, 1)])\n",
      "/home/shawroad/anaconda3/envs/torch_env/lib/python3.6/site-packages/tensorflow/python/framework/dtypes.py:520: FutureWarning: Passing (type, 1) or '1type' as a synonym of type is deprecated; in a future version of numpy, it will be understood as (type, (1,)) / '(1,)type'.\n",
      "  _np_qint32 = np.dtype([(\"qint32\", np.int32, 1)])\n",
      "/home/shawroad/anaconda3/envs/torch_env/lib/python3.6/site-packages/tensorflow/python/framework/dtypes.py:525: FutureWarning: Passing (type, 1) or '1type' as a synonym of type is deprecated; in a future version of numpy, it will be understood as (type, (1,)) / '(1,)type'.\n",
      "  np_resource = np.dtype([(\"resource\", np.ubyte, 1)])\n",
      "/home/shawroad/anaconda3/envs/torch_env/lib/python3.6/site-packages/tensorboard/compat/tensorflow_stub/dtypes.py:541: FutureWarning: Passing (type, 1) or '1type' as a synonym of type is deprecated; in a future version of numpy, it will be understood as (type, (1,)) / '(1,)type'.\n",
      "  _np_qint8 = np.dtype([(\"qint8\", np.int8, 1)])\n",
      "/home/shawroad/anaconda3/envs/torch_env/lib/python3.6/site-packages/tensorboard/compat/tensorflow_stub/dtypes.py:542: FutureWarning: Passing (type, 1) or '1type' as a synonym of type is deprecated; in a future version of numpy, it will be understood as (type, (1,)) / '(1,)type'.\n",
      "  _np_quint8 = np.dtype([(\"quint8\", np.uint8, 1)])\n",
      "/home/shawroad/anaconda3/envs/torch_env/lib/python3.6/site-packages/tensorboard/compat/tensorflow_stub/dtypes.py:543: FutureWarning: Passing (type, 1) or '1type' as a synonym of type is deprecated; in a future version of numpy, it will be understood as (type, (1,)) / '(1,)type'.\n",
      "  _np_qint16 = np.dtype([(\"qint16\", np.int16, 1)])\n",
      "/home/shawroad/anaconda3/envs/torch_env/lib/python3.6/site-packages/tensorboard/compat/tensorflow_stub/dtypes.py:544: FutureWarning: Passing (type, 1) or '1type' as a synonym of type is deprecated; in a future version of numpy, it will be understood as (type, (1,)) / '(1,)type'.\n",
      "  _np_quint16 = np.dtype([(\"quint16\", np.uint16, 1)])\n",
      "/home/shawroad/anaconda3/envs/torch_env/lib/python3.6/site-packages/tensorboard/compat/tensorflow_stub/dtypes.py:545: FutureWarning: Passing (type, 1) or '1type' as a synonym of type is deprecated; in a future version of numpy, it will be understood as (type, (1,)) / '(1,)type'.\n",
      "  _np_qint32 = np.dtype([(\"qint32\", np.int32, 1)])\n",
      "/home/shawroad/anaconda3/envs/torch_env/lib/python3.6/site-packages/tensorboard/compat/tensorflow_stub/dtypes.py:550: FutureWarning: Passing (type, 1) or '1type' as a synonym of type is deprecated; in a future version of numpy, it will be understood as (type, (1,)) / '(1,)type'.\n",
      "  np_resource = np.dtype([(\"resource\", np.ubyte, 1)])\n"
     ]
    }
   ],
   "source": [
    "from tensorboard_logger import Logger\n",
    "\n",
    "# 构建logger对象, logdir用来指定log文件的保存路径\n",
    "# flush_secs 用来指定刷新同步时间间隔\n",
    "logger = Logger(logdir='experimient_cnn', flush_secs=2)\n",
    "for ii in range(100):\n",
    "    logger.log_value('loss', 10-ii**0.5, step=ii)\n",
    "    logger.log_value('accuracy', ii**0.5 / 10)"
   ]
  },
  {
   "cell_type": "markdown",
   "metadata": {},
   "source": [
    "# GPU加速"
   ]
  },
  {
   "cell_type": "code",
   "execution_count": 15,
   "metadata": {
    "collapsed": true
   },
   "outputs": [
    {
     "ename": "AssertionError",
     "evalue": "\nFound no NVIDIA driver on your system. Please check that you\nhave an NVIDIA GPU and installed a driver from\nhttp://www.nvidia.com/Download/index.aspx",
     "output_type": "error",
     "traceback": [
      "\u001b[0;31m---------------------------------------------------------------------------\u001b[0m",
      "\u001b[0;31mAssertionError\u001b[0m                            Traceback (most recent call last)",
      "\u001b[0;32m<ipython-input-15-19bf63fadc4c>\u001b[0m in \u001b[0;36m<module>\u001b[0;34m\u001b[0m\n\u001b[1;32m      3\u001b[0m \u001b[0;34m\u001b[0m\u001b[0m\n\u001b[1;32m      4\u001b[0m \u001b[0;31m# 返回一个新的tensor, 保存到第一块GPU上, 但原来的tensor并没有改变\u001b[0m\u001b[0;34m\u001b[0m\u001b[0;34m\u001b[0m\u001b[0;34m\u001b[0m\u001b[0m\n\u001b[0;32m----> 5\u001b[0;31m \u001b[0mtensor\u001b[0m\u001b[0;34m.\u001b[0m\u001b[0mcuda\u001b[0m\u001b[0;34m(\u001b[0m\u001b[0;36m0\u001b[0m\u001b[0;34m)\u001b[0m\u001b[0;34m\u001b[0m\u001b[0;34m\u001b[0m\u001b[0m\n\u001b[0m\u001b[1;32m      6\u001b[0m \u001b[0;34m\u001b[0m\u001b[0m\n\u001b[1;32m      7\u001b[0m \u001b[0mtensor\u001b[0m\u001b[0;34m.\u001b[0m\u001b[0mis_cuda\u001b[0m\u001b[0;34m\u001b[0m\u001b[0;34m\u001b[0m\u001b[0m\n",
      "\u001b[0;32m~/anaconda3/envs/torch_env/lib/python3.6/site-packages/torch/cuda/__init__.py\u001b[0m in \u001b[0;36m_lazy_init\u001b[0;34m()\u001b[0m\n\u001b[1;32m    190\u001b[0m             raise RuntimeError(\n\u001b[1;32m    191\u001b[0m                 \"Cannot re-initialize CUDA in forked subprocess. \" + msg)\n\u001b[0;32m--> 192\u001b[0;31m         \u001b[0m_check_driver\u001b[0m\u001b[0;34m(\u001b[0m\u001b[0;34m)\u001b[0m\u001b[0;34m\u001b[0m\u001b[0;34m\u001b[0m\u001b[0m\n\u001b[0m\u001b[1;32m    193\u001b[0m         \u001b[0mtorch\u001b[0m\u001b[0;34m.\u001b[0m\u001b[0m_C\u001b[0m\u001b[0;34m.\u001b[0m\u001b[0m_cuda_init\u001b[0m\u001b[0;34m(\u001b[0m\u001b[0;34m)\u001b[0m\u001b[0;34m\u001b[0m\u001b[0;34m\u001b[0m\u001b[0m\n\u001b[1;32m    194\u001b[0m         \u001b[0m_cudart\u001b[0m \u001b[0;34m=\u001b[0m \u001b[0m_load_cudart\u001b[0m\u001b[0;34m(\u001b[0m\u001b[0;34m)\u001b[0m\u001b[0;34m\u001b[0m\u001b[0;34m\u001b[0m\u001b[0m\n",
      "\u001b[0;32m~/anaconda3/envs/torch_env/lib/python3.6/site-packages/torch/cuda/__init__.py\u001b[0m in \u001b[0;36m_check_driver\u001b[0;34m()\u001b[0m\n\u001b[1;32m    100\u001b[0m \u001b[0mFound\u001b[0m \u001b[0mno\u001b[0m \u001b[0mNVIDIA\u001b[0m \u001b[0mdriver\u001b[0m \u001b[0mon\u001b[0m \u001b[0myour\u001b[0m \u001b[0msystem\u001b[0m\u001b[0;34m.\u001b[0m \u001b[0mPlease\u001b[0m \u001b[0mcheck\u001b[0m \u001b[0mthat\u001b[0m \u001b[0myou\u001b[0m\u001b[0;34m\u001b[0m\u001b[0;34m\u001b[0m\u001b[0m\n\u001b[1;32m    101\u001b[0m \u001b[0mhave\u001b[0m \u001b[0man\u001b[0m \u001b[0mNVIDIA\u001b[0m \u001b[0mGPU\u001b[0m \u001b[0;32mand\u001b[0m \u001b[0minstalled\u001b[0m \u001b[0ma\u001b[0m \u001b[0mdriver\u001b[0m \u001b[0;32mfrom\u001b[0m\u001b[0;34m\u001b[0m\u001b[0;34m\u001b[0m\u001b[0m\n\u001b[0;32m--> 102\u001b[0;31m http://www.nvidia.com/Download/index.aspx\"\"\")\n\u001b[0m\u001b[1;32m    103\u001b[0m         \u001b[0;32melse\u001b[0m\u001b[0;34m:\u001b[0m\u001b[0;34m\u001b[0m\u001b[0;34m\u001b[0m\u001b[0m\n\u001b[1;32m    104\u001b[0m             \u001b[0;31m# TODO: directly link to the alternative bin that needs install\u001b[0m\u001b[0;34m\u001b[0m\u001b[0;34m\u001b[0m\u001b[0;34m\u001b[0m\u001b[0m\n",
      "\u001b[0;31mAssertionError\u001b[0m: \nFound no NVIDIA driver on your system. Please check that you\nhave an NVIDIA GPU and installed a driver from\nhttp://www.nvidia.com/Download/index.aspx"
     ]
    }
   ],
   "source": [
    "import torch\n",
    "tensor = torch.Tensor(3, 4)\n",
    "\n",
    "# 返回一个新的tensor, 保存到第一块GPU上, 但原来的tensor并没有改变\n",
    "tensor.cuda(0)\n",
    "\n",
    "tensor.is_cuda   # False"
   ]
  },
  {
   "cell_type": "code",
   "execution_count": 16,
   "metadata": {
    "collapsed": true
   },
   "outputs": [
    {
     "ename": "AssertionError",
     "evalue": "\nFound no NVIDIA driver on your system. Please check that you\nhave an NVIDIA GPU and installed a driver from\nhttp://www.nvidia.com/Download/index.aspx",
     "output_type": "error",
     "traceback": [
      "\u001b[0;31m---------------------------------------------------------------------------\u001b[0m",
      "\u001b[0;31mAssertionError\u001b[0m                            Traceback (most recent call last)",
      "\u001b[0;32m<ipython-input-16-03d6d090e2af>\u001b[0m in \u001b[0;36m<module>\u001b[0;34m\u001b[0m\n\u001b[1;32m      1\u001b[0m \u001b[0;31m# 不指定所使用的GPU设备, 将默认使用第一块GPU\u001b[0m\u001b[0;34m\u001b[0m\u001b[0;34m\u001b[0m\u001b[0;34m\u001b[0m\u001b[0m\n\u001b[0;32m----> 2\u001b[0;31m \u001b[0mtensor\u001b[0m \u001b[0;34m=\u001b[0m \u001b[0mtensor\u001b[0m\u001b[0;34m.\u001b[0m\u001b[0mcuda\u001b[0m\u001b[0;34m(\u001b[0m\u001b[0;34m)\u001b[0m\u001b[0;34m\u001b[0m\u001b[0;34m\u001b[0m\u001b[0m\n\u001b[0m\u001b[1;32m      3\u001b[0m \u001b[0mtensor\u001b[0m\u001b[0;34m.\u001b[0m\u001b[0mis_cuda\u001b[0m\u001b[0;34m\u001b[0m\u001b[0;34m\u001b[0m\u001b[0m\n",
      "\u001b[0;32m~/anaconda3/envs/torch_env/lib/python3.6/site-packages/torch/cuda/__init__.py\u001b[0m in \u001b[0;36m_lazy_init\u001b[0;34m()\u001b[0m\n\u001b[1;32m    190\u001b[0m             raise RuntimeError(\n\u001b[1;32m    191\u001b[0m                 \"Cannot re-initialize CUDA in forked subprocess. \" + msg)\n\u001b[0;32m--> 192\u001b[0;31m         \u001b[0m_check_driver\u001b[0m\u001b[0;34m(\u001b[0m\u001b[0;34m)\u001b[0m\u001b[0;34m\u001b[0m\u001b[0;34m\u001b[0m\u001b[0m\n\u001b[0m\u001b[1;32m    193\u001b[0m         \u001b[0mtorch\u001b[0m\u001b[0;34m.\u001b[0m\u001b[0m_C\u001b[0m\u001b[0;34m.\u001b[0m\u001b[0m_cuda_init\u001b[0m\u001b[0;34m(\u001b[0m\u001b[0;34m)\u001b[0m\u001b[0;34m\u001b[0m\u001b[0;34m\u001b[0m\u001b[0m\n\u001b[1;32m    194\u001b[0m         \u001b[0m_cudart\u001b[0m \u001b[0;34m=\u001b[0m \u001b[0m_load_cudart\u001b[0m\u001b[0;34m(\u001b[0m\u001b[0;34m)\u001b[0m\u001b[0;34m\u001b[0m\u001b[0;34m\u001b[0m\u001b[0m\n",
      "\u001b[0;32m~/anaconda3/envs/torch_env/lib/python3.6/site-packages/torch/cuda/__init__.py\u001b[0m in \u001b[0;36m_check_driver\u001b[0;34m()\u001b[0m\n\u001b[1;32m    100\u001b[0m \u001b[0mFound\u001b[0m \u001b[0mno\u001b[0m \u001b[0mNVIDIA\u001b[0m \u001b[0mdriver\u001b[0m \u001b[0mon\u001b[0m \u001b[0myour\u001b[0m \u001b[0msystem\u001b[0m\u001b[0;34m.\u001b[0m \u001b[0mPlease\u001b[0m \u001b[0mcheck\u001b[0m \u001b[0mthat\u001b[0m \u001b[0myou\u001b[0m\u001b[0;34m\u001b[0m\u001b[0;34m\u001b[0m\u001b[0m\n\u001b[1;32m    101\u001b[0m \u001b[0mhave\u001b[0m \u001b[0man\u001b[0m \u001b[0mNVIDIA\u001b[0m \u001b[0mGPU\u001b[0m \u001b[0;32mand\u001b[0m \u001b[0minstalled\u001b[0m \u001b[0ma\u001b[0m \u001b[0mdriver\u001b[0m \u001b[0;32mfrom\u001b[0m\u001b[0;34m\u001b[0m\u001b[0;34m\u001b[0m\u001b[0m\n\u001b[0;32m--> 102\u001b[0;31m http://www.nvidia.com/Download/index.aspx\"\"\")\n\u001b[0m\u001b[1;32m    103\u001b[0m         \u001b[0;32melse\u001b[0m\u001b[0;34m:\u001b[0m\u001b[0;34m\u001b[0m\u001b[0;34m\u001b[0m\u001b[0m\n\u001b[1;32m    104\u001b[0m             \u001b[0;31m# TODO: directly link to the alternative bin that needs install\u001b[0m\u001b[0;34m\u001b[0m\u001b[0;34m\u001b[0m\u001b[0;34m\u001b[0m\u001b[0m\n",
      "\u001b[0;31mAssertionError\u001b[0m: \nFound no NVIDIA driver on your system. Please check that you\nhave an NVIDIA GPU and installed a driver from\nhttp://www.nvidia.com/Download/index.aspx"
     ]
    }
   ],
   "source": [
    "# 不指定所使用的GPU设备, 将默认使用第一块GPU\n",
    "tensor = tensor.cuda()\n",
    "tensor.is_cuda"
   ]
  },
  {
   "cell_type": "code",
   "execution_count": 18,
   "metadata": {
    "collapsed": true
   },
   "outputs": [
    {
     "ename": "TypeError",
     "evalue": "cuda() got an unexpected keyword argument 'device_id'",
     "output_type": "error",
     "traceback": [
      "\u001b[0;31m---------------------------------------------------------------------------\u001b[0m",
      "\u001b[0;31mTypeError\u001b[0m                                 Traceback (most recent call last)",
      "\u001b[0;32m<ipython-input-18-04df1959652f>\u001b[0m in \u001b[0;36m<module>\u001b[0;34m\u001b[0m\n\u001b[1;32m      3\u001b[0m \u001b[0;34m\u001b[0m\u001b[0m\n\u001b[1;32m      4\u001b[0m \u001b[0mmodel\u001b[0m \u001b[0;34m=\u001b[0m \u001b[0mnn\u001b[0m\u001b[0;34m.\u001b[0m\u001b[0mLinear\u001b[0m\u001b[0;34m(\u001b[0m\u001b[0;36m3\u001b[0m\u001b[0;34m,\u001b[0m \u001b[0;36m4\u001b[0m\u001b[0;34m)\u001b[0m\u001b[0;34m\u001b[0m\u001b[0;34m\u001b[0m\u001b[0m\n\u001b[0;32m----> 5\u001b[0;31m \u001b[0mmodel\u001b[0m\u001b[0;34m.\u001b[0m\u001b[0mcuda\u001b[0m\u001b[0;34m(\u001b[0m\u001b[0mdevice_id\u001b[0m\u001b[0;34m=\u001b[0m\u001b[0;36m1\u001b[0m\u001b[0;34m)\u001b[0m\u001b[0;34m\u001b[0m\u001b[0;34m\u001b[0m\u001b[0m\n\u001b[0m\u001b[1;32m      6\u001b[0m \u001b[0mmodel\u001b[0m\u001b[0;34m.\u001b[0m\u001b[0mweight\u001b[0m\u001b[0;34m.\u001b[0m\u001b[0mis_cuda\u001b[0m\u001b[0;34m\u001b[0m\u001b[0;34m\u001b[0m\u001b[0m\n",
      "\u001b[0;31mTypeError\u001b[0m: cuda() got an unexpected keyword argument 'device_id'"
     ]
    }
   ],
   "source": [
    "# 将模型放到GPU上\n",
    "from torch import nn\n",
    "\n",
    "model = nn.Linear(3, 4)\n",
    "model.cuda(device_id=1)\n",
    "model.weight.is_cuda"
   ]
  },
  {
   "cell_type": "code",
   "execution_count": 20,
   "metadata": {
    "collapsed": true
   },
   "outputs": [
    {
     "data": {
      "text/plain": [
       "odict_values([tensor([[[[-3.9828e-02, -7.1348e-04,  1.7686e-02,  ...,  1.7807e-02,\n",
       "            5.0652e-02, -4.0001e-02],\n",
       "          [ 9.2015e-03, -3.0729e-02,  2.2695e-02,  ..., -1.6682e-03,\n",
       "            1.1961e-02,  3.7615e-02],\n",
       "          [ 2.4543e-02,  2.6413e-02, -2.2688e-02,  ..., -1.6151e-02,\n",
       "            2.7507e-02,  1.6446e-02],\n",
       "          ...,\n",
       "          [-1.5080e-02, -1.3464e-02,  2.3954e-02,  ..., -2.9856e-02,\n",
       "            3.4874e-03, -4.7072e-02],\n",
       "          [ 1.6672e-02, -1.2805e-02,  8.9484e-03,  ...,  3.7028e-02,\n",
       "           -5.0129e-03,  6.9439e-03],\n",
       "          [ 1.1857e-02, -1.1995e-02,  3.2097e-02,  ...,  6.6266e-03,\n",
       "           -4.9535e-02,  1.9876e-02]],\n",
       "\n",
       "         [[ 3.8819e-02,  1.1057e-02, -3.6437e-02,  ...,  1.1844e-02,\n",
       "            1.8758e-02,  4.9272e-02],\n",
       "          [-4.2309e-02,  2.8668e-02,  4.7134e-02,  ...,  1.5316e-02,\n",
       "           -3.5286e-02, -4.1165e-02],\n",
       "          [ 1.8111e-02, -3.2232e-02,  2.1438e-02,  ..., -1.5271e-03,\n",
       "           -4.6699e-02,  2.9381e-02],\n",
       "          ...,\n",
       "          [-1.0141e-02, -3.0026e-02,  9.0305e-03,  ...,  4.7931e-03,\n",
       "           -8.1728e-04,  4.2743e-02],\n",
       "          [-3.7718e-02, -2.3468e-03,  4.8941e-02,  ...,  1.0450e-02,\n",
       "            1.7190e-02, -3.7850e-02],\n",
       "          [-3.6256e-02,  5.8215e-04, -6.2678e-03,  ..., -6.7504e-03,\n",
       "           -2.0971e-03, -5.1270e-02]],\n",
       "\n",
       "         [[-2.6564e-02, -4.2366e-02,  3.9522e-02,  ...,  7.8966e-03,\n",
       "            4.2728e-02,  3.7896e-02],\n",
       "          [-5.1107e-02, -2.2572e-02,  3.3270e-02,  ...,  2.3559e-02,\n",
       "            8.5381e-03, -3.8230e-02],\n",
       "          [-4.1288e-02, -4.6931e-02, -9.0110e-03,  ...,  4.1674e-02,\n",
       "            1.4890e-04,  4.5488e-02],\n",
       "          ...,\n",
       "          [ 4.7456e-03,  5.0225e-02,  2.5347e-03,  ...,  4.6424e-02,\n",
       "           -1.7831e-02,  2.6196e-02],\n",
       "          [-4.1132e-02, -2.1976e-02,  1.2434e-03,  ...,  4.9028e-02,\n",
       "           -2.6830e-02, -3.7584e-03],\n",
       "          [-2.6925e-02, -3.3690e-02,  1.5877e-02,  ...,  1.5555e-02,\n",
       "           -2.5081e-02,  1.6042e-02]]],\n",
       "\n",
       "\n",
       "        [[[-4.2474e-02, -3.5176e-02, -4.5451e-02,  ...,  4.5448e-02,\n",
       "           -6.8808e-03,  3.6222e-02],\n",
       "          [-1.5339e-02, -4.1036e-02, -1.2016e-02,  ..., -4.1022e-03,\n",
       "           -4.7162e-02, -4.6596e-02],\n",
       "          [-1.6630e-02, -4.6804e-03,  3.8543e-02,  ..., -4.1447e-02,\n",
       "           -1.8534e-02, -2.7473e-02],\n",
       "          ...,\n",
       "          [-1.7663e-02, -3.4775e-02,  2.4655e-02,  ...,  4.3073e-02,\n",
       "            1.7726e-02, -1.2831e-02],\n",
       "          [-5.1599e-03, -4.4414e-02, -1.6345e-02,  ...,  5.2729e-03,\n",
       "           -4.8152e-02,  8.2222e-03],\n",
       "          [-4.4657e-02, -4.5607e-02,  4.8155e-03,  ...,  3.6371e-02,\n",
       "           -8.0402e-04, -1.6388e-02]],\n",
       "\n",
       "         [[ 3.0268e-02,  2.4734e-02,  2.0699e-02,  ...,  1.9010e-02,\n",
       "            7.5356e-03, -1.9324e-02],\n",
       "          [ 5.1929e-02, -4.8904e-02,  5.0802e-02,  ..., -4.5547e-02,\n",
       "            2.2711e-02, -1.5587e-02],\n",
       "          [ 4.7896e-02, -1.8141e-02,  1.1150e-02,  ..., -4.5991e-02,\n",
       "            1.9944e-03, -4.6481e-02],\n",
       "          ...,\n",
       "          [ 1.6107e-02, -9.8924e-03,  3.8246e-02,  ..., -3.2041e-04,\n",
       "            1.2006e-02, -4.7136e-02],\n",
       "          [-1.8576e-02,  4.5797e-02, -2.9073e-02,  ...,  9.8023e-03,\n",
       "           -4.8854e-03, -7.6396e-04],\n",
       "          [-5.2085e-02, -1.3373e-02,  3.1686e-02,  ..., -4.9963e-02,\n",
       "           -2.5354e-02, -2.1933e-02]],\n",
       "\n",
       "         [[ 2.9671e-02,  2.6314e-02, -2.0816e-02,  ..., -4.5749e-03,\n",
       "           -4.5676e-02, -3.3940e-02],\n",
       "          [ 3.0161e-02,  3.0890e-02,  4.8535e-02,  ..., -2.9015e-02,\n",
       "            3.0442e-02,  3.4687e-03],\n",
       "          [ 1.0632e-02, -2.6793e-02,  1.8757e-02,  ..., -5.0279e-02,\n",
       "            4.7344e-02, -1.4141e-02],\n",
       "          ...,\n",
       "          [ 7.7028e-03,  3.5629e-02, -2.6234e-03,  ...,  3.6541e-02,\n",
       "           -2.5386e-02, -2.1803e-04],\n",
       "          [-4.9356e-02,  3.6183e-02, -1.5088e-02,  ...,  2.4876e-02,\n",
       "           -1.3328e-02,  2.0561e-02],\n",
       "          [-1.7665e-02,  6.6503e-03, -8.7731e-03,  ...,  3.3029e-02,\n",
       "           -1.6610e-02, -5.2366e-02]]],\n",
       "\n",
       "\n",
       "        [[[-2.3146e-02, -2.4379e-02,  3.1543e-02,  ...,  1.7701e-02,\n",
       "            3.0438e-02, -9.8854e-03],\n",
       "          [ 6.0817e-03, -1.4486e-02,  1.2143e-02,  ...,  3.3011e-02,\n",
       "            3.8225e-02,  2.5786e-02],\n",
       "          [ 3.0211e-02, -3.1866e-02,  3.8886e-02,  ...,  2.2450e-03,\n",
       "            1.9021e-02,  3.0459e-02],\n",
       "          ...,\n",
       "          [-1.3011e-02,  3.6461e-02,  5.1015e-02,  ...,  4.7805e-02,\n",
       "            3.9458e-02, -3.8084e-02],\n",
       "          [ 4.4234e-02,  4.7351e-02,  3.9722e-02,  ..., -4.4169e-02,\n",
       "           -2.6736e-02, -2.1223e-02],\n",
       "          [-1.0919e-03,  8.6300e-03,  8.1561e-03,  ..., -3.5009e-03,\n",
       "            4.5252e-02, -3.1355e-02]],\n",
       "\n",
       "         [[ 5.0751e-02,  2.1301e-02, -3.5928e-02,  ..., -4.6934e-02,\n",
       "            2.4636e-02,  3.6267e-02],\n",
       "          [-3.0803e-02,  2.3670e-02, -2.5641e-02,  ...,  3.1333e-02,\n",
       "           -4.9464e-02, -1.7416e-02],\n",
       "          [-1.8889e-02, -1.9742e-02,  2.5495e-02,  ...,  1.4129e-02,\n",
       "            1.9030e-02, -5.1950e-02],\n",
       "          ...,\n",
       "          [ 1.3165e-02, -5.0292e-02, -3.6686e-02,  ..., -6.6536e-03,\n",
       "            2.9267e-02,  3.2626e-03],\n",
       "          [ 1.3339e-03,  4.3807e-02, -2.1534e-02,  ..., -2.8112e-02,\n",
       "            1.8009e-02, -2.4485e-02],\n",
       "          [-2.6487e-02,  3.8902e-04, -2.9335e-03,  ...,  2.7724e-02,\n",
       "            5.1023e-02, -1.0072e-02]],\n",
       "\n",
       "         [[ 3.4207e-02,  3.1279e-02,  1.5391e-02,  ...,  2.4300e-02,\n",
       "           -3.5293e-02,  3.5967e-03],\n",
       "          [ 6.6095e-03, -4.6560e-02, -8.8069e-03,  ..., -3.7129e-02,\n",
       "            2.9910e-02,  8.4134e-03],\n",
       "          [ 6.2774e-03, -6.3679e-03, -2.9240e-02,  ...,  3.8319e-02,\n",
       "            3.6523e-03, -1.0132e-02],\n",
       "          ...,\n",
       "          [-8.5597e-03,  4.2838e-03,  3.2962e-02,  ...,  5.1937e-03,\n",
       "           -4.7481e-03,  4.8159e-02],\n",
       "          [-2.3380e-02,  2.5838e-03,  1.6165e-02,  ..., -8.4449e-03,\n",
       "            4.6771e-02,  3.6499e-02],\n",
       "          [ 1.5076e-02,  2.4785e-02,  1.1399e-02,  ..., -1.7989e-02,\n",
       "           -3.8569e-02, -3.5004e-03]]],\n",
       "\n",
       "\n",
       "        ...,\n",
       "\n",
       "\n",
       "        [[[-4.7304e-02, -1.5024e-02, -8.9544e-04,  ..., -2.4546e-03,\n",
       "           -3.0135e-02, -1.1582e-02],\n",
       "          [-3.5424e-02, -1.4890e-02,  7.2745e-03,  ..., -1.8213e-02,\n",
       "           -9.4415e-03, -4.2545e-02],\n",
       "          [ 4.7802e-02,  2.1758e-02, -2.9052e-02,  ..., -1.9573e-02,\n",
       "           -3.7043e-02,  1.6099e-02],\n",
       "          ...,\n",
       "          [ 7.4300e-03,  4.4810e-02,  7.2100e-03,  ..., -1.1200e-02,\n",
       "            1.8159e-02,  2.5614e-02],\n",
       "          [ 1.7564e-02,  4.5954e-02,  2.8935e-02,  ...,  5.6468e-03,\n",
       "            3.2646e-02, -4.0348e-02],\n",
       "          [ 4.0024e-02,  7.8591e-04, -2.6337e-02,  ..., -3.4862e-02,\n",
       "           -1.7685e-02, -4.7521e-02]],\n",
       "\n",
       "         [[-3.6311e-02, -8.6369e-03,  2.8409e-02,  ...,  1.8516e-02,\n",
       "           -6.5656e-03, -2.0040e-02],\n",
       "          [-2.4695e-02,  3.0308e-02,  4.9008e-02,  ...,  1.8368e-02,\n",
       "            2.6342e-02,  2.9669e-02],\n",
       "          [-4.6744e-02,  3.5244e-02,  2.7772e-02,  ...,  2.9423e-02,\n",
       "           -4.2291e-02,  1.4875e-02],\n",
       "          ...,\n",
       "          [ 2.6342e-02, -5.1495e-02, -6.1487e-03,  ...,  5.7921e-03,\n",
       "           -3.0952e-02, -1.7451e-02],\n",
       "          [-3.2685e-02,  4.9467e-02,  2.7373e-03,  ..., -3.5152e-02,\n",
       "            6.9105e-03,  1.5822e-02],\n",
       "          [ 1.7803e-03,  2.1165e-02, -4.2941e-02,  ..., -3.8741e-02,\n",
       "            4.1456e-02,  4.4211e-02]],\n",
       "\n",
       "         [[ 2.1040e-02, -8.8561e-03, -2.4220e-02,  ...,  4.0532e-02,\n",
       "            4.2921e-03, -4.2049e-02],\n",
       "          [-3.5055e-03,  1.9877e-02, -5.1399e-02,  ...,  1.7458e-02,\n",
       "            1.1160e-02, -1.6320e-02],\n",
       "          [-4.7047e-02,  4.2457e-02, -1.9470e-02,  ..., -3.9055e-02,\n",
       "           -1.8364e-02,  1.1582e-03],\n",
       "          ...,\n",
       "          [-4.9660e-02,  4.2302e-02,  4.4358e-02,  ..., -1.3836e-02,\n",
       "            7.3224e-03, -4.6734e-02],\n",
       "          [ 2.4884e-02,  5.1816e-02,  4.6300e-02,  ..., -3.3550e-02,\n",
       "            9.1782e-03, -4.0420e-02],\n",
       "          [-3.5754e-02,  4.8605e-02, -2.0658e-02,  ...,  3.2155e-02,\n",
       "           -5.2131e-02,  2.6559e-04]]],\n",
       "\n",
       "\n",
       "        [[[ 2.8279e-02, -1.6669e-02,  4.4350e-03,  ...,  1.0060e-02,\n",
       "            3.0942e-02,  3.4290e-02],\n",
       "          [ 5.4164e-03, -3.0660e-02, -4.6606e-02,  ...,  4.0394e-02,\n",
       "            4.3296e-02, -2.3479e-02],\n",
       "          [ 4.3422e-04,  1.2076e-02,  1.7358e-02,  ..., -2.3858e-02,\n",
       "           -1.1654e-02, -5.3860e-03],\n",
       "          ...,\n",
       "          [ 2.5948e-02,  5.0712e-02,  1.5433e-02,  ..., -2.2937e-02,\n",
       "           -4.7398e-02, -3.7480e-02],\n",
       "          [ 4.2717e-02, -3.8848e-02,  1.3322e-02,  ...,  1.4337e-03,\n",
       "           -3.9810e-02,  3.8658e-02],\n",
       "          [-5.6693e-03, -3.5270e-02, -3.8304e-02,  ..., -1.3047e-02,\n",
       "           -8.5840e-03,  3.8012e-02]],\n",
       "\n",
       "         [[-4.6438e-02,  2.6190e-02,  8.4232e-03,  ..., -5.1443e-02,\n",
       "           -2.5634e-02, -1.0393e-02],\n",
       "          [-1.5195e-02,  2.0816e-02,  3.8236e-02,  ..., -3.7309e-02,\n",
       "           -3.2091e-02,  2.1522e-02],\n",
       "          [ 3.4664e-02,  1.5704e-02,  4.4363e-02,  ..., -5.9180e-03,\n",
       "           -2.2932e-02, -3.8563e-04],\n",
       "          ...,\n",
       "          [-1.5609e-02,  4.9586e-03, -4.1074e-02,  ..., -3.2208e-02,\n",
       "           -2.5010e-04, -3.0196e-02],\n",
       "          [-3.3858e-02, -3.4495e-02, -2.8713e-03,  ...,  2.8973e-02,\n",
       "            4.9381e-02, -4.7104e-02],\n",
       "          [ 4.6116e-02, -2.2205e-02, -3.2173e-02,  ...,  1.9004e-02,\n",
       "            6.7334e-03,  1.1919e-02]],\n",
       "\n",
       "         [[ 4.1367e-02, -2.8007e-02, -3.4065e-02,  ..., -2.5082e-02,\n",
       "            4.8422e-02, -1.5630e-03],\n",
       "          [ 1.2729e-02,  2.6861e-02,  8.3347e-03,  ..., -4.1940e-02,\n",
       "            4.5098e-02, -2.3766e-02],\n",
       "          [-1.1951e-02,  9.6000e-03,  2.5525e-02,  ..., -2.6501e-02,\n",
       "           -2.8684e-02,  4.5656e-02],\n",
       "          ...,\n",
       "          [-4.9072e-02,  2.8623e-02, -3.6349e-02,  ..., -1.4073e-02,\n",
       "           -1.0077e-02,  4.7666e-02],\n",
       "          [ 3.1431e-02, -2.3427e-02,  2.2005e-02,  ..., -4.0055e-02,\n",
       "           -4.0468e-02, -4.8277e-03],\n",
       "          [-2.2243e-02,  2.7355e-02,  5.1692e-02,  ..., -1.1162e-02,\n",
       "            3.7715e-02,  4.2170e-02]]],\n",
       "\n",
       "\n",
       "        [[[-1.0835e-02, -3.7712e-02,  1.2647e-02,  ..., -2.9622e-02,\n",
       "            2.6359e-02,  6.0702e-03],\n",
       "          [-1.8754e-03, -9.5274e-03, -1.5826e-02,  ..., -1.8553e-02,\n",
       "            1.8431e-03, -4.9876e-02],\n",
       "          [-3.8488e-02,  4.3056e-02,  3.4388e-02,  ...,  1.4748e-02,\n",
       "            4.2833e-02, -1.9005e-02],\n",
       "          ...,\n",
       "          [ 3.2855e-02, -3.3110e-02,  3.8477e-02,  ..., -4.0549e-02,\n",
       "            2.9091e-03, -1.5774e-02],\n",
       "          [-4.9781e-02,  3.8541e-02, -3.5916e-02,  ..., -4.9009e-02,\n",
       "            3.8425e-02,  5.2013e-02],\n",
       "          [ 3.5053e-02, -4.1600e-02,  4.2374e-02,  ...,  3.9595e-02,\n",
       "            7.2963e-03, -3.8279e-02]],\n",
       "\n",
       "         [[-1.0198e-02, -1.7480e-02, -1.3347e-02,  ..., -1.8695e-02,\n",
       "            3.4896e-02, -4.7299e-03],\n",
       "          [-7.4312e-03,  2.7456e-02,  1.4921e-02,  ...,  1.8842e-02,\n",
       "           -3.2370e-02, -4.4967e-02],\n",
       "          [-3.0694e-03,  2.3618e-02, -4.1387e-02,  ...,  3.3598e-02,\n",
       "            1.7569e-02,  5.0971e-02],\n",
       "          ...,\n",
       "          [-2.3049e-02,  2.4848e-02, -4.5284e-03,  ...,  1.8595e-02,\n",
       "            8.6043e-03, -2.4623e-02],\n",
       "          [-3.5312e-03, -4.9614e-02, -7.3501e-03,  ...,  4.8367e-02,\n",
       "           -1.3334e-02,  3.8609e-02],\n",
       "          [ 4.9468e-02, -3.4942e-02, -3.0474e-02,  ...,  3.0535e-02,\n",
       "           -3.6560e-02, -4.2661e-02]],\n",
       "\n",
       "         [[ 5.0096e-02,  3.1092e-03, -3.0814e-02,  ..., -3.7387e-02,\n",
       "           -1.4474e-02, -1.8539e-03],\n",
       "          [-3.1641e-02, -4.7575e-02, -1.3525e-02,  ...,  6.3580e-03,\n",
       "           -1.9020e-02, -7.5462e-03],\n",
       "          [-3.9116e-02,  2.7878e-02, -4.0070e-02,  ..., -4.6317e-02,\n",
       "           -3.0055e-02,  3.7709e-02],\n",
       "          ...,\n",
       "          [ 6.8190e-04, -1.0157e-02, -5.2256e-02,  ..., -1.8623e-04,\n",
       "           -5.1131e-02,  1.6045e-02],\n",
       "          [-3.2034e-02,  3.9878e-02,  4.9435e-05,  ..., -1.1682e-02,\n",
       "            2.1307e-02, -4.3449e-02],\n",
       "          [-3.1197e-02, -9.6538e-03,  1.0676e-02,  ...,  3.7287e-02,\n",
       "            1.0479e-02, -8.2201e-03]]]]), tensor([-0.0101, -0.0444,  0.0261, -0.0068,  0.0052, -0.0105,  0.0207,  0.0092,\n",
       "         0.0266,  0.0262, -0.0109,  0.0511, -0.0072,  0.0281, -0.0212,  0.0054,\n",
       "        -0.0109,  0.0117,  0.0329,  0.0031, -0.0200, -0.0520,  0.0152, -0.0281,\n",
       "         0.0367, -0.0498, -0.0470,  0.0462,  0.0492, -0.0256, -0.0108,  0.0074,\n",
       "         0.0235, -0.0091,  0.0370, -0.0221,  0.0446,  0.0350, -0.0327, -0.0002,\n",
       "         0.0228,  0.0379,  0.0471,  0.0324, -0.0306, -0.0438,  0.0422,  0.0350,\n",
       "         0.0079, -0.0243,  0.0150,  0.0413,  0.0007,  0.0052, -0.0448, -0.0272,\n",
       "        -0.0138,  0.0191, -0.0456,  0.0467,  0.0308,  0.0267,  0.0240, -0.0072]), tensor([[[[ 2.1315e-02, -9.8861e-03,  1.1818e-02, -1.4514e-03,  9.8708e-03],\n",
       "          [ 1.5920e-02,  1.3008e-02,  7.6279e-03,  6.3972e-03,  2.2540e-03],\n",
       "          [-3.6669e-04,  1.5832e-02, -1.2258e-02,  1.1844e-02, -2.0050e-02],\n",
       "          [-7.2108e-03,  9.3221e-03, -9.8738e-03,  1.1327e-02, -1.7201e-02],\n",
       "          [ 1.5298e-02,  9.5417e-03,  1.8922e-02, -1.6503e-02,  5.8534e-03]],\n",
       "\n",
       "         [[-1.4194e-02, -8.3984e-03, -7.3724e-03, -2.4679e-02,  2.1378e-02],\n",
       "          [-1.0116e-02, -1.9588e-02,  2.4557e-02,  1.8226e-02,  2.0024e-02],\n",
       "          [-5.4333e-03, -1.6723e-02, -2.3821e-02, -1.9504e-02, -1.6426e-02],\n",
       "          [-6.7935e-04,  9.4138e-03, -2.2261e-02,  1.0992e-02,  2.2793e-02],\n",
       "          [-4.4851e-03, -9.4516e-03,  8.5238e-04,  2.3214e-02,  1.9282e-02]],\n",
       "\n",
       "         [[ 1.5349e-02,  1.7094e-02,  5.6831e-03,  2.3160e-02, -9.3570e-03],\n",
       "          [ 2.9779e-03,  5.5833e-03,  2.3561e-02, -7.1625e-03,  4.8836e-04],\n",
       "          [-2.2768e-02,  2.2959e-02,  2.2079e-02,  1.7167e-02, -2.1205e-02],\n",
       "          [-6.5083e-03,  1.2591e-02, -1.0105e-03,  2.4564e-02, -5.3732e-03],\n",
       "          [-3.9987e-03,  9.2503e-03, -8.4027e-03,  1.0461e-02, -7.2757e-03]],\n",
       "\n",
       "         ...,\n",
       "\n",
       "         [[ 2.0799e-02, -2.0467e-02, -2.0866e-02, -2.1053e-02,  2.4061e-02],\n",
       "          [-1.1582e-02, -4.9824e-03, -5.5828e-03,  1.8093e-02, -4.9360e-03],\n",
       "          [-1.9159e-02,  9.3520e-03, -2.4433e-02, -1.5422e-02,  5.2728e-03],\n",
       "          [ 1.5121e-02,  9.5610e-03,  1.2239e-02, -1.9451e-02,  8.2921e-03],\n",
       "          [-1.5137e-02,  3.7063e-03,  2.0145e-02, -1.5208e-02, -8.0454e-03]],\n",
       "\n",
       "         [[ 4.6301e-03, -7.8336e-03, -9.2784e-03,  6.5792e-03, -7.3888e-03],\n",
       "          [ 6.2606e-03,  1.4494e-02, -2.2394e-02, -1.7132e-02,  2.1815e-02],\n",
       "          [ 3.2771e-03, -2.4110e-02, -8.6871e-03, -1.1618e-02, -2.4606e-02],\n",
       "          [ 5.4638e-03,  5.2164e-03,  2.5512e-03, -1.7404e-02, -1.0260e-03],\n",
       "          [ 1.7327e-02,  5.5812e-03, -1.2653e-02, -6.0181e-03,  4.4503e-03]],\n",
       "\n",
       "         [[ 1.6672e-02, -1.3600e-02, -1.7926e-02, -4.9169e-03,  2.1831e-02],\n",
       "          [-1.5973e-02, -1.9531e-02,  4.5746e-03,  2.4931e-02, -1.2908e-02],\n",
       "          [-1.9210e-02,  9.3528e-03, -2.1043e-02,  1.9855e-02, -2.3824e-02],\n",
       "          [ 1.1694e-02,  1.4839e-02, -1.1443e-03, -2.0190e-03, -8.3998e-03],\n",
       "          [-5.2850e-03,  1.6465e-02, -2.0987e-02,  1.1650e-02,  4.4722e-03]]],\n",
       "\n",
       "\n",
       "        [[[-1.2332e-02,  1.5125e-02,  1.8308e-02,  1.5335e-02,  2.1992e-02],\n",
       "          [ 2.2026e-02,  1.0344e-02, -1.9238e-02,  5.8757e-03,  4.9665e-03],\n",
       "          [ 1.3764e-02, -2.2427e-02, -3.6361e-03,  1.5730e-02, -1.3688e-02],\n",
       "          [ 1.6774e-02,  1.6492e-02,  5.4754e-03,  1.7480e-02, -2.4029e-02],\n",
       "          [-1.7741e-02,  3.8189e-03, -4.1891e-03, -2.3935e-02,  1.9622e-02]],\n",
       "\n",
       "         [[ 1.5492e-02,  9.3875e-03, -1.7203e-02, -2.0362e-02,  2.0993e-02],\n",
       "          [-1.3928e-02,  9.1479e-03, -2.1080e-02, -4.3939e-03,  1.5491e-02],\n",
       "          [ 3.8874e-03, -1.1059e-02,  2.0656e-02, -8.7920e-03,  5.4094e-03],\n",
       "          [-7.3643e-03, -8.2489e-03,  8.5153e-03,  9.8776e-04, -1.7714e-02],\n",
       "          [ 7.0715e-03, -1.6245e-02, -1.7393e-03, -1.8178e-02,  1.0146e-02]],\n",
       "\n",
       "         [[ 8.6004e-04,  2.2797e-02,  1.7774e-02, -1.7287e-02, -3.1825e-03],\n",
       "          [ 9.6822e-03, -1.8552e-02,  7.9953e-03, -6.4448e-04, -9.7761e-03],\n",
       "          [ 3.2575e-03, -3.4055e-03, -1.5947e-02, -4.5896e-03,  7.0094e-03],\n",
       "          [-4.1000e-03,  1.2980e-02,  1.4072e-02, -6.1927e-03, -2.4236e-02],\n",
       "          [ 1.4487e-02, -2.4537e-02,  9.7833e-03, -1.5772e-02, -2.2733e-02]],\n",
       "\n",
       "         ...,\n",
       "\n",
       "         [[-1.2024e-02, -1.4043e-02,  1.4186e-02, -1.4687e-02,  2.2647e-02],\n",
       "          [-2.1461e-02, -9.8524e-04,  2.1795e-02,  4.7862e-03,  7.5451e-03],\n",
       "          [-1.5457e-02, -6.4796e-03,  1.1049e-02,  2.4873e-02,  1.2324e-02],\n",
       "          [ 8.8677e-03,  1.9890e-02,  1.1666e-02, -2.4938e-02,  1.6344e-02],\n",
       "          [ 1.4483e-02,  1.1106e-02,  2.3910e-02,  1.7354e-02, -1.0485e-03]],\n",
       "\n",
       "         [[ 2.6258e-03, -2.4890e-02,  9.1577e-03, -9.2283e-04,  7.0810e-04],\n",
       "          [ 1.7971e-02,  2.1383e-02, -2.1677e-02,  1.7651e-03, -2.1186e-03],\n",
       "          [ 1.6952e-02, -1.1803e-02,  1.3962e-02, -1.1917e-02,  6.1954e-03],\n",
       "          [ 3.9179e-03,  2.0262e-02,  9.4329e-03, -1.9965e-02, -1.3041e-03],\n",
       "          [-3.7749e-04,  7.2161e-03,  1.4238e-02,  7.8964e-03,  2.2995e-02]],\n",
       "\n",
       "         [[ 1.6199e-02, -8.9524e-03,  8.4355e-03, -2.3750e-02, -1.3051e-02],\n",
       "          [-2.1172e-02, -2.4803e-02, -1.4101e-02,  1.2666e-06, -1.0946e-02],\n",
       "          [-4.3274e-03, -4.5605e-03,  4.6383e-03, -1.0600e-02, -1.9695e-02],\n",
       "          [ 9.0668e-04,  8.5603e-03, -1.5124e-02, -2.0563e-03, -4.8978e-03],\n",
       "          [-1.7934e-02,  1.5963e-02, -3.6775e-03,  5.2874e-03,  1.2194e-02]]],\n",
       "\n",
       "\n",
       "        [[[-1.2157e-02, -1.4869e-02, -9.2644e-03, -9.3435e-03, -1.7656e-02],\n",
       "          [-3.1849e-03, -8.2167e-03,  3.8344e-03,  1.5725e-02, -1.2804e-02],\n",
       "          [-1.3895e-02,  5.0162e-03,  7.8103e-03,  1.7632e-02, -1.5827e-02],\n",
       "          [-4.7735e-03, -3.3750e-03, -9.9162e-03, -1.8919e-02,  1.4703e-02],\n",
       "          [ 1.6696e-02,  2.4733e-02,  1.3937e-02,  6.8607e-04, -1.3069e-02]],\n",
       "\n",
       "         [[ 8.9891e-03,  2.0982e-02,  1.0755e-02, -3.1556e-03,  1.5092e-02],\n",
       "          [ 1.2793e-02,  1.8357e-02,  1.4097e-02, -2.1274e-02,  2.3100e-02],\n",
       "          [ 1.0783e-02,  2.3465e-02,  1.7804e-02,  5.3152e-04,  3.9854e-04],\n",
       "          [-3.4654e-03, -1.4165e-02,  1.1294e-02,  9.5697e-03, -8.9727e-03],\n",
       "          [-2.2703e-02,  2.0896e-02, -1.8136e-02,  5.7468e-03,  1.3507e-02]],\n",
       "\n",
       "         [[-2.2855e-02, -2.4064e-02,  1.1009e-02, -1.7737e-02, -2.1001e-03],\n",
       "          [ 2.4179e-02,  2.3733e-02, -7.6141e-03, -1.1325e-02,  2.8009e-03],\n",
       "          [-5.9061e-03, -7.5051e-03, -2.3576e-02,  1.8848e-02, -1.0223e-02],\n",
       "          [-9.6191e-03, -2.8167e-03,  8.5469e-03, -1.8924e-02,  3.1942e-03],\n",
       "          [-1.8150e-02,  2.4513e-02,  2.0837e-02, -2.0555e-02,  2.0638e-02]],\n",
       "\n",
       "         ...,\n",
       "\n",
       "         [[-1.5214e-02, -1.8396e-02,  4.4253e-03,  1.3122e-03,  1.5637e-02],\n",
       "          [-2.3393e-02,  3.8612e-03,  1.8150e-02, -1.9176e-02, -2.4265e-02],\n",
       "          [-2.0007e-03, -6.8920e-03,  1.7033e-02,  1.5151e-03, -1.4063e-03],\n",
       "          [ 2.1017e-02, -2.4400e-02,  9.3838e-05,  2.3815e-02, -1.3921e-02],\n",
       "          [ 8.0021e-03,  5.0893e-03,  1.1235e-02,  1.6034e-04,  3.5092e-03]],\n",
       "\n",
       "         [[-1.0578e-02,  1.9011e-02,  1.0338e-02, -8.0233e-03,  1.4802e-02],\n",
       "          [-2.8235e-03,  1.5015e-02, -6.6361e-03,  6.7469e-03, -2.4650e-02],\n",
       "          [-1.0843e-02, -1.4329e-02,  1.6661e-02,  2.3197e-02,  1.1428e-04],\n",
       "          [-2.8685e-03, -3.2826e-03, -2.4595e-02, -1.9226e-02, -8.8601e-03],\n",
       "          [-1.1788e-02, -1.6317e-02,  2.2159e-02,  5.0356e-03, -2.1413e-02]],\n",
       "\n",
       "         [[ 5.2730e-03,  5.0307e-03, -1.6270e-03, -4.8419e-03,  1.3086e-02],\n",
       "          [-3.4273e-03, -1.7689e-03, -2.2954e-02, -2.6914e-03, -1.8482e-02],\n",
       "          [-1.6938e-02,  5.5548e-03,  1.3426e-02,  2.3496e-02,  5.4057e-03],\n",
       "          [-1.1647e-02,  2.1577e-02, -1.3302e-03, -1.3802e-02,  2.1253e-03],\n",
       "          [-5.8469e-03, -1.9230e-02, -6.6360e-03,  1.6348e-02,  2.9777e-03]]],\n",
       "\n",
       "\n",
       "        ...,\n",
       "\n",
       "\n",
       "        [[[ 7.7672e-04,  5.1398e-03, -2.3212e-02, -1.0543e-02, -4.8023e-03],\n",
       "          [-1.9281e-02, -5.1729e-03, -5.6484e-03,  1.8702e-02,  6.0937e-03],\n",
       "          [-1.2711e-02,  1.3474e-02,  1.4566e-02,  1.6151e-02,  7.7733e-03],\n",
       "          [-1.4039e-02,  8.8599e-03, -6.5137e-04, -2.3485e-02,  2.1459e-02],\n",
       "          [-2.3609e-02, -5.5251e-03, -1.6143e-02,  2.6922e-03, -5.6945e-03]],\n",
       "\n",
       "         [[ 9.8931e-04,  1.1574e-02,  1.8000e-02, -2.2356e-02, -2.5102e-03],\n",
       "          [-3.0987e-03, -1.4116e-02,  3.8498e-03,  7.1370e-03, -2.2955e-02],\n",
       "          [ 1.0397e-02,  1.6350e-02, -2.1761e-02,  1.2949e-03, -2.3525e-02],\n",
       "          [-2.2970e-02, -9.9348e-03, -4.3853e-03,  2.3187e-02,  1.7134e-02],\n",
       "          [-1.3840e-02,  2.0932e-02,  6.0350e-03, -1.5006e-02, -8.4696e-04]],\n",
       "\n",
       "         [[-1.7129e-02, -1.3270e-02,  2.6465e-03, -9.2469e-04, -1.9182e-02],\n",
       "          [ 1.1357e-02, -1.3843e-02,  2.3830e-02,  1.4197e-02, -1.7262e-02],\n",
       "          [-1.9688e-02,  1.2540e-02, -6.6599e-03, -1.0850e-02, -1.5932e-02],\n",
       "          [-1.2102e-02, -1.5702e-02, -6.5504e-03,  9.5739e-03, -1.9813e-03],\n",
       "          [-1.5810e-02, -1.9040e-02, -2.3457e-03,  9.8567e-04,  1.9472e-02]],\n",
       "\n",
       "         ...,\n",
       "\n",
       "         [[-2.4617e-02,  2.0514e-03, -1.9046e-02, -2.0612e-02,  1.0990e-02],\n",
       "          [ 7.2363e-03, -1.3501e-02,  1.3945e-02,  1.5161e-02, -1.4118e-04],\n",
       "          [-2.0013e-03,  3.2375e-03, -1.5543e-02, -5.5827e-03,  6.5432e-03],\n",
       "          [-2.3501e-02, -1.0025e-02,  3.8388e-03,  6.2883e-03,  5.9509e-03],\n",
       "          [-1.2131e-02, -2.2206e-02, -2.1601e-02,  2.4585e-02, -1.0086e-02]],\n",
       "\n",
       "         [[ 1.4876e-02,  2.3468e-02, -1.7974e-02, -4.4138e-03,  2.1217e-02],\n",
       "          [ 2.3102e-02, -1.1963e-03, -2.4723e-02,  2.0731e-02, -2.1464e-02],\n",
       "          [ 3.9195e-03, -1.3525e-02, -2.2195e-02,  2.2585e-02,  4.8394e-03],\n",
       "          [ 2.2778e-02, -2.3307e-02,  1.6850e-02, -1.0032e-02,  5.1755e-04],\n",
       "          [ 1.6346e-03,  1.9224e-02, -8.1574e-03,  1.7075e-02, -3.9185e-03]],\n",
       "\n",
       "         [[-1.9549e-02, -1.9074e-02, -7.1771e-03,  1.3692e-02, -1.9776e-02],\n",
       "          [-2.0223e-02,  5.9867e-03,  1.3023e-02, -1.8501e-02, -2.4713e-02],\n",
       "          [ 1.8912e-02,  1.3842e-02,  2.2748e-02, -6.9356e-03, -2.6003e-03],\n",
       "          [-1.9172e-02, -1.5618e-02,  1.4854e-02,  1.4475e-02, -1.5128e-02],\n",
       "          [ 2.3543e-02, -1.0198e-02, -4.0756e-03,  1.5362e-02, -2.0669e-03]]],\n",
       "\n",
       "\n",
       "        [[[-1.8692e-02, -6.1975e-03, -2.1719e-02, -1.3241e-02,  1.6921e-02],\n",
       "          [-4.4763e-03,  3.3052e-03, -1.1253e-02,  8.6235e-03, -1.1257e-02],\n",
       "          [-6.9973e-04,  1.1482e-02, -6.3518e-03, -1.6783e-02,  2.6583e-04],\n",
       "          [-2.3701e-02, -6.0211e-03,  5.0343e-03, -1.0630e-02, -2.0316e-02],\n",
       "          [-2.2078e-02,  1.7061e-02,  2.2612e-02, -1.3630e-02,  1.3966e-02]],\n",
       "\n",
       "         [[-2.3861e-02,  2.8606e-03, -1.1689e-03, -2.1482e-02,  5.2056e-03],\n",
       "          [-2.0359e-02, -1.5573e-02, -7.9062e-03, -1.7506e-02, -1.8760e-02],\n",
       "          [-2.0047e-02, -5.8576e-03, -1.9565e-02,  2.2937e-02, -2.5706e-03],\n",
       "          [ 6.0938e-03,  2.2891e-02,  3.5331e-03, -8.8949e-03,  4.0174e-03],\n",
       "          [-3.3155e-03,  1.5368e-02, -5.4387e-03,  5.1021e-03,  1.3803e-02]],\n",
       "\n",
       "         [[ 2.2078e-02, -1.7415e-03, -3.1654e-03, -1.6993e-03, -1.9832e-02],\n",
       "          [-2.9571e-03, -6.8250e-03, -1.1106e-03, -9.9070e-03, -1.9691e-02],\n",
       "          [-2.1669e-02,  9.9824e-03,  1.5879e-02, -1.2653e-02,  3.1231e-03],\n",
       "          [ 1.1097e-02, -1.9904e-02,  2.4844e-03, -2.0292e-02, -9.1719e-03],\n",
       "          [ 2.2789e-02, -7.2407e-03,  1.1695e-02,  8.4830e-03, -2.1637e-02]],\n",
       "\n",
       "         ...,\n",
       "\n",
       "         [[ 8.3770e-03, -2.1474e-02, -1.0451e-03, -7.6173e-03,  1.7015e-02],\n",
       "          [-6.8093e-04, -7.2118e-03,  1.2232e-02,  6.9764e-03,  2.2528e-02],\n",
       "          [ 2.4959e-02, -3.1843e-03,  2.1058e-02,  2.2604e-02, -1.6332e-02],\n",
       "          [-1.1602e-02, -1.6449e-02, -1.3786e-03,  2.1333e-02, -2.2153e-02],\n",
       "          [ 1.4120e-02, -1.9390e-02, -1.3728e-02, -1.1331e-02, -9.1049e-03]],\n",
       "\n",
       "         [[-1.6852e-02,  1.5836e-02,  1.8836e-02, -2.2824e-02, -1.4779e-02],\n",
       "          [-2.1481e-02, -1.4944e-02,  2.3084e-02,  1.9448e-02,  2.2789e-02],\n",
       "          [-2.8950e-03, -1.7068e-02, -4.5592e-03, -2.1089e-02,  2.0154e-02],\n",
       "          [ 5.6912e-03,  4.1066e-03,  2.4699e-02, -7.0019e-03, -1.5381e-02],\n",
       "          [-6.5137e-03,  1.2709e-02,  1.0710e-02,  8.1998e-03, -1.7980e-04]],\n",
       "\n",
       "         [[ 1.9678e-02, -1.7804e-02, -1.4225e-02, -2.0507e-02,  1.4682e-02],\n",
       "          [ 5.0111e-04, -5.8532e-03, -1.3589e-02,  2.3973e-02, -1.5093e-02],\n",
       "          [ 3.8941e-03, -1.8210e-02, -9.9607e-03, -2.2041e-03, -2.2599e-02],\n",
       "          [ 1.7660e-02, -1.0521e-02,  1.1127e-02,  1.4855e-02,  7.0130e-03],\n",
       "          [-1.3626e-02, -8.9558e-03, -2.0977e-02, -4.5372e-03, -1.9077e-02]]],\n",
       "\n",
       "\n",
       "        [[[-1.0236e-03, -2.3753e-02,  2.8395e-03, -1.2334e-02,  1.9608e-02],\n",
       "          [-1.6989e-02,  1.0999e-02,  2.1515e-02,  1.8068e-02, -1.6411e-02],\n",
       "          [ 2.1655e-02, -4.8344e-03, -1.1194e-02,  1.1012e-02, -1.4141e-02],\n",
       "          [ 1.1019e-02, -2.3343e-02,  1.9446e-02,  7.4308e-03, -2.3113e-02],\n",
       "          [-1.8001e-02,  1.9300e-02,  2.8532e-03,  4.8828e-03, -1.2888e-02]],\n",
       "\n",
       "         [[ 1.2592e-02, -1.1578e-02, -2.0712e-02,  2.3125e-02, -1.7385e-02],\n",
       "          [-2.4048e-02,  1.3336e-02,  1.7170e-02,  2.4620e-02,  9.2221e-03],\n",
       "          [-6.9854e-03, -1.1858e-02,  2.0350e-02,  1.1111e-02,  1.1002e-03],\n",
       "          [-7.8931e-03, -1.1504e-02, -1.9977e-03, -1.0303e-02,  8.9821e-03],\n",
       "          [-8.1354e-03, -1.1252e-02, -1.0084e-02, -2.3305e-02, -1.3621e-02]],\n",
       "\n",
       "         [[-5.7569e-03,  6.6113e-03, -1.5088e-02, -1.6301e-02, -5.9093e-04],\n",
       "          [-1.8472e-02, -1.5302e-02,  2.1924e-02, -2.2887e-02, -1.5477e-02],\n",
       "          [-1.1135e-02,  2.2035e-02, -2.6433e-03, -8.5443e-03,  7.2948e-03],\n",
       "          [-1.2957e-02, -1.9989e-02,  5.2259e-03,  8.7797e-03,  1.4553e-02],\n",
       "          [-9.6690e-03,  8.1423e-04, -1.2112e-02,  4.9350e-03, -1.7602e-02]],\n",
       "\n",
       "         ...,\n",
       "\n",
       "         [[ 5.5160e-03, -4.5853e-03, -8.6662e-03,  2.3887e-02,  1.6279e-02],\n",
       "          [-1.8422e-02,  1.7879e-02, -1.7180e-02, -1.1088e-02,  1.0734e-02],\n",
       "          [-2.2460e-02,  5.9117e-03,  1.1478e-02,  1.1432e-02,  2.0666e-02],\n",
       "          [-2.3295e-02,  2.1815e-02, -1.5758e-02, -2.1465e-02,  2.4532e-02],\n",
       "          [-1.7280e-02, -1.3408e-02, -8.4751e-03, -3.3761e-03,  1.1677e-02]],\n",
       "\n",
       "         [[-2.3897e-02,  1.4870e-02,  1.5711e-02,  1.1963e-02,  2.3254e-02],\n",
       "          [ 1.3193e-02,  1.0759e-02, -5.5079e-03, -1.0391e-04,  1.1641e-02],\n",
       "          [ 2.3531e-02, -1.5248e-02,  2.2522e-02, -2.7424e-03, -2.1628e-02],\n",
       "          [-1.4814e-02, -2.9941e-03, -2.5576e-03, -1.0190e-02, -6.9568e-03],\n",
       "          [ 1.2565e-02, -1.5571e-02,  2.4122e-02, -2.0098e-02, -2.1660e-02]],\n",
       "\n",
       "         [[-2.3133e-02,  2.0380e-02,  2.4925e-02,  3.6075e-03, -1.3160e-02],\n",
       "          [ 2.0689e-03, -2.0058e-02, -5.1876e-03,  5.5431e-03,  1.7377e-02],\n",
       "          [-2.4357e-02,  1.5413e-02,  2.4769e-02, -1.1702e-02, -2.0664e-02],\n",
       "          [-1.0415e-02,  1.4783e-02,  1.3829e-02,  2.1343e-02,  2.1838e-02],\n",
       "          [ 8.7305e-04, -2.4079e-02,  1.4878e-02, -1.9637e-02, -7.6893e-03]]]]), tensor([ 1.3867e-02,  1.8907e-02,  1.4925e-02, -1.1774e-02,  1.2202e-02,\n",
       "         1.7753e-02, -8.6286e-04, -2.0799e-02, -1.3171e-02, -5.1646e-03,\n",
       "        -1.4667e-02, -1.4770e-03,  2.3981e-02, -1.9054e-02, -2.4428e-03,\n",
       "        -3.0918e-03,  1.9938e-02, -5.1051e-04,  1.4185e-02,  5.7397e-03,\n",
       "        -1.4117e-02,  2.4478e-02, -1.7529e-03,  1.9850e-03, -2.2485e-02,\n",
       "        -1.6642e-02, -7.9450e-03, -1.5827e-02, -1.5996e-02, -1.5079e-02,\n",
       "         6.9632e-03,  1.8618e-02, -1.9858e-02,  6.8032e-03, -1.7708e-02,\n",
       "         1.1298e-02, -1.6038e-02,  5.1313e-03, -1.1050e-02,  6.1805e-03,\n",
       "         3.2027e-03,  5.2251e-03, -1.0970e-03, -1.1979e-02, -2.2353e-02,\n",
       "        -2.3522e-03, -2.1637e-02, -1.0927e-02,  2.2869e-02,  1.3884e-02,\n",
       "        -9.4736e-03, -1.8467e-03,  2.1888e-02, -2.4063e-02,  2.0605e-02,\n",
       "         1.0167e-02, -8.9072e-06, -2.7477e-03, -1.0116e-02, -9.2798e-03,\n",
       "        -1.1649e-02,  1.2833e-02,  1.5199e-02,  1.9029e-02,  2.3190e-02,\n",
       "         3.0772e-03, -4.8218e-03,  1.9715e-02, -2.0376e-02, -1.9852e-02,\n",
       "        -1.2772e-02,  6.7183e-04, -1.5056e-02, -1.3551e-02, -1.3895e-02,\n",
       "         3.2339e-03,  6.6594e-04, -1.6729e-02,  3.7723e-03, -1.8751e-02,\n",
       "        -6.4203e-03, -6.7884e-03, -2.4143e-02, -1.2174e-02,  1.1429e-02,\n",
       "        -1.8892e-02,  1.6557e-02,  7.0238e-03, -6.1318e-03, -1.6971e-02,\n",
       "        -2.0395e-02,  1.4176e-02,  6.1821e-03, -1.2324e-02,  2.3855e-02,\n",
       "         1.7477e-02,  9.4560e-03, -1.7128e-02, -2.2736e-02, -1.9039e-02,\n",
       "         1.4657e-02, -2.4765e-02, -4.7205e-03,  1.4641e-02,  2.2956e-02,\n",
       "        -1.3718e-02,  2.3753e-02,  2.3506e-03, -2.3303e-02,  2.0828e-02,\n",
       "        -1.8297e-02, -1.8642e-02, -1.4370e-02, -1.1347e-02,  2.4492e-02,\n",
       "        -1.8602e-02, -1.3195e-03, -8.7052e-03,  1.4813e-02,  2.1807e-02,\n",
       "         1.3456e-02, -3.0638e-03,  2.5109e-03,  4.8224e-03,  1.4333e-02,\n",
       "         7.5923e-03,  1.2860e-03, -2.0578e-02,  5.9527e-03, -1.4801e-02,\n",
       "        -3.3023e-03,  1.9917e-02, -7.1595e-03, -2.0693e-02, -7.3074e-03,\n",
       "        -1.8753e-02, -2.5425e-03, -7.2406e-03,  2.3640e-03, -2.1741e-02,\n",
       "         9.3884e-03,  1.7564e-02,  1.7561e-02, -1.2199e-03,  2.2267e-02,\n",
       "         1.3563e-03, -2.3763e-02,  2.1657e-02,  5.7639e-03, -2.4509e-02,\n",
       "        -2.2960e-02,  2.4470e-02, -1.2240e-02,  2.1294e-02, -8.8306e-03,\n",
       "         2.1040e-02,  2.4021e-02,  9.5978e-03,  6.8263e-03,  1.8095e-03,\n",
       "         1.5493e-02,  2.3528e-02,  3.5801e-03,  6.5662e-03, -2.1859e-03,\n",
       "        -7.4032e-03, -2.2005e-02,  1.1110e-02,  1.0938e-02, -3.3365e-03,\n",
       "        -7.1882e-03, -1.7724e-02, -2.5369e-03,  2.0353e-02,  4.8589e-03,\n",
       "         3.9066e-03, -1.9663e-02,  2.8999e-03, -2.2610e-02,  5.6680e-04,\n",
       "         2.3602e-02,  1.9857e-02,  1.0551e-02,  5.1426e-03, -1.1543e-02,\n",
       "         2.2927e-04, -1.6122e-02, -1.2223e-02,  8.9965e-03, -2.2259e-02,\n",
       "         1.2361e-02,  2.1184e-02]), tensor([[[[-6.4367e-03, -2.2763e-02,  7.6364e-03],\n",
       "          [ 2.6854e-03, -6.0619e-03,  2.2826e-02],\n",
       "          [-2.3097e-02,  2.3177e-04, -1.1139e-02]],\n",
       "\n",
       "         [[ 1.2856e-02,  1.4211e-02,  8.4550e-03],\n",
       "          [-1.4561e-02, -1.6917e-02,  1.9296e-02],\n",
       "          [ 1.1395e-03,  8.3014e-03,  2.1863e-03]],\n",
       "\n",
       "         [[-8.1716e-03,  7.3366e-03,  1.1502e-02],\n",
       "          [-3.4712e-03,  3.3223e-03, -6.9694e-03],\n",
       "          [-2.1260e-02,  1.9652e-02, -1.6648e-02]],\n",
       "\n",
       "         ...,\n",
       "\n",
       "         [[-2.2659e-02, -1.7440e-02,  2.2812e-02],\n",
       "          [ 1.3754e-02,  8.7551e-03,  1.1186e-02],\n",
       "          [ 3.5391e-03, -2.9352e-05,  1.3968e-03]],\n",
       "\n",
       "         [[ 1.9672e-02,  2.1090e-02,  1.2924e-02],\n",
       "          [-2.1419e-03, -8.0268e-03,  9.6686e-03],\n",
       "          [ 7.9480e-04, -1.8251e-02, -1.4896e-02]],\n",
       "\n",
       "         [[-1.1006e-02, -2.1890e-02,  1.3915e-02],\n",
       "          [-1.7020e-02,  6.3785e-03, -2.5241e-04],\n",
       "          [ 1.4426e-02, -1.8248e-02, -1.1621e-02]]],\n",
       "\n",
       "\n",
       "        [[[ 3.3840e-03, -2.2881e-02, -1.1146e-02],\n",
       "          [-1.6434e-02,  9.1491e-03, -4.7609e-04],\n",
       "          [ 5.0706e-03, -1.8258e-02, -1.9614e-02]],\n",
       "\n",
       "         [[ 2.3862e-02, -2.4737e-03, -5.5460e-03],\n",
       "          [-2.3361e-02,  5.9628e-03,  1.4663e-02],\n",
       "          [-1.7817e-02,  1.3237e-02, -1.5106e-02]],\n",
       "\n",
       "         [[ 1.0927e-02,  1.3385e-02, -2.0223e-02],\n",
       "          [ 5.0641e-03, -2.3622e-02,  6.1868e-03],\n",
       "          [ 1.6134e-03,  2.8246e-03, -7.6550e-03]],\n",
       "\n",
       "         ...,\n",
       "\n",
       "         [[ 1.6108e-02, -7.9224e-03,  1.5959e-02],\n",
       "          [-9.0539e-03,  9.5977e-03, -1.2446e-02],\n",
       "          [-1.0028e-02, -6.8925e-03, -2.3277e-02]],\n",
       "\n",
       "         [[ 1.3965e-02,  1.8821e-02,  1.3110e-02],\n",
       "          [ 1.9446e-02,  1.0307e-02,  1.3105e-02],\n",
       "          [ 2.0767e-02, -1.8465e-02, -1.1331e-02]],\n",
       "\n",
       "         [[-1.5504e-02, -1.7538e-02,  5.0673e-03],\n",
       "          [ 1.1166e-02, -1.2443e-02, -1.9780e-02],\n",
       "          [-2.2338e-02,  2.0027e-02,  1.1269e-02]]],\n",
       "\n",
       "\n",
       "        [[[-9.4480e-03,  1.9353e-02, -1.6645e-03],\n",
       "          [-1.5538e-02, -1.8950e-03,  3.0617e-03],\n",
       "          [ 5.2951e-03, -1.3149e-02, -6.9577e-03]],\n",
       "\n",
       "         [[ 1.2859e-02,  2.3913e-02,  2.1861e-03],\n",
       "          [ 1.4328e-02,  1.1414e-05,  6.0849e-03],\n",
       "          [ 6.8161e-03,  1.0148e-02, -1.2448e-02]],\n",
       "\n",
       "         [[ 1.5662e-02, -1.3155e-02, -1.4849e-02],\n",
       "          [ 6.6791e-03,  1.6260e-02, -1.0030e-02],\n",
       "          [-2.1869e-02,  1.0273e-02,  5.3377e-03]],\n",
       "\n",
       "         ...,\n",
       "\n",
       "         [[-1.4910e-02,  1.4554e-02, -4.1707e-03],\n",
       "          [ 7.9588e-03,  2.2404e-02,  2.3481e-02],\n",
       "          [-1.4273e-02, -1.6691e-02, -1.3198e-02]],\n",
       "\n",
       "         [[-2.1938e-02,  2.0517e-02,  2.0477e-02],\n",
       "          [-1.4204e-02, -9.6927e-03, -1.5658e-02],\n",
       "          [-1.4228e-02, -8.2686e-04, -7.6921e-03]],\n",
       "\n",
       "         [[-1.1908e-02,  2.2474e-02,  2.2150e-02],\n",
       "          [-2.0495e-02,  1.6380e-03, -1.6387e-02],\n",
       "          [-1.4884e-02,  2.1572e-02, -2.2459e-02]]],\n",
       "\n",
       "\n",
       "        ...,\n",
       "\n",
       "\n",
       "        [[[-3.6335e-05, -3.6324e-03, -3.4612e-03],\n",
       "          [-5.4419e-04,  1.6765e-02, -2.0651e-02],\n",
       "          [ 1.2120e-02, -1.5875e-02, -9.4503e-03]],\n",
       "\n",
       "         [[ 1.9170e-02,  9.0691e-03,  3.6211e-03],\n",
       "          [-1.5175e-02,  4.8999e-03,  2.3945e-02],\n",
       "          [-2.3845e-02, -1.7805e-02,  2.3036e-02]],\n",
       "\n",
       "         [[-1.5923e-02,  1.3391e-02, -2.3062e-02],\n",
       "          [-1.6296e-02,  1.1204e-02, -2.0871e-02],\n",
       "          [ 7.1055e-03, -8.2829e-03,  1.9245e-02]],\n",
       "\n",
       "         ...,\n",
       "\n",
       "         [[-5.8069e-03, -4.7077e-03,  2.7412e-03],\n",
       "          [ 4.6622e-03,  1.1450e-02,  2.0211e-02],\n",
       "          [ 2.2977e-02, -2.0544e-02, -1.8205e-02]],\n",
       "\n",
       "         [[ 2.1892e-02, -2.3626e-02, -1.1534e-02],\n",
       "          [-2.6605e-03, -4.4054e-03,  1.2566e-02],\n",
       "          [-2.1067e-02, -1.5168e-02,  2.1438e-02]],\n",
       "\n",
       "         [[ 1.9329e-02,  1.4549e-02, -4.4385e-03],\n",
       "          [-1.6572e-02, -8.6836e-03, -1.3719e-02],\n",
       "          [-9.3525e-05, -1.6711e-02,  1.8111e-02]]],\n",
       "\n",
       "\n",
       "        [[[-1.1848e-02, -2.0041e-02,  1.6756e-03],\n",
       "          [-1.5241e-02, -9.9985e-03, -8.4034e-03],\n",
       "          [-2.2988e-02, -5.1914e-03,  4.7237e-03]],\n",
       "\n",
       "         [[ 9.5428e-04, -1.1246e-02, -1.2884e-02],\n",
       "          [ 1.5496e-02,  2.8093e-03, -5.2916e-03],\n",
       "          [ 1.8554e-02,  2.3351e-02, -1.7115e-02]],\n",
       "\n",
       "         [[ 1.6086e-02, -1.1793e-02, -1.2224e-02],\n",
       "          [-1.9248e-02,  1.6135e-02, -1.4049e-02],\n",
       "          [ 1.6159e-02,  6.0810e-04,  1.0578e-02]],\n",
       "\n",
       "         ...,\n",
       "\n",
       "         [[-2.0195e-02,  1.9273e-02, -8.4966e-03],\n",
       "          [ 2.1729e-02,  2.2499e-02, -1.3525e-02],\n",
       "          [-2.0704e-02, -1.7363e-02,  3.9229e-04]],\n",
       "\n",
       "         [[-1.2798e-02,  5.5516e-03,  1.3117e-02],\n",
       "          [-1.5206e-02,  9.0302e-03, -9.2466e-03],\n",
       "          [ 1.8816e-02, -1.2242e-02, -1.4732e-02]],\n",
       "\n",
       "         [[-9.6372e-03, -8.6932e-03,  6.8613e-03],\n",
       "          [-1.5590e-02, -1.7018e-02,  2.3490e-02],\n",
       "          [ 1.8643e-02,  2.0247e-02, -5.3444e-03]]],\n",
       "\n",
       "\n",
       "        [[[-1.5144e-02,  4.7696e-03,  1.2986e-02],\n",
       "          [ 1.1830e-02, -2.5595e-03,  6.6312e-03],\n",
       "          [-1.6552e-02, -4.7330e-03, -1.1992e-03]],\n",
       "\n",
       "         [[ 2.4502e-03, -6.6209e-03,  1.1323e-03],\n",
       "          [ 7.5715e-03,  5.1246e-03, -1.5990e-02],\n",
       "          [ 1.7371e-03,  1.5054e-02,  8.7007e-03]],\n",
       "\n",
       "         [[-1.6072e-02,  1.0035e-02, -8.1772e-03],\n",
       "          [ 2.1693e-02, -3.9558e-03,  4.8985e-03],\n",
       "          [-1.9398e-02, -3.8414e-03, -7.2573e-03]],\n",
       "\n",
       "         ...,\n",
       "\n",
       "         [[ 2.3974e-02,  3.2511e-03,  3.8756e-03],\n",
       "          [-1.1237e-02, -1.1939e-02, -3.6909e-03],\n",
       "          [-1.5905e-02, -1.2481e-02,  1.7683e-03]],\n",
       "\n",
       "         [[-1.7139e-02, -1.9379e-02,  2.3798e-02],\n",
       "          [-8.1658e-03, -1.8228e-02,  3.0557e-03],\n",
       "          [-9.8560e-03,  2.0857e-03,  2.2072e-02]],\n",
       "\n",
       "         [[-1.1831e-02, -1.8016e-02, -4.5621e-03],\n",
       "          [ 5.7738e-03,  9.8396e-04,  2.3423e-02],\n",
       "          [-1.1735e-02, -5.8330e-03, -9.8594e-03]]]]), tensor([-1.8046e-02,  1.6224e-02,  1.0572e-02, -3.8512e-03, -1.8564e-02,\n",
       "        -1.7821e-02, -1.7325e-03, -2.1299e-02,  8.8145e-03,  3.8611e-03,\n",
       "        -6.2926e-03,  5.2486e-03,  1.7729e-02,  1.2655e-02, -3.4398e-03,\n",
       "         7.6118e-03, -1.9298e-03, -2.2975e-03,  2.1685e-02,  2.1695e-02,\n",
       "         2.3260e-02, -9.3950e-04,  1.6131e-02,  1.7780e-03, -1.7148e-02,\n",
       "         2.2249e-03,  1.1487e-02,  2.2365e-02, -1.9461e-02,  1.3938e-02,\n",
       "        -2.0052e-02, -1.8761e-02, -2.2192e-02,  5.6216e-03, -2.3466e-02,\n",
       "        -1.7549e-02, -9.0568e-03, -1.4972e-02,  3.6594e-03, -1.7442e-02,\n",
       "        -1.1879e-02, -5.2943e-04, -3.1942e-03, -3.4540e-03, -2.0626e-02,\n",
       "        -1.7316e-02, -1.4342e-02, -1.0558e-02,  9.7690e-03, -9.7759e-03,\n",
       "        -1.0287e-02, -1.0449e-03,  2.2287e-02,  1.7844e-02,  1.1022e-02,\n",
       "        -1.9529e-02,  6.9346e-03,  6.2541e-03,  1.0094e-02, -1.7634e-02,\n",
       "        -1.4593e-02, -1.2942e-02, -2.2147e-02,  1.4439e-02,  2.3674e-02,\n",
       "         1.5589e-02, -2.0194e-02,  6.5125e-03,  1.9513e-02, -1.8575e-03,\n",
       "        -1.1611e-02, -1.7281e-02, -1.8035e-02, -1.6673e-02, -1.8966e-02,\n",
       "         1.6708e-02,  1.7626e-02,  1.4507e-02, -3.8162e-03, -2.2899e-02,\n",
       "         7.7812e-03,  4.0865e-03,  1.3237e-02, -1.4677e-02, -2.4400e-03,\n",
       "         1.9460e-02,  1.6106e-02, -1.6225e-02,  1.8649e-03, -5.5958e-03,\n",
       "         1.8540e-02, -1.4520e-02, -7.6371e-04, -7.9533e-03, -1.9245e-02,\n",
       "        -8.8237e-03,  3.2612e-03, -1.4034e-02, -2.0564e-02, -2.3766e-02,\n",
       "        -2.2827e-03,  3.9452e-03,  2.8008e-03, -1.9910e-02, -2.0822e-02,\n",
       "        -2.1179e-02,  9.2948e-03,  1.4845e-02,  1.4081e-03, -5.4449e-03,\n",
       "         9.9625e-03, -7.8639e-03, -1.2727e-02, -1.7275e-03,  1.0933e-02,\n",
       "         1.6156e-02,  9.2051e-04, -1.8343e-02, -1.3169e-03,  8.9818e-03,\n",
       "         1.9259e-02, -2.0011e-02,  2.1070e-02, -5.4732e-03, -2.0630e-02,\n",
       "        -3.4931e-03,  1.6739e-02, -2.0587e-02, -2.0640e-02,  1.9910e-02,\n",
       "         2.4012e-02,  3.0062e-03,  2.2120e-02,  3.6098e-03, -1.1174e-02,\n",
       "         1.7597e-02,  8.7750e-03, -1.0255e-02, -1.8069e-02, -1.5656e-02,\n",
       "         1.5242e-03,  1.6251e-02, -1.8231e-02, -7.9828e-03, -4.5217e-03,\n",
       "         1.8689e-02,  7.0888e-03, -9.4722e-03, -2.3131e-02, -1.9328e-02,\n",
       "        -1.2420e-02,  1.0072e-02, -3.6251e-03, -1.4549e-02, -8.7035e-03,\n",
       "         4.7217e-03,  9.6261e-04,  1.6468e-02,  2.8637e-03,  2.1298e-02,\n",
       "         1.8879e-02,  6.1253e-03, -6.4135e-03,  2.4041e-02, -1.8352e-03,\n",
       "        -2.1513e-02, -1.9815e-03, -2.1784e-02, -2.0951e-03,  7.5335e-03,\n",
       "         6.1978e-03, -1.8436e-02, -1.5928e-02, -1.9870e-02, -1.1686e-04,\n",
       "        -1.4883e-02, -4.3505e-03, -1.0749e-02, -2.1486e-02, -1.8852e-03,\n",
       "         1.7866e-02, -2.0353e-02,  1.5244e-02,  9.4159e-03, -1.4600e-02,\n",
       "         2.0994e-02,  2.1374e-02, -1.7282e-02,  2.1493e-02, -2.3490e-02,\n",
       "         1.6071e-02, -1.0299e-02,  2.0834e-02,  1.8403e-02, -6.8747e-03,\n",
       "         2.0947e-02, -1.1953e-03,  2.3439e-02, -1.8142e-02, -1.3438e-02,\n",
       "         1.4808e-02, -1.6898e-02, -1.2034e-02, -1.2786e-02,  1.8737e-02,\n",
       "        -6.3166e-03,  1.2984e-02, -1.2269e-02,  6.3861e-03, -7.8002e-03,\n",
       "        -7.5117e-03, -1.3536e-02, -2.2180e-02,  5.4399e-03,  1.0201e-02,\n",
       "        -2.5944e-03,  1.4113e-03, -1.9157e-02,  1.3656e-02,  1.4390e-02,\n",
       "         8.1716e-03, -2.2430e-02, -1.0073e-02,  1.3165e-02,  1.9677e-02,\n",
       "         1.7258e-02, -2.3335e-02,  3.1302e-03,  2.3440e-02,  9.5520e-03,\n",
       "         1.1100e-02,  2.6135e-03,  2.2476e-02, -2.3069e-02,  1.3806e-02,\n",
       "         3.2432e-03,  2.9822e-03,  8.6390e-03,  2.1845e-02, -1.4895e-02,\n",
       "         7.0973e-03,  1.2012e-02, -7.2149e-03,  2.0466e-02,  4.0319e-03,\n",
       "        -1.5907e-02,  2.3456e-02, -5.5232e-04,  5.6772e-03, -1.9955e-02,\n",
       "        -1.9946e-02, -2.8906e-03,  1.8858e-02,  1.9657e-02, -1.9540e-02,\n",
       "         6.9137e-03, -1.2518e-02, -8.0755e-05,  9.5263e-03,  4.2396e-03,\n",
       "        -1.3667e-02,  5.6329e-03, -8.6629e-03, -5.1461e-03, -2.0419e-02,\n",
       "        -1.1474e-02,  1.4244e-03, -1.3830e-02, -2.1805e-02,  1.2261e-02,\n",
       "        -2.3529e-02,  4.5277e-03,  9.9422e-03, -1.7063e-02,  1.2899e-02,\n",
       "         2.1908e-02,  9.3671e-03, -1.0173e-02, -1.5296e-02, -2.2684e-02,\n",
       "         1.2042e-03,  1.1820e-02,  1.1342e-02,  7.2567e-03,  7.9801e-03,\n",
       "        -1.0936e-03, -9.9940e-03,  8.4053e-03,  1.1667e-02,  8.4584e-03,\n",
       "         2.1362e-02, -2.3085e-02,  7.3711e-03,  1.5669e-02,  6.9517e-03,\n",
       "        -1.6668e-02, -2.1722e-02, -2.1746e-02, -1.7679e-02, -2.1113e-02,\n",
       "         1.8811e-02,  4.2328e-03,  8.1952e-03, -7.0609e-03,  2.1466e-02,\n",
       "         2.3830e-02, -3.5531e-03, -1.3734e-02,  4.4478e-03, -1.8246e-02,\n",
       "         1.6881e-02, -1.4357e-02, -8.6908e-03,  6.7893e-03,  3.5610e-03,\n",
       "         7.6527e-03, -8.1867e-03, -2.4552e-03, -2.0446e-02, -9.9761e-03,\n",
       "        -6.4267e-03,  7.7940e-03, -9.3747e-03,  3.4211e-03,  1.2638e-02,\n",
       "        -9.8570e-03, -1.6510e-02, -1.2838e-02, -1.1292e-02, -2.3138e-02,\n",
       "        -3.0409e-03, -2.0756e-02,  6.1252e-03,  2.0912e-02, -2.2409e-02,\n",
       "         2.1617e-02, -2.0298e-02,  8.0037e-03, -7.0858e-03, -2.4035e-02,\n",
       "        -9.4195e-03, -1.1057e-02,  7.8376e-03, -1.2156e-02,  1.9724e-02,\n",
       "        -4.4798e-03, -3.0707e-03, -8.9003e-03,  2.0741e-02,  4.2033e-03,\n",
       "        -1.4462e-03, -1.1155e-02, -2.2769e-03,  1.0900e-02,  2.0835e-02,\n",
       "        -4.1341e-03, -2.3340e-02,  1.2593e-02,  1.4677e-02, -6.4683e-03,\n",
       "        -3.0003e-03, -2.9170e-03, -2.2255e-02,  1.8271e-02, -1.3636e-02,\n",
       "         1.0112e-02,  1.5203e-02,  5.5674e-03,  2.4033e-02,  9.7885e-03,\n",
       "         4.9302e-03, -1.1396e-02,  1.3879e-02, -2.3093e-02,  2.0451e-02,\n",
       "         1.4263e-02, -3.6720e-03,  2.3175e-02, -5.6972e-03,  1.5884e-02,\n",
       "        -1.2546e-02,  2.3320e-02, -8.3814e-03,  1.5840e-02]), tensor([[[[ 0.0126, -0.0073, -0.0004],\n",
       "          [ 0.0044,  0.0132,  0.0041],\n",
       "          [ 0.0072,  0.0095, -0.0134]],\n",
       "\n",
       "         [[ 0.0162, -0.0017, -0.0035],\n",
       "          [-0.0053, -0.0140, -0.0020],\n",
       "          [ 0.0095, -0.0130,  0.0084]],\n",
       "\n",
       "         [[-0.0011, -0.0086, -0.0012],\n",
       "          [ 0.0025, -0.0110,  0.0056],\n",
       "          [-0.0101,  0.0005,  0.0123]],\n",
       "\n",
       "         ...,\n",
       "\n",
       "         [[-0.0010,  0.0124, -0.0062],\n",
       "          [-0.0159,  0.0083, -0.0007],\n",
       "          [-0.0086,  0.0158,  0.0024]],\n",
       "\n",
       "         [[ 0.0079, -0.0064,  0.0041],\n",
       "          [ 0.0043, -0.0012,  0.0044],\n",
       "          [ 0.0088,  0.0005,  0.0026]],\n",
       "\n",
       "         [[ 0.0060, -0.0029,  0.0069],\n",
       "          [ 0.0034,  0.0116,  0.0019],\n",
       "          [-0.0144,  0.0106,  0.0015]]],\n",
       "\n",
       "\n",
       "        [[[ 0.0005,  0.0014,  0.0067],\n",
       "          [ 0.0018, -0.0071, -0.0112],\n",
       "          [ 0.0020,  0.0114,  0.0069]],\n",
       "\n",
       "         [[ 0.0004, -0.0168, -0.0048],\n",
       "          [-0.0064, -0.0009,  0.0028],\n",
       "          [-0.0013,  0.0130,  0.0135]],\n",
       "\n",
       "         [[-0.0056,  0.0111,  0.0092],\n",
       "          [-0.0036,  0.0051,  0.0041],\n",
       "          [ 0.0038,  0.0006, -0.0168]],\n",
       "\n",
       "         ...,\n",
       "\n",
       "         [[ 0.0123,  0.0001,  0.0102],\n",
       "          [-0.0167, -0.0139, -0.0012],\n",
       "          [-0.0134, -0.0143, -0.0080]],\n",
       "\n",
       "         [[ 0.0135,  0.0169,  0.0043],\n",
       "          [-0.0160,  0.0130, -0.0121],\n",
       "          [ 0.0163,  0.0155,  0.0090]],\n",
       "\n",
       "         [[-0.0108, -0.0002, -0.0031],\n",
       "          [-0.0012,  0.0167, -0.0113],\n",
       "          [-0.0157, -0.0141, -0.0145]]],\n",
       "\n",
       "\n",
       "        [[[-0.0066, -0.0093,  0.0057],\n",
       "          [-0.0006, -0.0019,  0.0107],\n",
       "          [-0.0008, -0.0111, -0.0067]],\n",
       "\n",
       "         [[-0.0104, -0.0111, -0.0099],\n",
       "          [ 0.0065,  0.0099,  0.0017],\n",
       "          [ 0.0123, -0.0129, -0.0157]],\n",
       "\n",
       "         [[-0.0165, -0.0147,  0.0083],\n",
       "          [ 0.0118,  0.0146, -0.0020],\n",
       "          [ 0.0143,  0.0117,  0.0155]],\n",
       "\n",
       "         ...,\n",
       "\n",
       "         [[-0.0043,  0.0006,  0.0012],\n",
       "          [-0.0089,  0.0135, -0.0101],\n",
       "          [-0.0098,  0.0067,  0.0054]],\n",
       "\n",
       "         [[-0.0047,  0.0070,  0.0018],\n",
       "          [-0.0103,  0.0043, -0.0121],\n",
       "          [-0.0088, -0.0047,  0.0011]],\n",
       "\n",
       "         [[ 0.0117,  0.0160,  0.0069],\n",
       "          [-0.0011,  0.0161, -0.0086],\n",
       "          [ 0.0111, -0.0125,  0.0048]]],\n",
       "\n",
       "\n",
       "        ...,\n",
       "\n",
       "\n",
       "        [[[ 0.0028, -0.0162,  0.0140],\n",
       "          [ 0.0139, -0.0139, -0.0134],\n",
       "          [-0.0039, -0.0077,  0.0054]],\n",
       "\n",
       "         [[-0.0125,  0.0116, -0.0114],\n",
       "          [-0.0155,  0.0070,  0.0146],\n",
       "          [-0.0159, -0.0129,  0.0014]],\n",
       "\n",
       "         [[ 0.0089,  0.0155,  0.0004],\n",
       "          [-0.0147, -0.0131,  0.0055],\n",
       "          [ 0.0129,  0.0043,  0.0010]],\n",
       "\n",
       "         ...,\n",
       "\n",
       "         [[-0.0042, -0.0070, -0.0091],\n",
       "          [ 0.0069, -0.0083,  0.0041],\n",
       "          [-0.0020, -0.0091,  0.0089]],\n",
       "\n",
       "         [[ 0.0081, -0.0099, -0.0133],\n",
       "          [-0.0165, -0.0113,  0.0010],\n",
       "          [ 0.0115, -0.0159, -0.0161]],\n",
       "\n",
       "         [[ 0.0114, -0.0160, -0.0107],\n",
       "          [ 0.0155, -0.0049, -0.0127],\n",
       "          [ 0.0017,  0.0098,  0.0091]]],\n",
       "\n",
       "\n",
       "        [[[ 0.0114, -0.0167, -0.0151],\n",
       "          [-0.0092,  0.0060, -0.0134],\n",
       "          [ 0.0122, -0.0047, -0.0077]],\n",
       "\n",
       "         [[ 0.0134, -0.0103, -0.0006],\n",
       "          [-0.0146,  0.0015,  0.0165],\n",
       "          [ 0.0127,  0.0123,  0.0081]],\n",
       "\n",
       "         [[ 0.0021, -0.0101, -0.0026],\n",
       "          [-0.0139,  0.0138, -0.0036],\n",
       "          [-0.0027,  0.0066, -0.0133]],\n",
       "\n",
       "         ...,\n",
       "\n",
       "         [[-0.0095,  0.0100,  0.0102],\n",
       "          [-0.0026, -0.0105,  0.0093],\n",
       "          [ 0.0148, -0.0040,  0.0082]],\n",
       "\n",
       "         [[ 0.0062,  0.0102, -0.0120],\n",
       "          [-0.0059,  0.0008, -0.0023],\n",
       "          [ 0.0084,  0.0160, -0.0110]],\n",
       "\n",
       "         [[ 0.0138,  0.0012,  0.0121],\n",
       "          [ 0.0026, -0.0054, -0.0060],\n",
       "          [-0.0041,  0.0078, -0.0160]]],\n",
       "\n",
       "\n",
       "        [[[ 0.0014,  0.0132,  0.0127],\n",
       "          [-0.0032,  0.0080, -0.0109],\n",
       "          [-0.0050, -0.0063, -0.0158]],\n",
       "\n",
       "         [[ 0.0079,  0.0091, -0.0151],\n",
       "          [ 0.0170,  0.0004, -0.0117],\n",
       "          [ 0.0127, -0.0005,  0.0010]],\n",
       "\n",
       "         [[ 0.0157, -0.0155,  0.0086],\n",
       "          [ 0.0126, -0.0059,  0.0068],\n",
       "          [ 0.0064,  0.0038, -0.0124]],\n",
       "\n",
       "         ...,\n",
       "\n",
       "         [[-0.0121,  0.0069, -0.0167],\n",
       "          [-0.0004, -0.0133,  0.0019],\n",
       "          [ 0.0094,  0.0117,  0.0099]],\n",
       "\n",
       "         [[ 0.0097, -0.0141,  0.0090],\n",
       "          [ 0.0129, -0.0036, -0.0023],\n",
       "          [-0.0152, -0.0131,  0.0132]],\n",
       "\n",
       "         [[ 0.0162,  0.0008, -0.0077],\n",
       "          [-0.0123,  0.0048, -0.0132],\n",
       "          [ 0.0132, -0.0118, -0.0078]]]]), tensor([ 6.6727e-03,  3.4679e-03,  1.4014e-02, -2.1869e-03, -4.0827e-03,\n",
       "        -1.3662e-02, -2.0304e-03, -1.3883e-03, -5.1503e-03,  1.4890e-02,\n",
       "        -8.5553e-03,  1.1814e-02,  7.2098e-03,  7.5918e-05,  1.4910e-02,\n",
       "         8.6339e-03,  4.0698e-03,  3.3247e-03, -1.5727e-02, -6.8332e-03,\n",
       "         1.3644e-02,  1.4920e-03, -1.3110e-02, -7.9401e-03, -3.5492e-03,\n",
       "         1.4311e-02,  3.6969e-03, -1.1481e-02,  9.8973e-03, -1.5054e-04,\n",
       "        -5.6059e-03,  1.1312e-02,  1.6072e-03, -6.5600e-03,  8.1759e-03,\n",
       "        -1.0394e-02,  1.6364e-02,  2.3673e-03,  1.4801e-02, -1.4459e-03,\n",
       "        -1.1381e-02,  8.2811e-03, -8.9750e-03, -1.5178e-02,  1.2229e-02,\n",
       "         8.0288e-03,  5.0338e-04,  7.0610e-03,  1.6851e-02,  8.8863e-04,\n",
       "         1.3534e-02,  1.4720e-03, -1.6738e-02, -2.5780e-03,  1.6052e-02,\n",
       "         2.1472e-03, -1.4635e-02, -1.0236e-02, -9.0617e-03, -8.2640e-04,\n",
       "        -3.1051e-03, -1.4483e-02, -1.3811e-02, -9.9038e-03, -1.0951e-02,\n",
       "        -1.4563e-03, -3.8945e-03, -2.9313e-03,  1.2347e-02, -8.6842e-03,\n",
       "        -1.1190e-02,  1.0255e-02, -5.2460e-03, -5.1735e-03,  2.3942e-04,\n",
       "        -7.4793e-03,  3.9830e-04,  1.6504e-03,  1.2891e-02,  7.7632e-03,\n",
       "         1.3041e-02,  6.9446e-03, -8.9665e-03, -1.4910e-02,  3.0125e-04,\n",
       "        -6.5618e-03,  1.4156e-02,  1.3538e-02, -6.8043e-03,  6.6280e-03,\n",
       "        -1.0694e-02,  1.2962e-03,  9.5386e-03, -8.5559e-03,  1.1675e-02,\n",
       "        -2.5277e-03,  7.7179e-03,  8.6983e-03,  3.9006e-03, -1.6147e-02,\n",
       "         9.8122e-03, -1.1732e-02,  4.0500e-03,  4.0535e-03,  1.2616e-02,\n",
       "         1.5162e-02,  1.6572e-02,  1.3497e-02,  7.4915e-03, -1.6649e-02,\n",
       "         1.0968e-02,  9.4391e-03, -8.3821e-03,  8.5040e-03, -5.3049e-03,\n",
       "         1.5380e-02,  7.4011e-03,  4.3054e-03, -1.1077e-02, -9.1524e-03,\n",
       "         1.5060e-02, -9.7054e-03,  1.5660e-02,  4.1127e-03, -1.2497e-02,\n",
       "         1.1109e-05,  1.6198e-03, -5.7591e-04,  7.7306e-03, -4.3306e-03,\n",
       "         1.4920e-02, -5.7242e-03, -9.3594e-04, -1.2198e-02,  1.6029e-03,\n",
       "         1.6739e-02, -2.3186e-04,  4.1993e-03,  3.1367e-03,  5.2941e-04,\n",
       "        -9.1652e-03,  1.4772e-02,  4.3425e-03,  1.0123e-02, -9.4179e-03,\n",
       "        -1.5134e-02, -3.5990e-03,  7.5838e-03, -1.5934e-02, -1.2113e-02,\n",
       "        -7.8713e-03,  1.1513e-02, -9.2293e-03, -1.0956e-03, -1.5444e-02,\n",
       "        -1.4635e-02, -4.1073e-03,  1.5446e-02, -1.0954e-02, -8.1064e-04,\n",
       "         6.6446e-03, -1.4534e-02, -8.6344e-03,  7.9313e-03, -1.4597e-02,\n",
       "         1.2333e-02, -8.4108e-04,  1.0209e-02, -1.0944e-02,  1.5856e-02,\n",
       "         1.1278e-02, -6.5817e-03, -7.0612e-03,  1.3596e-02,  8.9754e-03,\n",
       "         1.2721e-02, -8.7825e-03,  1.6865e-02,  1.1466e-04, -3.8918e-03,\n",
       "        -3.6692e-03, -8.0393e-03, -7.8774e-03, -1.6188e-02, -9.7708e-03,\n",
       "         6.0146e-03, -6.0561e-03, -3.9773e-03, -2.3235e-03,  1.5289e-02,\n",
       "         1.5116e-02, -1.0857e-02, -1.3576e-02,  1.2208e-02,  9.1366e-03,\n",
       "        -8.2408e-03,  2.0269e-03,  3.9354e-03, -1.6499e-03, -1.5778e-02,\n",
       "        -4.3124e-03, -1.3482e-02, -1.4768e-02,  2.1094e-03,  1.1486e-03,\n",
       "         2.3701e-03,  1.4476e-02,  4.5639e-04, -1.3744e-03,  1.6081e-02,\n",
       "         1.3633e-02, -1.3399e-02, -1.5024e-02,  1.6722e-02,  6.8463e-03,\n",
       "        -1.3571e-02,  1.4641e-02, -9.0250e-03,  8.3308e-04,  2.7125e-03,\n",
       "        -1.1440e-02, -7.4982e-03,  4.5214e-04, -1.3520e-02,  7.5950e-04,\n",
       "         7.4262e-03,  2.5458e-03,  1.2541e-02,  2.9950e-03, -1.0735e-02,\n",
       "        -1.6944e-02,  1.1291e-02, -8.0726e-03,  1.0010e-02, -1.2595e-02,\n",
       "         2.4829e-03,  1.0795e-02, -2.2324e-04, -1.4353e-02, -1.0800e-02,\n",
       "         4.5649e-03, -1.0411e-02,  6.3042e-03, -1.3461e-02, -1.0635e-02,\n",
       "        -2.6326e-03,  1.2824e-03, -1.6435e-02, -1.1507e-02, -1.4819e-02,\n",
       "         7.6957e-03,  3.4196e-03,  1.4021e-02, -6.5879e-03,  8.1844e-03,\n",
       "        -3.9814e-04]), tensor([[[[-1.5694e-02,  1.8052e-02,  7.1722e-03],\n",
       "          [ 1.9704e-02,  9.9075e-03, -1.9377e-02],\n",
       "          [ 4.4176e-03, -8.4632e-03, -1.6237e-02]],\n",
       "\n",
       "         [[-4.8132e-03, -6.9434e-03, -1.0631e-02],\n",
       "          [-1.9612e-02,  1.7429e-02,  9.7938e-05],\n",
       "          [ 6.4790e-04,  1.9019e-02, -1.4706e-02]],\n",
       "\n",
       "         [[-2.0477e-02,  1.4444e-02,  4.2021e-03],\n",
       "          [ 1.4232e-02,  1.9808e-02, -1.6025e-03],\n",
       "          [-1.8545e-02, -1.5453e-02,  1.9978e-02]],\n",
       "\n",
       "         ...,\n",
       "\n",
       "         [[-1.1611e-02, -1.9921e-02, -9.5727e-03],\n",
       "          [ 1.4054e-02, -8.4192e-03,  1.7723e-02],\n",
       "          [-1.4029e-02, -4.9099e-03,  3.2252e-03]],\n",
       "\n",
       "         [[-1.2791e-02,  1.2876e-02,  1.3900e-02],\n",
       "          [-1.0142e-02,  6.1704e-03,  6.9485e-03],\n",
       "          [ 1.9234e-02,  1.3407e-03, -2.7950e-03]],\n",
       "\n",
       "         [[ 1.9386e-02, -1.8612e-02, -6.1876e-03],\n",
       "          [-2.8593e-03,  2.0209e-03,  1.3508e-03],\n",
       "          [ 1.5093e-02, -7.5507e-03,  3.5807e-03]]],\n",
       "\n",
       "\n",
       "        [[[-1.8030e-02,  2.0538e-02, -1.4935e-02],\n",
       "          [ 1.3897e-02, -3.4671e-03, -1.5524e-02],\n",
       "          [ 1.4427e-02, -1.8366e-02,  1.9503e-02]],\n",
       "\n",
       "         [[ 5.5576e-04,  1.5168e-03, -1.9504e-03],\n",
       "          [-1.2636e-02,  1.2836e-02, -1.3297e-02],\n",
       "          [ 6.8683e-03, -6.6318e-03,  1.9064e-02]],\n",
       "\n",
       "         [[-7.8538e-03, -2.0072e-02, -1.0711e-02],\n",
       "          [-1.6018e-02,  1.3703e-03,  1.1016e-02],\n",
       "          [ 1.4866e-02, -1.6805e-02, -4.3620e-03]],\n",
       "\n",
       "         ...,\n",
       "\n",
       "         [[-7.0025e-03,  6.2597e-03,  1.1050e-02],\n",
       "          [ 3.7574e-03,  1.7828e-02,  1.4973e-02],\n",
       "          [-5.5647e-03,  1.8875e-03, -1.6128e-02]],\n",
       "\n",
       "         [[ 5.1297e-03, -5.3270e-03, -1.6647e-02],\n",
       "          [ 2.0082e-02,  1.3422e-02, -1.8234e-02],\n",
       "          [ 9.2664e-03, -3.7142e-03, -4.0976e-03]],\n",
       "\n",
       "         [[ 1.5389e-02, -1.8907e-02,  1.5124e-02],\n",
       "          [ 9.6388e-03, -2.1836e-03,  8.3063e-03],\n",
       "          [ 1.9262e-02,  1.6352e-02, -5.0876e-03]]],\n",
       "\n",
       "\n",
       "        [[[ 1.7227e-02,  8.1722e-04, -9.7262e-03],\n",
       "          [ 2.8180e-03,  1.9793e-02,  1.5416e-02],\n",
       "          [ 1.2032e-03,  1.0199e-02, -1.2552e-02]],\n",
       "\n",
       "         [[-9.5820e-03,  3.4459e-03, -2.0582e-02],\n",
       "          [ 1.0382e-02, -3.1319e-04, -5.6174e-03],\n",
       "          [-1.2978e-02,  4.9728e-03, -5.2544e-04]],\n",
       "\n",
       "         [[ 1.3575e-02,  1.1501e-02, -1.0160e-03],\n",
       "          [-1.7072e-03,  1.2938e-02, -1.0674e-02],\n",
       "          [ 4.9441e-03, -2.0758e-02, -1.2872e-02]],\n",
       "\n",
       "         ...,\n",
       "\n",
       "         [[-8.9946e-03,  2.0430e-02, -1.3059e-02],\n",
       "          [ 8.1454e-03,  6.8268e-03,  2.0035e-02],\n",
       "          [ 5.2645e-03, -1.9821e-02, -3.9249e-03]],\n",
       "\n",
       "         [[-3.0519e-03, -5.8331e-03,  2.6595e-03],\n",
       "          [ 2.4068e-03,  1.2064e-02, -5.0958e-03],\n",
       "          [-1.1840e-02,  8.5816e-03, -1.3520e-02]],\n",
       "\n",
       "         [[-7.1872e-03,  2.0512e-02,  1.7684e-02],\n",
       "          [-1.7233e-02,  1.1479e-02,  1.8610e-02],\n",
       "          [-1.0113e-03, -9.7888e-03,  1.7824e-02]]],\n",
       "\n",
       "\n",
       "        ...,\n",
       "\n",
       "\n",
       "        [[[-9.5244e-03, -1.7286e-02, -2.0458e-02],\n",
       "          [ 5.1368e-04, -1.1230e-02,  1.5488e-02],\n",
       "          [-3.2671e-03, -1.1106e-02,  9.6929e-03]],\n",
       "\n",
       "         [[-1.7677e-02,  2.0491e-02,  3.9864e-04],\n",
       "          [ 1.6543e-02,  1.4905e-02, -5.1951e-03],\n",
       "          [-5.2074e-03, -1.2061e-02, -1.1697e-02]],\n",
       "\n",
       "         [[-1.9635e-02,  8.4456e-03,  4.5419e-03],\n",
       "          [-1.2904e-02,  1.3522e-02, -1.7512e-02],\n",
       "          [ 5.0246e-03,  1.9858e-02, -7.2745e-03]],\n",
       "\n",
       "         ...,\n",
       "\n",
       "         [[ 4.6338e-03, -8.5241e-03,  1.8536e-02],\n",
       "          [ 1.3440e-02, -6.0797e-03,  1.3267e-02],\n",
       "          [-1.5956e-02,  1.5031e-02,  4.8556e-03]],\n",
       "\n",
       "         [[-1.6254e-02, -1.1632e-02,  6.8442e-03],\n",
       "          [-9.8372e-03, -2.9466e-03,  1.2136e-02],\n",
       "          [ 3.7098e-03,  1.5726e-02, -2.0711e-03]],\n",
       "\n",
       "         [[ 2.0214e-02, -7.1557e-03,  6.5064e-04],\n",
       "          [-1.2111e-02, -4.0683e-03, -1.7546e-02],\n",
       "          [ 1.8235e-02,  7.6731e-03,  1.7882e-02]]],\n",
       "\n",
       "\n",
       "        [[[-2.6284e-03, -1.7836e-02, -1.8684e-02],\n",
       "          [ 1.7901e-02, -6.8906e-03, -1.1211e-02],\n",
       "          [ 4.3745e-03, -9.6370e-03, -9.4830e-03]],\n",
       "\n",
       "         [[ 1.1440e-02,  1.5912e-02, -1.2217e-02],\n",
       "          [-1.4679e-02, -1.0568e-03,  1.2663e-02],\n",
       "          [-7.7605e-03,  1.2759e-02, -1.5212e-02]],\n",
       "\n",
       "         [[-8.9740e-03, -3.7977e-03, -6.0991e-03],\n",
       "          [ 1.4128e-02, -2.0082e-02, -2.4198e-03],\n",
       "          [ 1.9202e-02, -1.9821e-02, -2.8128e-03]],\n",
       "\n",
       "         ...,\n",
       "\n",
       "         [[ 1.9135e-02,  5.0178e-03, -5.5460e-03],\n",
       "          [-2.0091e-02,  8.8345e-03,  1.7130e-02],\n",
       "          [ 1.3646e-02,  1.4069e-02, -1.2646e-02]],\n",
       "\n",
       "         [[ 1.4627e-02, -2.3946e-03,  1.4637e-02],\n",
       "          [-1.1596e-03, -9.3470e-03, -1.8169e-02],\n",
       "          [ 7.6367e-03, -4.7245e-04, -1.5384e-02]],\n",
       "\n",
       "         [[-5.2763e-03,  1.7896e-02, -1.6503e-02],\n",
       "          [-9.2803e-04,  1.3371e-02, -1.9778e-02],\n",
       "          [ 1.6804e-03,  1.4112e-03, -1.6598e-02]]],\n",
       "\n",
       "\n",
       "        [[[-4.7547e-03,  6.5152e-03,  7.6047e-03],\n",
       "          [ 1.5687e-02, -1.8236e-02,  1.0875e-02],\n",
       "          [ 1.1764e-02, -1.6518e-02,  3.3829e-04]],\n",
       "\n",
       "         [[-2.6547e-03,  1.2038e-03,  1.5881e-02],\n",
       "          [-1.4439e-02, -1.0447e-02, -5.3761e-03],\n",
       "          [-1.7045e-02, -1.4796e-02, -3.5053e-04]],\n",
       "\n",
       "         [[ 6.6612e-03,  4.2929e-03, -4.2533e-03],\n",
       "          [-1.1685e-02, -1.7782e-02, -2.0154e-02],\n",
       "          [-3.1769e-04, -2.0072e-03,  1.5320e-02]],\n",
       "\n",
       "         ...,\n",
       "\n",
       "         [[-1.6908e-02,  1.9196e-02, -6.0573e-03],\n",
       "          [-1.5954e-02,  3.5642e-03,  1.9490e-02],\n",
       "          [-1.7137e-02,  1.9626e-02, -1.8993e-02]],\n",
       "\n",
       "         [[ 1.0517e-02, -1.6698e-02,  5.6365e-03],\n",
       "          [-6.7525e-03, -7.5017e-03,  8.8876e-03],\n",
       "          [-1.8279e-02, -9.3482e-03, -1.9391e-02]],\n",
       "\n",
       "         [[ 1.8747e-03, -1.9536e-02,  1.3293e-03],\n",
       "          [ 1.2714e-02, -1.1807e-02, -1.8423e-02],\n",
       "          [ 1.4197e-02, -8.9457e-03, -1.0626e-02]]]]), tensor([ 7.5701e-03, -4.2208e-03, -2.2144e-03,  8.1302e-03, -1.0827e-02,\n",
       "        -3.5365e-03,  1.9063e-02, -1.8090e-02,  2.0789e-02,  7.5094e-03,\n",
       "        -1.7468e-02,  2.9214e-03, -2.0888e-03, -1.0304e-02, -3.4500e-03,\n",
       "        -1.7853e-02,  1.3915e-02,  1.2825e-02,  1.3729e-02, -6.7808e-03,\n",
       "         6.5390e-03,  1.5181e-02, -2.1328e-03,  5.7894e-03,  3.5636e-03,\n",
       "        -9.6413e-03,  8.9699e-03, -3.6293e-03,  2.3726e-03,  1.4287e-02,\n",
       "        -1.5911e-02,  9.3753e-03,  1.4772e-02,  1.4451e-02, -5.8747e-03,\n",
       "        -2.8896e-04, -9.1244e-04, -2.2883e-03,  1.7392e-02, -2.0603e-02,\n",
       "        -1.8515e-02, -1.8498e-02,  8.6195e-03, -1.2032e-02,  9.3828e-03,\n",
       "        -2.2098e-03,  1.6249e-02, -1.5784e-02, -1.4931e-03, -2.3401e-03,\n",
       "        -2.0387e-02,  2.2239e-03, -1.4754e-02,  1.2161e-02, -1.5811e-02,\n",
       "        -3.0588e-03,  1.0156e-02,  1.3542e-02,  4.0659e-03,  1.0530e-02,\n",
       "         1.1522e-02, -9.8194e-03,  1.1737e-02, -3.5901e-03,  1.6806e-02,\n",
       "        -3.8216e-04, -1.6793e-03,  8.5278e-03, -8.8158e-03,  7.7698e-03,\n",
       "         1.7351e-02,  2.0247e-02,  4.1737e-03,  8.5533e-03, -1.0978e-02,\n",
       "        -1.4550e-02,  1.6278e-02,  1.7333e-02, -1.6884e-02,  1.0339e-02,\n",
       "        -2.3650e-03,  5.6107e-03, -1.5687e-02,  1.0162e-02, -1.6939e-02,\n",
       "         1.3825e-02,  5.8964e-03,  1.0697e-02, -1.8136e-02, -1.7950e-02,\n",
       "        -1.7451e-02,  2.0375e-02,  1.2104e-03, -1.6069e-02, -1.4830e-02,\n",
       "        -2.6017e-03, -4.9389e-03,  5.8895e-03,  1.3095e-02,  2.8017e-03,\n",
       "         1.4870e-02, -6.8452e-04,  2.0600e-02,  1.0058e-02, -1.4814e-02,\n",
       "        -6.4255e-03,  1.2331e-02, -1.5914e-02,  9.4247e-03, -1.6023e-02,\n",
       "        -9.8792e-03, -4.8169e-03,  9.9164e-03,  6.2073e-03,  1.2657e-02,\n",
       "        -1.1033e-02, -1.3684e-02,  9.2501e-03, -4.4839e-03,  2.0373e-02,\n",
       "        -1.2232e-02,  4.6654e-03, -2.0395e-03, -2.7601e-03, -8.8833e-03,\n",
       "         1.4298e-02,  1.8059e-02, -1.2878e-02,  1.5727e-02,  1.6881e-02,\n",
       "         1.1337e-02, -1.0432e-02,  3.0922e-03,  5.3225e-03, -9.2563e-03,\n",
       "         1.1216e-02,  8.6237e-03,  6.4733e-03,  1.4289e-02,  1.9355e-02,\n",
       "         2.6057e-03,  4.1035e-03,  1.5212e-02,  9.1710e-03, -8.4941e-03,\n",
       "         1.9833e-02, -1.4728e-02, -8.4378e-03, -1.7761e-02,  8.3347e-03,\n",
       "        -1.6421e-02, -1.7489e-02,  4.2652e-03, -1.6994e-02, -9.2516e-03,\n",
       "         1.3007e-02,  1.0197e-02,  1.9760e-03, -1.1609e-03, -4.4160e-03,\n",
       "         2.0813e-02,  1.1086e-04, -6.3396e-03,  9.8557e-03,  1.6964e-02,\n",
       "        -7.7977e-03, -1.8615e-03, -9.4132e-03, -6.0749e-03,  1.3714e-02,\n",
       "        -1.1072e-02,  1.8283e-02,  6.0543e-03, -1.5007e-02,  1.8392e-02,\n",
       "        -3.8420e-04,  4.7163e-04,  7.5617e-03, -1.8655e-02,  1.5176e-02,\n",
       "         2.0706e-02,  4.5305e-03,  3.6527e-03,  2.0390e-02, -1.6528e-02,\n",
       "        -3.7651e-03,  1.4784e-02,  1.4363e-02,  1.9140e-02,  1.5244e-03,\n",
       "         1.4525e-02, -5.2202e-03,  4.0248e-03, -7.6769e-03,  1.5246e-02,\n",
       "        -6.7570e-04,  2.0334e-02, -6.8629e-03, -1.9311e-02,  2.0341e-02,\n",
       "        -8.9755e-03, -6.4619e-03, -1.4300e-02,  1.5447e-02,  1.1620e-02,\n",
       "         6.2755e-03, -1.8395e-02,  1.1416e-02,  8.4288e-03, -1.5500e-02,\n",
       "         1.6929e-03,  1.1635e-02, -1.9279e-02, -2.0652e-03, -1.5996e-02,\n",
       "         1.4271e-03, -1.2078e-02,  2.4481e-04,  1.9195e-03, -6.2233e-03,\n",
       "         1.6121e-02, -1.8059e-02,  1.6186e-02,  7.6507e-03, -5.6215e-03,\n",
       "        -5.9123e-04,  9.3826e-03, -1.5515e-02, -1.9982e-03, -1.1357e-02,\n",
       "         1.6357e-02,  1.6357e-02, -2.6661e-03, -9.6515e-03,  9.4016e-03,\n",
       "         8.1332e-03,  4.5924e-03,  2.7900e-03, -1.7853e-02,  1.6633e-03,\n",
       "        -2.2526e-03,  2.9894e-05,  7.7190e-03,  1.6211e-02, -5.2241e-03,\n",
       "        -6.1728e-03,  9.9669e-03, -1.8722e-02,  5.8963e-03, -1.3783e-03,\n",
       "         1.8052e-02, -7.2696e-04, -5.1809e-03, -8.3662e-03,  1.2839e-03,\n",
       "        -1.9198e-02]), tensor([[ 9.0209e-03,  3.8930e-03,  7.7283e-03,  ..., -6.6505e-03,\n",
       "          7.5094e-03,  3.8320e-04],\n",
       "        [ 3.6633e-03, -5.1343e-03,  2.9677e-03,  ...,  8.6186e-03,\n",
       "         -3.5182e-03,  5.3414e-03],\n",
       "        [-1.9345e-03,  9.0925e-03, -5.4546e-03,  ..., -8.9986e-03,\n",
       "          8.1321e-03,  1.7202e-03],\n",
       "        ...,\n",
       "        [ 6.0430e-04, -3.9903e-03,  4.0949e-03,  ..., -4.0422e-03,\n",
       "          5.2759e-06,  1.0301e-02],\n",
       "        [ 5.5319e-03, -8.6939e-03, -1.0020e-02,  ...,  5.2190e-03,\n",
       "         -2.6883e-03, -8.5911e-03],\n",
       "        [-4.1421e-04,  1.0307e-03,  1.6264e-03,  ...,  7.0330e-03,\n",
       "         -1.0081e-02,  4.0512e-03]]), tensor([-0.0045, -0.0080,  0.0102,  ..., -0.0007, -0.0052, -0.0058]), tensor([[ 0.0015,  0.0074,  0.0077,  ..., -0.0034,  0.0065, -0.0071],\n",
       "        [ 0.0002,  0.0020,  0.0109,  ...,  0.0073,  0.0014, -0.0132],\n",
       "        [-0.0075, -0.0132,  0.0030,  ...,  0.0041,  0.0048,  0.0061],\n",
       "        ...,\n",
       "        [ 0.0069,  0.0036,  0.0058,  ...,  0.0056, -0.0129, -0.0144],\n",
       "        [ 0.0073,  0.0006,  0.0023,  ..., -0.0043,  0.0024, -0.0012],\n",
       "        [-0.0095, -0.0149, -0.0046,  ...,  0.0016,  0.0087,  0.0061]]), tensor([-0.0148,  0.0025,  0.0154,  ...,  0.0076, -0.0126,  0.0024]), tensor([[-0.0113, -0.0154,  0.0054,  ...,  0.0047, -0.0105,  0.0104],\n",
       "        [-0.0080,  0.0081,  0.0061,  ...,  0.0073,  0.0110,  0.0131],\n",
       "        [-0.0071, -0.0063,  0.0097,  ...,  0.0115, -0.0108,  0.0042],\n",
       "        ...,\n",
       "        [ 0.0129, -0.0117, -0.0066,  ...,  0.0145,  0.0152, -0.0048],\n",
       "        [ 0.0078,  0.0149,  0.0036,  ..., -0.0082, -0.0006, -0.0019],\n",
       "        [ 0.0027, -0.0063,  0.0086,  ..., -0.0130, -0.0084,  0.0105]]), tensor([-8.7794e-03,  5.2556e-03, -5.3092e-03,  9.4525e-03,  4.1704e-04,\n",
       "        -5.9620e-03, -1.2598e-02, -1.5428e-02, -2.0191e-03,  1.5098e-02,\n",
       "        -6.4336e-05,  5.6703e-03, -9.6201e-03,  1.1032e-02, -7.4657e-03,\n",
       "         3.7514e-03, -4.2188e-03, -2.5756e-03, -1.0069e-02, -1.0274e-02,\n",
       "         1.0827e-03,  3.1165e-03, -4.1275e-03,  1.3244e-02, -3.8123e-03,\n",
       "         1.1218e-02,  1.0877e-02, -2.2275e-03, -2.7579e-03, -1.0430e-03,\n",
       "        -2.5856e-03,  2.2767e-03,  8.0313e-03,  8.9684e-03,  1.1441e-02,\n",
       "         7.7339e-03, -8.6588e-03,  2.1864e-03,  1.2747e-02,  1.2325e-03,\n",
       "        -1.4200e-02,  1.8646e-03, -3.6185e-04,  1.1529e-03,  4.7520e-04,\n",
       "        -1.1624e-02, -1.2817e-03,  1.4016e-02, -3.8498e-03,  4.5506e-03,\n",
       "         1.3711e-04, -7.1037e-03, -3.2222e-03,  6.6239e-03, -7.4971e-03,\n",
       "         3.1150e-03, -7.0671e-03,  8.6251e-03,  3.3421e-04, -2.0203e-03,\n",
       "        -9.0793e-03, -1.2419e-02,  4.1762e-03,  9.3841e-03, -7.2933e-03,\n",
       "         6.4512e-03, -2.2818e-03, -8.0995e-04,  1.1752e-02,  9.3337e-03,\n",
       "        -1.0617e-02,  2.1137e-03, -1.0403e-02, -6.0930e-04,  1.6696e-03,\n",
       "         2.3019e-03, -3.4319e-04,  5.0681e-03,  4.9065e-03,  2.3114e-03,\n",
       "        -7.2492e-03,  2.1297e-03, -9.7596e-03,  7.3394e-04,  3.5017e-03,\n",
       "         7.4070e-03, -1.5436e-02,  6.2991e-03, -2.9826e-04, -1.0296e-02,\n",
       "        -9.4883e-03,  4.4981e-04, -4.0607e-03,  1.4128e-02,  4.6963e-03,\n",
       "        -3.2031e-03,  4.1575e-03, -7.9599e-04, -4.2940e-03,  1.2581e-03,\n",
       "        -9.3300e-03, -2.7415e-03, -1.3035e-02, -4.8081e-03,  2.1219e-03,\n",
       "         7.6814e-03, -9.2668e-03,  3.9840e-04,  8.5847e-03,  5.1190e-03,\n",
       "        -1.1499e-03,  3.7492e-03, -5.0977e-03,  6.1762e-03,  4.6253e-03,\n",
       "        -5.0876e-03, -1.4969e-02,  1.1816e-02, -1.2861e-02,  6.0612e-03,\n",
       "         1.1615e-02, -1.1091e-02, -1.9256e-03,  9.7498e-03, -3.5894e-03,\n",
       "         1.1490e-02, -9.3583e-03, -1.1484e-03, -1.4099e-03,  7.6474e-03,\n",
       "        -5.3956e-03,  6.2061e-03,  3.7601e-03,  3.6639e-03,  4.1075e-03,\n",
       "         7.7848e-03,  1.1360e-02,  1.3044e-02, -1.1484e-02,  2.6839e-03,\n",
       "         6.8858e-03,  4.0472e-03, -8.3517e-04,  8.5119e-03, -1.4599e-02,\n",
       "         9.1255e-03,  1.3683e-02,  9.7906e-03,  4.5386e-03, -4.4302e-03,\n",
       "        -1.5265e-02, -1.4440e-02,  8.1468e-03,  1.5163e-02, -7.8486e-03,\n",
       "        -1.4917e-02,  9.5740e-03,  1.3245e-02, -5.1243e-03, -1.8607e-03,\n",
       "         1.0186e-02,  9.8840e-03,  1.8131e-03,  3.5933e-03,  4.4851e-03,\n",
       "        -1.3852e-03,  1.3659e-02, -1.3660e-02, -9.8263e-03, -1.0579e-02,\n",
       "        -1.4956e-02, -1.3168e-02,  8.7878e-03, -8.4761e-03, -6.1627e-03,\n",
       "         8.9564e-03,  1.5607e-02, -1.3832e-02,  1.3972e-03,  1.4632e-02,\n",
       "        -1.5568e-02, -7.0070e-03, -1.4721e-02, -6.4872e-03, -3.5424e-03,\n",
       "        -3.9050e-03, -7.2909e-03, -9.9044e-03, -1.3094e-03,  1.0144e-02,\n",
       "         6.3641e-03,  1.5427e-02, -1.4604e-02,  1.4646e-02, -6.5847e-03,\n",
       "         1.2290e-02, -4.5170e-03, -1.1945e-02,  5.2507e-03, -6.0796e-03,\n",
       "         4.7365e-03, -7.5522e-03,  1.2938e-02,  6.6100e-03,  4.2308e-03,\n",
       "         9.3842e-03,  6.4772e-03, -1.4616e-02,  1.1419e-02, -1.9826e-03,\n",
       "        -9.8568e-03,  2.5860e-03,  5.3024e-04, -4.7486e-03, -4.7991e-03,\n",
       "         1.3650e-02,  7.3291e-03,  1.2034e-02, -1.4998e-02, -1.3951e-02,\n",
       "        -1.2744e-02, -1.3209e-02, -5.6888e-03,  6.8164e-04, -5.0959e-03,\n",
       "         1.0791e-02,  9.0531e-03,  1.1068e-02,  9.4350e-03,  1.4706e-02,\n",
       "        -6.0746e-03,  8.9533e-03,  7.3195e-03,  1.0852e-02,  3.4222e-03,\n",
       "        -6.9801e-03,  4.4915e-03,  1.0352e-02, -4.3158e-03, -9.8570e-03,\n",
       "         8.4986e-03,  1.1446e-02,  1.1887e-02,  1.9593e-03, -2.2400e-03,\n",
       "         1.1350e-02,  8.2914e-03, -6.4156e-03, -1.0059e-02, -6.9480e-03,\n",
       "         1.5502e-02,  1.9803e-03,  1.5597e-02,  4.3500e-03, -2.4751e-03,\n",
       "         8.4029e-03,  9.1544e-04, -3.1651e-03, -1.1151e-02,  9.3054e-03,\n",
       "        -9.8676e-03, -8.5333e-03, -6.9093e-03, -3.4496e-03, -3.7404e-03,\n",
       "        -5.0882e-04, -4.2591e-03, -9.2112e-03, -1.3458e-02,  8.0288e-03,\n",
       "        -3.2086e-03, -1.2681e-02,  8.3316e-03, -3.2449e-04, -1.1240e-02,\n",
       "         8.4899e-03, -2.6002e-03, -8.9752e-03,  4.8004e-03,  2.9955e-03,\n",
       "         3.5165e-03, -9.2931e-03,  6.4183e-03,  3.4411e-03,  1.4403e-03,\n",
       "        -1.0820e-02,  3.3903e-04, -9.4527e-03, -1.4720e-02,  4.2429e-03,\n",
       "         1.3481e-02,  1.4556e-02, -4.2756e-03, -8.7630e-03, -7.5038e-03,\n",
       "         1.0839e-02,  1.3749e-03, -4.2634e-03,  3.0026e-03, -1.2925e-02,\n",
       "        -9.1454e-04, -4.1061e-03, -1.0659e-02,  9.5468e-03,  5.9715e-03,\n",
       "        -2.4934e-03, -8.2104e-03,  1.1036e-02,  9.5288e-03,  1.2205e-02,\n",
       "         1.0103e-02, -1.2320e-03,  9.3361e-03, -5.8882e-05,  1.3890e-02,\n",
       "        -7.8539e-03,  6.2215e-03,  3.2791e-04,  3.7270e-03,  4.0776e-03,\n",
       "        -1.5533e-02,  4.6021e-03, -8.8414e-03,  4.0215e-03,  1.4566e-02,\n",
       "         2.9684e-04, -1.1420e-02, -9.0148e-03, -2.8289e-03, -8.2581e-03,\n",
       "         9.8107e-03,  1.3953e-02,  1.0049e-03,  2.6038e-03, -7.1088e-03,\n",
       "        -9.5567e-03,  3.1424e-03,  9.7620e-04, -5.7497e-03,  2.5928e-03,\n",
       "         1.1490e-02, -1.0132e-02,  1.5275e-02,  1.2851e-02, -1.3643e-02,\n",
       "         5.0253e-03,  1.3284e-02, -2.6738e-03,  1.0024e-04,  1.4910e-02,\n",
       "         4.7890e-03,  3.5714e-04, -1.9758e-03, -2.1789e-03, -1.4380e-02,\n",
       "        -1.5477e-02, -1.2315e-02, -1.5608e-02, -8.0550e-03,  7.4640e-04,\n",
       "         1.2871e-02,  5.4089e-03, -1.5601e-02, -2.8114e-03,  1.1521e-02,\n",
       "        -3.7131e-03,  6.6420e-03,  4.2661e-03, -9.9609e-03, -1.4392e-02,\n",
       "         1.1291e-02,  1.1802e-02, -1.4783e-02,  8.8240e-03,  1.3369e-02,\n",
       "        -1.0952e-02,  3.4726e-03,  1.0482e-02, -1.1562e-03, -6.6048e-03,\n",
       "         1.9467e-04, -1.1236e-02, -4.5065e-03, -1.1763e-02,  1.4483e-02,\n",
       "         6.7195e-03, -9.5223e-03, -1.0189e-03, -1.5693e-03, -1.3221e-03,\n",
       "        -7.1605e-03, -9.0107e-03,  6.2364e-03, -7.5843e-03,  1.3863e-02,\n",
       "        -9.8236e-03, -1.6543e-03,  9.0151e-03,  1.2593e-02,  4.4028e-03,\n",
       "         9.1202e-03,  3.9086e-03, -1.1940e-02, -1.2663e-02,  5.1496e-03,\n",
       "         1.5585e-02, -1.1179e-02, -2.9149e-03,  1.2286e-02,  7.3195e-03,\n",
       "         1.1367e-02, -1.1038e-02,  1.3016e-02,  8.1946e-03,  1.3132e-02,\n",
       "         2.3956e-03, -1.1645e-02,  5.7162e-03, -6.9977e-03,  3.0581e-03,\n",
       "         4.1569e-03, -6.4053e-04, -4.1217e-03,  1.5091e-02, -1.2132e-02,\n",
       "        -1.5139e-02,  3.2210e-03,  1.3197e-02,  2.0095e-03, -6.6429e-03,\n",
       "         1.4706e-02,  6.8374e-03, -2.6589e-03, -2.7603e-03,  8.1008e-03,\n",
       "        -1.4474e-02, -9.3609e-03,  9.9468e-03, -7.8825e-03, -1.4401e-02,\n",
       "        -8.8072e-03, -1.5403e-02,  9.9867e-03, -9.5441e-03,  9.8437e-03,\n",
       "         1.3095e-02,  3.6010e-03, -1.0095e-02,  1.4633e-02,  4.1083e-04,\n",
       "         1.1099e-02,  4.8758e-03, -9.7760e-03, -1.2326e-02,  6.4521e-04,\n",
       "         9.7268e-04, -1.4605e-02, -5.4774e-03,  6.0060e-03,  4.5487e-03,\n",
       "         3.5520e-03, -6.2951e-03, -5.6464e-03,  8.5425e-03, -1.3083e-03,\n",
       "         1.4300e-02, -1.0795e-02, -1.3686e-02,  4.8904e-04,  4.8726e-03,\n",
       "        -1.1970e-02,  2.7713e-04, -6.9527e-03,  5.3130e-04, -8.8098e-03,\n",
       "        -1.4303e-02,  1.2144e-02, -1.4752e-02,  7.7611e-03, -5.9354e-03,\n",
       "         8.9141e-04,  2.9759e-03, -5.8996e-03,  5.0506e-04, -1.3185e-03,\n",
       "        -1.5397e-02, -4.3970e-03,  1.0514e-02, -1.0210e-02, -5.3688e-03,\n",
       "        -8.5114e-03, -5.8868e-03,  6.7849e-03, -1.2154e-03,  5.1519e-03,\n",
       "        -7.0998e-03,  1.2250e-02, -7.5208e-03, -1.3857e-02,  1.2565e-02,\n",
       "        -1.0126e-02, -7.6221e-03, -1.4136e-02, -1.1470e-02,  8.7782e-03,\n",
       "         9.7016e-03,  1.0070e-02,  1.1099e-02,  1.6155e-03, -2.6773e-04,\n",
       "        -6.9144e-04, -1.4767e-02,  6.6501e-03,  1.1560e-02,  3.1207e-03,\n",
       "        -3.9755e-03, -8.7214e-03,  5.2335e-03,  1.1343e-02, -6.1253e-03,\n",
       "        -9.6673e-03,  2.8450e-03,  8.2383e-03,  9.9890e-03, -3.7093e-03,\n",
       "         6.8290e-03,  1.4286e-02, -1.5050e-02,  2.2531e-03, -9.8872e-03,\n",
       "        -5.2093e-03,  2.1572e-03,  5.9558e-03, -4.6668e-03, -2.3621e-03,\n",
       "        -8.2168e-03, -1.3068e-02, -9.4827e-03,  4.4158e-03, -1.3634e-02,\n",
       "        -1.1161e-02,  4.9222e-03, -1.3031e-03,  6.4956e-03, -2.9679e-03,\n",
       "        -2.0432e-03,  9.6341e-03, -9.7889e-03, -1.0171e-02, -1.4088e-03,\n",
       "         8.5441e-03,  7.9951e-03,  8.1624e-03,  1.5595e-02, -1.1328e-02,\n",
       "         9.2153e-03,  9.3058e-03,  2.5948e-03, -6.8472e-03, -3.1500e-03,\n",
       "         1.4412e-02, -3.7982e-04, -2.8507e-03,  1.5484e-02, -4.9174e-03,\n",
       "        -1.1170e-02,  1.5388e-02, -4.7013e-03,  1.1452e-02, -1.1860e-02,\n",
       "         1.3213e-02,  7.7297e-03, -1.2870e-02,  7.5984e-03, -1.1940e-02,\n",
       "        -4.8066e-04, -1.0803e-02, -6.2624e-03, -3.7416e-03,  1.3037e-02,\n",
       "        -9.2079e-04,  1.3505e-02, -7.4589e-04,  4.9773e-03, -1.0949e-02,\n",
       "         1.4871e-02, -1.3386e-02,  7.0729e-03,  7.5521e-03, -9.6429e-03,\n",
       "         1.4437e-03,  2.9670e-03, -8.3662e-03,  2.1020e-03,  1.0876e-02,\n",
       "        -1.5249e-02, -2.5251e-03,  6.4270e-03, -8.1543e-03,  7.4693e-03,\n",
       "         1.1680e-02, -8.0265e-03, -7.8596e-03,  4.5712e-03,  1.1626e-02,\n",
       "         6.9693e-04, -1.3483e-02, -4.4504e-03,  1.0877e-02,  3.3462e-05,\n",
       "        -1.1316e-02,  4.8524e-03,  1.7662e-03, -2.0627e-03,  1.3875e-03,\n",
       "        -9.3915e-03, -3.5788e-03,  1.0596e-02,  1.3126e-02,  6.0848e-03,\n",
       "        -1.3747e-02,  5.8404e-03, -3.4011e-03, -1.5538e-02, -1.5927e-03,\n",
       "         1.0208e-02, -5.7565e-03,  9.2971e-03, -3.1295e-03,  1.1543e-02,\n",
       "         1.3950e-02, -1.1588e-02,  1.5227e-02, -2.6994e-03, -3.3041e-03,\n",
       "         5.1586e-03, -4.2279e-03,  2.6088e-03, -1.7472e-03, -6.0094e-03,\n",
       "        -1.2770e-03,  1.6859e-03,  1.0172e-02, -3.7629e-03,  8.6886e-04,\n",
       "         1.1656e-02, -7.6991e-03,  2.5187e-03, -2.4591e-03, -1.1664e-02,\n",
       "         8.6662e-03, -1.3434e-02, -1.4761e-02, -7.9755e-03,  3.5105e-03,\n",
       "        -8.4901e-03,  3.6515e-03, -2.4012e-03,  1.1665e-02, -1.4447e-02,\n",
       "         7.6931e-03,  7.8205e-03,  4.0557e-03,  9.6493e-03,  2.3426e-03,\n",
       "         4.9155e-03, -9.7472e-03, -9.8800e-03,  1.2928e-02,  6.9000e-04,\n",
       "         1.1263e-02, -1.0829e-02,  1.4799e-02, -1.5609e-02, -1.4588e-02,\n",
       "        -5.3678e-03, -1.0276e-02, -8.9855e-03, -8.8007e-03, -1.0397e-02,\n",
       "         1.1150e-02, -7.7121e-05,  9.5111e-03, -4.8173e-04, -1.3618e-02,\n",
       "         7.7346e-03, -7.0738e-03,  5.5406e-03, -7.0265e-03, -1.0490e-02,\n",
       "        -1.4569e-02,  9.2510e-04, -7.7747e-03,  8.6096e-03, -1.0410e-02,\n",
       "        -1.0952e-03, -1.1000e-02, -5.8842e-03,  9.4562e-03, -1.0157e-02,\n",
       "        -1.1263e-02,  3.1552e-03, -7.7441e-03, -3.2028e-03, -9.4248e-03,\n",
       "        -1.0305e-02,  9.7100e-04,  1.2711e-02, -4.5620e-03, -1.0334e-02,\n",
       "         1.3139e-02, -8.6327e-03,  1.1560e-02, -1.3760e-02,  1.0265e-02,\n",
       "        -1.0237e-02,  6.0722e-03, -7.9427e-03, -1.2178e-02,  3.8109e-03,\n",
       "        -8.5594e-03,  2.6435e-03, -6.0715e-04,  1.3622e-02, -4.6889e-03,\n",
       "         2.8069e-03, -2.0381e-03, -1.0266e-02,  5.1855e-04, -1.2617e-02,\n",
       "         4.4597e-03, -4.7203e-03, -1.5472e-02, -1.3330e-02, -5.6104e-03,\n",
       "         3.2173e-03, -8.6483e-03,  5.3814e-03, -6.4916e-03, -1.1653e-02,\n",
       "         1.3885e-02,  7.7617e-03, -6.8358e-03, -1.2351e-02, -3.1382e-03,\n",
       "         3.3416e-03, -5.6877e-03, -1.3468e-02, -1.2955e-02, -7.0086e-03,\n",
       "        -6.2809e-03, -1.3188e-02,  1.2441e-02,  1.3867e-02,  5.7438e-03,\n",
       "        -1.3063e-02,  6.6464e-04,  2.1002e-03,  1.0027e-02,  8.5534e-03,\n",
       "         1.3747e-03,  8.4713e-03, -5.2294e-03, -1.2885e-02,  1.0454e-02,\n",
       "        -1.2526e-02,  1.2232e-02,  1.4068e-02, -7.1950e-03,  1.2757e-02,\n",
       "        -9.5752e-03,  1.3846e-02, -1.2707e-02, -1.4061e-02, -1.8076e-03,\n",
       "         5.3681e-03, -9.7936e-03,  7.4455e-03,  5.1659e-03,  9.0356e-03,\n",
       "         7.8314e-03,  5.4674e-03, -1.2484e-02, -1.5050e-02,  1.4704e-02,\n",
       "        -2.3911e-03, -7.2716e-03, -1.1937e-02, -1.2515e-02,  9.6005e-03,\n",
       "        -9.1370e-03,  1.1867e-02, -1.1307e-03,  1.5293e-02,  7.0998e-03,\n",
       "        -1.0296e-02, -1.0711e-02,  2.0070e-03,  1.3608e-02, -1.0605e-03,\n",
       "        -3.5398e-04, -1.5476e-02, -1.9745e-03,  6.3989e-03, -1.1147e-02,\n",
       "         1.6930e-03, -1.5587e-02,  1.2240e-02,  7.9663e-04, -6.6173e-03,\n",
       "         5.4162e-03, -7.3270e-04,  1.2177e-02,  3.6457e-03,  1.4174e-03,\n",
       "        -9.7067e-03,  3.6893e-05,  1.3981e-02, -9.6127e-05, -8.6897e-03,\n",
       "         6.9234e-03,  1.2458e-02,  9.5546e-03, -2.0004e-03,  2.8696e-03,\n",
       "        -1.4238e-02,  1.4702e-02, -1.1943e-02,  1.0775e-02,  4.2362e-03,\n",
       "         2.8046e-03,  1.0693e-02, -1.2920e-02, -1.4296e-02, -8.3021e-03,\n",
       "        -8.6255e-03, -5.1708e-03, -6.7797e-03, -1.3065e-03, -2.0749e-03,\n",
       "         6.4074e-03, -8.0172e-04,  4.7216e-03,  1.2694e-02,  1.2990e-02,\n",
       "        -1.6192e-03,  6.4568e-03, -5.8815e-03,  9.8767e-03, -2.0355e-03,\n",
       "        -4.5974e-03, -4.0766e-03,  4.7651e-04,  9.7433e-03, -6.9006e-03,\n",
       "         5.2371e-03,  1.1921e-02, -1.5051e-02,  1.0790e-02,  2.4500e-03,\n",
       "         6.9465e-03, -1.0985e-02,  1.4472e-02, -1.9599e-03, -1.7939e-03,\n",
       "        -5.4593e-03, -1.1785e-02,  1.1893e-02, -5.2925e-03,  8.0764e-03,\n",
       "        -6.7403e-03, -3.2730e-03,  7.7758e-03,  9.3475e-03,  9.8586e-03,\n",
       "         3.5972e-03,  1.0333e-02, -3.8280e-03, -1.4897e-02, -1.4035e-02,\n",
       "        -1.0904e-02,  2.6837e-03, -7.7236e-04, -1.4458e-02, -1.4884e-03,\n",
       "         1.0239e-02, -1.2814e-02,  7.2158e-03,  1.3882e-02, -7.9860e-03,\n",
       "        -3.5638e-04, -4.5031e-03, -9.5852e-03,  1.2888e-02,  3.7539e-04,\n",
       "        -1.1370e-04, -2.4551e-03, -9.8969e-03, -1.5110e-02,  6.8804e-04,\n",
       "         1.9890e-03,  3.6221e-03,  4.1345e-03,  7.0834e-03,  8.1167e-03,\n",
       "         1.7080e-03,  4.8009e-03, -5.0979e-03, -1.1930e-02, -6.0081e-03,\n",
       "         5.9777e-03,  9.3008e-03, -8.9807e-03,  8.2015e-03,  4.3614e-03,\n",
       "        -4.2962e-03, -7.3542e-03,  1.2335e-02, -1.1794e-02, -8.7094e-05,\n",
       "         1.0129e-02,  4.0336e-03,  4.7740e-03,  2.6224e-03,  7.6494e-03,\n",
       "         1.1263e-02,  1.3400e-02,  8.6576e-03,  1.3286e-02, -8.2821e-03,\n",
       "        -9.4041e-03,  1.0559e-02, -8.4139e-03,  4.9249e-03, -4.6591e-04,\n",
       "         8.9662e-03, -1.2893e-03, -1.1107e-02, -2.9577e-03, -1.4270e-02,\n",
       "        -9.2531e-03,  6.4218e-03, -1.2835e-02, -6.1196e-03, -6.7922e-03,\n",
       "         3.4234e-04,  1.0941e-02,  2.4744e-03, -9.6239e-03,  8.1191e-03,\n",
       "         5.7015e-03,  1.4656e-02,  1.4885e-02,  6.1825e-03, -7.2421e-03,\n",
       "        -1.2921e-02, -3.9271e-03,  1.2294e-02, -9.8550e-03,  5.0814e-03,\n",
       "        -8.7195e-03, -5.8922e-03, -1.6522e-03,  1.2102e-02,  1.0753e-02,\n",
       "         1.1612e-02,  5.1777e-03, -5.9010e-03, -1.5340e-02, -9.5265e-03,\n",
       "        -1.2037e-02, -1.2023e-02, -1.3686e-02,  1.3205e-02, -3.9664e-03,\n",
       "        -1.0360e-02, -3.8135e-03, -9.7354e-03, -1.2759e-02, -1.2404e-02,\n",
       "         9.8364e-03,  9.2097e-03,  9.5329e-03,  2.0490e-03, -2.5736e-03,\n",
       "        -2.9709e-03,  8.6610e-03,  5.3982e-03, -1.2538e-02,  1.3635e-02,\n",
       "         6.4668e-03, -1.3625e-02, -1.3165e-02, -8.7721e-03, -9.1988e-03,\n",
       "        -4.4701e-03,  8.1093e-03, -1.9584e-03,  6.1375e-03, -8.6619e-03])])"
      ]
     },
     "execution_count": 20,
     "metadata": {},
     "output_type": "execute_result"
    }
   ],
   "source": [
    "from torchvision.models import AlexNet\n",
    "import torch\n",
    "torch.set_default_tensor_type('torch.FloatTensor')\n",
    "model = AlexNet()\n",
    "\n",
    "# Module的state_dict是一个字典\n",
    "# model.state_dict().keys()\n",
    "model.state_dict().values()"
   ]
  },
  {
   "cell_type": "code",
   "execution_count": 21,
   "metadata": {},
   "outputs": [],
   "source": [
    "# 将Module对象保存与加载\n",
    "torch.save(model.state_dict(), 'alexnet.pth')\n",
    "model.load_state_dict(torch.load('alexnet.pth'))"
   ]
  },
  {
   "cell_type": "code",
   "execution_count": 22,
   "metadata": {},
   "outputs": [],
   "source": [
    "optimizer = torch.optim.Adam(model.parameters(), lr=0.1)\n",
    "\n",
    "torch.save(optimizer.state_dict(), 'optimizer.pth')\n",
    "\n",
    "optimizer.load_state_dict(torch.load('optimizer.pth'))"
   ]
  },
  {
   "cell_type": "code",
   "execution_count": 23,
   "metadata": {},
   "outputs": [],
   "source": [
    "all_data = dict(\n",
    "    optimizer = optimizer.state_dict(),\n",
    "    model = model.state_dict(),\n",
    "    info = '模型和优化器的所有参数'\n",
    ")\n",
    "torch.save(all_data, 'all.pth')"
   ]
  },
  {
   "cell_type": "code",
   "execution_count": 24,
   "metadata": {},
   "outputs": [
    {
     "data": {
      "text/plain": [
       "dict_keys(['optimizer', 'model', 'info'])"
      ]
     },
     "execution_count": 24,
     "metadata": {},
     "output_type": "execute_result"
    }
   ],
   "source": [
    "all_data = torch.load('all.pth')\n",
    "all_data.keys()"
   ]
  },
  {
   "cell_type": "code",
   "execution_count": null,
   "metadata": {},
   "outputs": [],
   "source": []
  }
 ],
 "metadata": {
  "kernelspec": {
   "display_name": "Python 3",
   "language": "python",
   "name": "python3"
  },
  "language_info": {
   "codemirror_mode": {
    "name": "ipython",
    "version": 3
   },
   "file_extension": ".py",
   "mimetype": "text/x-python",
   "name": "python",
   "nbconvert_exporter": "python",
   "pygments_lexer": "ipython3",
   "version": "3.6.9"
  }
 },
 "nbformat": 4,
 "nbformat_minor": 2
}
